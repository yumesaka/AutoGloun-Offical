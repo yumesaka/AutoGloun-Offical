{
 "cells": [
  {
   "attachments": {},
   "cell_type": "markdown",
   "metadata": {
    "id": "zcGYEaIQKiql"
   },
   "source": [
    "# AutoGluon Multimodal - Quick Start\n",
    "\n",
    "[![Open In Colab](https://colab.research.google.com/assets/colab-badge.svg)](https://colab.research.google.com/github/autogluon/autogluon/blob/master/docs/tutorials/multimodal/multimodal_prediction/multimodal-quick-start.ipynb)\n",
    "[![Open In SageMaker Studio Lab](https://studiolab.sagemaker.aws/studiolab.svg)](https://studiolab.sagemaker.aws/import/github/autogluon/autogluon/blob/master/docs/tutorials/multimodal/multimodal_prediction/multimodal-quick-start.ipynb)\n",
    "\n",
    "AutoGluon's `MultiModalPredictor` is a deep learning model zoo of model zoos that can automatically build state-of-the-art deep learning models for inputs including images, text, and tabular data. Convert your data into AutoGluon's multimodal dataframe format, and `MultiModalPredictor` can predict the values of one column based on the other features.\n",
    "\n",
    "Begin by making sure AutoGluon is installed, and then import the required modules."
   ]
  },
  {
   "cell_type": "code",
   "execution_count": null,
   "metadata": {
    "tags": [
     "hide-output"
    ]
   },
   "outputs": [],
   "source": [
    "# !python -m pip install --upgrade pip\n",
    "# !python -m pip install autogluon"
   ]
  },
  {
   "cell_type": "code",
   "execution_count": 1,
   "metadata": {
    "ExecuteTime": {
     "end_time": "2023-12-27T08:48:40.950790Z",
     "start_time": "2023-12-27T08:48:40.825844Z"
    }
   },
   "outputs": [],
   "source": [
    "import os\n",
    "import warnings\n",
    "\n",
    "import numpy as np\n",
    "\n",
    "warnings.filterwarnings('ignore')\n",
    "np.random.seed(123)"
   ]
  },
  {
   "cell_type": "markdown",
   "metadata": {},
   "source": [
    "## Example Data\n",
    "\n",
    "For this tutorial we use a simplified and subsampled version of the [PetFinder dataset](https://www.kaggle.com/c/petfinder-adoption-prediction). The goal is to predict pet adoption rates based on their adoption profiles. In this simplified version, the adoption speed is grouped into two categories: 0 (slow) and 1 (fast). We begin by downloading a zip file containing the petfinder datasets and unzipping them in the current working directory."
   ]
  },
  {
   "cell_type": "code",
   "execution_count": 2,
   "metadata": {
    "ExecuteTime": {
     "end_time": "2023-12-27T08:49:33.707533Z",
     "start_time": "2023-12-27T08:49:25.202625Z"
    }
   },
   "outputs": [
    {
     "name": "stdout",
     "output_type": "stream",
     "text": [
      "Downloading ./ag_multimodal_tutorial/file.zip from https://automl-mm-bench.s3.amazonaws.com/petfinder_for_tutorial.zip...\n"
     ]
    },
    {
     "name": "stderr",
     "output_type": "stream",
     "text": [
      "100%|██████████| 18.8M/18.8M [00:04<00:00, 3.89MiB/s]\n"
     ]
    }
   ],
   "source": [
    "from autogluon.core.utils.loaders import load_zip\n",
    "\n",
    "download_dir = './ag_multimodal_tutorial'\n",
    "zip_file = 'https://automl-mm-bench.s3.amazonaws.com/petfinder_for_tutorial.zip'\n",
    "\n",
    "load_zip.unzip(zip_file, unzip_dir=download_dir)"
   ]
  },
  {
   "cell_type": "markdown",
   "metadata": {},
   "source": [
    "Next, we use pandas to read the dataset's CSV files into `DataFrames`, noting that the column we are interested in learning to predict is \"AdoptionSpeed\"."
   ]
  },
  {
   "cell_type": "code",
   "execution_count": 3,
   "metadata": {
    "ExecuteTime": {
     "end_time": "2023-12-27T08:52:09.811482Z",
     "start_time": "2023-12-27T08:52:09.788160Z"
    }
   },
   "outputs": [],
   "source": [
    "import pandas as pd\n",
    "\n",
    "dataset_path = f'{download_dir}/petfinder_for_tutorial'\n",
    "\n",
    "train_data = pd.read_csv(f'{dataset_path}/train.csv', index_col=0)\n",
    "test_data = pd.read_csv(f'{dataset_path}/test.csv', index_col=0)\n",
    "\n",
    "label_col = 'AdoptionSpeed'"
   ]
  },
  {
   "cell_type": "code",
   "execution_count": 6,
   "outputs": [
    {
     "data": {
      "text/plain": "   Type           Name  Age  Breed1  Breed2  Gender  Color1  Color2  Color3  \\\n0     2  Yumi Hamasaki    4     292     265       2       1       5       7   \n1     2    Nene/ Kimie   12     285       0       2       5       6       7   \n2     2         Mattie   12     266       0       2       1       7       0   \n3     1            NaN    1     189     307       2       1       2       0   \n4     2           Coco    6     276     285       2       2       4       7   \n\n   MaturitySize  ...  Quantity  Fee  State                         RescuerID  \\\n0             2  ...         1    0  41326  bcc4e1b9557a8b3aaf545ea8e6e86991   \n1             2  ...         1    0  41326  f0450bf0efe0fa3ff9321d0b827b1237   \n2             2  ...         1    0  41401  9b52af6d48a4521fd01d4028eb5879a3   \n3             2  ...         1    0  41401  88da1210e021a5cf43480b074778f3bc   \n4             2  ...         1  100  41326  227d7b1bcfaffb5f9882bf57b5ee8fab   \n\n   VideoAmt                                        Description      PetID  \\\n0         0  I rescued Yumi Hamasaki at a food stall far aw...  7d7a39d71   \n1         0    Has adopted by a friend with new pet name Kimie  0e107c82f   \n2         0  I rescued Mattie with a broken leg. After surg...  1a8fd6707   \n3         0  She born on 30 September . I really hope the a...  bca8b44ae   \n4         0  Calico Tame and easy going Diet RC Kitten Supp...  2def67952   \n\n   PhotoAmt AdoptionSpeed                                             Images  \n0       3.0             0  /Users/elnath/004_deep_learning/AutoGloun-Offi...  \n1       3.0             0  /Users/elnath/004_deep_learning/AutoGloun-Offi...  \n2       5.0             0  /Users/elnath/004_deep_learning/AutoGloun-Offi...  \n3       3.0             0  /Users/elnath/004_deep_learning/AutoGloun-Offi...  \n4       1.0             0  /Users/elnath/004_deep_learning/AutoGloun-Offi...  \n\n[5 rows x 25 columns]",
      "text/html": "<div>\n<style scoped>\n    .dataframe tbody tr th:only-of-type {\n        vertical-align: middle;\n    }\n\n    .dataframe tbody tr th {\n        vertical-align: top;\n    }\n\n    .dataframe thead th {\n        text-align: right;\n    }\n</style>\n<table border=\"1\" class=\"dataframe\">\n  <thead>\n    <tr style=\"text-align: right;\">\n      <th></th>\n      <th>Type</th>\n      <th>Name</th>\n      <th>Age</th>\n      <th>Breed1</th>\n      <th>Breed2</th>\n      <th>Gender</th>\n      <th>Color1</th>\n      <th>Color2</th>\n      <th>Color3</th>\n      <th>MaturitySize</th>\n      <th>...</th>\n      <th>Quantity</th>\n      <th>Fee</th>\n      <th>State</th>\n      <th>RescuerID</th>\n      <th>VideoAmt</th>\n      <th>Description</th>\n      <th>PetID</th>\n      <th>PhotoAmt</th>\n      <th>AdoptionSpeed</th>\n      <th>Images</th>\n    </tr>\n  </thead>\n  <tbody>\n    <tr>\n      <th>0</th>\n      <td>2</td>\n      <td>Yumi Hamasaki</td>\n      <td>4</td>\n      <td>292</td>\n      <td>265</td>\n      <td>2</td>\n      <td>1</td>\n      <td>5</td>\n      <td>7</td>\n      <td>2</td>\n      <td>...</td>\n      <td>1</td>\n      <td>0</td>\n      <td>41326</td>\n      <td>bcc4e1b9557a8b3aaf545ea8e6e86991</td>\n      <td>0</td>\n      <td>I rescued Yumi Hamasaki at a food stall far aw...</td>\n      <td>7d7a39d71</td>\n      <td>3.0</td>\n      <td>0</td>\n      <td>/Users/elnath/004_deep_learning/AutoGloun-Offi...</td>\n    </tr>\n    <tr>\n      <th>1</th>\n      <td>2</td>\n      <td>Nene/ Kimie</td>\n      <td>12</td>\n      <td>285</td>\n      <td>0</td>\n      <td>2</td>\n      <td>5</td>\n      <td>6</td>\n      <td>7</td>\n      <td>2</td>\n      <td>...</td>\n      <td>1</td>\n      <td>0</td>\n      <td>41326</td>\n      <td>f0450bf0efe0fa3ff9321d0b827b1237</td>\n      <td>0</td>\n      <td>Has adopted by a friend with new pet name Kimie</td>\n      <td>0e107c82f</td>\n      <td>3.0</td>\n      <td>0</td>\n      <td>/Users/elnath/004_deep_learning/AutoGloun-Offi...</td>\n    </tr>\n    <tr>\n      <th>2</th>\n      <td>2</td>\n      <td>Mattie</td>\n      <td>12</td>\n      <td>266</td>\n      <td>0</td>\n      <td>2</td>\n      <td>1</td>\n      <td>7</td>\n      <td>0</td>\n      <td>2</td>\n      <td>...</td>\n      <td>1</td>\n      <td>0</td>\n      <td>41401</td>\n      <td>9b52af6d48a4521fd01d4028eb5879a3</td>\n      <td>0</td>\n      <td>I rescued Mattie with a broken leg. After surg...</td>\n      <td>1a8fd6707</td>\n      <td>5.0</td>\n      <td>0</td>\n      <td>/Users/elnath/004_deep_learning/AutoGloun-Offi...</td>\n    </tr>\n    <tr>\n      <th>3</th>\n      <td>1</td>\n      <td>NaN</td>\n      <td>1</td>\n      <td>189</td>\n      <td>307</td>\n      <td>2</td>\n      <td>1</td>\n      <td>2</td>\n      <td>0</td>\n      <td>2</td>\n      <td>...</td>\n      <td>1</td>\n      <td>0</td>\n      <td>41401</td>\n      <td>88da1210e021a5cf43480b074778f3bc</td>\n      <td>0</td>\n      <td>She born on 30 September . I really hope the a...</td>\n      <td>bca8b44ae</td>\n      <td>3.0</td>\n      <td>0</td>\n      <td>/Users/elnath/004_deep_learning/AutoGloun-Offi...</td>\n    </tr>\n    <tr>\n      <th>4</th>\n      <td>2</td>\n      <td>Coco</td>\n      <td>6</td>\n      <td>276</td>\n      <td>285</td>\n      <td>2</td>\n      <td>2</td>\n      <td>4</td>\n      <td>7</td>\n      <td>2</td>\n      <td>...</td>\n      <td>1</td>\n      <td>100</td>\n      <td>41326</td>\n      <td>227d7b1bcfaffb5f9882bf57b5ee8fab</td>\n      <td>0</td>\n      <td>Calico Tame and easy going Diet RC Kitten Supp...</td>\n      <td>2def67952</td>\n      <td>1.0</td>\n      <td>0</td>\n      <td>/Users/elnath/004_deep_learning/AutoGloun-Offi...</td>\n    </tr>\n  </tbody>\n</table>\n<p>5 rows × 25 columns</p>\n</div>"
     },
     "execution_count": 6,
     "metadata": {},
     "output_type": "execute_result"
    }
   ],
   "source": [
    "train_data.head()"
   ],
   "metadata": {
    "collapsed": false,
    "ExecuteTime": {
     "end_time": "2023-12-27T08:55:31.910564Z",
     "start_time": "2023-12-27T08:55:31.905682Z"
    }
   }
  },
  {
   "cell_type": "markdown",
   "metadata": {},
   "source": [
    "The PetFinder dataset comes with a directory of images, and some records in the data have multiple images associated with them. AutoGluon's multimodal dataframe format requires that image columns contain a string whose value is a path to a single image file. For this example, we will limit the image feature column to only the first image and will need to do some path manipulations to get everything setup correctly for the current directory structure."
   ]
  },
  {
   "cell_type": "code",
   "execution_count": 5,
   "metadata": {
    "ExecuteTime": {
     "end_time": "2023-12-27T08:55:19.983244Z",
     "start_time": "2023-12-27T08:55:19.959904Z"
    }
   },
   "outputs": [],
   "source": [
    "image_col = 'Images'\n",
    "\n",
    "train_data[image_col] = train_data[image_col].apply(lambda ele: ele.split(';')[0])\n",
    "test_data[image_col] = test_data[image_col].apply(lambda ele: ele.split(';')[0])\n",
    "\n",
    "def path_expander(path, base_folder):\n",
    "    path_l = path.split(';')\n",
    "    return ';'.join([os.path.abspath(os.path.join(base_folder, path)) for path in path_l])\n",
    "\n",
    "train_data[image_col] = train_data[image_col].apply(lambda ele: path_expander(ele, base_folder=dataset_path))\n",
    "test_data[image_col] = test_data[image_col].apply(lambda ele: path_expander(ele, base_folder=dataset_path))"
   ]
  },
  {
   "cell_type": "markdown",
   "metadata": {},
   "source": [
    "Each animal's adoption profile includes pictures, a text description, and various tabular features such as age, breed, name, color, and more. Let's look at a picture and description for an example row of data."
   ]
  },
  {
   "cell_type": "code",
   "execution_count": 7,
   "metadata": {
    "ExecuteTime": {
     "end_time": "2023-12-27T08:56:39.220942Z",
     "start_time": "2023-12-27T08:56:39.213804Z"
    }
   },
   "outputs": [
    {
     "data": {
      "image/jpeg": "[encoded data removed]",
      "text/plain": "<IPython.core.display.Image object>"
     },
     "metadata": {},
     "output_type": "display_data"
    },
    {
     "data": {
      "text/plain": "\"I rescued Yumi Hamasaki at a food stall far away in Kelantan. At that time i was on my way back to KL, she was suffer from stomach problem and looking very2 sick.. I send her to vet & get the treatment + vaccinated and right now she's very2 healthy.. About yumi : - love to sleep with ppl - she will keep on meowing if she's hugry - very2 active, always seeking for people to accompany her playing - well trained (poo+pee in her own potty) - easy to bathing - I only feed her with these brands : IAMS, Kittenbites, Pro-formance Reason why i need someone to adopt Yumi: I just married and need to move to a new house where no pets are allowed :( As Yumi is very2 special to me, i will only give her to ppl that i think could take care of her just like i did (especially on her foods things)..\""
     },
     "execution_count": 7,
     "metadata": {},
     "output_type": "execute_result"
    }
   ],
   "source": [
    "example_row = train_data.iloc[0]\n",
    "example_image = example_row[image_col]\n",
    "\n",
    "from IPython.display import Image, display\n",
    "pil_img = Image(filename=example_image)\n",
    "display(pil_img)\n",
    "\n",
    "example_row['Description']"
   ]
  },
  {
   "cell_type": "markdown",
   "metadata": {},
   "source": [
    "## Training\n",
    "\n",
    "Now that the data is in a suitable format, we can fit `MultiModalPredictor` on the training data. Here we set a tight training time budget for this quick demo. More training time will lead to better prediction performance, but we can get surprisingly good performance in a short amount of time."
   ]
  },
  {
   "cell_type": "code",
   "execution_count": 16,
   "metadata": {
    "tags": [
     "hide-output"
    ],
    "ExecuteTime": {
     "end_time": "2023-12-27T11:51:56.089006Z",
     "start_time": "2023-12-27T10:46:05.052526Z"
    }
   },
   "outputs": [
    {
     "name": "stderr",
     "output_type": "stream",
     "text": [
      "No path specified. Models will be saved in: \"AutogluonModels/ag-20231227_104605\"\n",
      "=================== System Info ===================\n",
      "AutoGluon Version:  1.0.0\n",
      "Python Version:     3.10.13\n",
      "Operating System:   Darwin\n",
      "Platform Machine:   x86_64\n",
      "Platform Version:   Darwin Kernel Version 23.2.0: Wed Nov 15 21:54:10 PST 2023; root:xnu-10002.61.3~2/RELEASE_X86_64\n",
      "CPU Count:          16\n",
      "Pytorch Version:    2.0.0.post104\n",
      "CUDA Version:       CUDA is not available\n",
      "Memory Avail:       39.67 GB / 64.00 GB (62.0%)\n",
      "Disk Space Avail:   469.97 GB / 931.55 GB (50.5%)\n",
      "===================================================\n",
      "AutoGluon infers your prediction problem is: 'binary' (because only two unique label-values observed).\n",
      "\t2 unique label values:  [0, 1]\n",
      "\tIf 'binary' is not the correct problem_type, please manually specify the problem_type parameter during predictor init (You may specify problem_type as one of: ['binary', 'multiclass', 'regression'])\n",
      "\n",
      "AutoMM starts to create your model. ✨✨✨\n",
      "\n",
      "To track the learning progress, you can open a terminal and launch Tensorboard:\n",
      "    ```shell\n",
      "    # Assume you have installed tensorboard\n",
      "    tensorboard --logdir /Users/elnath/004_deep_learning/AutoGloun-Official/v1_0_0/docs/tutorials/multimodal/multimodal_prediction/AutogluonModels/ag-20231227_104605\n",
      "    ```\n",
      "\n",
      "INFO: Global seed set to 0\n",
      "GPU Count: 0\n",
      "GPU Count to be Used: 0\n",
      "\n",
      "INFO: GPU available: False, used: False\n",
      "INFO: TPU available: False, using: 0 TPU cores\n",
      "INFO: IPU available: False, using: 0 IPUs\n",
      "INFO: HPU available: False, using: 0 HPUs\n",
      "INFO: \n",
      "  | Name              | Type                | Params\n",
      "----------------------------------------------------------\n",
      "0 | model             | MultimodalFusionMLP | 207 M \n",
      "1 | validation_metric | BinaryAUROC         | 0     \n",
      "2 | loss_func         | CrossEntropyLoss    | 0     \n",
      "----------------------------------------------------------\n",
      "207 M     Trainable params\n",
      "0         Non-trainable params\n",
      "207 M     Total params\n",
      "828.117   Total estimated model params size (MB)\n"
     ]
    },
    {
     "name": "stdout",
     "output_type": "stream",
     "text": [
      "Epoch 0:  50%|█████     | 30/60 [06:45<06:45, 13.52s/it]                   \n",
      "Validation: 0it [00:00, ?it/s]\u001B[A\n",
      "Validation:   0%|          | 0/15 [00:00<?, ?it/s]\u001B[A\n",
      "Validation DataLoader 0:   0%|          | 0/15 [00:00<?, ?it/s]\u001B[A\n",
      "Validation DataLoader 0:   7%|▋         | 1/15 [00:04<00:59,  4.24s/it]\u001B[A\n",
      "Validation DataLoader 0:  13%|█▎        | 2/15 [00:07<00:49,  3.84s/it]\u001B[A\n",
      "Validation DataLoader 0:  20%|██        | 3/15 [00:11<00:44,  3.72s/it]\u001B[A\n",
      "Validation DataLoader 0:  27%|██▋       | 4/15 [00:14<00:39,  3.63s/it]\u001B[A\n",
      "Validation DataLoader 0:  33%|███▎      | 5/15 [00:20<00:40,  4.04s/it]\u001B[A\n",
      "Validation DataLoader 0:  40%|████      | 6/15 [00:25<00:38,  4.26s/it]\u001B[A\n",
      "Validation DataLoader 0:  47%|████▋     | 7/15 [00:29<00:33,  4.15s/it]\u001B[A\n",
      "Validation DataLoader 0:  53%|█████▎    | 8/15 [00:32<00:28,  4.05s/it]\u001B[A\n",
      "Validation DataLoader 0:  60%|██████    | 9/15 [00:35<00:23,  3.99s/it]\u001B[A\n",
      "Validation DataLoader 0:  67%|██████▋   | 10/15 [00:41<00:20,  4.11s/it]\u001B[A\n",
      "Validation DataLoader 0:  73%|███████▎  | 11/15 [00:44<00:16,  4.05s/it]\u001B[A\n",
      "Validation DataLoader 0:  80%|████████  | 12/15 [00:48<00:12,  4.03s/it]\u001B[A\n",
      "Validation DataLoader 0:  87%|████████▋ | 13/15 [00:53<00:08,  4.09s/it]\u001B[A\n",
      "Validation DataLoader 0:  93%|█████████▎| 14/15 [00:56<00:04,  4.06s/it]\u001B[A\n",
      "Validation DataLoader 0: 100%|██████████| 15/15 [00:59<00:00,  4.00s/it]\u001B[A\n",
      "Epoch 0:  50%|█████     | 30/60 [07:45<07:45, 15.53s/it]                \u001B[A"
     ]
    },
    {
     "name": "stderr",
     "output_type": "stream",
     "text": [
      "INFO: Epoch 0, global step 1: 'val_roc_auc' reached 0.51250 (best 0.51250), saving model to '/Users/elnath/004_deep_learning/AutoGloun-Official/v1_0_0/docs/tutorials/multimodal/multimodal_prediction/AutogluonModels/ag-20231227_104605/epoch=0-step=1.ckpt' as top 3\n"
     ]
    },
    {
     "name": "stdout",
     "output_type": "stream",
     "text": [
      "Epoch 0: 100%|██████████| 60/60 [14:24<00:00, 14.41s/it]\n",
      "Validation: 0it [00:00, ?it/s]\u001B[A\n",
      "Validation:   0%|          | 0/15 [00:00<?, ?it/s]\u001B[A\n",
      "Validation DataLoader 0:   0%|          | 0/15 [00:00<?, ?it/s]\u001B[A\n",
      "Validation DataLoader 0:   7%|▋         | 1/15 [00:04<01:01,  4.39s/it]\u001B[A\n",
      "Validation DataLoader 0:  13%|█▎        | 2/15 [00:07<00:51,  3.99s/it]\u001B[A\n",
      "Validation DataLoader 0:  20%|██        | 3/15 [00:11<00:46,  3.88s/it]\u001B[A\n",
      "Validation DataLoader 0:  27%|██▋       | 4/15 [00:15<00:41,  3.75s/it]\u001B[A\n",
      "Validation DataLoader 0:  33%|███▎      | 5/15 [00:20<00:41,  4.16s/it]\u001B[A\n",
      "Validation DataLoader 0:  40%|████      | 6/15 [00:26<00:39,  4.39s/it]\u001B[A\n",
      "Validation DataLoader 0:  47%|████▋     | 7/15 [00:30<00:34,  4.29s/it]\u001B[A\n",
      "Validation DataLoader 0:  53%|█████▎    | 8/15 [00:33<00:29,  4.19s/it]\u001B[A\n",
      "Validation DataLoader 0:  60%|██████    | 9/15 [00:37<00:25,  4.17s/it]\u001B[A\n",
      "Validation DataLoader 0:  67%|██████▋   | 10/15 [00:42<00:21,  4.27s/it]\u001B[A\n",
      "Validation DataLoader 0:  73%|███████▎  | 11/15 [00:46<00:16,  4.21s/it]\u001B[A\n",
      "Validation DataLoader 0:  80%|████████  | 12/15 [00:50<00:12,  4.20s/it]\u001B[A\n",
      "Validation DataLoader 0:  87%|████████▋ | 13/15 [00:55<00:08,  4.26s/it]\u001B[A\n",
      "Validation DataLoader 0:  93%|█████████▎| 14/15 [00:59<00:04,  4.22s/it]\u001B[A\n",
      "Validation DataLoader 0: 100%|██████████| 15/15 [01:02<00:00,  4.16s/it]\u001B[A\n",
      "Epoch 0: 100%|██████████| 60/60 [15:27<00:00, 15.45s/it]                \u001B[A"
     ]
    },
    {
     "name": "stderr",
     "output_type": "stream",
     "text": [
      "INFO: Epoch 0, global step 4: 'val_roc_auc' reached 0.63611 (best 0.63611), saving model to '/Users/elnath/004_deep_learning/AutoGloun-Official/v1_0_0/docs/tutorials/multimodal/multimodal_prediction/AutogluonModels/ag-20231227_104605/epoch=0-step=4.ckpt' as top 3\n"
     ]
    },
    {
     "name": "stdout",
     "output_type": "stream",
     "text": [
      "Epoch 1:  50%|█████     | 30/60 [06:29<06:29, 12.98s/it]\n",
      "Validation: 0it [00:00, ?it/s]\u001B[A\n",
      "Validation:   0%|          | 0/15 [00:00<?, ?it/s]\u001B[A\n",
      "Validation DataLoader 0:   0%|          | 0/15 [00:00<?, ?it/s]\u001B[A\n",
      "Validation DataLoader 0:   7%|▋         | 1/15 [00:04<01:00,  4.34s/it]\u001B[A\n",
      "Validation DataLoader 0:  13%|█▎        | 2/15 [00:07<00:50,  3.90s/it]\u001B[A\n",
      "Validation DataLoader 0:  20%|██        | 3/15 [00:11<00:45,  3.81s/it]\u001B[A\n",
      "Validation DataLoader 0:  27%|██▋       | 4/15 [00:14<00:40,  3.69s/it]\u001B[A\n",
      "Validation DataLoader 0:  33%|███▎      | 5/15 [00:20<00:40,  4.10s/it]\u001B[A\n",
      "Validation DataLoader 0:  40%|████      | 6/15 [00:26<00:39,  4.36s/it]\u001B[A\n",
      "Validation DataLoader 0:  47%|████▋     | 7/15 [00:29<00:34,  4.28s/it]\u001B[A\n",
      "Validation DataLoader 0:  53%|█████▎    | 8/15 [00:33<00:29,  4.19s/it]\u001B[A\n",
      "Validation DataLoader 0:  60%|██████    | 9/15 [00:37<00:25,  4.17s/it]\u001B[A\n",
      "Validation DataLoader 0:  67%|██████▋   | 10/15 [00:42<00:21,  4.29s/it]\u001B[A\n",
      "Validation DataLoader 0:  73%|███████▎  | 11/15 [00:46<00:16,  4.24s/it]\u001B[A\n",
      "Validation DataLoader 0:  80%|████████  | 12/15 [00:51<00:12,  4.26s/it]\u001B[A\n",
      "Validation DataLoader 0:  87%|████████▋ | 13/15 [00:56<00:08,  4.33s/it]\u001B[A\n",
      "Validation DataLoader 0:  93%|█████████▎| 14/15 [01:00<00:04,  4.29s/it]\u001B[A\n",
      "Validation DataLoader 0: 100%|██████████| 15/15 [01:03<00:00,  4.23s/it]\u001B[A\n",
      "Epoch 1:  50%|█████     | 30/60 [07:33<07:33, 15.10s/it]                \u001B[A"
     ]
    },
    {
     "name": "stderr",
     "output_type": "stream",
     "text": [
      "INFO: Epoch 1, global step 5: 'val_roc_auc' reached 0.67306 (best 0.67306), saving model to '/Users/elnath/004_deep_learning/AutoGloun-Official/v1_0_0/docs/tutorials/multimodal/multimodal_prediction/AutogluonModels/ag-20231227_104605/epoch=1-step=5.ckpt' as top 3\n"
     ]
    },
    {
     "name": "stdout",
     "output_type": "stream",
     "text": [
      "Epoch 1: 100%|██████████| 60/60 [14:20<00:00, 14.35s/it]\n",
      "Validation: 0it [00:00, ?it/s]\u001B[A\n",
      "Validation:   0%|          | 0/15 [00:00<?, ?it/s]\u001B[A\n",
      "Validation DataLoader 0:   0%|          | 0/15 [00:00<?, ?it/s]\u001B[A\n",
      "Validation DataLoader 0:   7%|▋         | 1/15 [00:05<01:10,  5.04s/it]\u001B[A\n",
      "Validation DataLoader 0:  13%|█▎        | 2/15 [00:08<00:55,  4.31s/it]\u001B[A\n",
      "Validation DataLoader 0:  20%|██        | 3/15 [00:12<00:49,  4.13s/it]\u001B[A\n",
      "Validation DataLoader 0:  27%|██▋       | 4/15 [00:15<00:43,  3.98s/it]\u001B[A\n",
      "Validation DataLoader 0:  33%|███▎      | 5/15 [00:22<00:44,  4.45s/it]\u001B[A\n",
      "Validation DataLoader 0:  40%|████      | 6/15 [00:27<00:41,  4.65s/it]\u001B[A\n",
      "Validation DataLoader 0:  47%|████▋     | 7/15 [00:31<00:36,  4.53s/it]\u001B[A\n",
      "Validation DataLoader 0:  53%|█████▎    | 8/15 [00:35<00:30,  4.39s/it]\u001B[A\n",
      "Validation DataLoader 0:  60%|██████    | 9/15 [00:38<00:25,  4.30s/it]\u001B[A\n",
      "Validation DataLoader 0:  67%|██████▋   | 10/15 [00:43<00:21,  4.38s/it]\u001B[A\n",
      "Validation DataLoader 0:  73%|███████▎  | 11/15 [00:47<00:17,  4.29s/it]\u001B[A\n",
      "Validation DataLoader 0:  80%|████████  | 12/15 [00:50<00:12,  4.24s/it]\u001B[A\n",
      "Validation DataLoader 0:  87%|████████▋ | 13/15 [00:55<00:08,  4.29s/it]\u001B[A\n",
      "Validation DataLoader 0:  93%|█████████▎| 14/15 [00:59<00:04,  4.23s/it]\u001B[A\n",
      "Validation DataLoader 0: 100%|██████████| 15/15 [01:02<00:00,  4.15s/it]\u001B[A\n",
      "Epoch 1: 100%|██████████| 60/60 [15:23<00:00, 15.39s/it]                \u001B[A"
     ]
    },
    {
     "name": "stderr",
     "output_type": "stream",
     "text": [
      "INFO: Epoch 1, global step 8: 'val_roc_auc' reached 0.68833 (best 0.68833), saving model to '/Users/elnath/004_deep_learning/AutoGloun-Official/v1_0_0/docs/tutorials/multimodal/multimodal_prediction/AutogluonModels/ag-20231227_104605/epoch=1-step=8.ckpt' as top 3\n"
     ]
    },
    {
     "name": "stdout",
     "output_type": "stream",
     "text": [
      "Epoch 2:  50%|█████     | 30/60 [05:57<05:57, 11.92s/it]\n",
      "Validation: 0it [00:00, ?it/s]\u001B[A\n",
      "Validation:   0%|          | 0/15 [00:00<?, ?it/s]\u001B[A\n",
      "Validation DataLoader 0:   0%|          | 0/15 [00:00<?, ?it/s]\u001B[A\n",
      "Validation DataLoader 0:   7%|▋         | 1/15 [00:04<00:56,  4.05s/it]\u001B[A\n",
      "Validation DataLoader 0:  13%|█▎        | 2/15 [00:07<00:47,  3.65s/it]\u001B[A\n",
      "Validation DataLoader 0:  20%|██        | 3/15 [00:10<00:42,  3.52s/it]\u001B[A\n",
      "Validation DataLoader 0:  27%|██▋       | 4/15 [00:13<00:37,  3.41s/it]\u001B[A\n",
      "Validation DataLoader 0:  33%|███▎      | 5/15 [00:19<00:38,  3.81s/it]\u001B[A\n",
      "Validation DataLoader 0:  40%|████      | 6/15 [00:24<00:36,  4.05s/it]\u001B[A\n",
      "Validation DataLoader 0:  47%|████▋     | 7/15 [00:27<00:31,  3.97s/it]\u001B[A\n",
      "Validation DataLoader 0:  53%|█████▎    | 8/15 [00:30<00:27,  3.87s/it]\u001B[A\n",
      "Validation DataLoader 0:  60%|██████    | 9/15 [00:34<00:23,  3.84s/it]\u001B[A\n",
      "Validation DataLoader 0:  67%|██████▋   | 10/15 [00:39<00:19,  3.95s/it]\u001B[A\n",
      "Validation DataLoader 0:  73%|███████▎  | 11/15 [00:42<00:15,  3.89s/it]\u001B[A\n",
      "Validation DataLoader 0:  80%|████████  | 12/15 [00:46<00:11,  3.89s/it]\u001B[A\n",
      "Validation DataLoader 0:  87%|████████▋ | 13/15 [00:51<00:07,  3.94s/it]\u001B[A\n",
      "Validation DataLoader 0:  93%|█████████▎| 14/15 [00:54<00:03,  3.90s/it]\u001B[A\n",
      "Validation DataLoader 0: 100%|██████████| 15/15 [00:57<00:00,  3.84s/it]\u001B[A\n",
      "Epoch 2:  50%|█████     | 30/60 [06:55<06:55, 13.85s/it]                \u001B[A"
     ]
    },
    {
     "name": "stderr",
     "output_type": "stream",
     "text": [
      "INFO: Epoch 2, global step 9: 'val_roc_auc' reached 0.69778 (best 0.69778), saving model to '/Users/elnath/004_deep_learning/AutoGloun-Official/v1_0_0/docs/tutorials/multimodal/multimodal_prediction/AutogluonModels/ag-20231227_104605/epoch=2-step=9.ckpt' as top 3\n"
     ]
    },
    {
     "name": "stdout",
     "output_type": "stream",
     "text": [
      "Epoch 2: 100%|██████████| 60/60 [13:20<00:00, 13.34s/it]\n",
      "Validation: 0it [00:00, ?it/s]\u001B[A\n",
      "Validation:   0%|          | 0/15 [00:00<?, ?it/s]\u001B[A\n",
      "Validation DataLoader 0:   0%|          | 0/15 [00:00<?, ?it/s]\u001B[A\n",
      "Validation DataLoader 0:   7%|▋         | 1/15 [00:03<00:47,  3.41s/it]\u001B[A\n",
      "Validation DataLoader 0:  13%|█▎        | 2/15 [00:06<00:40,  3.10s/it]\u001B[A\n",
      "Validation DataLoader 0:  20%|██        | 3/15 [00:08<00:35,  2.99s/it]\u001B[A\n",
      "Validation DataLoader 0:  27%|██▋       | 4/15 [00:11<00:32,  2.92s/it]\u001B[A\n",
      "Validation DataLoader 0:  33%|███▎      | 5/15 [00:16<00:32,  3.26s/it]\u001B[A\n",
      "Validation DataLoader 0:  40%|████      | 6/15 [00:20<00:31,  3.48s/it]\u001B[A\n",
      "Validation DataLoader 0:  47%|████▋     | 7/15 [00:23<00:27,  3.42s/it]\u001B[A\n",
      "Validation DataLoader 0:  53%|█████▎    | 8/15 [00:27<00:23,  3.38s/it]\u001B[A\n",
      "Validation DataLoader 0:  60%|██████    | 9/15 [00:30<00:20,  3.36s/it]\u001B[A\n",
      "Validation DataLoader 0:  67%|██████▋   | 10/15 [00:34<00:17,  3.48s/it]\u001B[A\n",
      "Validation DataLoader 0:  73%|███████▎  | 11/15 [00:37<00:13,  3.44s/it]\u001B[A\n",
      "Validation DataLoader 0:  80%|████████  | 12/15 [00:41<00:10,  3.44s/it]\u001B[A\n",
      "Validation DataLoader 0:  87%|████████▋ | 13/15 [00:45<00:07,  3.50s/it]\u001B[A\n",
      "Validation DataLoader 0:  93%|█████████▎| 14/15 [00:48<00:03,  3.47s/it]\u001B[A\n",
      "Validation DataLoader 0: 100%|██████████| 15/15 [00:51<00:00,  3.42s/it]\u001B[A\n",
      "Epoch 2: 100%|██████████| 60/60 [14:12<00:00, 14.20s/it]                \u001B[A"
     ]
    },
    {
     "name": "stderr",
     "output_type": "stream",
     "text": [
      "INFO: Epoch 2, global step 12: 'val_roc_auc' reached 0.69472 (best 0.69778), saving model to '/Users/elnath/004_deep_learning/AutoGloun-Official/v1_0_0/docs/tutorials/multimodal/multimodal_prediction/AutogluonModels/ag-20231227_104605/epoch=2-step=12.ckpt' as top 3\n"
     ]
    },
    {
     "name": "stdout",
     "output_type": "stream",
     "text": [
      "Epoch 3:  50%|█████     | 30/60 [05:24<05:24, 10.81s/it]\n",
      "Validation: 0it [00:00, ?it/s]\u001B[A\n",
      "Validation:   0%|          | 0/15 [00:00<?, ?it/s]\u001B[A\n",
      "Validation DataLoader 0:   0%|          | 0/15 [00:00<?, ?it/s]\u001B[A\n",
      "Validation DataLoader 0:   7%|▋         | 1/15 [00:03<00:50,  3.62s/it]\u001B[A\n",
      "Validation DataLoader 0:  13%|█▎        | 2/15 [00:06<00:41,  3.17s/it]\u001B[A\n",
      "Validation DataLoader 0:  20%|██        | 3/15 [00:09<00:36,  3.06s/it]\u001B[A\n",
      "Validation DataLoader 0:  27%|██▋       | 4/15 [00:11<00:32,  2.98s/it]\u001B[A\n",
      "Validation DataLoader 0:  33%|███▎      | 5/15 [00:16<00:33,  3.40s/it]\u001B[A\n",
      "Validation DataLoader 0:  40%|████      | 6/15 [00:21<00:31,  3.55s/it]\u001B[A\n",
      "Validation DataLoader 0:  47%|████▋     | 7/15 [00:24<00:27,  3.47s/it]\u001B[A\n",
      "Validation DataLoader 0:  53%|█████▎    | 8/15 [00:27<00:23,  3.38s/it]\u001B[A\n",
      "Validation DataLoader 0:  60%|██████    | 9/15 [00:30<00:20,  3.34s/it]\u001B[A\n",
      "Validation DataLoader 0:  67%|██████▋   | 10/15 [00:34<00:17,  3.41s/it]\u001B[A\n",
      "Validation DataLoader 0:  73%|███████▎  | 11/15 [00:36<00:13,  3.36s/it]\u001B[A\n",
      "Validation DataLoader 0:  80%|████████  | 12/15 [00:40<00:10,  3.34s/it]\u001B[A\n",
      "Validation DataLoader 0:  87%|████████▋ | 13/15 [00:44<00:06,  3.39s/it]\u001B[A\n",
      "Validation DataLoader 0:  93%|█████████▎| 14/15 [00:47<00:03,  3.37s/it]\u001B[A\n",
      "Validation DataLoader 0: 100%|██████████| 15/15 [00:49<00:00,  3.33s/it]\u001B[A\n",
      "Epoch 3:  50%|█████     | 30/60 [06:14<06:14, 12.48s/it]                \u001B[A"
     ]
    },
    {
     "name": "stderr",
     "output_type": "stream",
     "text": [
      "INFO: Epoch 3, global step 13: 'val_roc_auc' reached 0.69972 (best 0.69972), saving model to '/Users/elnath/004_deep_learning/AutoGloun-Official/v1_0_0/docs/tutorials/multimodal/multimodal_prediction/AutogluonModels/ag-20231227_104605/epoch=3-step=13.ckpt' as top 3\n"
     ]
    },
    {
     "name": "stdout",
     "output_type": "stream",
     "text": [
      "Epoch 3: 100%|██████████| 60/60 [11:52<00:00, 11.88s/it]\n",
      "Validation: 0it [00:00, ?it/s]\u001B[A\n",
      "Validation:   0%|          | 0/15 [00:00<?, ?it/s]\u001B[A\n",
      "Validation DataLoader 0:   0%|          | 0/15 [00:00<?, ?it/s]\u001B[A\n",
      "Validation DataLoader 0:   7%|▋         | 1/15 [00:03<00:50,  3.64s/it]\u001B[A\n",
      "Validation DataLoader 0:  13%|█▎        | 2/15 [00:06<00:42,  3.28s/it]\u001B[A\n",
      "Validation DataLoader 0:  20%|██        | 3/15 [00:09<00:37,  3.14s/it]\u001B[A\n",
      "Validation DataLoader 0:  27%|██▋       | 4/15 [00:12<00:33,  3.03s/it]\u001B[A\n",
      "Validation DataLoader 0:  33%|███▎      | 5/15 [00:16<00:33,  3.39s/it]\u001B[A\n",
      "Validation DataLoader 0:  40%|████      | 6/15 [00:22<00:33,  3.69s/it]\u001B[A\n",
      "Validation DataLoader 0:  47%|████▋     | 7/15 [00:25<00:29,  3.63s/it]\u001B[A\n",
      "Validation DataLoader 0:  53%|█████▎    | 8/15 [00:28<00:24,  3.55s/it]\u001B[A\n",
      "Validation DataLoader 0:  60%|██████    | 9/15 [00:31<00:21,  3.51s/it]\u001B[A\n",
      "Validation DataLoader 0:  67%|██████▋   | 10/15 [00:35<00:17,  3.59s/it]\u001B[A\n",
      "Validation DataLoader 0:  73%|███████▎  | 11/15 [00:38<00:14,  3.54s/it]\u001B[A\n",
      "Validation DataLoader 0:  80%|████████  | 12/15 [00:42<00:10,  3.53s/it]\u001B[A\n",
      "Validation DataLoader 0:  87%|████████▋ | 13/15 [00:46<00:07,  3.57s/it]\u001B[A\n",
      "Validation DataLoader 0:  93%|█████████▎| 14/15 [00:49<00:03,  3.54s/it]\u001B[A\n",
      "Validation DataLoader 0: 100%|██████████| 15/15 [00:52<00:00,  3.47s/it]\u001B[A\n",
      "Epoch 3: 100%|██████████| 60/60 [12:45<00:00, 12.75s/it]                \u001B[A"
     ]
    },
    {
     "name": "stderr",
     "output_type": "stream",
     "text": [
      "INFO: Epoch 3, global step 16: 'val_roc_auc' reached 0.73889 (best 0.73889), saving model to '/Users/elnath/004_deep_learning/AutoGloun-Official/v1_0_0/docs/tutorials/multimodal/multimodal_prediction/AutogluonModels/ag-20231227_104605/epoch=3-step=16.ckpt' as top 3\n"
     ]
    },
    {
     "name": "stdout",
     "output_type": "stream",
     "text": [
      "Epoch 4:  17%|█▋        | 10/60 [01:38<08:14,  9.88s/it]"
     ]
    },
    {
     "name": "stderr",
     "output_type": "stream",
     "text": [
      "INFO: Time limit reached. Elapsed time is 1:00:04. Signaling Trainer to stop.\n"
     ]
    },
    {
     "name": "stdout",
     "output_type": "stream",
     "text": [
      "Epoch 4:  18%|█▊        | 11/60 [01:47<07:57,  9.74s/it]\n",
      "Validation: 0it [00:00, ?it/s]\u001B[A\n",
      "Validation:   0%|          | 0/15 [00:00<?, ?it/s]\u001B[A\n",
      "Validation DataLoader 0:   0%|          | 0/15 [00:00<?, ?it/s]\u001B[A\n",
      "Validation DataLoader 0:   7%|▋         | 1/15 [00:03<00:47,  3.38s/it]\u001B[A\n",
      "Validation DataLoader 0:  13%|█▎        | 2/15 [00:06<00:40,  3.10s/it]\u001B[A\n",
      "Validation DataLoader 0:  20%|██        | 3/15 [00:09<00:36,  3.01s/it]\u001B[A\n",
      "Validation DataLoader 0:  27%|██▋       | 4/15 [00:11<00:32,  2.93s/it]\u001B[A\n",
      "Validation DataLoader 0:  33%|███▎      | 5/15 [00:16<00:33,  3.36s/it]\u001B[A\n",
      "Validation DataLoader 0:  40%|████      | 6/15 [00:21<00:32,  3.59s/it]\u001B[A\n",
      "Validation DataLoader 0:  47%|████▋     | 7/15 [00:24<00:28,  3.53s/it]\u001B[A\n",
      "Validation DataLoader 0:  53%|█████▎    | 8/15 [00:27<00:24,  3.45s/it]\u001B[A\n",
      "Validation DataLoader 0:  60%|██████    | 9/15 [00:30<00:20,  3.40s/it]\u001B[A\n",
      "Validation DataLoader 0:  67%|██████▋   | 10/15 [00:34<00:17,  3.48s/it]\u001B[A\n",
      "Validation DataLoader 0:  73%|███████▎  | 11/15 [00:37<00:13,  3.42s/it]\u001B[A\n",
      "Validation DataLoader 0:  80%|████████  | 12/15 [00:40<00:10,  3.41s/it]\u001B[A\n",
      "Validation DataLoader 0:  87%|████████▋ | 13/15 [00:45<00:06,  3.47s/it]\u001B[A\n",
      "Validation DataLoader 0:  93%|█████████▎| 14/15 [00:48<00:03,  3.44s/it]\u001B[A\n",
      "Validation DataLoader 0: 100%|██████████| 15/15 [00:50<00:00,  3.39s/it]\u001B[A\n",
      "Epoch 4:  18%|█▊        | 11/60 [02:38<11:44, 14.38s/it]                \u001B[A\n"
     ]
    },
    {
     "name": "stderr",
     "output_type": "stream",
     "text": [
      "Start to fuse 3 checkpoints via the greedy soup algorithm.\n"
     ]
    },
    {
     "name": "stdout",
     "output_type": "stream",
     "text": [
      "Predicting DataLoader 0: 100%|██████████| 4/4 [00:54<00:00, 13.73s/it]\n",
      "Predicting DataLoader 0: 100%|██████████| 4/4 [00:54<00:00, 13.66s/it]\n",
      "Predicting DataLoader 0: 100%|██████████| 4/4 [00:55<00:00, 13.78s/it]\n"
     ]
    },
    {
     "name": "stderr",
     "output_type": "stream",
     "text": [
      "AutoMM has created your model. 🎉🎉🎉\n",
      "\n",
      "To load the model, use the code below:\n",
      "    ```python\n",
      "    from autogluon.multimodal import MultiModalPredictor\n",
      "    predictor = MultiModalPredictor.load(\"/Users/elnath/004_deep_learning/AutoGloun-Official/v1_0_0/docs/tutorials/multimodal/multimodal_prediction/AutogluonModels/ag-20231227_104605\")\n",
      "    ```\n",
      "\n",
      "If you are not satisfied with the model, try to increase the training time, \n",
      "adjust the hyperparameters (https://auto.gluon.ai/stable/tutorials/multimodal/advanced_topics/customization.html),\n",
      "or post issues on GitHub (https://github.com/autogluon/autogluon/issues).\n",
      "\n",
      "\n"
     ]
    }
   ],
   "source": [
    "from autogluon.multimodal import MultiModalPredictor\n",
    "\n",
    "predictor = MultiModalPredictor(label=label_col).fit(\n",
    "    train_data=train_data,\n",
    "    # time_limit=120\n",
    "    time_limit=60 * 60 * 1\n",
    "    \n",
    ")"
   ]
  },
  {
   "cell_type": "markdown",
   "metadata": {},
   "source": [
    "Under the hood `MultiModalPredictor` automatically infers the problem type (classification or regression), detects feature modalities, selects models from the multimodal model pools, and trains the selected models. If multiple backbones are used, MultiModalPredictor appends a late-fusion model (MLP or transformer) on top of them."
   ]
  },
  {
   "cell_type": "markdown",
   "metadata": {},
   "source": [
    "## Prediction\n",
    "\n",
    "After fitting the model, we want to use it to predict the labels in the witheld test dataset."
   ]
  },
  {
   "cell_type": "code",
   "execution_count": 17,
   "metadata": {
    "ExecuteTime": {
     "end_time": "2023-12-27T11:53:30.362828Z",
     "start_time": "2023-12-27T11:52:27.320793Z"
    }
   },
   "outputs": [
    {
     "name": "stdout",
     "output_type": "stream",
     "text": [
      "Predicting DataLoader 0: 100%|██████████| 4/4 [00:39<00:00,  9.82s/it]\n"
     ]
    },
    {
     "data": {
      "text/plain": "8     0\n70    1\n82    1\n28    0\n63    1\nName: AdoptionSpeed, dtype: int64"
     },
     "execution_count": 17,
     "metadata": {},
     "output_type": "execute_result"
    }
   ],
   "source": [
    "predictions = predictor.predict(test_data.drop(columns=label_col))\n",
    "predictions[:5]"
   ]
  },
  {
   "cell_type": "markdown",
   "metadata": {},
   "source": [
    "For classification tasks, we can just as easily get the prediction probabilities for each output class."
   ]
  },
  {
   "cell_type": "code",
   "execution_count": 18,
   "metadata": {
    "ExecuteTime": {
     "end_time": "2023-12-27T11:54:32.895858Z",
     "start_time": "2023-12-27T11:53:30.361562Z"
    }
   },
   "outputs": [
    {
     "name": "stdout",
     "output_type": "stream",
     "text": [
      "Predicting DataLoader 0: 100%|██████████| 4/4 [00:38<00:00,  9.66s/it]\n"
     ]
    },
    {
     "data": {
      "text/plain": "           0         1\n8   0.943792  0.056208\n70  0.102629  0.897371\n82  0.194576  0.805424\n28  0.972388  0.027612\n63  0.084784  0.915216",
      "text/html": "<div>\n<style scoped>\n    .dataframe tbody tr th:only-of-type {\n        vertical-align: middle;\n    }\n\n    .dataframe tbody tr th {\n        vertical-align: top;\n    }\n\n    .dataframe thead th {\n        text-align: right;\n    }\n</style>\n<table border=\"1\" class=\"dataframe\">\n  <thead>\n    <tr style=\"text-align: right;\">\n      <th></th>\n      <th>0</th>\n      <th>1</th>\n    </tr>\n  </thead>\n  <tbody>\n    <tr>\n      <th>8</th>\n      <td>0.943792</td>\n      <td>0.056208</td>\n    </tr>\n    <tr>\n      <th>70</th>\n      <td>0.102629</td>\n      <td>0.897371</td>\n    </tr>\n    <tr>\n      <th>82</th>\n      <td>0.194576</td>\n      <td>0.805424</td>\n    </tr>\n    <tr>\n      <th>28</th>\n      <td>0.972388</td>\n      <td>0.027612</td>\n    </tr>\n    <tr>\n      <th>63</th>\n      <td>0.084784</td>\n      <td>0.915216</td>\n    </tr>\n  </tbody>\n</table>\n</div>"
     },
     "execution_count": 18,
     "metadata": {},
     "output_type": "execute_result"
    }
   ],
   "source": [
    "probs = predictor.predict_proba(test_data.drop(columns=label_col))\n",
    "probs[:5]"
   ]
  },
  {
   "cell_type": "markdown",
   "metadata": {},
   "source": [
    "## Evaluation\n",
    "\n",
    "Finally, we can evaluate the predictor on the witheld test dataset on other performance metrics, in this case [roc_auc](https://scikit-learn.org/stable/modules/generated/sklearn.metrics.roc_auc_score.html)."
   ]
  },
  {
   "cell_type": "code",
   "execution_count": 19,
   "metadata": {
    "ExecuteTime": {
     "end_time": "2023-12-27T11:55:35.965107Z",
     "start_time": "2023-12-27T11:54:32.891897Z"
    }
   },
   "outputs": [
    {
     "name": "stdout",
     "output_type": "stream",
     "text": [
      "Predicting DataLoader 0: 100%|██████████| 4/4 [00:39<00:00,  9.84s/it]\n"
     ]
    },
    {
     "data": {
      "text/plain": "{'roc_auc': 0.9231999999999999}"
     },
     "execution_count": 19,
     "metadata": {},
     "output_type": "execute_result"
    }
   ],
   "source": [
    "scores = predictor.evaluate(test_data, metrics=[\"roc_auc\"])\n",
    "scores"
   ]
  },
  {
   "cell_type": "markdown",
   "metadata": {},
   "source": [
    "## Conclusion\n",
    "\n",
    "In this quickstart tutorial we saw the basic fit and predict functionality of AutoGluon's `MultiModalPredictor`, but we just scratched the surface on its functionality. Check out the in-depth tutorials to learn about other features of AutoGluon's `MultiModalPredictor` like embedding extraction, distillation, model fine-tuning, text or image prediction, and semantic matching."
   ]
  },
  {
   "cell_type": "markdown",
   "metadata": {},
   "source": []
  }
 ],
 "metadata": {
  "language_info": {
   "name": "python"
  },
  "kernelspec": {
   "name": "venv_ag_310",
   "language": "python",
   "display_name": "venv_ag_310"
  }
 },
 "nbformat": 4,
 "nbformat_minor": 1
}
