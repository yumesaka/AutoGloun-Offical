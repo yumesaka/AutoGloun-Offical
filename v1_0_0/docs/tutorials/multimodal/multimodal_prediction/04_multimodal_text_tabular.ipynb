{
 "cells": [
  {
   "cell_type": "markdown",
   "id": "1c2ce292",
   "metadata": {},
   "source": [
    "# AutoMM for Text + Tabular - Quick Start\n",
    "\n",
    "[![Open In Colab](https://colab.research.google.com/assets/colab-badge.svg)](https://colab.research.google.com/github/autogluon/autogluon/blob/master/docs/tutorials/multimodal/multimodal_prediction/multimodal_text_tabular.ipynb)\n",
    "[![Open In SageMaker Studio Lab](https://studiolab.sagemaker.aws/studiolab.svg)](https://studiolab.sagemaker.aws/import/github/autogluon/autogluon/blob/master/docs/tutorials/multimodal/multimodal_prediction/multimodal_text_tabular.ipynb)\n",
    "\n",
    "\n",
    "\n",
    "In many applications, text data may be mixed with numeric/categorical data. \n",
    "AutoGluon's `MultiModalPredictor` can train a single neural network that jointly operates on multiple feature types, \n",
    "including text, categorical, and numerical columns. The general idea is to embed the text, categorical and numeric fields \n",
    "separately and fuse these features across modalities. This tutorial demonstrates such an application."
   ]
  },
  {
   "cell_type": "code",
   "execution_count": null,
   "id": "aa00faab-252f-44c9-b8f7-57131aa8251c",
   "metadata": {
    "tags": [
     "remove-cell"
    ]
   },
   "outputs": [],
   "source": [
    "# !pip install autogluon.multimodal\n",
    "# colab에서 적용가능한 최신버전\n",
    "# !pip install autogluon==0.8.1"
   ]
  },
  {
   "cell_type": "code",
   "execution_count": 1,
   "id": "a3eb3624",
   "metadata": {
    "ExecuteTime": {
     "end_time": "2023-12-27T11:57:34.905530Z",
     "start_time": "2023-12-27T11:57:34.378831Z"
    }
   },
   "outputs": [],
   "source": [
    "import numpy as np\n",
    "import pandas as pd\n",
    "import warnings\n",
    "import os\n",
    "\n",
    "warnings.filterwarnings('ignore')\n",
    "np.random.seed(123)"
   ]
  },
  {
   "cell_type": "code",
   "execution_count": null,
   "id": "6608c094",
   "metadata": {},
   "outputs": [],
   "source": [
    "# !python3 -m pip install openpyxl"
   ]
  },
  {
   "cell_type": "markdown",
   "id": "ade016b9",
   "metadata": {},
   "source": [
    "## Book Price Prediction Data\n",
    "\n",
    "For demonstration, we use the book price prediction dataset from the [MachineHack Book Price Prediction Hackathon](https://www.machinehack.com/hackathons/predict_the_price_of_books/overview). Our goal is to predict a book's price given various features like its author, the abstract, the book's rating, etc."
   ]
  },
  {
   "cell_type": "code",
   "execution_count": 7,
   "id": "9b44e0b3",
   "metadata": {
    "ExecuteTime": {
     "end_time": "2023-12-27T12:26:18.184722Z",
     "start_time": "2023-12-27T12:26:12.340228Z"
    }
   },
   "outputs": [
    {
     "name": "stdout",
     "output_type": "stream",
     "text": [
      "  % Total    % Received % Xferd  Average Speed   Time    Time     Time  Current\r\n",
      "                                 Dload  Upload   Total   Spent    Left  Speed\r\n",
      "100 3439k  100 3439k    0     0   653k      0  0:00:05  0:00:05 --:--:--  781k\r\n",
      "Archive:  Data.zip\r\n",
      "  inflating: Participants_Data/Data_Test.xlsx  \r\n",
      "  inflating: Participants_Data/Data_Train.xlsx  \r\n",
      "  inflating: Participants_Data/Sample_Submission.xlsx  \r\n",
      "Data_Test.xlsx         Data_Train.xlsx        Sample_Submission.xlsx\r\n"
     ]
    }
   ],
   "source": [
    "!mkdir -p price_of_books\n",
    "# !wget https://automl-mm-bench.s3.amazonaws.com/machine_hack_competitions/predict_the_price_of_books/Data.zip -O price_of_books/Data.zip\n",
    "!curl https://automl-mm-bench.s3.amazonaws.com/machine_hack_competitions/predict_the_price_of_books/Data.zip -o price_of_books/Data.zip\n",
    "!cd price_of_books && unzip -o Data.zip\n",
    "!ls price_of_books/Participants_Data"
   ]
  },
  {
   "cell_type": "code",
   "execution_count": 8,
   "id": "c964975b",
   "metadata": {
    "ExecuteTime": {
     "end_time": "2023-12-27T12:26:29.358938Z",
     "start_time": "2023-12-27T12:26:28.494881Z"
    }
   },
   "outputs": [
    {
     "data": {
      "text/plain": "                                        Title           Author  \\\n0         The Prisoner's Gold (The Hunters 3)   Chris Kuzneski   \n1          Guru Dutt: A Tragedy in Three Acts     Arun Khopkar   \n2                Leviathan (Penguin Classics)    Thomas Hobbes   \n3          A Pocket Full of Rye (Miss Marple)  Agatha Christie   \n4  LIFE 70 Years of Extraordinary Photography  Editors of Life   \n\n                   Edition             Reviews              Ratings  \\\n0  Paperback,– 10 Mar 2016  4.0 out of 5 stars   8 customer reviews   \n1   Paperback,– 7 Nov 2012  3.9 out of 5 stars  14 customer reviews   \n2  Paperback,– 25 Feb 1982  4.8 out of 5 stars   6 customer reviews   \n3   Paperback,– 5 Oct 2017  4.1 out of 5 stars  13 customer reviews   \n4  Hardcover,– 10 Oct 2006  5.0 out of 5 stars    1 customer review   \n\n                                            Synopsis  \\\n0  THE HUNTERS return in their third brilliant no...   \n1  A layered portrait of a troubled genius for wh...   \n2  \"During the time men live without a common Pow...   \n3  A handful of grain is found in the pocket of a...   \n4  For seven decades, \"Life\" has been thrilling t...   \n\n                          Genre                          BookCategory   Price  \n0    Action & Adventure (Books)                    Action & Adventure  220.00  \n1    Cinema & Broadcast (Books)  Biographies, Diaries & True Accounts  202.93  \n2       International Relations                                Humour  299.00  \n3  Contemporary Fiction (Books)             Crime, Thriller & Mystery  180.00  \n4         Photography Textbooks              Arts, Film & Photography  965.62  ",
      "text/html": "<div>\n<style scoped>\n    .dataframe tbody tr th:only-of-type {\n        vertical-align: middle;\n    }\n\n    .dataframe tbody tr th {\n        vertical-align: top;\n    }\n\n    .dataframe thead th {\n        text-align: right;\n    }\n</style>\n<table border=\"1\" class=\"dataframe\">\n  <thead>\n    <tr style=\"text-align: right;\">\n      <th></th>\n      <th>Title</th>\n      <th>Author</th>\n      <th>Edition</th>\n      <th>Reviews</th>\n      <th>Ratings</th>\n      <th>Synopsis</th>\n      <th>Genre</th>\n      <th>BookCategory</th>\n      <th>Price</th>\n    </tr>\n  </thead>\n  <tbody>\n    <tr>\n      <th>0</th>\n      <td>The Prisoner's Gold (The Hunters 3)</td>\n      <td>Chris Kuzneski</td>\n      <td>Paperback,– 10 Mar 2016</td>\n      <td>4.0 out of 5 stars</td>\n      <td>8 customer reviews</td>\n      <td>THE HUNTERS return in their third brilliant no...</td>\n      <td>Action &amp; Adventure (Books)</td>\n      <td>Action &amp; Adventure</td>\n      <td>220.00</td>\n    </tr>\n    <tr>\n      <th>1</th>\n      <td>Guru Dutt: A Tragedy in Three Acts</td>\n      <td>Arun Khopkar</td>\n      <td>Paperback,– 7 Nov 2012</td>\n      <td>3.9 out of 5 stars</td>\n      <td>14 customer reviews</td>\n      <td>A layered portrait of a troubled genius for wh...</td>\n      <td>Cinema &amp; Broadcast (Books)</td>\n      <td>Biographies, Diaries &amp; True Accounts</td>\n      <td>202.93</td>\n    </tr>\n    <tr>\n      <th>2</th>\n      <td>Leviathan (Penguin Classics)</td>\n      <td>Thomas Hobbes</td>\n      <td>Paperback,– 25 Feb 1982</td>\n      <td>4.8 out of 5 stars</td>\n      <td>6 customer reviews</td>\n      <td>\"During the time men live without a common Pow...</td>\n      <td>International Relations</td>\n      <td>Humour</td>\n      <td>299.00</td>\n    </tr>\n    <tr>\n      <th>3</th>\n      <td>A Pocket Full of Rye (Miss Marple)</td>\n      <td>Agatha Christie</td>\n      <td>Paperback,– 5 Oct 2017</td>\n      <td>4.1 out of 5 stars</td>\n      <td>13 customer reviews</td>\n      <td>A handful of grain is found in the pocket of a...</td>\n      <td>Contemporary Fiction (Books)</td>\n      <td>Crime, Thriller &amp; Mystery</td>\n      <td>180.00</td>\n    </tr>\n    <tr>\n      <th>4</th>\n      <td>LIFE 70 Years of Extraordinary Photography</td>\n      <td>Editors of Life</td>\n      <td>Hardcover,– 10 Oct 2006</td>\n      <td>5.0 out of 5 stars</td>\n      <td>1 customer review</td>\n      <td>For seven decades, \"Life\" has been thrilling t...</td>\n      <td>Photography Textbooks</td>\n      <td>Arts, Film &amp; Photography</td>\n      <td>965.62</td>\n    </tr>\n  </tbody>\n</table>\n</div>"
     },
     "execution_count": 8,
     "metadata": {},
     "output_type": "execute_result"
    }
   ],
   "source": [
    "train_df = pd.read_excel(os.path.join('price_of_books', 'Participants_Data', 'Data_Train.xlsx'), engine='openpyxl')\n",
    "train_df.head()"
   ]
  },
  {
   "cell_type": "markdown",
   "id": "625e5274",
   "metadata": {},
   "source": [
    "We do some basic preprocessing to convert `Reviews` and `Ratings` in the data table to numeric values, and we transform prices to a log-scale."
   ]
  },
  {
   "cell_type": "code",
   "execution_count": 9,
   "id": "e3977ed8",
   "metadata": {
    "ExecuteTime": {
     "end_time": "2023-12-27T12:26:43.953318Z",
     "start_time": "2023-12-27T12:26:43.942753Z"
    }
   },
   "outputs": [],
   "source": [
    "def preprocess(df):\n",
    "    df = df.copy(deep=True)\n",
    "    df.loc[:, 'Reviews'] = pd.to_numeric(df['Reviews'].apply(lambda ele: ele[:-len(' out of 5 stars')]))\n",
    "    df.loc[:, 'Ratings'] = pd.to_numeric(df['Ratings'].apply(lambda ele: ele.replace(',', '')[:-len(' customer reviews')]))\n",
    "    df.loc[:, 'Price'] = np.log(df['Price'] + 1)\n",
    "    return df"
   ]
  },
  {
   "cell_type": "code",
   "execution_count": 10,
   "id": "2ec39777",
   "metadata": {
    "ExecuteTime": {
     "end_time": "2023-12-27T12:26:44.181109Z",
     "start_time": "2023-12-27T12:26:44.153607Z"
    }
   },
   "outputs": [
    {
     "data": {
      "text/plain": "                                                  Title           Author  \\\n949                                       Furious Hours        Casey Cep   \n5504                           REST API Design Rulebook       Mark Masse   \n5856                   The Atlantropa Articles: A Novel    Cody Franklin   \n4137                      Hickory Dickory Dock (Poirot)  Agatha Christie   \n3205  The Stanley Kubrick Archives (Bibliotheca Univ...    Alison Castle   \n\n                             Edition Reviews Ratings  \\\n949           Paperback,– 1 Jun 2019     4.0     NaN   \n5504          Paperback,– 7 Nov 2011     5.0     NaN   \n5856  Paperback,– Import, 1 Nov 2018     4.5     2.0   \n4137          Paperback,– 5 Oct 2017     4.3    21.0   \n3205         Hardcover,– 21 Aug 2016     4.6     3.0   \n\n                                               Synopsis  \\\n949   ‘It’s been a long time since I picked up a boo...   \n5504  In todays market, where rival web services com...   \n5856  #1 Amazon Best Seller! Dystopian Alternate His...   \n4137  There’s more than petty theft going on in a Lo...   \n3205  In 1968, when Stanley Kubrick was asked to com...   \n\n                                            Genre  \\\n949                         True Accounts (Books)   \n5504  Computing, Internet & Digital Media (Books)   \n5856                   Action & Adventure (Books)   \n4137                   Action & Adventure (Books)   \n3205                   Cinema & Broadcast (Books)   \n\n                              BookCategory     Price  \n949   Biographies, Diaries & True Accounts  5.743003  \n5504   Computing, Internet & Digital Media  5.786897  \n5856                               Romance  6.893656  \n4137             Crime, Thriller & Mystery  5.192957  \n3205                                Humour  6.889591  ",
      "text/html": "<div>\n<style scoped>\n    .dataframe tbody tr th:only-of-type {\n        vertical-align: middle;\n    }\n\n    .dataframe tbody tr th {\n        vertical-align: top;\n    }\n\n    .dataframe thead th {\n        text-align: right;\n    }\n</style>\n<table border=\"1\" class=\"dataframe\">\n  <thead>\n    <tr style=\"text-align: right;\">\n      <th></th>\n      <th>Title</th>\n      <th>Author</th>\n      <th>Edition</th>\n      <th>Reviews</th>\n      <th>Ratings</th>\n      <th>Synopsis</th>\n      <th>Genre</th>\n      <th>BookCategory</th>\n      <th>Price</th>\n    </tr>\n  </thead>\n  <tbody>\n    <tr>\n      <th>949</th>\n      <td>Furious Hours</td>\n      <td>Casey Cep</td>\n      <td>Paperback,– 1 Jun 2019</td>\n      <td>4.0</td>\n      <td>NaN</td>\n      <td>‘It’s been a long time since I picked up a boo...</td>\n      <td>True Accounts (Books)</td>\n      <td>Biographies, Diaries &amp; True Accounts</td>\n      <td>5.743003</td>\n    </tr>\n    <tr>\n      <th>5504</th>\n      <td>REST API Design Rulebook</td>\n      <td>Mark Masse</td>\n      <td>Paperback,– 7 Nov 2011</td>\n      <td>5.0</td>\n      <td>NaN</td>\n      <td>In todays market, where rival web services com...</td>\n      <td>Computing, Internet &amp; Digital Media (Books)</td>\n      <td>Computing, Internet &amp; Digital Media</td>\n      <td>5.786897</td>\n    </tr>\n    <tr>\n      <th>5856</th>\n      <td>The Atlantropa Articles: A Novel</td>\n      <td>Cody Franklin</td>\n      <td>Paperback,– Import, 1 Nov 2018</td>\n      <td>4.5</td>\n      <td>2.0</td>\n      <td>#1 Amazon Best Seller! Dystopian Alternate His...</td>\n      <td>Action &amp; Adventure (Books)</td>\n      <td>Romance</td>\n      <td>6.893656</td>\n    </tr>\n    <tr>\n      <th>4137</th>\n      <td>Hickory Dickory Dock (Poirot)</td>\n      <td>Agatha Christie</td>\n      <td>Paperback,– 5 Oct 2017</td>\n      <td>4.3</td>\n      <td>21.0</td>\n      <td>There’s more than petty theft going on in a Lo...</td>\n      <td>Action &amp; Adventure (Books)</td>\n      <td>Crime, Thriller &amp; Mystery</td>\n      <td>5.192957</td>\n    </tr>\n    <tr>\n      <th>3205</th>\n      <td>The Stanley Kubrick Archives (Bibliotheca Univ...</td>\n      <td>Alison Castle</td>\n      <td>Hardcover,– 21 Aug 2016</td>\n      <td>4.6</td>\n      <td>3.0</td>\n      <td>In 1968, when Stanley Kubrick was asked to com...</td>\n      <td>Cinema &amp; Broadcast (Books)</td>\n      <td>Humour</td>\n      <td>6.889591</td>\n    </tr>\n  </tbody>\n</table>\n</div>"
     },
     "execution_count": 10,
     "metadata": {},
     "output_type": "execute_result"
    }
   ],
   "source": [
    "train_subsample_size = 1500  # subsample for faster demo, you can try setting to larger values\n",
    "test_subsample_size = 5\n",
    "train_df = preprocess(train_df)\n",
    "train_data = train_df.iloc[100:].sample(train_subsample_size, random_state=123)\n",
    "test_data = train_df.iloc[:100].sample(test_subsample_size, random_state=245)\n",
    "train_data.head()"
   ]
  },
  {
   "cell_type": "markdown",
   "id": "0aaf5168",
   "metadata": {},
   "source": [
    "## Training\n",
    "\n",
    "We can simply create a MultiModalPredictor and call `predictor.fit()` to train a model that operates on across all types of features. \n",
    "Internally, the neural network will be automatically generated based on the inferred data type of each feature column. \n",
    "To save time, we subsample the data and only train for three minutes."
   ]
  },
  {
   "cell_type": "code",
   "execution_count": 11,
   "id": "b6286fcd",
   "metadata": {
    "ExecuteTime": {
     "end_time": "2023-12-27T12:33:37.840781Z",
     "start_time": "2023-12-27T12:26:46.204317Z"
    }
   },
   "outputs": [
    {
     "name": "stderr",
     "output_type": "stream",
     "text": [
      "=================== System Info ===================\n",
      "AutoGluon Version:  1.0.0\n",
      "Python Version:     3.10.13\n",
      "Operating System:   Darwin\n",
      "Platform Machine:   x86_64\n",
      "Platform Version:   Darwin Kernel Version 23.2.0: Wed Nov 15 21:54:10 PST 2023; root:xnu-10002.61.3~2/RELEASE_X86_64\n",
      "CPU Count:          16\n",
      "Pytorch Version:    2.0.0.post104\n",
      "CUDA Version:       CUDA is not available\n",
      "Memory Avail:       38.80 GB / 64.00 GB (60.6%)\n",
      "Disk Space Avail:   469.13 GB / 931.55 GB (50.4%)\n",
      "===================================================\n",
      "AutoGluon infers your prediction problem is: 'regression' (because dtype of label-column == float and many unique label-values observed).\n",
      "\tLabel info (max, min, mean, stddev): (9.115699967822062, 3.6109179126442243, 6.02567, 0.7694)\n",
      "\tIf 'regression' is not the correct problem_type, please manually specify the problem_type parameter during predictor init (You may specify problem_type as one of: ['binary', 'multiclass', 'regression'])\n",
      "\n",
      "AutoMM starts to create your model. ✨✨✨\n",
      "\n",
      "To track the learning progress, you can open a terminal and launch Tensorboard:\n",
      "    ```shell\n",
      "    # Assume you have installed tensorboard\n",
      "    tensorboard --logdir /Users/elnath/004_deep_learning/AutoGloun-Official/v1_0_0/docs/tutorials/multimodal/multimodal_prediction/tmp/c232e5242ef54d3f9b8f014fe4b81fc3-automm_text_book_price_prediction\n",
      "    ```\n",
      "\n",
      "Global seed set to 0\n",
      "GPU Count: 0\n",
      "GPU Count to be Used: 0\n",
      "\n",
      "GPU available: False, used: False\n",
      "TPU available: False, using: 0 TPU cores\n",
      "IPU available: False, using: 0 IPUs\n",
      "HPU available: False, using: 0 HPUs\n",
      "\n",
      "  | Name              | Type                | Params\n",
      "----------------------------------------------------------\n",
      "0 | model             | MultimodalFusionMLP | 110 M \n",
      "1 | validation_metric | MeanSquaredError    | 0     \n",
      "2 | loss_func         | MSELoss             | 0     \n",
      "----------------------------------------------------------\n",
      "110 M     Trainable params\n",
      "0         Non-trainable params\n",
      "110 M     Total params\n",
      "442.599   Total estimated model params size (MB)\n"
     ]
    },
    {
     "name": "stdout",
     "output_type": "stream",
     "text": [
      "Epoch 0:   8%|▊         | 12/150 [02:58<34:07, 14.84s/it]                  "
     ]
    },
    {
     "name": "stderr",
     "output_type": "stream",
     "text": [
      "Time limit reached. Elapsed time is 0:03:11. Signaling Trainer to stop.\n"
     ]
    },
    {
     "name": "stdout",
     "output_type": "stream",
     "text": [
      "Epoch 0:   9%|▊         | 13/150 [03:11<33:38, 14.74s/it]\n",
      "Validation: 0it [00:00, ?it/s]\u001B[A\n",
      "Validation:   0%|          | 0/38 [00:00<?, ?it/s]\u001B[A\n",
      "Validation DataLoader 0:   0%|          | 0/38 [00:00<?, ?it/s]\u001B[A\n",
      "Validation DataLoader 0:   3%|▎         | 1/38 [00:03<02:01,  3.28s/it]\u001B[A\n",
      "Validation DataLoader 0:   5%|▌         | 2/38 [00:06<01:57,  3.28s/it]\u001B[A\n",
      "Validation DataLoader 0:   8%|▊         | 3/38 [00:10<02:00,  3.45s/it]\u001B[A\n",
      "Validation DataLoader 0:  11%|█         | 4/38 [00:13<01:57,  3.45s/it]\u001B[A\n",
      "Validation DataLoader 0:  13%|█▎        | 5/38 [00:16<01:49,  3.31s/it]\u001B[A\n",
      "Validation DataLoader 0:  16%|█▌        | 6/38 [00:21<01:56,  3.64s/it]\u001B[A\n",
      "Validation DataLoader 0:  18%|█▊        | 7/38 [00:26<01:57,  3.78s/it]\u001B[A\n",
      "Validation DataLoader 0:  21%|██        | 8/38 [00:32<02:00,  4.03s/it]\u001B[A\n",
      "Validation DataLoader 0:  24%|██▎       | 9/38 [00:37<02:00,  4.16s/it]\u001B[A\n",
      "Validation DataLoader 0:  26%|██▋       | 10/38 [00:41<01:55,  4.11s/it]\u001B[A\n",
      "Validation DataLoader 0:  29%|██▉       | 11/38 [00:46<01:54,  4.25s/it]\u001B[A\n",
      "Validation DataLoader 0:  32%|███▏      | 12/38 [00:49<01:47,  4.14s/it]\u001B[A\n",
      "Validation DataLoader 0:  34%|███▍      | 13/38 [00:52<01:40,  4.02s/it]\u001B[A\n",
      "Validation DataLoader 0:  37%|███▋      | 14/38 [00:55<01:34,  3.94s/it]\u001B[A\n",
      "Validation DataLoader 0:  39%|███▉      | 15/38 [01:00<01:32,  4.04s/it]\u001B[A\n",
      "Validation DataLoader 0:  42%|████▏     | 16/38 [01:06<01:31,  4.14s/it]\u001B[A\n",
      "Validation DataLoader 0:  45%|████▍     | 17/38 [01:10<01:27,  4.17s/it]\u001B[A\n",
      "Validation DataLoader 0:  47%|████▋     | 18/38 [01:15<01:24,  4.21s/it]\u001B[A\n",
      "Validation DataLoader 0:  50%|█████     | 19/38 [01:21<01:21,  4.29s/it]\u001B[A\n",
      "Validation DataLoader 0:  53%|█████▎    | 20/38 [01:24<01:16,  4.22s/it]\u001B[A\n",
      "Validation DataLoader 0:  55%|█████▌    | 21/38 [01:29<01:12,  4.27s/it]\u001B[A\n",
      "Validation DataLoader 0:  58%|█████▊    | 22/38 [01:35<01:09,  4.33s/it]\u001B[A\n",
      "Validation DataLoader 0:  61%|██████    | 23/38 [01:41<01:06,  4.40s/it]\u001B[A\n",
      "Validation DataLoader 0:  63%|██████▎   | 24/38 [01:44<01:01,  4.37s/it]\u001B[A\n",
      "Validation DataLoader 0:  66%|██████▌   | 25/38 [01:48<00:56,  4.35s/it]\u001B[A\n",
      "Validation DataLoader 0:  68%|██████▊   | 26/38 [01:54<00:52,  4.41s/it]\u001B[A\n",
      "Validation DataLoader 0:  71%|███████   | 27/38 [02:00<00:49,  4.47s/it]\u001B[A\n",
      "Validation DataLoader 0:  74%|███████▎  | 28/38 [02:04<00:44,  4.46s/it]\u001B[A\n",
      "Validation DataLoader 0:  76%|███████▋  | 29/38 [02:08<00:39,  4.44s/it]\u001B[A\n",
      "Validation DataLoader 0:  79%|███████▉  | 30/38 [02:13<00:35,  4.46s/it]\u001B[A\n",
      "Validation DataLoader 0:  82%|████████▏ | 31/38 [02:19<00:31,  4.50s/it]\u001B[A\n",
      "Validation DataLoader 0:  84%|████████▍ | 32/38 [02:23<00:26,  4.47s/it]\u001B[A\n",
      "Validation DataLoader 0:  87%|████████▋ | 33/38 [02:28<00:22,  4.49s/it]\u001B[A\n",
      "Validation DataLoader 0:  89%|████████▉ | 34/38 [02:33<00:18,  4.52s/it]\u001B[A\n",
      "Validation DataLoader 0:  92%|█████████▏| 35/38 [02:37<00:13,  4.49s/it]\u001B[A\n",
      "Validation DataLoader 0:  95%|█████████▍| 36/38 [02:42<00:09,  4.51s/it]\u001B[A\n",
      "Validation DataLoader 0:  97%|█████████▋| 37/38 [02:47<00:04,  4.54s/it]\u001B[A\n",
      "Validation DataLoader 0: 100%|██████████| 38/38 [02:50<00:00,  4.48s/it]\u001B[A\n",
      "Epoch 0:   9%|▊         | 13/150 [06:01<1:03:33, 27.84s/it]             \u001B[A\n"
     ]
    },
    {
     "name": "stderr",
     "output_type": "stream",
     "text": [
      "AutoMM has created your model. 🎉🎉🎉\n",
      "\n",
      "To load the model, use the code below:\n",
      "    ```python\n",
      "    from autogluon.multimodal import MultiModalPredictor\n",
      "    predictor = MultiModalPredictor.load(\"/Users/elnath/004_deep_learning/AutoGloun-Official/v1_0_0/docs/tutorials/multimodal/multimodal_prediction/tmp/c232e5242ef54d3f9b8f014fe4b81fc3-automm_text_book_price_prediction\")\n",
      "    ```\n",
      "\n",
      "If you are not satisfied with the model, try to increase the training time, \n",
      "adjust the hyperparameters (https://auto.gluon.ai/stable/tutorials/multimodal/advanced_topics/customization.html),\n",
      "or post issues on GitHub (https://github.com/autogluon/autogluon/issues).\n",
      "\n",
      "\n"
     ]
    },
    {
     "data": {
      "text/plain": "<autogluon.multimodal.predictor.MultiModalPredictor at 0x1a2bb8550>"
     },
     "execution_count": 11,
     "metadata": {},
     "output_type": "execute_result"
    }
   ],
   "source": [
    "from autogluon.multimodal import MultiModalPredictor\n",
    "import uuid\n",
    "\n",
    "time_limit = 3 * 60  # set to larger value in your applications\n",
    "model_path = f\"./tmp/{uuid.uuid4().hex}-automm_text_book_price_prediction\"\n",
    "predictor = MultiModalPredictor(label='Price', path=model_path)\n",
    "predictor.fit(train_data, time_limit=time_limit)"
   ]
  },
  {
   "cell_type": "markdown",
   "id": "19752cb3",
   "metadata": {},
   "source": [
    "## Prediction\n",
    "\n",
    "We can easily obtain predictions and extract data embeddings using the MultiModalPredictor."
   ]
  },
  {
   "cell_type": "code",
   "execution_count": 12,
   "id": "217e5c1d",
   "metadata": {
    "ExecuteTime": {
     "end_time": "2023-12-28T01:13:57.244482Z",
     "start_time": "2023-12-28T01:13:36.144559Z"
    }
   },
   "outputs": [
    {
     "name": "stdout",
     "output_type": "stream",
     "text": [
      "Predicting DataLoader 0: 100%|██████████| 1/1 [00:00<00:00,  1.15it/s]\n",
      "Predictions:\n",
      "------------\n",
      "1     391.533691\n",
      "31    553.008545\n",
      "19    443.000916\n",
      "45    223.713638\n",
      "82    156.661316\n",
      "Name: Price, dtype: float32\n",
      "\n",
      "True Value:\n",
      "------------\n",
      "1     202.93\n",
      "31    799.00\n",
      "19    352.00\n",
      "45    395.10\n",
      "82    409.00\n",
      "Name: Price, dtype: float64\n"
     ]
    }
   ],
   "source": [
    "predictions = predictor.predict(test_data)\n",
    "print('Predictions:')\n",
    "print('------------')\n",
    "print(np.exp(predictions) - 1)\n",
    "print()\n",
    "print('True Value:')\n",
    "print('------------')\n",
    "print(np.exp(test_data['Price']) - 1)\n"
   ]
  },
  {
   "cell_type": "code",
   "execution_count": 13,
   "id": "37ad1e64",
   "metadata": {
    "ExecuteTime": {
     "end_time": "2023-12-28T01:19:16.632465Z",
     "start_time": "2023-12-28T01:18:57.337669Z"
    }
   },
   "outputs": [
    {
     "name": "stdout",
     "output_type": "stream",
     "text": [
      "Predicting DataLoader 0: 100%|██████████| 1/1 [00:00<00:00,  1.17it/s]\n",
      "{'rmse': 0.6084602397897769}\n"
     ]
    }
   ],
   "source": [
    "performance = predictor.evaluate(test_data)\n",
    "print(performance)"
   ]
  },
  {
   "cell_type": "code",
   "execution_count": 14,
   "id": "72c67048",
   "metadata": {
    "ExecuteTime": {
     "end_time": "2023-12-28T01:19:35.954473Z",
     "start_time": "2023-12-28T01:19:16.638488Z"
    }
   },
   "outputs": [
    {
     "name": "stdout",
     "output_type": "stream",
     "text": [
      "Predicting DataLoader 0: 100%|██████████| 1/1 [00:00<00:00,  1.20it/s]\n"
     ]
    },
    {
     "data": {
      "text/plain": "(5, 128)"
     },
     "execution_count": 14,
     "metadata": {},
     "output_type": "execute_result"
    }
   ],
   "source": [
    "embeddings = predictor.extract_embedding(test_data)\n",
    "embeddings.shape"
   ]
  },
  {
   "cell_type": "code",
   "execution_count": 15,
   "outputs": [
    {
     "data": {
      "text/plain": "array([[ 1.97017276e+00,  4.42579478e-01, -1.22913346e-02,\n        -1.32129593e-02,  6.30735159e-02,  2.38969803e-01,\n        -1.36235947e-04,  7.87246108e-01,  1.23061907e+00,\n        -1.74127314e-02, -3.10689735e-04,  9.34759796e-01,\n        -2.25785468e-02,  8.15839708e-01,  5.31397998e-01,\n        -2.09610164e-03, -1.36573799e-04, -1.45463608e-02,\n         7.02485085e-01,  2.59249115e+00,  7.82938451e-02,\n        -1.85439289e-02,  1.13738513e+00,  5.96459031e-01,\n        -3.61794163e-03, -1.17434394e-02, -1.25883669e-02,\n        -1.44523932e-02,  1.15524507e+00,  1.47011817e+00,\n         1.26489735e+00,  2.72900283e-01,  6.36970580e-01,\n         1.48887372e+00, -1.73355415e-02,  6.12201393e-01,\n         8.57340991e-01,  4.31806087e-01,  2.04117465e+00,\n        -2.11990438e-02, -1.57048143e-02,  9.30061996e-01,\n         9.02345717e-01,  9.50942159e-01,  4.36750412e-01,\n        -6.08283794e-03,  7.89462328e-01,  2.48820925e+00,\n         2.05588770e+00, -2.68533966e-03, -2.07936615e-02,\n         2.97539735e+00, -7.77741289e-03,  1.45162368e+00,\n         2.00453281e+00, -2.47699451e-02, -1.73884667e-02,\n        -2.14539468e-02,  9.40977395e-01, -7.67323840e-03,\n         1.32677698e+00, -2.57238303e-03,  1.54586804e+00,\n        -3.04395310e-03,  1.99082243e+00, -6.88440679e-03,\n         1.11620593e+00, -8.09298421e-04,  1.03576326e+00,\n        -5.56759769e-03, -1.55391740e-02,  7.54462183e-01,\n         1.41119528e+00, -2.06161812e-02,  6.36404812e-01,\n         7.98020363e-02, -2.02005431e-02, -2.23513204e-03,\n         1.04755282e+00,  7.20394969e-01,  8.58761430e-01,\n         2.40103436e+00, -2.14403984e-03, -4.69996454e-03,\n        -1.05997035e-02,  2.27357626e+00,  1.65089703e+00,\n        -4.35829684e-02, -1.10391201e-02,  5.74296951e-01,\n        -1.58241298e-02,  7.60822773e-01, -1.21100470e-02,\n         6.29732251e-01,  3.24810147e-01, -1.77401118e-03,\n        -1.22398455e-02,  2.33065784e-01, -9.42734536e-03,\n         2.56791592e+00,  9.01818275e-03, -1.50260422e-02,\n         5.08652925e-02,  1.05087876e+00,  9.60206985e-01,\n        -2.05932800e-02, -1.17661254e-02, -2.43489863e-03,\n        -1.28543854e-03,  2.36702466e+00, -1.93843208e-02,\n        -4.48174030e-03, -3.72755411e-03, -6.57200813e-03,\n         2.49289131e+00,  6.67545736e-01, -1.33475754e-02,\n        -5.11879008e-03,  2.08131313e+00, -1.53156521e-04,\n        -2.07765866e-02,  8.79651159e-02, -2.49170847e-02,\n         5.62367022e-01,  1.66211295e+00,  4.62960094e-01,\n        -1.26008969e-02, -6.97121723e-03],\n       [ 1.74213052e+00,  5.88007450e-01, -1.19951712e-02,\n        -1.61211845e-02, -2.21148133e-04,  6.07285559e-01,\n        -4.64630779e-03,  8.59880149e-01,  1.00075221e+00,\n        -1.47195719e-02, -4.01131529e-03,  1.13939571e+00,\n        -1.75149571e-02,  7.85525680e-01,  4.90560234e-01,\n        -3.46920057e-03, -4.37799608e-03, -1.47404214e-02,\n         7.11214304e-01,  2.75625467e+00,  1.02025419e-01,\n        -2.01306473e-02,  1.70326817e+00,  3.32511485e-01,\n        -2.69545661e-03, -8.57018679e-03, -1.13363313e-02,\n        -1.11005576e-02,  1.07193923e+00,  1.43019867e+00,\n         1.66095769e+00,  2.05290139e-01,  6.27462268e-01,\n         1.36749029e+00, -1.82858352e-02,  7.28213191e-01,\n         1.06697452e+00,  5.98386347e-01,  2.06255722e+00,\n        -1.75063387e-02, -1.49328513e-02,  1.06779599e+00,\n         9.83339906e-01,  1.06740916e+00,  5.86803555e-01,\n        -7.30456272e-03,  2.88765192e-01,  2.14116955e+00,\n         2.41450620e+00, -1.90023286e-03, -1.81427002e-02,\n         3.40308046e+00, -1.16408989e-02,  1.38930249e+00,\n         1.87572551e+00, -2.59501282e-02, -1.77435987e-02,\n        -2.06946991e-02,  1.09426045e+00, -7.83777237e-03,\n         9.54250276e-01, -7.18335900e-03,  1.86501288e+00,\n        -2.42142333e-03,  2.10764647e+00, -1.11153144e-02,\n         9.59489465e-01, -2.75041186e-03,  9.52613294e-01,\n        -3.52258864e-03, -1.95638109e-02,  9.88344014e-01,\n         1.57716715e+00, -2.38742959e-02,  6.77557528e-01,\n         4.17847127e-01, -2.14707218e-02, -3.90951429e-03,\n         1.05480289e+00,  4.85218465e-01,  2.09646329e-01,\n         2.59842682e+00, -3.16140940e-03, -2.54863873e-03,\n        -5.88139752e-03,  1.87007844e+00,  1.67863917e+00,\n        -4.21643741e-02, -3.89561639e-03,  7.61858225e-02,\n        -1.30116446e-02,  7.88625121e-01, -1.14283441e-02,\n         5.20333827e-01,  1.94294795e-01, -6.67808764e-03,\n        -1.05685499e-02,  2.81263232e-01, -1.55623471e-02,\n         2.17105865e+00, -3.50606884e-03, -1.21153332e-02,\n        -2.89462088e-03,  8.32955241e-01,  1.08850586e+00,\n        -1.35808950e-02, -1.40033122e-02,  2.80749917e-01,\n        -6.96481531e-03,  2.27147579e+00, -1.92038268e-02,\n        -5.95738459e-03, -4.31231502e-03, -7.84222130e-03,\n         2.62583542e+00,  1.82326943e-01, -1.28046917e-02,\n        -1.01677431e-02,  2.25978589e+00, -2.85705930e-04,\n        -1.67202968e-02,  1.00192934e-01, -2.17046589e-02,\n         1.05536473e+00,  1.88842630e+00,  3.21949720e-02,\n        -1.16385091e-02, -1.15145394e-03],\n       [ 1.73659325e+00,  1.07895768e+00, -1.43532241e-02,\n        -1.80315562e-02, -6.48286706e-03,  6.65615499e-01,\n        -5.47496183e-03, -2.00805720e-03,  1.20139420e+00,\n        -9.35611723e-04, -5.96352667e-03,  1.35780811e+00,\n        -1.56918168e-02,  7.18504071e-01,  1.87014341e-01,\n         6.00838423e-01,  1.56863749e-01, -1.55773144e-02,\n         5.09923279e-01,  1.86995125e+00, -4.36099013e-03,\n        -2.39614695e-02,  1.63057435e+00,  3.23329747e-01,\n        -4.12542094e-03, -6.04301319e-03, -1.48748253e-02,\n        -1.30725866e-02,  3.76537263e-01,  1.69917798e+00,\n         1.37461340e+00,  2.51980066e-01,  3.84398758e-01,\n         9.23377931e-01, -1.64017454e-02, -2.62414629e-04,\n         9.52684402e-01,  1.78229153e-01,  2.05157089e+00,\n        -1.25576733e-02, -1.34252952e-02,  1.30168509e+00,\n         4.22857463e-01,  9.56910074e-01, -3.33484053e-03,\n        -5.41523704e-03,  2.73290277e-01,  1.61421669e+00,\n         2.40820003e+00, -4.26960690e-03, -1.52429389e-02,\n         3.60291576e+00, -1.23786209e-02,  1.45262718e+00,\n         2.32639980e+00, -2.37956345e-02, -2.88582407e-02,\n        -2.45850552e-02,  1.71373487e-01, -6.80631865e-03,\n         1.48573112e+00, -3.86983529e-03,  9.20137644e-01,\n        -4.92864754e-03,  2.26080251e+00, -5.61146112e-03,\n         9.06339407e-01, -1.08375140e-02,  5.69861114e-01,\n        -1.19975312e-02, -1.47963222e-02,  1.34131706e+00,\n         2.00254107e+00, -2.20371727e-02,  8.88448477e-01,\n         6.73880219e-01, -1.94235127e-02, -8.37991759e-03,\n         4.84929383e-01,  6.35058105e-01, -5.17847901e-03,\n         2.50918055e+00, -6.24895561e-03, -6.73888437e-03,\n        -3.27340723e-03,  2.16910315e+00,  2.24487948e+00,\n        -4.78778817e-02, -1.80598139e-03, -6.05395995e-04,\n        -7.69963441e-03,  2.88721561e-01,  2.19348073e-02,\n         2.50299305e-01, -4.23187902e-03, -4.72777197e-03,\n        -6.50358247e-03,  7.02463746e-01, -1.95951145e-02,\n         1.82340562e+00, -4.08812938e-03, -1.02261016e-02,\n        -1.80213805e-03,  8.94176483e-01,  1.17542255e+00,\n        -2.03446113e-02, -7.44829932e-03,  7.77233958e-01,\n        -1.18323267e-02,  1.64426470e+00, -1.42251439e-02,\n        -1.70347951e-02, -3.58940382e-03, -5.18373121e-03,\n         2.96573997e+00,  1.08011520e+00, -8.58244207e-03,\n        -6.58860896e-03,  2.00690103e+00, -1.57170289e-03,\n        -1.33661432e-02,  1.49930418e-01, -2.44141929e-02,\n         8.77891541e-01,  2.06690407e+00,  1.07300133e-02,\n        -1.16100069e-02, -4.28142986e-04],\n       [ 1.84021068e+00,  1.15502191e+00, -7.74332369e-03,\n        -1.81285234e-03, -1.23850796e-02,  1.09682024e-01,\n        -1.22762304e-02, -2.81947665e-03,  1.59288538e+00,\n         7.11049438e-02, -1.28670363e-03,  2.36015797e+00,\n        -1.19966837e-02,  4.59599197e-01, -6.85043633e-04,\n        -4.29871120e-03,  1.16690680e-01, -6.87107909e-03,\n        -1.86742155e-03,  2.30023599e+00, -7.41683459e-03,\n        -3.31252553e-02,  1.18019712e+00,  5.00895083e-01,\n        -2.69800308e-03, -1.70199722e-02, -1.60537492e-02,\n        -1.19468169e-02, -2.12740572e-03,  1.49666774e+00,\n         4.22769487e-01, -9.96374525e-03, -4.22416581e-03,\n         8.33870053e-01, -6.82249293e-03,  3.24282825e-01,\n        -1.04944094e-03,  1.64173245e-01,  2.68485260e+00,\n        -6.49747718e-03, -1.76525153e-02,  9.46729183e-01,\n         9.35358107e-01,  2.03992456e-01, -4.79987031e-03,\n        -1.06539065e-02,  7.01677918e-01,  1.27529144e+00,\n         2.73667789e+00, -4.98716254e-03, -1.37744416e-02,\n         2.66638589e+00, -1.35341976e-02,  1.85612106e+00,\n         2.62907910e+00, -3.42866741e-02, -2.88634486e-02,\n        -2.14274209e-02,  6.42803609e-01, -4.42356383e-03,\n         1.97809124e+00,  2.46885777e-01,  1.05530488e+00,\n         1.59813523e-01,  2.79128885e+00, -6.89119333e-03,\n         8.82215202e-01, -1.50052039e-03,  7.62408197e-01,\n        -6.37575798e-03, -9.32720676e-03,  1.72467470e+00,\n         2.43571401e+00, -1.50470873e-02,  7.27676511e-01,\n         9.86413717e-01, -5.25035989e-03, -1.38418926e-02,\n         1.17822826e-01,  8.84929359e-01, -7.57155707e-03,\n         2.80359387e+00, -4.52660117e-03, -1.79788462e-04,\n         7.76456833e-01,  5.30565083e-01,  2.11199999e+00,\n        -4.54570837e-02, -3.09109804e-03, -7.22210971e-04,\n        -9.82835144e-03, -2.06149812e-03,  5.10289907e-01,\n         3.36382300e-01, -4.28123923e-04, -4.81132744e-03,\n        -6.67963270e-03,  3.00928891e-01, -1.99332833e-02,\n         9.69006956e-01, -7.90516473e-03, -1.89146083e-02,\n        -6.72709337e-03,  1.38691044e+00,  1.78351998e+00,\n        -2.30737925e-02, -6.30172482e-03,  7.36827016e-01,\n        -4.43406077e-03,  1.65887809e+00, -1.66452229e-02,\n        -9.74307209e-03, -6.75174873e-04, -1.80774322e-03,\n         2.81428623e+00,  5.39464235e-01, -6.55809510e-03,\n        -3.72576015e-03,  1.54234278e+00,  5.69002450e-01,\n        -1.18762748e-02, -1.31224992e-03, -3.22639234e-02,\n         5.91662169e-01,  1.14460731e+00, -4.07852652e-03,\n        -1.31830592e-02, -4.74556629e-03],\n       [ 2.17879391e+00,  1.56317747e+00, -3.18336417e-03,\n        -2.38129194e-03, -1.29060047e-02, -7.34876096e-03,\n        -1.17453169e-02,  6.05527312e-02,  1.72924852e+00,\n        -8.30050278e-03,  1.84770182e-01,  2.45772505e+00,\n        -1.62705686e-02,  1.01780415e+00, -1.92297937e-03,\n        -2.75799376e-03,  1.18772089e-02, -7.82027282e-03,\n         8.54215100e-02,  1.83707905e+00, -6.32217573e-03,\n        -2.72849407e-02,  9.98366237e-01, -1.76173681e-03,\n        -3.21161747e-03, -1.16828214e-02, -1.29394885e-02,\n        -1.56661980e-02, -2.05194112e-03,  1.95992422e+00,\n         7.16356516e-01, -4.66225948e-03,  1.18081450e-01,\n         8.51929307e-01, -9.68375767e-04,  1.05910587e+00,\n         2.16080368e-01,  4.83332098e-01,  2.25116062e+00,\n        -2.10789847e-03, -1.44042177e-02,  1.35746360e+00,\n         1.20361459e+00, -2.53311999e-04, -7.76768196e-03,\n        -1.46236131e-02,  3.80511642e-01,  1.08637977e+00,\n         2.61541700e+00, -7.85633083e-03, -1.37156527e-02,\n         1.70124853e+00, -2.05920115e-02,  1.26084495e+00,\n         2.35643768e+00, -3.06688882e-02, -3.20449024e-02,\n        -2.43054759e-02,  1.09179509e+00, -6.01715595e-03,\n         1.74342310e+00,  1.79861915e+00,  4.32613075e-01,\n         7.00917125e-01,  2.85117984e+00, -1.06707513e-02,\n         1.40301847e+00, -4.07725293e-03,  5.33534229e-01,\n        -6.08057110e-03, -1.34758027e-02,  7.39223957e-01,\n         2.00064111e+00, -2.11007781e-02,  4.20747578e-01,\n         3.70701194e-01, -7.87064433e-03, -1.13154789e-02,\n        -9.83958831e-04,  8.74053240e-01, -4.59098211e-03,\n         2.58839321e+00, -2.57002027e-03, -3.46835796e-03,\n         4.82116520e-01,  3.86866271e-01,  2.53240752e+00,\n        -4.63288501e-02, -3.96434072e-04,  2.24599242e-01,\n        -8.28251522e-03,  1.85186148e-01, -7.53986323e-03,\n         2.51140893e-01, -6.57993136e-03, -6.43137330e-03,\n        -4.04171227e-03,  8.98292363e-01, -1.44948578e-02,\n         1.36196268e+00, -3.55498842e-03, -1.82837322e-02,\n        -1.28060123e-02,  2.08950853e+00,  1.95151544e+00,\n        -1.73050202e-02, -9.37766675e-03,  1.09569860e+00,\n        -6.16928842e-03,  1.82411194e+00, -1.00441808e-02,\n        -1.18616940e-02, -7.59709394e-03,  3.76816690e-01,\n         2.54018855e+00,  4.95941579e-01, -3.10863485e-03,\n        -7.11629866e-03,  1.76591682e+00, -1.27424777e-03,\n        -1.29192723e-02, -9.42525920e-03, -3.71077284e-02,\n         5.03785193e-01,  1.41257739e+00, -4.36919334e-04,\n        -1.36810420e-02, -6.00719545e-03]], dtype=float32)"
     },
     "execution_count": 15,
     "metadata": {},
     "output_type": "execute_result"
    }
   ],
   "source": [
    "embeddings"
   ],
   "metadata": {
    "collapsed": false,
    "ExecuteTime": {
     "end_time": "2023-12-28T01:19:48.944308Z",
     "start_time": "2023-12-28T01:19:48.938296Z"
    }
   },
   "id": "65cc47f01aa17a3e"
  },
  {
   "cell_type": "code",
   "execution_count": 17,
   "outputs": [
    {
     "data": {
      "text/plain": "{'val_rmse': 1.3714981079101562, 'training_time': 403.9984030723572}"
     },
     "execution_count": 17,
     "metadata": {},
     "output_type": "execute_result"
    }
   ],
   "source": [
    "predictor.fit_summary(verbosity=4, show_plot=True)"
   ],
   "metadata": {
    "collapsed": false,
    "ExecuteTime": {
     "end_time": "2023-12-28T01:21:44.407961Z",
     "start_time": "2023-12-28T01:21:44.392238Z"
    }
   },
   "id": "97ac634d5ca9e321"
  },
  {
   "cell_type": "markdown",
   "id": "ae530b1b",
   "metadata": {},
   "source": [
    "\n",
    "## Other Examples\n",
    "\n",
    "You may go to [AutoMM Examples](https://github.com/autogluon/autogluon/tree/master/examples/automm) to explore other examples about AutoMM.\n",
    "\n",
    "## Customization\n",
    "To learn how to customize AutoMM, please refer to [Customize AutoMM](../advanced_topics/customization.ipynb)."
   ]
  }
 ],
 "metadata": {
  "language_info": {
   "name": "python",
   "pygments_lexer": "ipython"
  },
  "kernelspec": {
   "name": "venv_ag_310",
   "language": "python",
   "display_name": "venv_ag_310"
  }
 },
 "nbformat": 4,
 "nbformat_minor": 5
}
