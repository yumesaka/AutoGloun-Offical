{
 "cells": [
  {
   "cell_type": "markdown",
   "id": "db27159a",
   "metadata": {},
   "source": [
    "# AutoMM for Image + Text + Tabular - Quick Start\n",
    "\n",
    "[![Open In Colab](https://colab.research.google.com/assets/colab-badge.svg)](https://colab.research.google.com/github/autogluon/autogluon/blob/master/docs/tutorials/multimodal/multimodal_prediction/beginner_multimodal.ipynb)\n",
    "[![Open In SageMaker Studio Lab](https://studiolab.sagemaker.aws/studiolab.svg)](https://studiolab.sagemaker.aws/import/github/autogluon/autogluon/blob/master/docs/tutorials/multimodal/multimodal_prediction/beginner_multimodal.ipynb)\n",
    "\n",
    "\n",
    "\n",
    "AutoMM is a deep learning \"model zoo\" of model zoos. It can automatically build deep learning models that are suitable for multimodal datasets. You will only need to convert the data into the multimodal dataframe format\n",
    "and AutoMM can predict the values of one column conditioned on the features from the other columns including images, text, and tabular data."
   ]
  },
  {
   "cell_type": "code",
   "execution_count": null,
   "id": "aa00faab-252f-44c9-b8f7-57131aa8251c",
   "metadata": {
    "tags": [
     "remove-cell"
    ]
   },
   "outputs": [],
   "source": [
    "# !pip install autogluon.multimodal"
   ]
  },
  {
   "cell_type": "code",
   "execution_count": 1,
   "id": "48f913fd",
   "metadata": {
    "ExecuteTime": {
     "end_time": "2023-12-28T05:05:30.928995Z",
     "start_time": "2023-12-28T05:05:30.199462Z"
    }
   },
   "outputs": [],
   "source": [
    "import os\n",
    "import numpy as np\n",
    "import warnings\n",
    "warnings.filterwarnings('ignore')\n",
    "np.random.seed(123)"
   ]
  },
  {
   "cell_type": "markdown",
   "id": "7f47025d",
   "metadata": {},
   "source": [
    "## Dataset\n",
    "\n",
    "For demonstration, we use a simplified and subsampled version of [PetFinder dataset](https://www.kaggle.com/c/petfinder-adoption-prediction). The task is to predict the animals' adoption rates based on their adoption profile information. In this simplified version, the adoption speed is grouped into two categories: 0 (slow) and 1 (fast).\n",
    "\n",
    "To get started, let's download and prepare the dataset."
   ]
  },
  {
   "cell_type": "code",
   "execution_count": 2,
   "id": "ab751256",
   "metadata": {
    "ExecuteTime": {
     "end_time": "2023-12-28T05:06:06.626835Z",
     "start_time": "2023-12-28T05:05:32.459966Z"
    }
   },
   "outputs": [
    {
     "name": "stdout",
     "output_type": "stream",
     "text": [
      "Downloading ./ag_automm_tutorial/file.zip from https://automl-mm-bench.s3.amazonaws.com/petfinder_for_tutorial.zip...\n"
     ]
    },
    {
     "name": "stderr",
     "output_type": "stream",
     "text": [
      "100%|██████████| 18.8M/18.8M [00:20<00:00, 904kiB/s] \n"
     ]
    }
   ],
   "source": [
    "download_dir = './ag_automm_tutorial'\n",
    "zip_file = 'https://automl-mm-bench.s3.amazonaws.com/petfinder_for_tutorial.zip'\n",
    "from autogluon.core.utils.loaders import load_zip\n",
    "load_zip.unzip(zip_file, unzip_dir=download_dir)"
   ]
  },
  {
   "cell_type": "markdown",
   "id": "5a3b23a2",
   "metadata": {},
   "source": [
    "Next, we will load the CSV files."
   ]
  },
  {
   "cell_type": "code",
   "execution_count": 3,
   "id": "d0ec7147",
   "metadata": {
    "ExecuteTime": {
     "end_time": "2023-12-28T05:06:06.767750Z",
     "start_time": "2023-12-28T05:06:06.644784Z"
    }
   },
   "outputs": [],
   "source": [
    "import pandas as pd\n",
    "dataset_path = download_dir + '/petfinder_for_tutorial'\n",
    "train_data = pd.read_csv(f'{dataset_path}/train.csv', index_col=0)\n",
    "test_data = pd.read_csv(f'{dataset_path}/test.csv', index_col=0)\n",
    "label_col = 'AdoptionSpeed'"
   ]
  },
  {
   "cell_type": "markdown",
   "id": "d20978f6",
   "metadata": {},
   "source": [
    "We need to expand the image paths to load them in training."
   ]
  },
  {
   "cell_type": "code",
   "execution_count": 4,
   "id": "c84d6811",
   "metadata": {
    "ExecuteTime": {
     "end_time": "2023-12-28T05:06:06.967937Z",
     "start_time": "2023-12-28T05:06:06.759303Z"
    }
   },
   "outputs": [
    {
     "data": {
      "text/plain": "'/Users/elnath/004_deep_learning/AutoGloun-Official/v1_0_0/docs/tutorials/multimodal/multimodal_prediction/ag_automm_tutorial/petfinder_for_tutorial/images/7d7a39d71-1.jpg'"
     },
     "execution_count": 4,
     "metadata": {},
     "output_type": "execute_result"
    }
   ],
   "source": [
    "image_col = 'Images'\n",
    "train_data[image_col] = train_data[image_col].apply(lambda ele: ele.split(';')[0]) # Use the first image for a quick tutorial\n",
    "test_data[image_col] = test_data[image_col].apply(lambda ele: ele.split(';')[0])\n",
    "\n",
    "\n",
    "def path_expander(path, base_folder):\n",
    "    path_l = path.split(';')\n",
    "    return ';'.join([os.path.abspath(os.path.join(base_folder, path)) for path in path_l])\n",
    "\n",
    "train_data[image_col] = train_data[image_col].apply(lambda ele: path_expander(ele, base_folder=dataset_path))\n",
    "test_data[image_col] = test_data[image_col].apply(lambda ele: path_expander(ele, base_folder=dataset_path))\n",
    "\n",
    "train_data[image_col].iloc[0]"
   ]
  },
  {
   "cell_type": "markdown",
   "id": "81b87ba9",
   "metadata": {},
   "source": [
    "Each animal's adoption profile includes pictures, a text description, and various tabular features such as age, breed, name, color, and more. Let's look at an example row of data and display the text description and a picture."
   ]
  },
  {
   "cell_type": "code",
   "execution_count": 5,
   "id": "9a367dc3",
   "metadata": {
    "ExecuteTime": {
     "end_time": "2023-12-28T05:06:06.973618Z",
     "start_time": "2023-12-28T05:06:06.926958Z"
    }
   },
   "outputs": [
    {
     "data": {
      "text/plain": "Type                                                             2\nName                                                 Yumi Hamasaki\nAge                                                              4\nBreed1                                                         292\nBreed2                                                         265\nGender                                                           2\nColor1                                                           1\nColor2                                                           5\nColor3                                                           7\nMaturitySize                                                     2\nFurLength                                                        2\nVaccinated                                                       1\nDewormed                                                         3\nSterilized                                                       2\nHealth                                                           1\nQuantity                                                         1\nFee                                                              0\nState                                                        41326\nRescuerID                         bcc4e1b9557a8b3aaf545ea8e6e86991\nVideoAmt                                                         0\nDescription      I rescued Yumi Hamasaki at a food stall far aw...\nPetID                                                    7d7a39d71\nPhotoAmt                                                       3.0\nAdoptionSpeed                                                    0\nImages           /Users/elnath/004_deep_learning/AutoGloun-Offi...\nName: 0, dtype: object"
     },
     "execution_count": 5,
     "metadata": {},
     "output_type": "execute_result"
    }
   ],
   "source": [
    "example_row = train_data.iloc[0]\n",
    "\n",
    "example_row"
   ]
  },
  {
   "cell_type": "code",
   "execution_count": 6,
   "id": "ab5e5ae7",
   "metadata": {
    "ExecuteTime": {
     "end_time": "2023-12-28T05:06:07.040864Z",
     "start_time": "2023-12-28T05:06:06.959005Z"
    }
   },
   "outputs": [
    {
     "data": {
      "text/plain": "\"I rescued Yumi Hamasaki at a food stall far away in Kelantan. At that time i was on my way back to KL, she was suffer from stomach problem and looking very2 sick.. I send her to vet & get the treatment + vaccinated and right now she's very2 healthy.. About yumi : - love to sleep with ppl - she will keep on meowing if she's hugry - very2 active, always seeking for people to accompany her playing - well trained (poo+pee in her own potty) - easy to bathing - I only feed her with these brands : IAMS, Kittenbites, Pro-formance Reason why i need someone to adopt Yumi: I just married and need to move to a new house where no pets are allowed :( As Yumi is very2 special to me, i will only give her to ppl that i think could take care of her just like i did (especially on her foods things)..\""
     },
     "execution_count": 6,
     "metadata": {},
     "output_type": "execute_result"
    }
   ],
   "source": [
    "example_row['Description']"
   ]
  },
  {
   "cell_type": "code",
   "execution_count": 7,
   "id": "4c7ea867",
   "metadata": {
    "ExecuteTime": {
     "end_time": "2023-12-28T05:06:07.241186Z",
     "start_time": "2023-12-28T05:06:06.989685Z"
    }
   },
   "outputs": [
    {
     "data": {
      "image/jpeg": "[encoded data removed]",
      "text/plain": "<IPython.core.display.Image object>"
     },
     "metadata": {},
     "output_type": "display_data"
    }
   ],
   "source": [
    "example_image = example_row[image_col]\n",
    "\n",
    "from IPython.display import Image, display\n",
    "pil_img = Image(filename=example_image)\n",
    "display(pil_img)"
   ]
  },
  {
   "cell_type": "markdown",
   "id": "39566d91",
   "metadata": {},
   "source": [
    "## Training\n",
    "Now let's fit the predictor with the training data. Here we set a tight time budget for a quick demo."
   ]
  },
  {
   "cell_type": "code",
   "execution_count": 8,
   "id": "e4de7118",
   "metadata": {
    "ExecuteTime": {
     "end_time": "2023-12-28T05:13:04.970357Z",
     "start_time": "2023-12-28T05:06:07.025858Z"
    }
   },
   "outputs": [
    {
     "name": "stderr",
     "output_type": "stream",
     "text": [
      "No path specified. Models will be saved in: \"AutogluonModels/ag-20231228_050640\"\n",
      "=================== System Info ===================\n",
      "AutoGluon Version:  1.0.0\n",
      "Python Version:     3.10.13\n",
      "Operating System:   Darwin\n",
      "Platform Machine:   x86_64\n",
      "Platform Version:   Darwin Kernel Version 23.2.0: Wed Nov 15 21:54:10 PST 2023; root:xnu-10002.61.3~2/RELEASE_X86_64\n",
      "CPU Count:          16\n",
      "Pytorch Version:    2.0.0.post104\n",
      "CUDA Version:       CUDA is not available\n",
      "Memory Avail:       43.46 GB / 64.00 GB (67.9%)\n",
      "Disk Space Avail:   468.98 GB / 931.55 GB (50.3%)\n",
      "===================================================\n",
      "AutoGluon infers your prediction problem is: 'binary' (because only two unique label-values observed).\n",
      "\t2 unique label values:  [0, 1]\n",
      "\tIf 'binary' is not the correct problem_type, please manually specify the problem_type parameter during predictor init (You may specify problem_type as one of: ['binary', 'multiclass', 'regression'])\n",
      "\n",
      "AutoMM starts to create your model. ✨✨✨\n",
      "\n",
      "To track the learning progress, you can open a terminal and launch Tensorboard:\n",
      "    ```shell\n",
      "    # Assume you have installed tensorboard\n",
      "    tensorboard --logdir /Users/elnath/004_deep_learning/AutoGloun-Official/v1_0_0/docs/tutorials/multimodal/multimodal_prediction/AutogluonModels/ag-20231228_050640\n",
      "    ```\n",
      "\n",
      "INFO: Global seed set to 0\n",
      "GPU Count: 0\n",
      "GPU Count to be Used: 0\n",
      "\n",
      "INFO: GPU available: False, used: False\n",
      "INFO: TPU available: False, using: 0 TPU cores\n",
      "INFO: IPU available: False, using: 0 IPUs\n",
      "INFO: HPU available: False, using: 0 HPUs\n",
      "INFO: \n",
      "  | Name              | Type                | Params\n",
      "----------------------------------------------------------\n",
      "0 | model             | MultimodalFusionMLP | 207 M \n",
      "1 | validation_metric | BinaryAUROC         | 0     \n",
      "2 | loss_func         | CrossEntropyLoss    | 0     \n",
      "----------------------------------------------------------\n",
      "207 M     Trainable params\n",
      "0         Non-trainable params\n",
      "207 M     Total params\n",
      "828.117   Total estimated model params size (MB)\n"
     ]
    },
    {
     "name": "stdout",
     "output_type": "stream",
     "text": [
      "Epoch 0:   2%|▏         | 1/60 [01:38<1:36:50, 98.49s/it]                  "
     ]
    },
    {
     "name": "stderr",
     "output_type": "stream",
     "text": [
      "INFO: Time limit reached. Elapsed time is 0:02:11. Signaling Trainer to stop.\n"
     ]
    },
    {
     "name": "stdout",
     "output_type": "stream",
     "text": [
      "Epoch 0:   3%|▎         | 2/60 [02:11<1:03:19, 65.52s/it]\n",
      "Validation: 0it [00:00, ?it/s]\u001B[A\n",
      "Validation:   0%|          | 0/15 [00:00<?, ?it/s]\u001B[A\n",
      "Validation DataLoader 0:   0%|          | 0/15 [00:00<?, ?it/s]\u001B[A\n",
      "Validation DataLoader 0:   7%|▋         | 1/15 [00:09<02:17,  9.85s/it]\u001B[A\n",
      "Validation DataLoader 0:  13%|█▎        | 2/15 [00:17<01:55,  8.87s/it]\u001B[A\n",
      "Validation DataLoader 0:  20%|██        | 3/15 [00:25<01:43,  8.61s/it]\u001B[A\n",
      "Validation DataLoader 0:  27%|██▋       | 4/15 [00:33<01:31,  8.33s/it]\u001B[A\n",
      "Validation DataLoader 0:  33%|███▎      | 5/15 [00:46<01:33,  9.30s/it]\u001B[A\n",
      "Validation DataLoader 0:  40%|████      | 6/15 [00:58<01:28,  9.81s/it]\u001B[A\n",
      "Validation DataLoader 0:  47%|████▋     | 7/15 [01:07<01:16,  9.61s/it]\u001B[A\n",
      "Validation DataLoader 0:  53%|█████▎    | 8/15 [01:14<01:05,  9.36s/it]\u001B[A\n",
      "Validation DataLoader 0:  60%|██████    | 9/15 [01:23<00:55,  9.30s/it]\u001B[A\n",
      "Validation DataLoader 0:  67%|██████▋   | 10/15 [01:35<00:47,  9.52s/it]\u001B[A\n",
      "Validation DataLoader 0:  73%|███████▎  | 11/15 [01:43<00:37,  9.40s/it]\u001B[A\n",
      "Validation DataLoader 0:  80%|████████  | 12/15 [01:52<00:28,  9.34s/it]\u001B[A\n",
      "Validation DataLoader 0:  87%|████████▋ | 13/15 [02:03<00:19,  9.51s/it]\u001B[A\n",
      "Validation DataLoader 0:  93%|█████████▎| 14/15 [02:12<00:09,  9.43s/it]\u001B[A\n",
      "Validation DataLoader 0: 100%|██████████| 15/15 [02:20<00:00,  9.35s/it]\u001B[A\n",
      "Epoch 0:   3%|▎         | 2/60 [04:31<2:11:27, 135.99s/it]              \u001B[A\n"
     ]
    },
    {
     "name": "stderr",
     "output_type": "stream",
     "text": [
      "AutoMM has created your model. 🎉🎉🎉\n",
      "\n",
      "To load the model, use the code below:\n",
      "    ```python\n",
      "    from autogluon.multimodal import MultiModalPredictor\n",
      "    predictor = MultiModalPredictor.load(\"/Users/elnath/004_deep_learning/AutoGloun-Official/v1_0_0/docs/tutorials/multimodal/multimodal_prediction/AutogluonModels/ag-20231228_050640\")\n",
      "    ```\n",
      "\n",
      "If you are not satisfied with the model, try to increase the training time, \n",
      "adjust the hyperparameters (https://auto.gluon.ai/stable/tutorials/multimodal/advanced_topics/customization.html),\n",
      "or post issues on GitHub (https://github.com/autogluon/autogluon/issues).\n",
      "\n",
      "\n"
     ]
    },
    {
     "data": {
      "text/plain": "<autogluon.multimodal.predictor.MultiModalPredictor at 0x1a6184d30>"
     },
     "execution_count": 8,
     "metadata": {},
     "output_type": "execute_result"
    }
   ],
   "source": [
    "from autogluon.multimodal import MultiModalPredictor\n",
    "predictor = MultiModalPredictor(label=label_col)\n",
    "predictor.fit(\n",
    "    train_data=train_data,\n",
    "    time_limit=120, # seconds\n",
    ")"
   ]
  },
  {
   "cell_type": "markdown",
   "id": "0a278b95",
   "metadata": {},
   "source": [
    "Under the hood, AutoMM automatically infers the problem type (classification or regression), detects the data modalities, selects the related models from the multimodal model pools, and trains the selected models. If multiple backbones are available, AutoMM appends a late-fusion model (MLP or transformer) on top of them.\n",
    "\n",
    "\n",
    "## Evaluation\n",
    "Then we can evaluate the predictor on the test data."
   ]
  },
  {
   "cell_type": "code",
   "execution_count": 9,
   "id": "07f88dd6",
   "metadata": {
    "ExecuteTime": {
     "end_time": "2023-12-28T05:16:03.838038Z",
     "start_time": "2023-12-28T05:13:04.970904Z"
    }
   },
   "outputs": [
    {
     "name": "stdout",
     "output_type": "stream",
     "text": [
      "Predicting DataLoader 0: 100%|██████████| 4/4 [01:52<00:00, 28.15s/it]\n"
     ]
    },
    {
     "data": {
      "text/plain": "{'roc_auc': 0.6516000000000001}"
     },
     "execution_count": 9,
     "metadata": {},
     "output_type": "execute_result"
    }
   ],
   "source": [
    "scores = predictor.evaluate(test_data, metrics=[\"roc_auc\"])\n",
    "scores"
   ]
  },
  {
   "cell_type": "markdown",
   "id": "e8efcf9d",
   "metadata": {},
   "source": [
    "## Prediction\n",
    "Given a multimodal dataframe without the label column, we can predict the labels."
   ]
  },
  {
   "cell_type": "code",
   "execution_count": 10,
   "id": "ad6f0ab9",
   "metadata": {
    "ExecuteTime": {
     "end_time": "2023-12-28T05:19:36.795095Z",
     "start_time": "2023-12-28T05:16:03.842785Z"
    }
   },
   "outputs": [
    {
     "name": "stdout",
     "output_type": "stream",
     "text": [
      "Predicting DataLoader 0: 100%|██████████| 4/4 [02:29<00:00, 37.32s/it]\n"
     ]
    },
    {
     "data": {
      "text/plain": "8     0\n70    0\n82    0\n28    0\n63    1\nName: AdoptionSpeed, dtype: int64"
     },
     "execution_count": 10,
     "metadata": {},
     "output_type": "execute_result"
    }
   ],
   "source": [
    "predictions = predictor.predict(test_data.drop(columns=label_col))\n",
    "predictions[:5]"
   ]
  },
  {
   "cell_type": "markdown",
   "id": "e277d050",
   "metadata": {},
   "source": [
    "For classification tasks, we can get the probabilities of all classes."
   ]
  },
  {
   "cell_type": "code",
   "execution_count": 11,
   "id": "6ca45069",
   "metadata": {
    "ExecuteTime": {
     "end_time": "2023-12-28T05:22:41.368703Z",
     "start_time": "2023-12-28T05:19:36.791383Z"
    }
   },
   "outputs": [
    {
     "name": "stdout",
     "output_type": "stream",
     "text": [
      "Predicting DataLoader 0: 100%|██████████| 4/4 [01:59<00:00, 29.78s/it]\n"
     ]
    },
    {
     "data": {
      "text/plain": "           0         1\n8   0.513769  0.486231\n70  0.774978  0.225022\n82  0.891982  0.108018\n28  0.965650  0.034350\n63  0.311051  0.688949",
      "text/html": "<div>\n<style scoped>\n    .dataframe tbody tr th:only-of-type {\n        vertical-align: middle;\n    }\n\n    .dataframe tbody tr th {\n        vertical-align: top;\n    }\n\n    .dataframe thead th {\n        text-align: right;\n    }\n</style>\n<table border=\"1\" class=\"dataframe\">\n  <thead>\n    <tr style=\"text-align: right;\">\n      <th></th>\n      <th>0</th>\n      <th>1</th>\n    </tr>\n  </thead>\n  <tbody>\n    <tr>\n      <th>8</th>\n      <td>0.513769</td>\n      <td>0.486231</td>\n    </tr>\n    <tr>\n      <th>70</th>\n      <td>0.774978</td>\n      <td>0.225022</td>\n    </tr>\n    <tr>\n      <th>82</th>\n      <td>0.891982</td>\n      <td>0.108018</td>\n    </tr>\n    <tr>\n      <th>28</th>\n      <td>0.965650</td>\n      <td>0.034350</td>\n    </tr>\n    <tr>\n      <th>63</th>\n      <td>0.311051</td>\n      <td>0.688949</td>\n    </tr>\n  </tbody>\n</table>\n</div>"
     },
     "execution_count": 11,
     "metadata": {},
     "output_type": "execute_result"
    }
   ],
   "source": [
    "probas = predictor.predict_proba(test_data.drop(columns=label_col))\n",
    "probas[:5]"
   ]
  },
  {
   "cell_type": "markdown",
   "id": "2bfe15c2",
   "metadata": {},
   "source": [
    "Note that calling `.predict_proba()` on one regression task will throw an exception.\n",
    "\n",
    "\n",
    "## Extract Embeddings\n",
    "\n",
    "Extracting embeddings can also be useful in many cases, where we want to convert each sample (per row in the dataframe) into an embedding vector."
   ]
  },
  {
   "cell_type": "code",
   "execution_count": 12,
   "id": "6b364412",
   "metadata": {
    "ExecuteTime": {
     "end_time": "2023-12-28T05:25:46.524932Z",
     "start_time": "2023-12-28T05:22:41.376735Z"
    }
   },
   "outputs": [
    {
     "name": "stdout",
     "output_type": "stream",
     "text": [
      "Predicting DataLoader 0: 100%|██████████| 4/4 [01:59<00:00, 29.92s/it]\n"
     ]
    },
    {
     "data": {
      "text/plain": "(100, 128)"
     },
     "execution_count": 12,
     "metadata": {},
     "output_type": "execute_result"
    }
   ],
   "source": [
    "embeddings = predictor.extract_embedding(test_data.drop(columns=label_col))\n",
    "embeddings.shape"
   ]
  },
  {
   "cell_type": "markdown",
   "id": "189fc2aa",
   "metadata": {},
   "source": [
    "## Save and Load\n",
    "It is also convenient to save a predictor and re-load it.\n",
    "\n",
    "```{warning}\n",
    "\n",
    "`MultiModalPredictor.load()` uses `pickle` module implicitly, which is known to be insecure. It is possible to construct malicious pickle data which will execute arbitrary code during unpickling. Never load data that could have come from an untrusted source, or that could have been tampered with. **Only load data you trust.**\n",
    "\n",
    "```"
   ]
  },
  {
   "cell_type": "code",
   "execution_count": null,
   "id": "4c924b34",
   "metadata": {},
   "outputs": [],
   "source": [
    "import uuid\n",
    "\n",
    "model_path = f\"./tmp/{uuid.uuid4().hex}-saved_model\"\n",
    "predictor.save(model_path)\n",
    "loaded_predictor = MultiModalPredictor.load(model_path)\n",
    "scores2 = loaded_predictor.evaluate(test_data, metrics=[\"roc_auc\"])\n",
    "scores2"
   ]
  },
  {
   "cell_type": "markdown",
   "id": "6585bd6a",
   "metadata": {},
   "source": [
    "## Other Examples\n",
    "\n",
    "You may go to [AutoMM Examples](https://github.com/autogluon/autogluon/tree/master/examples/automm) to explore other examples about AutoMM.\n",
    "\n",
    "## Customization\n",
    "To learn how to customize AutoMM, please refer to [Customize AutoMM](../advanced_topics/customization.ipynb)."
   ]
  }
 ],
 "metadata": {
  "language_info": {
   "name": "python"
  },
  "kernelspec": {
   "name": "venv_ag_310",
   "language": "python",
   "display_name": "venv_ag_310"
  }
 },
 "nbformat": 4,
 "nbformat_minor": 5
}
