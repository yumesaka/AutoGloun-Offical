{
 "cells": [
  {
   "attachments": {},
   "cell_type": "markdown",
   "id": "84a147df",
   "metadata": {},
   "source": [
    "# AutoMM Detection - Quick Start on a Tiny COCO Format Dataset\n",
    "\n",
    "[![Open In Colab](https://colab.research.google.com/assets/colab-badge.svg)](https://colab.research.google.com/github/autogluon/autogluon/blob/master/docs/tutorials/multimodal/object_detection/quick_start/quick_start_coco.ipynb)\n",
    "[![Open In SageMaker Studio Lab](https://studiolab.sagemaker.aws/studiolab.svg)](https://studiolab.sagemaker.aws/import/github/autogluon/autogluon/blob/master/docs/tutorials/multimodal/object_detection/quick_start/quick_start_coco.ipynb)\n",
    "\n",
    "\n",
    "\n",
    "In this section, our goal is to fast finetune a pretrained model on a small dataset in COCO format, \n",
    "and evaluate on its test set. Both training and test sets are in COCO format.\n",
    "See [Convert Data to COCO Format](../data_preparation/convert_data_to_coco_format.ipynb) for how to convert other datasets to COCO format.\n",
    "\n",
    "## Setting up the imports\n",
    "To start, let's import MultiModalPredictor:"
   ]
  },
  {
   "cell_type": "code",
   "execution_count": null,
   "id": "aa00faab-252f-44c9-b8f7-57131aa8251c",
   "metadata": {
    "tags": [
     "remove-cell"
    ]
   },
   "outputs": [],
   "source": [
    "# !pip install autogluon.multimodal"
   ]
  },
  {
   "cell_type": "markdown",
   "id": "45f33969",
   "metadata": {},
   "source": [
    "Make sure `mmcv` and `mmdet` are installed:"
   ]
  },
  {
   "cell_type": "code",
   "execution_count": null,
   "id": "3d1cf87b",
   "metadata": {
    "tags": [
     "remove-cell"
    ]
   },
   "outputs": [],
   "source": [
    "# !mim install \"mmcv==2.1.0\"\n",
    "# !pip install \"mmdet==3.2.0\""
   ]
  },
  {
   "cell_type": "code",
   "execution_count": 1,
   "id": "6122a63c",
   "metadata": {
    "ExecuteTime": {
     "end_time": "2023-12-28T07:39:16.321859Z",
     "start_time": "2023-12-28T07:39:07.081920Z"
    }
   },
   "outputs": [
    {
     "name": "stderr",
     "output_type": "stream",
     "text": [
      "/Users/elnath/anaconda3/envs/venv_ag_310/lib/python3.10/site-packages/tqdm/auto.py:21: TqdmWarning: IProgress not found. Please update jupyter and ipywidgets. See https://ipywidgets.readthedocs.io/en/stable/user_install.html\n",
      "  from .autonotebook import tqdm as notebook_tqdm\n"
     ]
    }
   ],
   "source": [
    "from autogluon.multimodal import MultiModalPredictor"
   ]
  },
  {
   "cell_type": "markdown",
   "id": "8960c4cf",
   "metadata": {},
   "source": [
    "And also import some other packages that will be used in this tutorial:"
   ]
  },
  {
   "cell_type": "code",
   "execution_count": 2,
   "id": "82704cb8",
   "metadata": {
    "ExecuteTime": {
     "end_time": "2023-12-28T07:39:16.330416Z",
     "start_time": "2023-12-28T07:39:16.324609Z"
    }
   },
   "outputs": [],
   "source": [
    "import os\n",
    "import time\n",
    "\n",
    "from autogluon.core.utils.loaders import load_zip"
   ]
  },
  {
   "cell_type": "markdown",
   "id": "5481f3b2",
   "metadata": {},
   "source": [
    "## Downloading Data\n",
    "We have the sample dataset ready in the cloud. Let's download it:"
   ]
  },
  {
   "cell_type": "code",
   "execution_count": 3,
   "id": "ff4dd355",
   "metadata": {
    "ExecuteTime": {
     "end_time": "2023-12-28T07:39:33.388870Z",
     "start_time": "2023-12-28T07:39:16.327684Z"
    }
   },
   "outputs": [
    {
     "name": "stdout",
     "output_type": "stream",
     "text": [
      "Downloading ./tiny_motorbike_coco/file.zip from https://automl-mm-bench.s3.amazonaws.com/object_detection_dataset/tiny_motorbike_coco.zip...\n"
     ]
    },
    {
     "name": "stderr",
     "output_type": "stream",
     "text": [
      "100%|██████████| 21.8M/21.8M [00:13<00:00, 1.65MiB/s]\n"
     ]
    }
   ],
   "source": [
    "zip_file = \"https://automl-mm-bench.s3.amazonaws.com/object_detection_dataset/tiny_motorbike_coco.zip\"\n",
    "download_dir = \"./tiny_motorbike_coco\"\n",
    "\n",
    "load_zip.unzip(zip_file, unzip_dir=download_dir)\n",
    "data_dir = os.path.join(download_dir, \"tiny_motorbike\")\n",
    "train_path = os.path.join(data_dir, \"Annotations\", \"trainval_cocoformat.json\")\n",
    "test_path = os.path.join(data_dir, \"Annotations\", \"test_cocoformat.json\")"
   ]
  },
  {
   "attachments": {},
   "cell_type": "markdown",
   "id": "dfc32ec3",
   "metadata": {},
   "source": [
    "While using COCO format dataset, the input is the json annotation file of the dataset split.\n",
    "In this example, `trainval_cocoformat.json` is the annotation file of the train-and-validate split,\n",
    "and `test_cocoformat.json` is the annotation file of the test split.\n",
    "\n",
    "## Creating the MultiModalPredictor\n",
    "We select the `\"medium_quality\"` presets, which uses a YOLOX-large model pretrained on COCO dataset. This preset is fast to finetune or inference,\n",
    "and easy to deploy. We also provide presets `\"high_quality\"` with a DINO-Resnet50 model and `\"best quality\"` with a DINO-SwinL model, with much higher performance but also slower and with higher GPU memory usage."
   ]
  },
  {
   "cell_type": "code",
   "execution_count": 4,
   "id": "3eae8201",
   "metadata": {
    "ExecuteTime": {
     "end_time": "2023-12-28T07:39:33.396782Z",
     "start_time": "2023-12-28T07:39:33.391343Z"
    }
   },
   "outputs": [],
   "source": [
    "presets = \"medium_quality\""
   ]
  },
  {
   "cell_type": "markdown",
   "id": "5467f27e",
   "metadata": {},
   "source": [
    "We create the MultiModalPredictor with selected presets.\n",
    "We need to specify the problem_type to `\"object_detection\"`,\n",
    "and also provide a `sample_data_path` for the predictor to infer the catgories of the dataset.\n",
    "Here we provide the `train_path`, and it also works using any other split of this dataset.\n",
    "And we also provide a `path` to save the predictor. \n",
    "It will be saved to a automatically generated directory with timestamp under `AutogluonModels` if `path` is not specified."
   ]
  },
  {
   "cell_type": "code",
   "execution_count": 5,
   "id": "228bd148",
   "metadata": {
    "ExecuteTime": {
     "end_time": "2023-12-28T07:39:33.408248Z",
     "start_time": "2023-12-28T07:39:33.401430Z"
    }
   },
   "outputs": [],
   "source": [
    "# Init predictor\n",
    "import uuid\n",
    "\n",
    "model_path = f\"./tmp/{uuid.uuid4().hex}-quick_start_tutorial_temp_save\"\n",
    "\n",
    "predictor = MultiModalPredictor(\n",
    "    problem_type=\"object_detection\",\n",
    "    sample_data_path=train_path,\n",
    "    presets=presets,\n",
    "    path=model_path,\n",
    ")"
   ]
  },
  {
   "cell_type": "markdown",
   "id": "02a7af8f",
   "metadata": {},
   "source": [
    "## Finetuning the Model\n",
    "\n",
    "Learning rate, number of epochs, and batch_size are included in the presets, and thus no need to specify.\n",
    "Note that we use a two-stage learning rate option during finetuning by default,\n",
    "and the model head will have 100x learning rate.\n",
    "Using a two-stage learning rate with high learning rate only on head layers makes\n",
    "the model converge faster during finetuning. It usually gives better performance as well,\n",
    "especially on small datasets with hundreds or thousands of images.\n",
    "We also compute the time of the fit process here for better understanding the speed.\n",
    "We run it on a g4.2xlarge EC2 machine on AWS,\n",
    "and part of the command outputs are shown below:"
   ]
  },
  {
   "cell_type": "code",
   "execution_count": null,
   "id": "421776a2",
   "metadata": {
    "is_executing": true,
    "ExecuteTime": {
     "start_time": "2023-12-28T07:39:33.411911Z"
    }
   },
   "outputs": [
    {
     "name": "stderr",
     "output_type": "stream",
     "text": [
      "=================== System Info ===================\n",
      "AutoGluon Version:  1.0.0\n",
      "Python Version:     3.10.13\n",
      "Operating System:   Darwin\n",
      "Platform Machine:   x86_64\n",
      "Platform Version:   Darwin Kernel Version 23.2.0: Wed Nov 15 21:54:10 PST 2023; root:xnu-10002.61.3~2/RELEASE_X86_64\n",
      "CPU Count:          16\n",
      "Pytorch Version:    2.0.0.post104\n",
      "CUDA Version:       CUDA is not available\n",
      "Memory Avail:       42.53 GB / 64.00 GB (66.5%)\n",
      "Disk Space Avail:   WARNING, an exception (FileNotFoundError) occurred while attempting to get available disk space. Consider opening a GitHub Issue.\n",
      "===================================================\n",
      "Using default root folder: ./tiny_motorbike_coco/tiny_motorbike/Annotations/... Specify `root=...` if you feel it is wrong...\n"
     ]
    },
    {
     "name": "stdout",
     "output_type": "stream",
     "text": [
      "loading annotations into memory...\n",
      "Done (t=0.00s)\n",
      "creating index...\n",
      "index created!\n"
     ]
    },
    {
     "name": "stderr",
     "output_type": "stream",
     "text": [
      "\n",
      "AutoMM starts to create your model. ✨✨✨\n",
      "\n",
      "To track the learning progress, you can open a terminal and launch Tensorboard:\n",
      "    ```shell\n",
      "    # Assume you have installed tensorboard\n",
      "    tensorboard --logdir /Users/elnath/004_deep_learning/AutoGloun-Official/v1_0_0/docs/tutorials/multimodal/object_detection/quick_start/tmp/f9f49e23ced6420285658b64536de0a5-quick_start_tutorial_temp_save\n",
      "    ```\n",
      "\n",
      "Global seed set to 0\n"
     ]
    },
    {
     "name": "stdout",
     "output_type": "stream",
     "text": [
      "Downloading yolox_l_8x8_300e_coco_20211126_140236-d3bd2b23.pth from https://download.openmmlab.com/mmdetection/v2.0/yolox/yolox_l_8x8_300e_coco/yolox_l_8x8_300e_coco_20211126_140236-d3bd2b23.pth...\n"
     ]
    },
    {
     "name": "stderr",
     "output_type": "stream",
     "text": [
      "GPU Count: 0                                        \n",
      "GPU Count to be Used: 0\n",
      "\n"
     ]
    },
    {
     "name": "stdout",
     "output_type": "stream",
     "text": [
      "Loads checkpoint by local backend from path: yolox_l_8x8_300e_coco_20211126_140236-d3bd2b23.pth\n",
      "The model and loaded state dict do not match exactly\n",
      "\n",
      "size mismatch for bbox_head.multi_level_conv_cls.0.weight: copying a param with shape torch.Size([80, 256, 1, 1]) from checkpoint, the shape in current model is torch.Size([10, 256, 1, 1]).\n",
      "size mismatch for bbox_head.multi_level_conv_cls.0.bias: copying a param with shape torch.Size([80]) from checkpoint, the shape in current model is torch.Size([10]).\n",
      "size mismatch for bbox_head.multi_level_conv_cls.1.weight: copying a param with shape torch.Size([80, 256, 1, 1]) from checkpoint, the shape in current model is torch.Size([10, 256, 1, 1]).\n",
      "size mismatch for bbox_head.multi_level_conv_cls.1.bias: copying a param with shape torch.Size([80]) from checkpoint, the shape in current model is torch.Size([10]).\n",
      "size mismatch for bbox_head.multi_level_conv_cls.2.weight: copying a param with shape torch.Size([80, 256, 1, 1]) from checkpoint, the shape in current model is torch.Size([10, 256, 1, 1]).\n",
      "size mismatch for bbox_head.multi_level_conv_cls.2.bias: copying a param with shape torch.Size([80]) from checkpoint, the shape in current model is torch.Size([10]).\n"
     ]
    },
    {
     "name": "stderr",
     "output_type": "stream",
     "text": [
      "/Users/elnath/anaconda3/envs/venv_ag_310/lib/python3.10/site-packages/autogluon/multimodal/utils/environment.py:131: UserWarning: Only CPU is detected in the instance. This may result in slow speed for MultiModalPredictor. Consider using an instance with GPU support.\n",
      "  warnings.warn(\n",
      "GPU available: False, used: False\n",
      "TPU available: False, using: 0 TPU cores\n",
      "IPU available: False, using: 0 IPUs\n",
      "HPU available: False, using: 0 HPUs\n",
      "`Trainer(val_check_interval=1.0)` was configured so validation will run at the end of the training epoch..\n",
      "\n",
      "  | Name              | Type                             | Params\n",
      "-----------------------------------------------------------------------\n",
      "0 | model             | MMDetAutoModelForObjectDetection | 54.2 M\n",
      "1 | validation_metric | MeanAveragePrecision             | 0     \n",
      "-----------------------------------------------------------------------\n",
      "54.2 M    Trainable params\n",
      "0         Non-trainable params\n",
      "54.2 M    Total params\n",
      "216.620   Total estimated model params size (MB)\n"
     ]
    },
    {
     "name": "stdout",
     "output_type": "stream",
     "text": [
      "Sanity Checking: 0it [00:00, ?it/s]"
     ]
    },
    {
     "name": "stderr",
     "output_type": "stream",
     "text": [
      "/Users/elnath/anaconda3/envs/venv_ag_310/lib/python3.10/site-packages/mmdet/structures/bbox/base_boxes.py:62: UserWarning: Creating a tensor from a list of numpy.ndarrays is extremely slow. Please consider converting the list to a single numpy.ndarray with numpy.array() before converting to a tensor. (Triggered internally at /Users/runner/miniforge3/conda-bld/pytorch-recipe_1699115979449/work/torch/csrc/utils/tensor_new.cpp:248.)\n",
      "  data = torch.as_tensor(data)\n",
      "/Users/elnath/anaconda3/envs/venv_ag_310/lib/python3.10/site-packages/mmdet/structures/bbox/base_boxes.py:62: UserWarning: Creating a tensor from a list of numpy.ndarrays is extremely slow. Please consider converting the list to a single numpy.ndarray with numpy.array() before converting to a tensor. (Triggered internally at /Users/runner/miniforge3/conda-bld/pytorch-recipe_1699115979449/work/torch/csrc/utils/tensor_new.cpp:248.)\n",
      "  data = torch.as_tensor(data)\n"
     ]
    },
    {
     "name": "stdout",
     "output_type": "stream",
     "text": [
      "Sanity Checking DataLoader 0:  50%|█████     | 1/2 [00:01<00:01,  1.47s/it]"
     ]
    },
    {
     "name": "stderr",
     "output_type": "stream",
     "text": [
      "/Users/elnath/anaconda3/envs/venv_ag_310/lib/python3.10/site-packages/torch/functional.py:504: UserWarning: torch.meshgrid: in an upcoming release, it will be required to pass the indexing argument. (Triggered internally at /Users/runner/miniforge3/conda-bld/pytorch-recipe_1699115979449/work/aten/src/ATen/native/TensorShape.cpp:3484.)\n",
      "  return _VF.meshgrid(tensors, **kwargs)  # type: ignore[attr-defined]\n"
     ]
    },
    {
     "name": "stdout",
     "output_type": "stream",
     "text": [
      "Epoch 0:   0%|          | 0/68 [00:00<?, ?it/s]                            "
     ]
    },
    {
     "name": "stderr",
     "output_type": "stream",
     "text": [
      "/Users/elnath/anaconda3/envs/venv_ag_310/lib/python3.10/site-packages/mmdet/structures/bbox/base_boxes.py:62: UserWarning: Creating a tensor from a list of numpy.ndarrays is extremely slow. Please consider converting the list to a single numpy.ndarray with numpy.array() before converting to a tensor. (Triggered internally at /Users/runner/miniforge3/conda-bld/pytorch-recipe_1699115979449/work/torch/csrc/utils/tensor_new.cpp:248.)\n",
      "  data = torch.as_tensor(data)\n",
      "/Users/elnath/anaconda3/envs/venv_ag_310/lib/python3.10/site-packages/mmdet/structures/bbox/base_boxes.py:62: UserWarning: Creating a tensor from a list of numpy.ndarrays is extremely slow. Please consider converting the list to a single numpy.ndarray with numpy.array() before converting to a tensor. (Triggered internally at /Users/runner/miniforge3/conda-bld/pytorch-recipe_1699115979449/work/torch/csrc/utils/tensor_new.cpp:248.)\n",
      "  data = torch.as_tensor(data)\n"
     ]
    },
    {
     "name": "stdout",
     "output_type": "stream",
     "text": [
      "Epoch 2: 100%|██████████| 68/68 [05:20<00:00,  4.72s/it]\n",
      "Validation: 0it [00:00, ?it/s]\u001B[A\n",
      "Validation:   0%|          | 0/17 [00:00<?, ?it/s]\u001B[A\n",
      "Validation DataLoader 0:   0%|          | 0/17 [00:00<?, ?it/s]\u001B[A\n",
      "Validation DataLoader 0:   6%|▌         | 1/17 [00:02<00:33,  2.08s/it]\u001B[A\n",
      "Validation DataLoader 0:  12%|█▏        | 2/17 [00:03<00:27,  1.84s/it]\u001B[A\n",
      "Validation DataLoader 0:  18%|█▊        | 3/17 [00:05<00:24,  1.78s/it]\u001B[A"
     ]
    },
    {
     "name": "stderr",
     "output_type": "stream",
     "text": [
      "/Users/elnath/anaconda3/envs/venv_ag_310/lib/python3.10/site-packages/torchmetrics/utilities/prints.py:43: UserWarning: Encountered more than 100 detections in a single image. This means that certain detections with the lowest scores will be ignored, that may have an undesirable impact on performance. Please consider adjusting the `max_detection_threshold` to suit your use case. To disable this warning, set attribute class `warn_on_many_detections=False`, after initializing the metric.\n",
      "  warnings.warn(*args, **kwargs)  # noqa: B028\n"
     ]
    },
    {
     "name": "stdout",
     "output_type": "stream",
     "text": [
      "\n",
      "Validation DataLoader 0:  24%|██▎       | 4/17 [00:06<00:22,  1.73s/it]\u001B[A\n",
      "Validation DataLoader 0:  29%|██▉       | 5/17 [00:08<00:20,  1.70s/it]\u001B[A\n",
      "Validation DataLoader 0:  35%|███▌      | 6/17 [00:10<00:18,  1.69s/it]\u001B[A\n",
      "Validation DataLoader 0:  41%|████      | 7/17 [00:11<00:16,  1.69s/it]\u001B[A\n",
      "Validation DataLoader 0:  47%|████▋     | 8/17 [00:13<00:15,  1.68s/it]\u001B[A\n",
      "Validation DataLoader 0:  53%|█████▎    | 9/17 [00:14<00:13,  1.67s/it]\u001B[A\n",
      "Validation DataLoader 0:  59%|█████▉    | 10/17 [00:16<00:11,  1.67s/it]\u001B[A\n",
      "Validation DataLoader 0:  65%|██████▍   | 11/17 [00:18<00:10,  1.67s/it]\u001B[A\n",
      "Validation DataLoader 0:  71%|███████   | 12/17 [00:19<00:08,  1.67s/it]\u001B[A\n",
      "Validation DataLoader 0:  76%|███████▋  | 13/17 [00:21<00:06,  1.66s/it]\u001B[A\n",
      "Validation DataLoader 0:  82%|████████▏ | 14/17 [00:23<00:04,  1.66s/it]\u001B[A\n",
      "Validation DataLoader 0:  88%|████████▊ | 15/17 [00:24<00:03,  1.66s/it]\u001B[A\n",
      "Validation DataLoader 0:  94%|█████████▍| 16/17 [00:26<00:01,  1.66s/it]\u001B[A\n",
      "Validation DataLoader 0: 100%|██████████| 17/17 [00:28<00:00,  1.66s/it]\u001B[A\n",
      "Epoch 2: 100%|██████████| 68/68 [05:49<00:00,  5.14s/it]                \u001B[A"
     ]
    },
    {
     "name": "stderr",
     "output_type": "stream",
     "text": [
      "Epoch 2, global step 6: 'val_map' reached 0.23788 (best 0.23788), saving model to '/Users/elnath/004_deep_learning/AutoGloun-Official/v1_0_0/docs/tutorials/multimodal/object_detection/quick_start/tmp/f9f49e23ced6420285658b64536de0a5-quick_start_tutorial_temp_save/epoch=2-step=6.ckpt' as top 1\n"
     ]
    },
    {
     "name": "stdout",
     "output_type": "stream",
     "text": [
      "Epoch 5: 100%|██████████| 68/68 [05:22<00:00,  4.74s/it]\n",
      "Validation: 0it [00:00, ?it/s]\u001B[A\n",
      "Validation:   0%|          | 0/17 [00:00<?, ?it/s]\u001B[A\n",
      "Validation DataLoader 0:   0%|          | 0/17 [00:00<?, ?it/s]\u001B[A\n",
      "Validation DataLoader 0:   6%|▌         | 1/17 [00:01<00:26,  1.66s/it]\u001B[A\n",
      "Validation DataLoader 0:  12%|█▏        | 2/17 [00:03<00:25,  1.69s/it]\u001B[A\n",
      "Validation DataLoader 0:  18%|█▊        | 3/17 [00:05<00:23,  1.69s/it]\u001B[A\n",
      "Validation DataLoader 0:  24%|██▎       | 4/17 [00:06<00:22,  1.70s/it]\u001B[A\n",
      "Validation DataLoader 0:  29%|██▉       | 5/17 [00:08<00:20,  1.71s/it]\u001B[A\n",
      "Validation DataLoader 0:  35%|███▌      | 6/17 [00:10<00:18,  1.72s/it]\u001B[A\n",
      "Validation DataLoader 0:  41%|████      | 7/17 [00:11<00:17,  1.71s/it]\u001B[A\n",
      "Validation DataLoader 0:  47%|████▋     | 8/17 [00:13<00:15,  1.71s/it]\u001B[A\n",
      "Validation DataLoader 0:  53%|█████▎    | 9/17 [00:15<00:13,  1.71s/it]\u001B[A\n",
      "Validation DataLoader 0:  59%|█████▉    | 10/17 [00:17<00:11,  1.71s/it]\u001B[A\n",
      "Validation DataLoader 0:  65%|██████▍   | 11/17 [00:18<00:10,  1.71s/it]\u001B[A\n",
      "Validation DataLoader 0:  71%|███████   | 12/17 [00:20<00:08,  1.71s/it]\u001B[A\n",
      "Validation DataLoader 0:  76%|███████▋  | 13/17 [00:22<00:06,  1.71s/it]\u001B[A\n",
      "Validation DataLoader 0:  82%|████████▏ | 14/17 [00:24<00:05,  1.72s/it]\u001B[A\n",
      "Validation DataLoader 0:  88%|████████▊ | 15/17 [00:25<00:03,  1.72s/it]\u001B[A\n",
      "Validation DataLoader 0:  94%|█████████▍| 16/17 [00:27<00:01,  1.72s/it]\u001B[A\n",
      "Validation DataLoader 0: 100%|██████████| 17/17 [00:29<00:00,  1.71s/it]\u001B[A\n",
      "Epoch 5: 100%|██████████| 68/68 [05:51<00:00,  5.17s/it]                \u001B[A"
     ]
    },
    {
     "name": "stderr",
     "output_type": "stream",
     "text": [
      "Epoch 5, global step 12: 'val_map' reached 0.28761 (best 0.28761), saving model to '/Users/elnath/004_deep_learning/AutoGloun-Official/v1_0_0/docs/tutorials/multimodal/object_detection/quick_start/tmp/f9f49e23ced6420285658b64536de0a5-quick_start_tutorial_temp_save/epoch=5-step=12.ckpt' as top 1\n"
     ]
    },
    {
     "name": "stdout",
     "output_type": "stream",
     "text": [
      "Epoch 8: 100%|██████████| 68/68 [05:18<00:00,  4.69s/it]\n",
      "Validation: 0it [00:00, ?it/s]\u001B[A\n",
      "Validation:   0%|          | 0/17 [00:00<?, ?it/s]\u001B[A\n",
      "Validation DataLoader 0:   0%|          | 0/17 [00:00<?, ?it/s]\u001B[A\n",
      "Validation DataLoader 0:   6%|▌         | 1/17 [00:01<00:29,  1.85s/it]\u001B[A\n",
      "Validation DataLoader 0:  12%|█▏        | 2/17 [00:03<00:27,  1.85s/it]\u001B[A\n",
      "Validation DataLoader 0:  18%|█▊        | 3/17 [00:05<00:25,  1.84s/it]\u001B[A\n",
      "Validation DataLoader 0:  24%|██▎       | 4/17 [00:07<00:23,  1.84s/it]\u001B[A\n",
      "Validation DataLoader 0:  29%|██▉       | 5/17 [00:09<00:21,  1.83s/it]\u001B[A\n",
      "Validation DataLoader 0:  35%|███▌      | 6/17 [00:10<00:20,  1.82s/it]\u001B[A\n",
      "Validation DataLoader 0:  41%|████      | 7/17 [00:12<00:18,  1.81s/it]\u001B[A\n",
      "Validation DataLoader 0:  47%|████▋     | 8/17 [00:14<00:16,  1.81s/it]\u001B[A\n",
      "Validation DataLoader 0:  53%|█████▎    | 9/17 [00:16<00:14,  1.81s/it]\u001B[A\n",
      "Validation DataLoader 0:  59%|█████▉    | 10/17 [00:18<00:12,  1.81s/it]\u001B[A\n",
      "Validation DataLoader 0:  65%|██████▍   | 11/17 [00:19<00:10,  1.82s/it]\u001B[A\n",
      "Validation DataLoader 0:  71%|███████   | 12/17 [00:21<00:09,  1.83s/it]\u001B[A\n",
      "Validation DataLoader 0:  76%|███████▋  | 13/17 [00:23<00:07,  1.84s/it]\u001B[A\n",
      "Validation DataLoader 0:  82%|████████▏ | 14/17 [00:25<00:05,  1.84s/it]\u001B[A\n",
      "Validation DataLoader 0:  88%|████████▊ | 15/17 [00:27<00:03,  1.85s/it]\u001B[A\n",
      "Validation DataLoader 0:  94%|█████████▍| 16/17 [00:29<00:01,  1.85s/it]\u001B[A\n",
      "Validation DataLoader 0: 100%|██████████| 17/17 [00:31<00:00,  1.86s/it]\u001B[A\n",
      "Epoch 8: 100%|██████████| 68/68 [05:50<00:00,  5.16s/it]                \u001B[A"
     ]
    },
    {
     "name": "stderr",
     "output_type": "stream",
     "text": [
      "Epoch 8, global step 18: 'val_map' reached 0.36381 (best 0.36381), saving model to '/Users/elnath/004_deep_learning/AutoGloun-Official/v1_0_0/docs/tutorials/multimodal/object_detection/quick_start/tmp/f9f49e23ced6420285658b64536de0a5-quick_start_tutorial_temp_save/epoch=8-step=18.ckpt' as top 1\n"
     ]
    },
    {
     "name": "stdout",
     "output_type": "stream",
     "text": [
      "Epoch 11: 100%|██████████| 68/68 [05:35<00:00,  4.93s/it]\n",
      "Validation: 0it [00:00, ?it/s]\u001B[A\n",
      "Validation:   0%|          | 0/17 [00:00<?, ?it/s]\u001B[A\n",
      "Validation DataLoader 0:   0%|          | 0/17 [00:00<?, ?it/s]\u001B[A\n",
      "Validation DataLoader 0:   6%|▌         | 1/17 [00:01<00:31,  1.97s/it]\u001B[A\n",
      "Validation DataLoader 0:  12%|█▏        | 2/17 [00:04<00:32,  2.19s/it]\u001B[A\n",
      "Validation DataLoader 0:  18%|█▊        | 3/17 [00:06<00:30,  2.15s/it]\u001B[A\n",
      "Validation DataLoader 0:  24%|██▎       | 4/17 [00:08<00:27,  2.09s/it]\u001B[A\n",
      "Validation DataLoader 0:  29%|██▉       | 5/17 [00:10<00:24,  2.05s/it]\u001B[A\n",
      "Validation DataLoader 0:  35%|███▌      | 6/17 [00:12<00:22,  2.02s/it]\u001B[A\n",
      "Validation DataLoader 0:  41%|████      | 7/17 [00:13<00:19,  2.00s/it]\u001B[A\n",
      "Validation DataLoader 0:  47%|████▋     | 8/17 [00:15<00:17,  1.98s/it]\u001B[A\n",
      "Validation DataLoader 0:  53%|█████▎    | 9/17 [00:17<00:15,  1.97s/it]\u001B[A\n",
      "Validation DataLoader 0:  59%|█████▉    | 10/17 [00:19<00:13,  1.95s/it]\u001B[A\n",
      "Validation DataLoader 0:  65%|██████▍   | 11/17 [00:21<00:11,  1.94s/it]\u001B[A\n",
      "Validation DataLoader 0:  71%|███████   | 12/17 [00:23<00:09,  1.92s/it]\u001B[A\n",
      "Validation DataLoader 0:  76%|███████▋  | 13/17 [00:24<00:07,  1.91s/it]\u001B[A\n",
      "Validation DataLoader 0:  82%|████████▏ | 14/17 [00:26<00:05,  1.90s/it]\u001B[A\n",
      "Validation DataLoader 0:  88%|████████▊ | 15/17 [00:28<00:03,  1.88s/it]\u001B[A\n",
      "Validation DataLoader 0:  94%|█████████▍| 16/17 [00:29<00:01,  1.87s/it]\u001B[A\n",
      "Validation DataLoader 0: 100%|██████████| 17/17 [00:31<00:00,  1.86s/it]\u001B[A\n",
      "Epoch 11: 100%|██████████| 68/68 [06:07<00:00,  5.40s/it]               \u001B[A"
     ]
    },
    {
     "name": "stderr",
     "output_type": "stream",
     "text": [
      "Epoch 11, global step 24: 'val_map' reached 0.39281 (best 0.39281), saving model to '/Users/elnath/004_deep_learning/AutoGloun-Official/v1_0_0/docs/tutorials/multimodal/object_detection/quick_start/tmp/f9f49e23ced6420285658b64536de0a5-quick_start_tutorial_temp_save/epoch=11-step=24.ckpt' as top 1\n"
     ]
    },
    {
     "name": "stdout",
     "output_type": "stream",
     "text": [
      "Epoch 14: 100%|██████████| 68/68 [05:03<00:00,  4.46s/it]\n",
      "Validation: 0it [00:00, ?it/s]\u001B[A\n",
      "Validation:   0%|          | 0/17 [00:00<?, ?it/s]\u001B[A\n",
      "Validation DataLoader 0:   0%|          | 0/17 [00:00<?, ?it/s]\u001B[A\n",
      "Validation DataLoader 0:   6%|▌         | 1/17 [00:01<00:31,  1.99s/it]\u001B[A\n",
      "Validation DataLoader 0:  12%|█▏        | 2/17 [00:03<00:27,  1.84s/it]\u001B[A\n",
      "Validation DataLoader 0:  18%|█▊        | 3/17 [00:05<00:25,  1.80s/it]\u001B[A\n",
      "Validation DataLoader 0:  24%|██▎       | 4/17 [00:07<00:23,  1.78s/it]\u001B[A\n",
      "Validation DataLoader 0:  29%|██▉       | 5/17 [00:08<00:21,  1.76s/it]\u001B[A\n",
      "Validation DataLoader 0:  35%|███▌      | 6/17 [00:10<00:19,  1.79s/it]\u001B[A\n",
      "Validation DataLoader 0:  41%|████      | 7/17 [00:12<00:17,  1.78s/it]\u001B[A\n",
      "Validation DataLoader 0:  47%|████▋     | 8/17 [00:14<00:15,  1.78s/it]\u001B[A\n",
      "Validation DataLoader 0:  53%|█████▎    | 9/17 [00:16<00:14,  1.80s/it]\u001B[A\n",
      "Validation DataLoader 0:  59%|█████▉    | 10/17 [00:17<00:12,  1.78s/it]\u001B[A\n",
      "Validation DataLoader 0:  65%|██████▍   | 11/17 [00:19<00:10,  1.75s/it]\u001B[A\n",
      "Validation DataLoader 0:  71%|███████   | 12/17 [00:20<00:08,  1.75s/it]\u001B[A\n",
      "Validation DataLoader 0:  76%|███████▋  | 13/17 [00:22<00:06,  1.73s/it]\u001B[A\n",
      "Validation DataLoader 0:  82%|████████▏ | 14/17 [00:24<00:05,  1.73s/it]\u001B[A\n",
      "Validation DataLoader 0:  88%|████████▊ | 15/17 [00:25<00:03,  1.72s/it]\u001B[A\n",
      "Validation DataLoader 0:  94%|█████████▍| 16/17 [00:27<00:01,  1.72s/it]\u001B[A\n",
      "Validation DataLoader 0: 100%|██████████| 17/17 [00:29<00:00,  1.72s/it]\u001B[A\n",
      "Epoch 14: 100%|██████████| 68/68 [05:32<00:00,  4.89s/it]               \u001B[A"
     ]
    },
    {
     "name": "stderr",
     "output_type": "stream",
     "text": [
      "Epoch 14, global step 30: 'val_map' reached 0.40540 (best 0.40540), saving model to '/Users/elnath/004_deep_learning/AutoGloun-Official/v1_0_0/docs/tutorials/multimodal/object_detection/quick_start/tmp/f9f49e23ced6420285658b64536de0a5-quick_start_tutorial_temp_save/epoch=14-step=30.ckpt' as top 1\n"
     ]
    },
    {
     "name": "stdout",
     "output_type": "stream",
     "text": [
      "Epoch 17: 100%|██████████| 68/68 [05:49<00:00,  5.14s/it]\n",
      "Validation: 0it [00:00, ?it/s]\u001B[A\n",
      "Validation:   0%|          | 0/17 [00:00<?, ?it/s]\u001B[A\n",
      "Validation DataLoader 0:   0%|          | 0/17 [00:00<?, ?it/s]\u001B[A\n",
      "Validation DataLoader 0:   6%|▌         | 1/17 [00:01<00:26,  1.67s/it]\u001B[A\n",
      "Validation DataLoader 0:  12%|█▏        | 2/17 [00:03<00:24,  1.63s/it]\u001B[A\n",
      "Validation DataLoader 0:  18%|█▊        | 3/17 [00:04<00:22,  1.59s/it]\u001B[A\n",
      "Validation DataLoader 0:  24%|██▎       | 4/17 [00:06<00:20,  1.56s/it]\u001B[A\n",
      "Validation DataLoader 0:  29%|██▉       | 5/17 [00:07<00:18,  1.53s/it]\u001B[A\n",
      "Validation DataLoader 0:  35%|███▌      | 6/17 [00:09<00:16,  1.52s/it]\u001B[A\n",
      "Validation DataLoader 0:  41%|████      | 7/17 [00:10<00:15,  1.51s/it]\u001B[A\n",
      "Validation DataLoader 0:  47%|████▋     | 8/17 [00:11<00:13,  1.49s/it]\u001B[A\n",
      "Validation DataLoader 0:  53%|█████▎    | 9/17 [00:13<00:11,  1.49s/it]\u001B[A\n",
      "Validation DataLoader 0:  59%|█████▉    | 10/17 [00:15<00:10,  1.51s/it]\u001B[A\n",
      "Validation DataLoader 0:  65%|██████▍   | 11/17 [00:16<00:09,  1.52s/it]\u001B[A\n",
      "Validation DataLoader 0:  71%|███████   | 12/17 [00:18<00:07,  1.52s/it]\u001B[A\n",
      "Validation DataLoader 0:  76%|███████▋  | 13/17 [00:19<00:06,  1.52s/it]\u001B[A\n",
      "Validation DataLoader 0:  82%|████████▏ | 14/17 [00:21<00:04,  1.52s/it]\u001B[A\n",
      "Validation DataLoader 0:  88%|████████▊ | 15/17 [00:22<00:03,  1.51s/it]\u001B[A\n",
      "Validation DataLoader 0:  94%|█████████▍| 16/17 [00:24<00:01,  1.51s/it]\u001B[A\n",
      "Validation DataLoader 0: 100%|██████████| 17/17 [00:25<00:00,  1.51s/it]\u001B[A\n",
      "Epoch 17: 100%|██████████| 68/68 [06:15<00:00,  5.53s/it]               \u001B[A"
     ]
    },
    {
     "name": "stderr",
     "output_type": "stream",
     "text": [
      "Epoch 17, global step 36: 'val_map' reached 0.41936 (best 0.41936), saving model to '/Users/elnath/004_deep_learning/AutoGloun-Official/v1_0_0/docs/tutorials/multimodal/object_detection/quick_start/tmp/f9f49e23ced6420285658b64536de0a5-quick_start_tutorial_temp_save/epoch=17-step=36.ckpt' as top 1\n"
     ]
    },
    {
     "name": "stdout",
     "output_type": "stream",
     "text": [
      "Epoch 20: 100%|██████████| 68/68 [04:22<00:00,  3.86s/it]\n",
      "Validation: 0it [00:00, ?it/s]\u001B[A\n",
      "Validation:   0%|          | 0/17 [00:00<?, ?it/s]\u001B[A\n",
      "Validation DataLoader 0:   0%|          | 0/17 [00:00<?, ?it/s]\u001B[A\n",
      "Validation DataLoader 0:   6%|▌         | 1/17 [00:01<00:19,  1.24s/it]\u001B[A\n",
      "Validation DataLoader 0:  12%|█▏        | 2/17 [00:02<00:19,  1.27s/it]\u001B[A\n",
      "Validation DataLoader 0:  18%|█▊        | 3/17 [00:03<00:17,  1.27s/it]\u001B[A\n",
      "Validation DataLoader 0:  24%|██▎       | 4/17 [00:05<00:16,  1.27s/it]\u001B[A\n",
      "Validation DataLoader 0:  29%|██▉       | 5/17 [00:06<00:15,  1.28s/it]\u001B[A\n",
      "Validation DataLoader 0:  35%|███▌      | 6/17 [00:07<00:14,  1.27s/it]\u001B[A\n",
      "Validation DataLoader 0:  41%|████      | 7/17 [00:08<00:12,  1.27s/it]\u001B[A\n",
      "Validation DataLoader 0:  47%|████▋     | 8/17 [00:10<00:11,  1.28s/it]\u001B[A\n",
      "Validation DataLoader 0:  53%|█████▎    | 9/17 [00:11<00:10,  1.28s/it]\u001B[A\n",
      "Validation DataLoader 0:  59%|█████▉    | 10/17 [00:12<00:08,  1.29s/it]\u001B[A\n",
      "Validation DataLoader 0:  65%|██████▍   | 11/17 [00:14<00:07,  1.29s/it]\u001B[A\n",
      "Validation DataLoader 0:  71%|███████   | 12/17 [00:15<00:06,  1.29s/it]\u001B[A\n",
      "Validation DataLoader 0:  76%|███████▋  | 13/17 [00:16<00:05,  1.30s/it]\u001B[A\n",
      "Validation DataLoader 0:  82%|████████▏ | 14/17 [00:18<00:03,  1.30s/it]\u001B[A\n",
      "Validation DataLoader 0:  88%|████████▊ | 15/17 [00:19<00:02,  1.30s/it]\u001B[A\n",
      "Validation DataLoader 0:  94%|█████████▍| 16/17 [00:20<00:01,  1.30s/it]\u001B[A\n",
      "Validation DataLoader 0: 100%|██████████| 17/17 [00:22<00:00,  1.30s/it]\u001B[A\n",
      "Epoch 20: 100%|██████████| 68/68 [04:44<00:00,  4.19s/it]               \u001B[A"
     ]
    },
    {
     "name": "stderr",
     "output_type": "stream",
     "text": [
      "Epoch 20, global step 42: 'val_map' reached 0.42612 (best 0.42612), saving model to '/Users/elnath/004_deep_learning/AutoGloun-Official/v1_0_0/docs/tutorials/multimodal/object_detection/quick_start/tmp/f9f49e23ced6420285658b64536de0a5-quick_start_tutorial_temp_save/epoch=20-step=42.ckpt' as top 1\n"
     ]
    },
    {
     "name": "stdout",
     "output_type": "stream",
     "text": [
      "Epoch 23: 100%|██████████| 68/68 [04:26<00:00,  3.92s/it]\n",
      "Validation: 0it [00:00, ?it/s]\u001B[A\n",
      "Validation:   0%|          | 0/17 [00:00<?, ?it/s]\u001B[A\n",
      "Validation DataLoader 0:   0%|          | 0/17 [00:00<?, ?it/s]\u001B[A\n",
      "Validation DataLoader 0:   6%|▌         | 1/17 [00:01<00:22,  1.38s/it]\u001B[A\n",
      "Validation DataLoader 0:  12%|█▏        | 2/17 [00:02<00:20,  1.36s/it]\u001B[A\n",
      "Validation DataLoader 0:  18%|█▊        | 3/17 [00:04<00:19,  1.37s/it]\u001B[A\n",
      "Validation DataLoader 0:  24%|██▎       | 4/17 [00:05<00:17,  1.37s/it]\u001B[A\n",
      "Validation DataLoader 0:  29%|██▉       | 5/17 [00:06<00:16,  1.38s/it]\u001B[A\n",
      "Validation DataLoader 0:  35%|███▌      | 6/17 [00:08<00:15,  1.37s/it]\u001B[A\n",
      "Validation DataLoader 0:  41%|████      | 7/17 [00:09<00:13,  1.38s/it]\u001B[A\n",
      "Validation DataLoader 0:  47%|████▋     | 8/17 [00:11<00:12,  1.39s/it]\u001B[A\n",
      "Validation DataLoader 0:  53%|█████▎    | 9/17 [00:12<00:11,  1.39s/it]\u001B[A\n",
      "Validation DataLoader 0:  59%|█████▉    | 10/17 [00:13<00:09,  1.37s/it]\u001B[A\n",
      "Validation DataLoader 0:  65%|██████▍   | 11/17 [00:15<00:08,  1.37s/it]\u001B[A\n",
      "Validation DataLoader 0:  71%|███████   | 12/17 [00:16<00:06,  1.37s/it]\u001B[A\n",
      "Validation DataLoader 0:  76%|███████▋  | 13/17 [00:17<00:05,  1.37s/it]\u001B[A\n",
      "Validation DataLoader 0:  82%|████████▏ | 14/17 [00:19<00:04,  1.38s/it]\u001B[A\n",
      "Validation DataLoader 0:  88%|████████▊ | 15/17 [00:21<00:02,  1.40s/it]\u001B[A\n",
      "Validation DataLoader 0:  94%|█████████▍| 16/17 [00:22<00:01,  1.40s/it]\u001B[A\n",
      "Validation DataLoader 0: 100%|██████████| 17/17 [00:23<00:00,  1.41s/it]\u001B[A\n",
      "Epoch 23: 100%|██████████| 68/68 [04:50<00:00,  4.28s/it]               \u001B[A"
     ]
    },
    {
     "name": "stderr",
     "output_type": "stream",
     "text": [
      "Epoch 23, global step 48: 'val_map' reached 0.43275 (best 0.43275), saving model to '/Users/elnath/004_deep_learning/AutoGloun-Official/v1_0_0/docs/tutorials/multimodal/object_detection/quick_start/tmp/f9f49e23ced6420285658b64536de0a5-quick_start_tutorial_temp_save/epoch=23-step=48.ckpt' as top 1\n"
     ]
    },
    {
     "name": "stdout",
     "output_type": "stream",
     "text": [
      "Epoch 26: 100%|██████████| 68/68 [04:31<00:00,  3.99s/it]\n",
      "Validation: 0it [00:00, ?it/s]\u001B[A\n",
      "Validation:   0%|          | 0/17 [00:00<?, ?it/s]\u001B[A\n",
      "Validation DataLoader 0:   0%|          | 0/17 [00:00<?, ?it/s]\u001B[A\n",
      "Validation DataLoader 0:   6%|▌         | 1/17 [00:01<00:25,  1.61s/it]\u001B[A\n",
      "Validation DataLoader 0:  12%|█▏        | 2/17 [00:02<00:22,  1.50s/it]\u001B[A\n",
      "Validation DataLoader 0:  18%|█▊        | 3/17 [00:04<00:20,  1.44s/it]\u001B[A\n",
      "Validation DataLoader 0:  24%|██▎       | 4/17 [00:05<00:18,  1.42s/it]\u001B[A\n",
      "Validation DataLoader 0:  29%|██▉       | 5/17 [00:07<00:16,  1.41s/it]\u001B[A\n",
      "Validation DataLoader 0:  35%|███▌      | 6/17 [00:08<00:15,  1.40s/it]\u001B[A\n",
      "Validation DataLoader 0:  41%|████      | 7/17 [00:09<00:13,  1.39s/it]\u001B[A\n",
      "Validation DataLoader 0:  47%|████▋     | 8/17 [00:11<00:12,  1.38s/it]\u001B[A\n",
      "Validation DataLoader 0:  53%|█████▎    | 9/17 [00:12<00:11,  1.38s/it]\u001B[A\n",
      "Validation DataLoader 0:  59%|█████▉    | 10/17 [00:13<00:09,  1.38s/it]\u001B[A\n",
      "Validation DataLoader 0:  65%|██████▍   | 11/17 [00:15<00:08,  1.38s/it]\u001B[A\n",
      "Validation DataLoader 0:  71%|███████   | 12/17 [00:16<00:06,  1.38s/it]\u001B[A\n",
      "Validation DataLoader 0:  76%|███████▋  | 13/17 [00:17<00:05,  1.38s/it]\u001B[A\n",
      "Validation DataLoader 0:  82%|████████▏ | 14/17 [00:19<00:04,  1.38s/it]\u001B[A\n",
      "Validation DataLoader 0:  88%|████████▊ | 15/17 [00:20<00:02,  1.38s/it]\u001B[A\n",
      "Validation DataLoader 0:  94%|█████████▍| 16/17 [00:22<00:01,  1.38s/it]\u001B[A\n",
      "Validation DataLoader 0: 100%|██████████| 17/17 [00:23<00:00,  1.38s/it]\u001B[A\n",
      "Epoch 26: 100%|██████████| 68/68 [04:54<00:00,  4.34s/it]               \u001B[A"
     ]
    },
    {
     "name": "stderr",
     "output_type": "stream",
     "text": [
      "Epoch 26, global step 54: 'val_map' reached 0.43312 (best 0.43312), saving model to '/Users/elnath/004_deep_learning/AutoGloun-Official/v1_0_0/docs/tutorials/multimodal/object_detection/quick_start/tmp/f9f49e23ced6420285658b64536de0a5-quick_start_tutorial_temp_save/epoch=26-step=54.ckpt' as top 1\n"
     ]
    },
    {
     "name": "stdout",
     "output_type": "stream",
     "text": [
      "Epoch 29: 100%|██████████| 68/68 [04:26<00:00,  3.92s/it]\n",
      "Validation: 0it [00:00, ?it/s]\u001B[A\n",
      "Validation:   0%|          | 0/17 [00:00<?, ?it/s]\u001B[A\n",
      "Validation DataLoader 0:   0%|          | 0/17 [00:00<?, ?it/s]\u001B[A\n",
      "Validation DataLoader 0:   6%|▌         | 1/17 [00:01<00:21,  1.36s/it]\u001B[A\n",
      "Validation DataLoader 0:  12%|█▏        | 2/17 [00:02<00:19,  1.31s/it]\u001B[A\n",
      "Validation DataLoader 0:  18%|█▊        | 3/17 [00:03<00:17,  1.28s/it]\u001B[A\n",
      "Validation DataLoader 0:  24%|██▎       | 4/17 [00:05<00:16,  1.28s/it]\u001B[A\n",
      "Validation DataLoader 0:  29%|██▉       | 5/17 [00:06<00:15,  1.27s/it]\u001B[A\n",
      "Validation DataLoader 0:  35%|███▌      | 6/17 [00:07<00:14,  1.28s/it]\u001B[A\n",
      "Validation DataLoader 0:  41%|████      | 7/17 [00:08<00:12,  1.27s/it]\u001B[A\n",
      "Validation DataLoader 0:  47%|████▋     | 8/17 [00:10<00:11,  1.28s/it]\u001B[A\n",
      "Validation DataLoader 0:  53%|█████▎    | 9/17 [00:11<00:10,  1.33s/it]\u001B[A\n",
      "Validation DataLoader 0:  59%|█████▉    | 10/17 [00:13<00:09,  1.33s/it]\u001B[A\n",
      "Validation DataLoader 0:  65%|██████▍   | 11/17 [00:14<00:08,  1.33s/it]\u001B[A\n",
      "Validation DataLoader 0:  71%|███████   | 12/17 [00:16<00:06,  1.35s/it]\u001B[A\n",
      "Validation DataLoader 0:  76%|███████▋  | 13/17 [00:17<00:05,  1.35s/it]\u001B[A\n",
      "Validation DataLoader 0:  82%|████████▏ | 14/17 [00:18<00:04,  1.35s/it]\u001B[A\n",
      "Validation DataLoader 0:  88%|████████▊ | 15/17 [00:20<00:02,  1.35s/it]\u001B[A\n",
      "Validation DataLoader 0:  94%|█████████▍| 16/17 [00:21<00:01,  1.35s/it]\u001B[A\n",
      "Validation DataLoader 0: 100%|██████████| 17/17 [00:22<00:00,  1.35s/it]\u001B[A\n",
      "Epoch 29: 100%|██████████| 68/68 [04:49<00:00,  4.26s/it]               \u001B[A"
     ]
    },
    {
     "name": "stderr",
     "output_type": "stream",
     "text": [
      "Epoch 29, global step 60: 'val_map' was not in top 1\n"
     ]
    },
    {
     "name": "stdout",
     "output_type": "stream",
     "text": [
      "Epoch 32: 100%|██████████| 68/68 [04:27<00:00,  3.93s/it]\n",
      "Validation: 0it [00:00, ?it/s]\u001B[A\n",
      "Validation:   0%|          | 0/17 [00:00<?, ?it/s]\u001B[A\n",
      "Validation DataLoader 0:   0%|          | 0/17 [00:00<?, ?it/s]\u001B[A\n",
      "Validation DataLoader 0:   6%|▌         | 1/17 [00:01<00:21,  1.35s/it]\u001B[A\n",
      "Validation DataLoader 0:  12%|█▏        | 2/17 [00:02<00:19,  1.27s/it]\u001B[A\n",
      "Validation DataLoader 0:  18%|█▊        | 3/17 [00:03<00:17,  1.26s/it]\u001B[A\n",
      "Validation DataLoader 0:  24%|██▎       | 4/17 [00:05<00:16,  1.26s/it]\u001B[A\n",
      "Validation DataLoader 0:  29%|██▉       | 5/17 [00:06<00:15,  1.27s/it]\u001B[A\n",
      "Validation DataLoader 0:  35%|███▌      | 6/17 [00:07<00:14,  1.27s/it]\u001B[A\n",
      "Validation DataLoader 0:  41%|████      | 7/17 [00:08<00:12,  1.28s/it]\u001B[A\n",
      "Validation DataLoader 0:  47%|████▋     | 8/17 [00:10<00:11,  1.27s/it]\u001B[A\n",
      "Validation DataLoader 0:  53%|█████▎    | 9/17 [00:11<00:10,  1.27s/it]\u001B[A\n",
      "Validation DataLoader 0:  59%|█████▉    | 10/17 [00:12<00:08,  1.27s/it]\u001B[A\n",
      "Validation DataLoader 0:  65%|██████▍   | 11/17 [00:14<00:07,  1.28s/it]\u001B[A\n",
      "Validation DataLoader 0:  71%|███████   | 12/17 [00:15<00:06,  1.29s/it]\u001B[A\n",
      "Validation DataLoader 0:  76%|███████▋  | 13/17 [00:16<00:05,  1.29s/it]\u001B[A\n",
      "Validation DataLoader 0:  82%|████████▏ | 14/17 [00:18<00:03,  1.29s/it]\u001B[A\n",
      "Validation DataLoader 0:  88%|████████▊ | 15/17 [00:19<00:02,  1.29s/it]\u001B[A\n",
      "Validation DataLoader 0:  94%|█████████▍| 16/17 [00:20<00:01,  1.29s/it]\u001B[A\n",
      "Validation DataLoader 0: 100%|██████████| 17/17 [00:21<00:00,  1.29s/it]\u001B[A\n",
      "Epoch 32: 100%|██████████| 68/68 [04:49<00:00,  4.25s/it]               \u001B[A"
     ]
    },
    {
     "name": "stderr",
     "output_type": "stream",
     "text": [
      "Epoch 32, global step 66: 'val_map' reached 0.43421 (best 0.43421), saving model to '/Users/elnath/004_deep_learning/AutoGloun-Official/v1_0_0/docs/tutorials/multimodal/object_detection/quick_start/tmp/f9f49e23ced6420285658b64536de0a5-quick_start_tutorial_temp_save/epoch=32-step=66.ckpt' as top 1\n"
     ]
    },
    {
     "name": "stdout",
     "output_type": "stream",
     "text": [
      "Epoch 35: 100%|██████████| 68/68 [05:20<00:00,  4.71s/it]\n",
      "Validation: 0it [00:00, ?it/s]\u001B[A\n",
      "Validation:   0%|          | 0/17 [00:00<?, ?it/s]\u001B[A\n",
      "Validation DataLoader 0:   0%|          | 0/17 [00:00<?, ?it/s]\u001B[A\n",
      "Validation DataLoader 0:   6%|▌         | 1/17 [00:02<00:36,  2.26s/it]\u001B[A\n",
      "Validation DataLoader 0:  12%|█▏        | 2/17 [00:04<00:31,  2.11s/it]\u001B[A\n",
      "Validation DataLoader 0:  18%|█▊        | 3/17 [00:06<00:29,  2.10s/it]\u001B[A\n",
      "Validation DataLoader 0:  24%|██▎       | 4/17 [00:08<00:26,  2.06s/it]\u001B[A\n",
      "Validation DataLoader 0:  29%|██▉       | 5/17 [00:10<00:24,  2.07s/it]\u001B[A\n",
      "Validation DataLoader 0:  35%|███▌      | 6/17 [00:12<00:22,  2.08s/it]\u001B[A\n",
      "Validation DataLoader 0:  41%|████      | 7/17 [00:14<00:20,  2.04s/it]\u001B[A\n",
      "Validation DataLoader 0:  47%|████▋     | 8/17 [00:15<00:17,  1.99s/it]\u001B[A\n",
      "Validation DataLoader 0:  53%|█████▎    | 9/17 [00:17<00:15,  1.94s/it]\u001B[A\n",
      "Validation DataLoader 0:  59%|█████▉    | 10/17 [00:19<00:13,  1.91s/it]\u001B[A\n",
      "Validation DataLoader 0:  65%|██████▍   | 11/17 [00:20<00:11,  1.87s/it]\u001B[A\n",
      "Validation DataLoader 0:  71%|███████   | 12/17 [00:22<00:09,  1.84s/it]\u001B[A\n",
      "Validation DataLoader 0:  76%|███████▋  | 13/17 [00:23<00:07,  1.81s/it]\u001B[A\n",
      "Validation DataLoader 0:  82%|████████▏ | 14/17 [00:24<00:05,  1.78s/it]\u001B[A\n",
      "Validation DataLoader 0:  88%|████████▊ | 15/17 [00:26<00:03,  1.76s/it]\u001B[A\n",
      "Validation DataLoader 0:  94%|█████████▍| 16/17 [00:27<00:01,  1.75s/it]\u001B[A\n",
      "Validation DataLoader 0: 100%|██████████| 17/17 [00:29<00:00,  1.72s/it]\u001B[A\n",
      "Epoch 35: 100%|██████████| 68/68 [05:49<00:00,  5.14s/it]               \u001B[A"
     ]
    },
    {
     "name": "stderr",
     "output_type": "stream",
     "text": [
      "Epoch 35, global step 72: 'val_map' was not in top 1\n"
     ]
    },
    {
     "name": "stdout",
     "output_type": "stream",
     "text": [
      "Epoch 38: 100%|██████████| 68/68 [04:40<00:00,  4.12s/it]\n",
      "Validation: 0it [00:00, ?it/s]\u001B[A\n",
      "Validation:   0%|          | 0/17 [00:00<?, ?it/s]\u001B[A\n",
      "Validation DataLoader 0:   0%|          | 0/17 [00:00<?, ?it/s]\u001B[A\n",
      "Validation DataLoader 0:   6%|▌         | 1/17 [00:01<00:21,  1.31s/it]\u001B[A\n",
      "Validation DataLoader 0:  12%|█▏        | 2/17 [00:02<00:19,  1.29s/it]\u001B[A\n",
      "Validation DataLoader 0:  18%|█▊        | 3/17 [00:03<00:18,  1.29s/it]\u001B[A\n",
      "Validation DataLoader 0:  24%|██▎       | 4/17 [00:05<00:16,  1.29s/it]\u001B[A\n",
      "Validation DataLoader 0:  29%|██▉       | 5/17 [00:06<00:15,  1.30s/it]\u001B[A\n",
      "Validation DataLoader 0:  35%|███▌      | 6/17 [00:07<00:14,  1.32s/it]\u001B[A\n",
      "Validation DataLoader 0:  41%|████      | 7/17 [00:09<00:13,  1.34s/it]\u001B[A\n",
      "Validation DataLoader 0:  47%|████▋     | 8/17 [00:10<00:12,  1.34s/it]\u001B[A\n",
      "Validation DataLoader 0:  53%|█████▎    | 9/17 [00:12<00:10,  1.34s/it]\u001B[A\n",
      "Validation DataLoader 0:  59%|█████▉    | 10/17 [00:13<00:09,  1.36s/it]\u001B[A\n",
      "Validation DataLoader 0:  65%|██████▍   | 11/17 [00:14<00:08,  1.36s/it]\u001B[A\n",
      "Validation DataLoader 0:  71%|███████   | 12/17 [00:16<00:06,  1.37s/it]\u001B[A\n",
      "Validation DataLoader 0:  76%|███████▋  | 13/17 [00:17<00:05,  1.38s/it]\u001B[A\n",
      "Validation DataLoader 0:  82%|████████▏ | 14/17 [00:19<00:04,  1.39s/it]\u001B[A\n",
      "Validation DataLoader 0:  88%|████████▊ | 15/17 [00:20<00:02,  1.39s/it]\u001B[A\n",
      "Validation DataLoader 0:  94%|█████████▍| 16/17 [00:22<00:01,  1.39s/it]\u001B[A\n",
      "Validation DataLoader 0: 100%|██████████| 17/17 [00:23<00:00,  1.39s/it]\u001B[A\n",
      "Epoch 38: 100%|██████████| 68/68 [05:04<00:00,  4.48s/it]               \u001B[A"
     ]
    },
    {
     "name": "stderr",
     "output_type": "stream",
     "text": [
      "Epoch 38, global step 78: 'val_map' reached 0.43447 (best 0.43447), saving model to '/Users/elnath/004_deep_learning/AutoGloun-Official/v1_0_0/docs/tutorials/multimodal/object_detection/quick_start/tmp/f9f49e23ced6420285658b64536de0a5-quick_start_tutorial_temp_save/epoch=38-step=78.ckpt' as top 1\n"
     ]
    },
    {
     "name": "stdout",
     "output_type": "stream",
     "text": [
      "Epoch 41: 100%|██████████| 68/68 [04:33<00:00,  4.02s/it]\n",
      "Validation: 0it [00:00, ?it/s]\u001B[A\n",
      "Validation:   0%|          | 0/17 [00:00<?, ?it/s]\u001B[A\n",
      "Validation DataLoader 0:   0%|          | 0/17 [00:00<?, ?it/s]\u001B[A\n",
      "Validation DataLoader 0:   6%|▌         | 1/17 [00:01<00:20,  1.26s/it]\u001B[A\n",
      "Validation DataLoader 0:  12%|█▏        | 2/17 [00:02<00:19,  1.28s/it]\u001B[A\n",
      "Validation DataLoader 0:  18%|█▊        | 3/17 [00:03<00:18,  1.29s/it]\u001B[A\n",
      "Validation DataLoader 0:  24%|██▎       | 4/17 [00:05<00:16,  1.28s/it]\u001B[A\n",
      "Validation DataLoader 0:  29%|██▉       | 5/17 [00:06<00:15,  1.28s/it]\u001B[A\n",
      "Validation DataLoader 0:  35%|███▌      | 6/17 [00:07<00:13,  1.27s/it]\u001B[A\n",
      "Validation DataLoader 0:  41%|████      | 7/17 [00:08<00:12,  1.27s/it]\u001B[A\n",
      "Validation DataLoader 0:  47%|████▋     | 8/17 [00:10<00:11,  1.26s/it]\u001B[A\n",
      "Validation DataLoader 0:  53%|█████▎    | 9/17 [00:11<00:10,  1.26s/it]\u001B[A\n",
      "Validation DataLoader 0:  59%|█████▉    | 10/17 [00:12<00:08,  1.27s/it]\u001B[A\n",
      "Validation DataLoader 0:  65%|██████▍   | 11/17 [00:13<00:07,  1.27s/it]\u001B[A\n",
      "Validation DataLoader 0:  71%|███████   | 12/17 [00:15<00:06,  1.27s/it]\u001B[A\n",
      "Validation DataLoader 0:  76%|███████▋  | 13/17 [00:16<00:05,  1.27s/it]\u001B[A\n",
      "Validation DataLoader 0:  82%|████████▏ | 14/17 [00:17<00:03,  1.28s/it]\u001B[A\n",
      "Validation DataLoader 0:  88%|████████▊ | 15/17 [00:19<00:02,  1.28s/it]\u001B[A\n",
      "Validation DataLoader 0:  94%|█████████▍| 16/17 [00:20<00:01,  1.28s/it]\u001B[A\n",
      "Validation DataLoader 0: 100%|██████████| 17/17 [00:21<00:00,  1.27s/it]\u001B[A\n",
      "Epoch 41: 100%|██████████| 68/68 [04:55<00:00,  4.34s/it]               \u001B[A"
     ]
    },
    {
     "name": "stderr",
     "output_type": "stream",
     "text": [
      "Epoch 41, global step 84: 'val_map' reached 0.43743 (best 0.43743), saving model to '/Users/elnath/004_deep_learning/AutoGloun-Official/v1_0_0/docs/tutorials/multimodal/object_detection/quick_start/tmp/f9f49e23ced6420285658b64536de0a5-quick_start_tutorial_temp_save/epoch=41-step=84.ckpt' as top 1\n"
     ]
    },
    {
     "name": "stdout",
     "output_type": "stream",
     "text": [
      "Epoch 44: 100%|██████████| 68/68 [04:25<00:00,  3.90s/it]\n",
      "Validation: 0it [00:00, ?it/s]\u001B[A\n",
      "Validation:   0%|          | 0/17 [00:00<?, ?it/s]\u001B[A\n",
      "Validation DataLoader 0:   0%|          | 0/17 [00:00<?, ?it/s]\u001B[A\n",
      "Validation DataLoader 0:   6%|▌         | 1/17 [00:01<00:20,  1.31s/it]\u001B[A\n",
      "Validation DataLoader 0:  12%|█▏        | 2/17 [00:02<00:20,  1.35s/it]\u001B[A\n",
      "Validation DataLoader 0:  18%|█▊        | 3/17 [00:04<00:18,  1.34s/it]\u001B[A\n",
      "Validation DataLoader 0:  24%|██▎       | 4/17 [00:05<00:17,  1.32s/it]\u001B[A\n",
      "Validation DataLoader 0:  29%|██▉       | 5/17 [00:06<00:15,  1.31s/it]\u001B[A\n",
      "Validation DataLoader 0:  35%|███▌      | 6/17 [00:07<00:14,  1.33s/it]\u001B[A\n",
      "Validation DataLoader 0:  41%|████      | 7/17 [00:09<00:13,  1.33s/it]\u001B[A\n",
      "Validation DataLoader 0:  47%|████▋     | 8/17 [00:10<00:12,  1.33s/it]\u001B[A\n",
      "Validation DataLoader 0:  53%|█████▎    | 9/17 [00:12<00:10,  1.33s/it]\u001B[A\n",
      "Validation DataLoader 0:  59%|█████▉    | 10/17 [00:13<00:09,  1.34s/it]\u001B[A\n",
      "Validation DataLoader 0:  65%|██████▍   | 11/17 [00:14<00:08,  1.34s/it]\u001B[A\n",
      "Validation DataLoader 0:  71%|███████   | 12/17 [00:16<00:06,  1.36s/it]\u001B[A\n",
      "Validation DataLoader 0:  76%|███████▋  | 13/17 [00:17<00:05,  1.36s/it]\u001B[A\n",
      "Validation DataLoader 0:  82%|████████▏ | 14/17 [00:19<00:04,  1.37s/it]\u001B[A\n",
      "Validation DataLoader 0:  88%|████████▊ | 15/17 [00:20<00:02,  1.37s/it]\u001B[A\n",
      "Validation DataLoader 0:  94%|█████████▍| 16/17 [00:21<00:01,  1.36s/it]\u001B[A\n",
      "Validation DataLoader 0: 100%|██████████| 17/17 [00:23<00:00,  1.36s/it]\u001B[A\n",
      "Epoch 44: 100%|██████████| 68/68 [04:48<00:00,  4.25s/it]               \u001B[A"
     ]
    },
    {
     "name": "stderr",
     "output_type": "stream",
     "text": [
      "Epoch 44, global step 90: 'val_map' reached 0.44095 (best 0.44095), saving model to '/Users/elnath/004_deep_learning/AutoGloun-Official/v1_0_0/docs/tutorials/multimodal/object_detection/quick_start/tmp/f9f49e23ced6420285658b64536de0a5-quick_start_tutorial_temp_save/epoch=44-step=90.ckpt' as top 1\n"
     ]
    },
    {
     "name": "stdout",
     "output_type": "stream",
     "text": [
      "Epoch 47: 100%|██████████| 68/68 [04:26<00:00,  3.93s/it]\n",
      "Validation: 0it [00:00, ?it/s]\u001B[A\n",
      "Validation:   0%|          | 0/17 [00:00<?, ?it/s]\u001B[A\n",
      "Validation DataLoader 0:   0%|          | 0/17 [00:00<?, ?it/s]\u001B[A\n",
      "Validation DataLoader 0:   6%|▌         | 1/17 [00:01<00:20,  1.30s/it]\u001B[A\n",
      "Validation DataLoader 0:  12%|█▏        | 2/17 [00:02<00:18,  1.25s/it]\u001B[A\n",
      "Validation DataLoader 0:  18%|█▊        | 3/17 [00:03<00:17,  1.24s/it]\u001B[A\n",
      "Validation DataLoader 0:  24%|██▎       | 4/17 [00:04<00:16,  1.24s/it]\u001B[A\n",
      "Validation DataLoader 0:  29%|██▉       | 5/17 [00:06<00:14,  1.24s/it]\u001B[A\n",
      "Validation DataLoader 0:  35%|███▌      | 6/17 [00:07<00:13,  1.26s/it]\u001B[A\n",
      "Validation DataLoader 0:  41%|████      | 7/17 [00:08<00:12,  1.26s/it]\u001B[A\n",
      "Validation DataLoader 0:  47%|████▋     | 8/17 [00:10<00:11,  1.26s/it]\u001B[A\n",
      "Validation DataLoader 0:  53%|█████▎    | 9/17 [00:11<00:10,  1.27s/it]\u001B[A\n",
      "Validation DataLoader 0:  59%|█████▉    | 10/17 [00:12<00:08,  1.28s/it]\u001B[A\n",
      "Validation DataLoader 0:  65%|██████▍   | 11/17 [00:14<00:07,  1.28s/it]\u001B[A\n",
      "Validation DataLoader 0:  71%|███████   | 12/17 [00:15<00:06,  1.28s/it]\u001B[A\n",
      "Validation DataLoader 0:  76%|███████▋  | 13/17 [00:16<00:05,  1.28s/it]\u001B[A\n",
      "Validation DataLoader 0:  82%|████████▏ | 14/17 [00:18<00:03,  1.29s/it]\u001B[A\n",
      "Validation DataLoader 0:  88%|████████▊ | 15/17 [00:19<00:02,  1.29s/it]\u001B[A\n",
      "Validation DataLoader 0:  94%|█████████▍| 16/17 [00:20<00:01,  1.30s/it]\u001B[A\n",
      "Validation DataLoader 0: 100%|██████████| 17/17 [00:22<00:00,  1.31s/it]\u001B[A\n",
      "Epoch 47: 100%|██████████| 68/68 [04:49<00:00,  4.26s/it]               \u001B[A"
     ]
    },
    {
     "name": "stderr",
     "output_type": "stream",
     "text": [
      "Epoch 47, global step 96: 'val_map' was not in top 1\n"
     ]
    },
    {
     "name": "stdout",
     "output_type": "stream",
     "text": [
      "Epoch 48:  25%|██▌       | 17/68 [01:17<03:53,  4.57s/it]"
     ]
    }
   ],
   "source": [
    "start = time.time()\n",
    "predictor.fit(train_path)  # Fit\n",
    "train_end = time.time()"
   ]
  },
  {
   "cell_type": "markdown",
   "id": "21c2f9c3",
   "metadata": {},
   "source": [
    "Notice that at the end of each progress bar, if the checkpoint at current stage is saved,\n",
    "it prints the model's save path.\n",
    "In this example, it's `./quick_start_tutorial_temp_save`.\n",
    "\n",
    "Print out the time and we can see that it's fast!"
   ]
  },
  {
   "cell_type": "code",
   "execution_count": null,
   "id": "1b4d02d9",
   "metadata": {
    "is_executing": true
   },
   "outputs": [],
   "source": [
    "print(\"This finetuning takes %.2f seconds.\" % (train_end - start))"
   ]
  },
  {
   "cell_type": "markdown",
   "id": "4dcc501d",
   "metadata": {},
   "source": [
    "## Evaluation\n",
    "\n",
    "To evaluate the model we just trained, run following code.\n",
    "\n",
    "And the evaluation results are shown in command line output. \n",
    "The first line is mAP in COCO standard, and the second line is mAP in VOC standard (or mAP50). \n",
    "For more details about these metrics, see [COCO's evaluation guideline](https://cocodataset.org/#detection-eval).\n",
    "Note that for presenting a fast finetuning we use presets \"medium_quality\", \n",
    "you could get better result on this dataset by simply using \"high_quality\" or \"best_quality\" presets, \n",
    "or customize your own model and hyperparameter settings: [Customization](../../advanced_topics/customization.ipynb), and some other examples at [Fast Fine-tune Coco](../finetune/detection_fast_finetune_coco) or [High Performance Fine-tune Coco](../finetune/detection_high_performance_finetune_coco)."
   ]
  },
  {
   "cell_type": "code",
   "execution_count": null,
   "id": "8face95d",
   "metadata": {
    "is_executing": true
   },
   "outputs": [],
   "source": [
    "predictor.evaluate(test_path)\n",
    "eval_end = time.time()"
   ]
  },
  {
   "cell_type": "markdown",
   "id": "9b9793cc",
   "metadata": {},
   "source": [
    "Print out the evaluation time:"
   ]
  },
  {
   "cell_type": "code",
   "execution_count": null,
   "id": "060144e3",
   "metadata": {
    "is_executing": true
   },
   "outputs": [],
   "source": [
    "print(\"The evaluation takes %.2f seconds.\" % (eval_end - train_end))"
   ]
  },
  {
   "cell_type": "markdown",
   "id": "ae1e5665",
   "metadata": {},
   "source": [
    "We can load a new predictor with previous save_path,\n",
    "and we can also reset the number of GPUs to use if not all the devices are available:"
   ]
  },
  {
   "cell_type": "code",
   "execution_count": null,
   "id": "c8bf5a84",
   "metadata": {
    "is_executing": true
   },
   "outputs": [],
   "source": [
    "# Load and reset num_gpus\n",
    "new_predictor = MultiModalPredictor.load(model_path)\n",
    "new_predictor.set_num_gpus(1)"
   ]
  },
  {
   "cell_type": "markdown",
   "id": "e6c906c0",
   "metadata": {},
   "source": [
    "Evaluating the new predictor gives us exactly the same result:"
   ]
  },
  {
   "cell_type": "code",
   "execution_count": null,
   "id": "bc23738a",
   "metadata": {
    "is_executing": true
   },
   "outputs": [],
   "source": [
    "# Evaluate new predictor\n",
    "new_predictor.evaluate(test_path)"
   ]
  },
  {
   "cell_type": "markdown",
   "id": "1de5ce66",
   "metadata": {},
   "source": [
    "For how to set the hyperparameters and finetune the model with higher performance, \n",
    "see [AutoMM Detection - High Performance Finetune on COCO Format Dataset](../finetune/detection_high_performance_finetune_coco.ipynb).\n",
    "\n",
    "## Inference\n",
    "Now that we have gone through the model setup, finetuning, and evaluation, this section details the inference. \n",
    "Specifically, we layout the steps for using the model to make predictions and visualize the results.\n",
    "\n",
    "To run inference on the entire test set, perform:"
   ]
  },
  {
   "cell_type": "code",
   "execution_count": null,
   "id": "8ce6e910",
   "metadata": {
    "is_executing": true
   },
   "outputs": [],
   "source": [
    "pred = predictor.predict(test_path)\n",
    "print(pred)"
   ]
  },
  {
   "cell_type": "markdown",
   "id": "db52a92f",
   "metadata": {},
   "source": [
    "The output `pred` is a `pandas` `DataFrame` that has two columns, `image` and `bboxes`.\n",
    "\n",
    "In `image`, each row contains the image path\n",
    "\n",
    "In `bboxes`, each row is a list of dictionaries, each one representing a bounding box: `{\"class\": <predicted_class_name>, \"bbox\": [x1, y1, x2, y2], \"score\": <confidence_score>}`\n",
    "\n",
    "Note that, by default, the `predictor.predict` does not save the detection results into a file.\n",
    "\n",
    "To run inference and save results, run the following:"
   ]
  },
  {
   "cell_type": "code",
   "execution_count": null,
   "id": "19bd5152",
   "metadata": {
    "is_executing": true
   },
   "outputs": [],
   "source": [
    "pred = predictor.predict(test_path, save_results=True)"
   ]
  },
  {
   "cell_type": "markdown",
   "id": "a987bc2d",
   "metadata": {},
   "source": [
    "Here, we save `pred` into a `.txt` file, which exactly follows the same layout as in `pred`.\n",
    "You can use a predictor initialized in any way (i.e. finetuned predictor, predictor with pretrained model, etc.).\n",
    "\n",
    "## Visualizing Results\n",
    "To run visualizations, ensure that you have `opencv` installed. If you haven't already, install `opencv` by running"
   ]
  },
  {
   "cell_type": "code",
   "execution_count": null,
   "id": "d3c26f03",
   "metadata": {
    "is_executing": true
   },
   "outputs": [],
   "source": [
    "# !pip install opencv-python"
   ]
  },
  {
   "cell_type": "markdown",
   "id": "8221cc2b",
   "metadata": {},
   "source": [
    "To visualize the detection bounding boxes, run the following:"
   ]
  },
  {
   "cell_type": "code",
   "execution_count": null,
   "id": "3c2c5c04",
   "metadata": {
    "is_executing": true
   },
   "outputs": [],
   "source": [
    "from autogluon.multimodal.utils import ObjectDetectionVisualizer\n",
    "\n",
    "conf_threshold = 0.4  # Specify a confidence threshold to filter out unwanted boxes\n",
    "image_result = pred.iloc[30]\n",
    "\n",
    "img_path = image_result.image  # Select an image to visualize\n",
    "\n",
    "visualizer = ObjectDetectionVisualizer(img_path)  # Initialize the Visualizer\n",
    "out = visualizer.draw_instance_predictions(image_result, conf_threshold=conf_threshold)  # Draw detections\n",
    "visualized = out.get_image()  # Get the visualized image\n",
    "\n",
    "from PIL import Image\n",
    "from IPython.display import display\n",
    "img = Image.fromarray(visualized, 'RGB')\n",
    "display(img)"
   ]
  },
  {
   "attachments": {},
   "cell_type": "markdown",
   "id": "df6f645e",
   "metadata": {},
   "source": [
    "## Testing on Your Own Data\n",
    "You can also predict on your own images with various input format. The follow is an example:\n",
    "\n",
    "Download the example image:"
   ]
  },
  {
   "cell_type": "code",
   "execution_count": null,
   "id": "104ab1d4",
   "metadata": {
    "is_executing": true
   },
   "outputs": [],
   "source": [
    "from autogluon.multimodal import download\n",
    "image_url = \"https://raw.githubusercontent.com/dmlc/web-data/master/gluoncv/detection/street_small.jpg\"\n",
    "test_image = download(image_url)"
   ]
  },
  {
   "attachments": {},
   "cell_type": "markdown",
   "id": "c516aabd",
   "metadata": {},
   "source": [
    "Run inference on data in a json file of COCO format (See [Convert Data to COCO Format](../data_preparation/convert_data_to_coco_format.ipynb) for more details about COCO format). Note that since the root is by default the parent folder of the annotation file, here we put the annotation file in a folder:"
   ]
  },
  {
   "cell_type": "code",
   "execution_count": null,
   "id": "16100ac3",
   "metadata": {
    "is_executing": true
   },
   "outputs": [],
   "source": [
    "import json\n",
    "\n",
    "# create a input file for demo\n",
    "data = {\"images\": [{\"id\": 0, \"width\": -1, \"height\": -1, \"file_name\": test_image}], \"categories\": []}\n",
    "os.mkdir(\"input_data_for_demo\")\n",
    "input_file = \"input_data_for_demo/demo_annotation.json\"\n",
    "with open(input_file, \"w+\") as f:\n",
    "    json.dump(data, f)\n",
    "\n",
    "pred_test_image = predictor.predict(input_file)\n",
    "print(pred_test_image)"
   ]
  },
  {
   "attachments": {},
   "cell_type": "markdown",
   "id": "af490ddc",
   "metadata": {},
   "source": [
    "Run inference on data in a list of image file names:"
   ]
  },
  {
   "cell_type": "code",
   "execution_count": null,
   "id": "b2466021",
   "metadata": {
    "is_executing": true
   },
   "outputs": [],
   "source": [
    "pred_test_image = predictor.predict([test_image])\n",
    "print(pred_test_image)"
   ]
  },
  {
   "cell_type": "markdown",
   "id": "aa58b518",
   "metadata": {},
   "source": [
    "## Other Examples\n",
    "\n",
    "You may go to [AutoMM Examples](https://github.com/autogluon/autogluon/tree/master/examples/automm) to explore other examples about AutoMM.\n",
    "\n",
    "## Customization\n",
    "To learn how to customize AutoMM, please refer to [Customize AutoMM](../../advanced_topics/customization.ipynb).\n",
    "\n",
    "## Citation"
   ]
  },
  {
   "cell_type": "markdown",
   "id": "0c8dfcc8",
   "metadata": {},
   "source": [
    "```\n",
    "@article{DBLP:journals/corr/abs-2107-08430,\n",
    "  author    = {Zheng Ge and\n",
    "               Songtao Liu and\n",
    "               Feng Wang and\n",
    "               Zeming Li and\n",
    "               Jian Sun},\n",
    "  title     = {{YOLOX:} Exceeding {YOLO} Series in 2021},\n",
    "  journal   = {CoRR},\n",
    "  volume    = {abs/2107.08430},\n",
    "  year      = {2021},\n",
    "  url       = {https://arxiv.org/abs/2107.08430},\n",
    "  eprinttype = {arXiv},\n",
    "  eprint    = {2107.08430},\n",
    "  timestamp = {Tue, 05 Apr 2022 14:09:44 +0200},\n",
    "  biburl    = {https://dblp.org/rec/journals/corr/abs-2107-08430.bib},\n",
    "  bibsource = {dblp computer science bibliography, https://dblp.org},\n",
    "}\n",
    "```\n"
   ]
  }
 ],
 "metadata": {
  "kernelspec": {
   "name": "venv_ag_310",
   "language": "python",
   "display_name": "venv_ag_310"
  },
  "language_info": {
   "codemirror_mode": {
    "name": "ipython",
    "version": 3
   },
   "file_extension": ".py",
   "mimetype": "text/x-python",
   "name": "python",
   "nbconvert_exporter": "python",
   "pygments_lexer": "ipython3",
   "version": "3.9.16"
  }
 },
 "nbformat": 4,
 "nbformat_minor": 5
}
