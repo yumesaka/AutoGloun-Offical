{
 "cells": [
  {
   "attachments": {},
   "cell_type": "markdown",
   "id": "487344de",
   "metadata": {},
   "source": [
    "# AutoGluon Tabular - In Depth\n",
    "\n",
    "[![Open In Colab](https://colab.research.google.com/assets/colab-badge.svg)](https://colab.research.google.com/github/autogluon/autogluon/blob/master/docs/tutorials/tabular/tabular-indepth.ipynb)\n",
    "[![Open In SageMaker Studio Lab](https://studiolab.sagemaker.aws/studiolab.svg)](https://studiolab.sagemaker.aws/import/github/autogluon/autogluon/blob/master/docs/tutorials/tabular/tabular-indepth.ipynb)\n",
    "\n",
    "\n",
    "**Tip**: If you are new to AutoGluon, review [Predicting Columns in a Table - Quick Start](tabular-quick-start.ipynb) to learn the basics of the AutoGluon API. To learn how to add your own custom models to the set that AutoGluon trains, tunes, and ensembles, review [Adding a custom model to AutoGluon](advanced/tabular-custom-model.ipynb).\n",
    "\n",
    "This tutorial describes how you can exert greater control when using AutoGluon's `fit()` or `predict()`. Recall that to maximize predictive performance, you should first try `TabularPredictor()` and `fit()` with all default arguments.  Then, consider non-default arguments for `TabularPredictor(eval_metric=...)`, and `fit(presets=...)`.  Later, you can experiment with other arguments to fit() covered in this in-depth tutorial like `hyperparameter_tune_kwargs`, `hyperparameters`, `num_stack_levels`, `num_bag_folds`, `num_bag_sets`, etc.\n",
    "\n",
    "Using the same census data table as in the [Predicting Columns in a Table - Quick Start](tabular-quick-start.ipynb) tutorial, we'll now predict the `occupation` of an individual - a multiclass classification problem. Start by importing AutoGluon's TabularPredictor and TabularDataset, and loading the data."
   ]
  },
  {
   "cell_type": "code",
   "execution_count": 2,
   "id": "aa00faab-252f-44c9-b8f7-57131aa8251c",
   "metadata": {
    "tags": [
     "remove-cell"
    ],
    "ExecuteTime": {
     "end_time": "2023-12-27T07:06:22.867621Z",
     "start_time": "2023-12-27T07:06:22.852977Z"
    }
   },
   "outputs": [],
   "source": [
    "# !pip install autogluon.tabular[all]"
   ]
  },
  {
   "cell_type": "code",
   "execution_count": 1,
   "id": "fae7a5f3",
   "metadata": {
    "ExecuteTime": {
     "end_time": "2023-12-27T07:30:45.547362Z",
     "start_time": "2023-12-27T07:30:32.433261Z"
    }
   },
   "outputs": [
    {
     "name": "stderr",
     "output_type": "stream",
     "text": [
      "/Users/elnath/anaconda3/envs/venv_ag_310/lib/python3.10/site-packages/tqdm/auto.py:21: TqdmWarning: IProgress not found. Please update jupyter and ipywidgets. See https://ipywidgets.readthedocs.io/en/stable/user_install.html\n",
      "  from .autonotebook import tqdm as notebook_tqdm\n"
     ]
    },
    {
     "name": "stdout",
     "output_type": "stream",
     "text": [
      "       age workclass  fnlwgt      education  education-num  \\\n",
      "6118    51   Private   39264   Some-college             10   \n",
      "23204   58   Private   51662           10th              6   \n",
      "29590   40   Private  326310   Some-college             10   \n",
      "18116   37   Private  222450        HS-grad              9   \n",
      "33964   62   Private  109190      Bachelors             13   \n",
      "\n",
      "            marital-status        occupation    relationship    race      sex  \\\n",
      "6118    Married-civ-spouse   Exec-managerial            Wife   White   Female   \n",
      "23204   Married-civ-spouse     Other-service            Wife   White   Female   \n",
      "29590   Married-civ-spouse      Craft-repair         Husband   White     Male   \n",
      "18116        Never-married             Sales   Not-in-family   White     Male   \n",
      "33964   Married-civ-spouse   Exec-managerial         Husband   White     Male   \n",
      "\n",
      "       capital-gain  capital-loss  hours-per-week  native-country   class  \n",
      "6118              0             0              40   United-States    >50K  \n",
      "23204             0             0               8   United-States   <=50K  \n",
      "29590             0             0              44   United-States   <=50K  \n",
      "18116             0          2339              40     El-Salvador   <=50K  \n",
      "33964         15024             0              40   United-States    >50K  \n",
      "Summary of occupation column: \n",
      " count              1000\n",
      "unique               15\n",
      "top        Craft-repair\n",
      "freq                142\n",
      "Name: occupation, dtype: object\n"
     ]
    }
   ],
   "source": [
    "from autogluon.tabular import TabularDataset, TabularPredictor\n",
    "\n",
    "import numpy as np\n",
    "\n",
    "train_data = TabularDataset('https://autogluon.s3.amazonaws.com/datasets/Inc/train.csv')\n",
    "subsample_size = 1000  # subsample subset of data for faster demo, try setting this to much larger values\n",
    "train_data = train_data.sample(n=subsample_size, random_state=0)\n",
    "print(train_data.head())\n",
    "\n",
    "label = 'occupation'\n",
    "print(\"Summary of occupation column: \\n\", train_data['occupation'].describe())\n",
    "\n",
    "test_data = TabularDataset('https://autogluon.s3.amazonaws.com/datasets/Inc/test.csv')\n",
    "y_test = test_data[label]\n",
    "test_data_nolabel = test_data.drop(columns=[label])  # delete label column\n",
    "\n",
    "metric = 'accuracy' # we specify eval-metric just for demo (unnecessary as it's the default)"
   ]
  },
  {
   "cell_type": "markdown",
   "source": [
    "## Specifying hyperparameters and tuning them\n",
    "\n",
    "**Note: We don't recommend doing hyperparameter-tuning with AutoGluon in most cases**. AutoGluon achieves its best performance without hyperparameter tuning and simply specifying `presets=\"best_quality\"`.\n",
    "\n",
    "We first demonstrate hyperparameter-tuning and how you can provide your own validation dataset that AutoGluon internally relies on to: tune hyperparameters, early-stop iterative training, and construct model ensembles. One reason you may specify validation data is when future test data will stem from a different distribution than training data (and your specified validation data is more representative of the future data that will likely be encountered).\n",
    "\n",
    " If you don't have a strong reason to provide your own validation dataset, we recommend you omit the `tuning_data` argument. This lets AutoGluon automatically select validation data from your provided training set (it uses smart strategies such as stratified sampling).  For greater control, you can specify the `holdout_frac` argument to tell AutoGluon what fraction of the provided training data to hold out for validation.\n",
    "\n",
    "**Caution:** Since AutoGluon tunes internal knobs based on this validation data, performance estimates reported on this data may be over-optimistic. For unbiased performance estimates, you should always call `predict()` on a separate dataset (that was never passed to `fit()`), as we did in the previous **Quick-Start** tutorial. We also emphasize that most options specified in this tutorial are chosen to minimize runtime for the purposes of demonstration and you should select more reasonable values in order to obtain high-quality models.\n",
    "\n",
    "`fit()` trains neural networks and various types of tree ensembles by default. You can specify various hyperparameter values for each type of model. For each hyperparameter, you can either specify a single fixed value, or a search space of values to consider during hyperparameter optimization. Hyperparameters which you do not specify are left at default settings chosen automatically by AutoGluon, which may be fixed values or search spaces.\n",
    "\n",
    "Refer to the [Search Space documentation](../../api/autogluon.common.space.rst) to learn more about AutoGluon search space."
   ],
   "metadata": {
    "collapsed": false
   },
   "id": "98733672"
  },
  {
   "cell_type": "code",
   "execution_count": 2,
   "outputs": [
    {
     "data": {
      "text/plain": "<IPython.core.display.HTML object>",
      "text/html": ""
     },
     "metadata": {},
     "output_type": "display_data"
    },
    {
     "name": "stderr",
     "output_type": "stream",
     "text": [
      "Fitted model: NeuralNetTorch/232be960 ...\n",
      "\t0.355\t = Validation score   (accuracy)\n",
      "\t4.19s\t = Training   runtime\n",
      "\t0.01s\t = Validation runtime\n",
      "Fitted model: NeuralNetTorch/dd47cca9 ...\n",
      "\t0.34\t = Validation score   (accuracy)\n",
      "\t4.41s\t = Training   runtime\n",
      "\t0.01s\t = Validation runtime\n",
      "Fitted model: NeuralNetTorch/dac93443 ...\n",
      "\t0.185\t = Validation score   (accuracy)\n",
      "\t0.61s\t = Training   runtime\n",
      "\t0.01s\t = Validation runtime\n",
      "Fitted model: NeuralNetTorch/5b126e5c ...\n",
      "\t0.31\t = Validation score   (accuracy)\n",
      "\t0.66s\t = Training   runtime\n",
      "\t0.01s\t = Validation runtime\n",
      "Fitted model: NeuralNetTorch/487aab8f ...\n",
      "\t0.34\t = Validation score   (accuracy)\n",
      "\t1.26s\t = Training   runtime\n",
      "\t0.01s\t = Validation runtime\n",
      "Fitting model: WeightedEnsemble_L2 ... Training model for up to 119.88s of the 93.84s of remaining time.\n",
      "\tEnsemble Weights: {'NeuralNetTorch/dac93443': 0.288, 'LightGBM/T1': 0.192, 'NeuralNetTorch/487aab8f': 0.135, 'LightGBM/T2': 0.115, 'LightGBM/T3': 0.096, 'NeuralNetTorch/232be960': 0.077, 'LightGBM/T5': 0.058, 'NeuralNetTorch/5b126e5c': 0.038}\n",
      "\t0.41\t = Validation score   (accuracy)\n",
      "\t0.5s\t = Training   runtime\n",
      "\t0.0s\t = Validation runtime\n",
      "AutoGluon training complete, total runtime = 26.69s ... Best model: \"WeightedEnsemble_L2\"\n",
      "TabularPredictor saved. To load, use: predictor = TabularPredictor.load(\"AutogluonModels/ag-20231227_073045\")\n"
     ]
    }
   ],
   "source": [
    "from autogluon.common import space\n",
    "\n",
    "nn_options = {  # specifies non-default hyperparameter values for neural network models\n",
    "    'num_epochs': 10,  # number of training epochs (controls training time of NN models)\n",
    "    'learning_rate': space.Real(1e-4, 1e-2, default=5e-4, log=True),  # learning rate used in training (real-valued hyperparameter searched on log-scale)\n",
    "    'activation': space.Categorical('relu', 'softrelu', 'tanh'),  # activation function used in NN (categorical hyperparameter, default = first entry)\n",
    "    'dropout_prob': space.Real(0.0, 0.5, default=0.1),  # dropout probability (real-valued hyperparameter)\n",
    "}\n",
    "\n",
    "gbm_options = {  # specifies non-default hyperparameter values for lightGBM gradient boosted trees\n",
    "    'num_boost_round': 100,  # number of boosting rounds (controls training time of GBM models)\n",
    "    # 'num_leaves': space.Int(lower=26, upper=66, default=36),  # number of leaves in trees (integer hyperparameter)\n",
    "}\n",
    "\n",
    "hyperparameters = {  # hyperparameters of each model type\n",
    "                   'GBM': gbm_options,\n",
    "                   'NN_TORCH': nn_options,  # NOTE: comment this line out if you get errors on Mac OSX\n",
    "                  }  # When these keys are missing from hyperparameters dict, no models of that type are trained\n",
    "\n",
    "time_limit = 2*60  # train various models for ~2 min\n",
    "num_trials = 5  # try at most 5 different hyperparameter configurations for each type of model\n",
    "search_strategy = 'auto'  # to tune hyperparameters using random search routine with a local scheduler\n",
    "\n",
    "hyperparameter_tune_kwargs = {  # HPO is not performed unless hyperparameter_tune_kwargs is specified\n",
    "    'num_trials': num_trials,\n",
    "    'scheduler' : 'local',\n",
    "    'searcher': search_strategy,\n",
    "}  # Refer to TabularPredictor.fit docstring for all valid values\n",
    "\n",
    "predictor = TabularPredictor(label=label, eval_metric=metric).fit(\n",
    "    train_data,\n",
    "    time_limit=time_limit,\n",
    "    hyperparameters=hyperparameters,\n",
    "    hyperparameter_tune_kwargs=hyperparameter_tune_kwargs,\n",
    ")"
   ],
   "metadata": {
    "collapsed": false
   },
   "id": "87f28cf4"
  },
  {
   "cell_type": "markdown",
   "source": [
    "We again demonstrate how to use the trained models to predict on the test data."
   ],
   "metadata": {
    "collapsed": false
   },
   "id": "816e4beb"
  },
  {
   "cell_type": "code",
   "execution_count": 3,
   "outputs": [
    {
     "name": "stdout",
     "output_type": "stream",
     "text": [
      "Predictions:   [' Sales', ' Craft-repair', ' Exec-managerial', ' Sales', ' Sales']\n"
     ]
    }
   ],
   "source": [
    "y_pred = predictor.predict(test_data_nolabel)\n",
    "print(\"Predictions:  \", list(y_pred)[:5])\n",
    "perf = predictor.evaluate(test_data, auxiliary_metrics=False)"
   ],
   "metadata": {
    "collapsed": false,
    "ExecuteTime": {
     "end_time": "2023-12-27T07:31:12.929430Z",
     "start_time": "2023-12-27T07:31:12.286235Z"
    }
   },
   "id": "3bf2965a"
  },
  {
   "cell_type": "markdown",
   "source": [
    "Use the following to view a summary of what happened during `fit()`. Now this command will show details of the hyperparameter-tuning process for each type of model:"
   ],
   "metadata": {
    "collapsed": false
   },
   "id": "5c2f4648"
  },
  {
   "cell_type": "code",
   "execution_count": 4,
   "outputs": [
    {
     "name": "stdout",
     "output_type": "stream",
     "text": [
      "*** Summary of fit() ***\n",
      "Estimated performance of each model:\n",
      "                      model  score_val eval_metric  pred_time_val   fit_time  pred_time_val_marginal  fit_time_marginal  stack_level  can_infer  fit_order\n",
      "0       WeightedEnsemble_L2      0.410    accuracy       0.055583  10.034765                0.000699           0.500774            2       True         11\n",
      "1               LightGBM/T3      0.375    accuracy       0.003209   0.308657                0.003209           0.308657            1       True          3\n",
      "2               LightGBM/T1      0.370    accuracy       0.003457   1.145503                0.003457           1.145503            1       True          1\n",
      "3               LightGBM/T5      0.365    accuracy       0.003212   0.312324                0.003212           0.312324            1       True          5\n",
      "4               LightGBM/T4      0.365    accuracy       0.006344   0.657395                0.006344           0.657395            1       True          4\n",
      "5   NeuralNetTorch/232be960      0.355    accuracy       0.008316   4.191877                0.008316           4.191877            1       True          6\n",
      "6   NeuralNetTorch/dd47cca9      0.340    accuracy       0.007957   4.414024                0.007957           4.414024            1       True          7\n",
      "7   NeuralNetTorch/487aab8f      0.340    accuracy       0.011250   1.263102                0.011250           1.263102            1       True         10\n",
      "8               LightGBM/T2      0.325    accuracy       0.003164   1.037107                0.003164           1.037107            1       True          2\n",
      "9   NeuralNetTorch/5b126e5c      0.310    accuracy       0.008935   0.664350                0.008935           0.664350            1       True          9\n",
      "10  NeuralNetTorch/dac93443      0.185    accuracy       0.013342   0.611071                0.013342           0.611071            1       True          8\n",
      "Number of models trained: 11\n",
      "Types of models trained:\n",
      "{'WeightedEnsembleModel', 'TabularNeuralNetTorchModel', 'LGBModel'}\n",
      "Bagging used: False \n",
      "Multi-layer stack-ensembling used: False \n",
      "Feature Metadata (Processed):\n",
      "(raw dtype, special dtypes):\n",
      "('category', [])  : 6 | ['workclass', 'education', 'marital-status', 'relationship', 'race', ...]\n",
      "('int', [])       : 6 | ['age', 'fnlwgt', 'education-num', 'capital-gain', 'capital-loss', ...]\n",
      "('int', ['bool']) : 2 | ['sex', 'class']\n",
      "*** End of fit() summary ***\n"
     ]
    },
    {
     "name": "stderr",
     "output_type": "stream",
     "text": [
      "/Users/elnath/anaconda3/envs/venv_ag_310/lib/python3.10/site-packages/autogluon/core/utils/plots.py:169: UserWarning: AutoGluon summary plots cannot be created because bokeh is not installed. To see plots, please do: \"pip install bokeh==2.0.1\"\n",
      "  warnings.warn('AutoGluon summary plots cannot be created because bokeh is not installed. To see plots, please do: \"pip install bokeh==2.0.1\"')\n"
     ]
    }
   ],
   "source": [
    "results = predictor.fit_summary()"
   ],
   "metadata": {
    "collapsed": false,
    "ExecuteTime": {
     "end_time": "2023-12-27T07:32:33.669864Z",
     "start_time": "2023-12-27T07:32:33.578875Z"
    }
   },
   "id": "1bfc4fe3"
  },
  {
   "cell_type": "markdown",
   "source": [
    "In the above example, the predictive performance may be poor because we specified very little training to ensure quick runtimes.  You can call `fit()` multiple times while modifying the above settings to better understand how these choices affect performance outcomes. For example: you can comment out the `train_data.head` command or increase `subsample_size` to train using a larger dataset, increase the `num_epochs` and `num_boost_round` hyperparameters, and increase the `time_limit` (which you should do for all code in these tutorials).  To see more detailed output during the execution of `fit()`, you can also pass in the argument: `verbosity = 3`."
   ],
   "metadata": {
    "collapsed": false
   },
   "id": "1d06b7ab"
  },
  {
   "cell_type": "markdown",
   "source": [
    "## Model ensembling with stacking/bagging\n",
    "\n",
    "Beyond hyperparameter-tuning with a correctly-specified evaluation metric, two other methods to boost predictive performance are [bagging and stack-ensembling](https://arxiv.org/abs/2003.06505).  You'll often see performance improve if you specify `num_bag_folds` = 5-10, `num_stack_levels` = 1-3 in the call to `fit()`, but this will increase training times and memory/disk usage."
   ],
   "metadata": {
    "collapsed": false
   },
   "id": "cc894bfde6cbc5f1"
  },
  {
   "cell_type": "code",
   "execution_count": 5,
   "id": "d821c4af",
   "metadata": {
    "ExecuteTime": {
     "end_time": "2023-12-27T07:33:01.299523Z",
     "start_time": "2023-12-27T07:32:36.836460Z"
    }
   },
   "outputs": [
    {
     "name": "stderr",
     "output_type": "stream",
     "text": [
      "No path specified. Models will be saved in: \"AutogluonModels/ag-20231227_073236\"\n",
      "No presets specified! To achieve strong results with AutoGluon, it is recommended to use the available presets.\n",
      "\tRecommended Presets (For more details refer to https://auto.gluon.ai/stable/tutorials/tabular/tabular-essentials.html#presets):\n",
      "\tpresets='best_quality'   : Maximize accuracy. Default time_limit=3600.\n",
      "\tpresets='high_quality'   : Strong accuracy with fast inference speed. Default time_limit=3600.\n",
      "\tpresets='good_quality'   : Good accuracy with very fast inference speed. Default time_limit=3600.\n",
      "\tpresets='medium_quality' : Fast training time, ideal for initial prototyping.\n",
      "Beginning AutoGluon training ...\n",
      "AutoGluon will save models to \"AutogluonModels/ag-20231227_073236\"\n",
      "=================== System Info ===================\n",
      "AutoGluon Version:  1.0.0\n",
      "Python Version:     3.10.13\n",
      "Operating System:   Darwin\n",
      "Platform Machine:   x86_64\n",
      "Platform Version:   Darwin Kernel Version 23.2.0: Wed Nov 15 21:54:10 PST 2023; root:xnu-10002.61.3~2/RELEASE_X86_64\n",
      "CPU Count:          16\n",
      "Memory Avail:       44.30 GB / 64.00 GB (69.2%)\n",
      "Disk Space Avail:   453.05 GB / 931.55 GB (48.6%)\n",
      "===================================================\n",
      "Train Data Rows:    1000\n",
      "Train Data Columns: 14\n",
      "Label Column:       class\n",
      "AutoGluon infers your prediction problem is: 'binary' (because only two unique label-values observed).\n",
      "\t2 unique label values:  [' >50K', ' <=50K']\n",
      "\tIf 'binary' is not the correct problem_type, please manually specify the problem_type parameter during predictor init (You may specify problem_type as one of: ['binary', 'multiclass', 'regression'])\n",
      "Problem Type:       binary\n",
      "Preprocessing data ...\n",
      "Selected class <--> label mapping:  class 1 =  >50K, class 0 =  <=50K\n",
      "\tNote: For your binary classification, AutoGluon arbitrarily selected which label-value represents positive ( >50K) vs negative ( <=50K) class.\n",
      "\tTo explicitly set the positive_class, either rename classes to 1 and 0, or specify positive_class in Predictor init.\n",
      "Using Feature Generators to preprocess the data ...\n",
      "Fitting AutoMLPipelineFeatureGenerator...\n",
      "\tAvailable Memory:                    45365.08 MB\n",
      "\tTrain Data (Original)  Memory Usage: 0.56 MB (0.0% of available memory)\n",
      "\tInferring data type of each feature based on column values. Set feature_metadata_in to manually specify special dtypes of the features.\n",
      "\tStage 1 Generators:\n",
      "\t\tFitting AsTypeFeatureGenerator...\n",
      "\t\t\tNote: Converting 1 features to boolean dtype as they only contain 2 unique values.\n",
      "\tStage 2 Generators:\n",
      "\t\tFitting FillNaFeatureGenerator...\n",
      "\tStage 3 Generators:\n",
      "\t\tFitting IdentityFeatureGenerator...\n",
      "\t\tFitting CategoryFeatureGenerator...\n",
      "\t\t\tFitting CategoryMemoryMinimizeFeatureGenerator...\n",
      "\tStage 4 Generators:\n",
      "\t\tFitting DropUniqueFeatureGenerator...\n",
      "\tStage 5 Generators:\n",
      "\t\tFitting DropDuplicatesFeatureGenerator...\n",
      "\tTypes of features in original data (raw dtype, special dtypes):\n",
      "\t\t('int', [])    : 6 | ['age', 'fnlwgt', 'education-num', 'capital-gain', 'capital-loss', ...]\n",
      "\t\t('object', []) : 8 | ['workclass', 'education', 'marital-status', 'occupation', 'relationship', ...]\n",
      "\tTypes of features in processed data (raw dtype, special dtypes):\n",
      "\t\t('category', [])  : 7 | ['workclass', 'education', 'marital-status', 'occupation', 'relationship', ...]\n",
      "\t\t('int', [])       : 6 | ['age', 'fnlwgt', 'education-num', 'capital-gain', 'capital-loss', ...]\n",
      "\t\t('int', ['bool']) : 1 | ['sex']\n",
      "\t0.1s = Fit runtime\n",
      "\t14 features in original data used to generate 14 features in processed data.\n",
      "\tTrain Data (Processed) Memory Usage: 0.06 MB (0.0% of available memory)\n",
      "Data preprocessing and feature engineering runtime = 0.11s ...\n",
      "AutoGluon will gauge predictive performance using evaluation metric: 'accuracy'\n",
      "\tTo change this, specify the eval_metric parameter of Predictor()\n",
      "User-specified model hyperparameters to be fit:\n",
      "{\n",
      "\t'NN_TORCH': {'num_epochs': 2},\n",
      "\t'GBM': {'num_boost_round': 20},\n",
      "}\n",
      "AutoGluon will fit 2 stack levels (L1 to L2) ...\n",
      "Fitting 2 L1 models ...\n",
      "Fitting model: LightGBM_BAG_L1 ...\n",
      "\tFitting 5 child models (S1F1 - S1F5) | Fitting with ParallelLocalFoldFittingStrategy (5 workers, per: cpus=3, gpus=0, memory=0.01%)\n",
      "\t0.823\t = Validation score   (accuracy)\n",
      "\t2.5s\t = Training   runtime\n",
      "\t0.02s\t = Validation runtime\n",
      "Fitting model: NeuralNetTorch_BAG_L1 ...\n",
      "\tFitting 5 child models (S1F1 - S1F5) | Fitting with ParallelLocalFoldFittingStrategy (5 workers, per: cpus=3, gpus=0, memory=0.00%)\n",
      "\t0.744\t = Validation score   (accuracy)\n",
      "\t4.35s\t = Training   runtime\n",
      "\t0.06s\t = Validation runtime\n",
      "Fitting model: WeightedEnsemble_L2 ...\n",
      "\tEnsemble Weights: {'LightGBM_BAG_L1': 1.0}\n",
      "\t0.823\t = Validation score   (accuracy)\n",
      "\t0.21s\t = Training   runtime\n",
      "\t0.0s\t = Validation runtime\n",
      "Fitting 2 L2 models ...\n",
      "Fitting model: LightGBM_BAG_L2 ...\n",
      "\tFitting 5 child models (S1F1 - S1F5) | Fitting with ParallelLocalFoldFittingStrategy (5 workers, per: cpus=3, gpus=0, memory=0.01%)\n",
      "\t0.828\t = Validation score   (accuracy)\n",
      "\t0.77s\t = Training   runtime\n",
      "\t0.02s\t = Validation runtime\n",
      "Fitting model: NeuralNetTorch_BAG_L2 ...\n",
      "\tFitting 5 child models (S1F1 - S1F5) | Fitting with ParallelLocalFoldFittingStrategy (5 workers, per: cpus=3, gpus=0, memory=0.00%)\n",
      "\t0.748\t = Validation score   (accuracy)\n",
      "\t4.31s\t = Training   runtime\n",
      "\t0.06s\t = Validation runtime\n",
      "Fitting model: WeightedEnsemble_L3 ...\n",
      "\tEnsemble Weights: {'LightGBM_BAG_L2': 0.833, 'LightGBM_BAG_L1': 0.167}\n",
      "\t0.829\t = Validation score   (accuracy)\n",
      "\t0.43s\t = Training   runtime\n",
      "\t0.0s\t = Validation runtime\n",
      "AutoGluon training complete, total runtime = 24.43s ... Best model: \"WeightedEnsemble_L3\"\n",
      "TabularPredictor saved. To load, use: predictor = TabularPredictor.load(\"AutogluonModels/ag-20231227_073236\")\n"
     ]
    }
   ],
   "source": [
    "label = 'class'  # Now lets predict the \"class\" column (binary classification)\n",
    "test_data_nolabel = test_data.drop(columns=[label])\n",
    "y_test = test_data[label]\n",
    "save_path = 'agModels-predictClass'  # folder where to store trained models\n",
    "\n",
    "predictor = TabularPredictor(label=label, eval_metric=metric).fit(train_data,\n",
    "    num_bag_folds=5, num_bag_sets=1, num_stack_levels=1,\n",
    "    hyperparameters = {'NN_TORCH': {'num_epochs': 2}, 'GBM': {'num_boost_round': 20}},  # last  argument is just for quick demo here, omit it in real applications\n",
    ")"
   ]
  },
  {
   "cell_type": "markdown",
   "id": "38f61e8d",
   "metadata": {},
   "source": [
    "You should not provide `tuning_data` when stacking/bagging, and instead provide all your available data as `train_data` (which AutoGluon will split in more intellgent ways). `num_bag_sets` controls how many times the k-fold bagging process is repeated to further reduce variance (increasing this may further boost accuracy but will substantially increase training times, inference latency, and memory/disk usage). Rather than manually searching for good bagging/stacking values yourself, AutoGluon will automatically select good values for you if you specify `auto_stack` instead:"
   ]
  },
  {
   "cell_type": "code",
   "execution_count": 6,
   "id": "e1cf666c",
   "metadata": {
    "ExecuteTime": {
     "end_time": "2023-12-27T07:34:57.390737Z",
     "start_time": "2023-12-27T07:34:39.450389Z"
    }
   },
   "outputs": [
    {
     "name": "stderr",
     "output_type": "stream",
     "text": [
      "No presets specified! To achieve strong results with AutoGluon, it is recommended to use the available presets.\n",
      "\tRecommended Presets (For more details refer to https://auto.gluon.ai/stable/tutorials/tabular/tabular-essentials.html#presets):\n",
      "\tpresets='best_quality'   : Maximize accuracy. Default time_limit=3600.\n",
      "\tpresets='high_quality'   : Strong accuracy with fast inference speed. Default time_limit=3600.\n",
      "\tpresets='good_quality'   : Good accuracy with very fast inference speed. Default time_limit=3600.\n",
      "\tpresets='medium_quality' : Fast training time, ideal for initial prototyping.\n",
      "Stack configuration (auto_stack=True): num_stack_levels=0, num_bag_folds=8, num_bag_sets=5\n",
      "Beginning AutoGluon training ... Time limit = 30s\n",
      "AutoGluon will save models to \"agModels-predictClass\"\n",
      "=================== System Info ===================\n",
      "AutoGluon Version:  1.0.0\n",
      "Python Version:     3.10.13\n",
      "Operating System:   Darwin\n",
      "Platform Machine:   x86_64\n",
      "Platform Version:   Darwin Kernel Version 23.2.0: Wed Nov 15 21:54:10 PST 2023; root:xnu-10002.61.3~2/RELEASE_X86_64\n",
      "CPU Count:          16\n",
      "Memory Avail:       44.44 GB / 64.00 GB (69.4%)\n",
      "Disk Space Avail:   453.05 GB / 931.55 GB (48.6%)\n",
      "===================================================\n",
      "Train Data Rows:    1000\n",
      "Train Data Columns: 14\n",
      "Label Column:       class\n",
      "AutoGluon infers your prediction problem is: 'binary' (because only two unique label-values observed).\n",
      "\t2 unique label values:  [' >50K', ' <=50K']\n",
      "\tIf 'binary' is not the correct problem_type, please manually specify the problem_type parameter during predictor init (You may specify problem_type as one of: ['binary', 'multiclass', 'regression'])\n",
      "Problem Type:       binary\n",
      "Preprocessing data ...\n",
      "Selected class <--> label mapping:  class 1 =  >50K, class 0 =  <=50K\n",
      "\tNote: For your binary classification, AutoGluon arbitrarily selected which label-value represents positive ( >50K) vs negative ( <=50K) class.\n",
      "\tTo explicitly set the positive_class, either rename classes to 1 and 0, or specify positive_class in Predictor init.\n",
      "Using Feature Generators to preprocess the data ...\n",
      "Fitting AutoMLPipelineFeatureGenerator...\n",
      "\tAvailable Memory:                    45503.24 MB\n",
      "\tTrain Data (Original)  Memory Usage: 0.56 MB (0.0% of available memory)\n",
      "\tInferring data type of each feature based on column values. Set feature_metadata_in to manually specify special dtypes of the features.\n",
      "\tStage 1 Generators:\n",
      "\t\tFitting AsTypeFeatureGenerator...\n",
      "\t\t\tNote: Converting 1 features to boolean dtype as they only contain 2 unique values.\n",
      "\tStage 2 Generators:\n",
      "\t\tFitting FillNaFeatureGenerator...\n",
      "\tStage 3 Generators:\n",
      "\t\tFitting IdentityFeatureGenerator...\n",
      "\t\tFitting CategoryFeatureGenerator...\n",
      "\t\t\tFitting CategoryMemoryMinimizeFeatureGenerator...\n",
      "\tStage 4 Generators:\n",
      "\t\tFitting DropUniqueFeatureGenerator...\n",
      "\tStage 5 Generators:\n",
      "\t\tFitting DropDuplicatesFeatureGenerator...\n",
      "\tTypes of features in original data (raw dtype, special dtypes):\n",
      "\t\t('int', [])    : 6 | ['age', 'fnlwgt', 'education-num', 'capital-gain', 'capital-loss', ...]\n",
      "\t\t('object', []) : 8 | ['workclass', 'education', 'marital-status', 'occupation', 'relationship', ...]\n",
      "\tTypes of features in processed data (raw dtype, special dtypes):\n",
      "\t\t('category', [])  : 7 | ['workclass', 'education', 'marital-status', 'occupation', 'relationship', ...]\n",
      "\t\t('int', [])       : 6 | ['age', 'fnlwgt', 'education-num', 'capital-gain', 'capital-loss', ...]\n",
      "\t\t('int', ['bool']) : 1 | ['sex']\n",
      "\t0.1s = Fit runtime\n",
      "\t14 features in original data used to generate 14 features in processed data.\n",
      "\tTrain Data (Processed) Memory Usage: 0.06 MB (0.0% of available memory)\n",
      "Data preprocessing and feature engineering runtime = 0.1s ...\n",
      "AutoGluon will gauge predictive performance using evaluation metric: 'f1'\n",
      "\tTo change this, specify the eval_metric parameter of Predictor()\n",
      "User-specified model hyperparameters to be fit:\n",
      "{\n",
      "\t'FASTAI': {'num_epochs': 10},\n",
      "\t'GBM': {'num_boost_round': 200},\n",
      "}\n",
      "Fitting 2 L1 models ...\n",
      "Fitting model: LightGBM_BAG_L1 ... Training model for up to 29.9s of the 29.9s of remaining time.\n",
      "\tFitting 8 child models (S1F1 - S1F8) | Fitting with ParallelLocalFoldFittingStrategy (8 workers, per: cpus=2, gpus=0, memory=0.01%)\n",
      "\t0.6856\t = Validation score   (f1)\n",
      "\t1.34s\t = Training   runtime\n",
      "\t0.04s\t = Validation runtime\n",
      "Fitting model: NeuralNetFastAI_BAG_L1 ... Training model for up to 24.86s of the 24.86s of remaining time.\n",
      "\tFitting 8 child models (S1F1 - S1F8) | Fitting with ParallelLocalFoldFittingStrategy (8 workers, per: cpus=2, gpus=0, memory=0.00%)\n",
      "\t0.6759\t = Validation score   (f1)\n",
      "\t5.92s\t = Training   runtime\n",
      "\t0.12s\t = Validation runtime\n",
      "Completed 1/5 k-fold bagging repeats ...\n",
      "Fitting model: WeightedEnsemble_L2 ... Training model for up to 29.9s of the 14.73s of remaining time.\n",
      "\tEnsemble Weights: {'LightGBM_BAG_L1': 1.0}\n",
      "\t0.6856\t = Validation score   (f1)\n",
      "\t1.05s\t = Training   runtime\n",
      "\t0.0s\t = Validation runtime\n",
      "AutoGluon training complete, total runtime = 16.34s ... Best model: \"WeightedEnsemble_L2\"\n",
      "TabularPredictor saved. To load, use: predictor = TabularPredictor.load(\"agModels-predictClass\")\n"
     ]
    },
    {
     "data": {
      "text/plain": "                    model  score_test  score_val eval_metric  pred_time_test  \\\n0         LightGBM_BAG_L1    0.629437   0.685590          f1        0.138696   \n1     WeightedEnsemble_L2    0.629437   0.685590          f1        0.139876   \n2  NeuralNetFastAI_BAG_L1    0.614756   0.675889          f1        1.338613   \n\n   pred_time_val  fit_time  pred_time_test_marginal  pred_time_val_marginal  \\\n0       0.038826  1.340032                 0.138696                0.038826   \n1       0.043109  2.389928                 0.001180                0.004283   \n2       0.118725  5.915798                 1.338613                0.118725   \n\n   fit_time_marginal  stack_level  can_infer  fit_order  \n0           1.340032            1       True          1  \n1           1.049896            2       True          3  \n2           5.915798            1       True          2  ",
      "text/html": "<div>\n<style scoped>\n    .dataframe tbody tr th:only-of-type {\n        vertical-align: middle;\n    }\n\n    .dataframe tbody tr th {\n        vertical-align: top;\n    }\n\n    .dataframe thead th {\n        text-align: right;\n    }\n</style>\n<table border=\"1\" class=\"dataframe\">\n  <thead>\n    <tr style=\"text-align: right;\">\n      <th></th>\n      <th>model</th>\n      <th>score_test</th>\n      <th>score_val</th>\n      <th>eval_metric</th>\n      <th>pred_time_test</th>\n      <th>pred_time_val</th>\n      <th>fit_time</th>\n      <th>pred_time_test_marginal</th>\n      <th>pred_time_val_marginal</th>\n      <th>fit_time_marginal</th>\n      <th>stack_level</th>\n      <th>can_infer</th>\n      <th>fit_order</th>\n    </tr>\n  </thead>\n  <tbody>\n    <tr>\n      <th>0</th>\n      <td>LightGBM_BAG_L1</td>\n      <td>0.629437</td>\n      <td>0.685590</td>\n      <td>f1</td>\n      <td>0.138696</td>\n      <td>0.038826</td>\n      <td>1.340032</td>\n      <td>0.138696</td>\n      <td>0.038826</td>\n      <td>1.340032</td>\n      <td>1</td>\n      <td>True</td>\n      <td>1</td>\n    </tr>\n    <tr>\n      <th>1</th>\n      <td>WeightedEnsemble_L2</td>\n      <td>0.629437</td>\n      <td>0.685590</td>\n      <td>f1</td>\n      <td>0.139876</td>\n      <td>0.043109</td>\n      <td>2.389928</td>\n      <td>0.001180</td>\n      <td>0.004283</td>\n      <td>1.049896</td>\n      <td>2</td>\n      <td>True</td>\n      <td>3</td>\n    </tr>\n    <tr>\n      <th>2</th>\n      <td>NeuralNetFastAI_BAG_L1</td>\n      <td>0.614756</td>\n      <td>0.675889</td>\n      <td>f1</td>\n      <td>1.338613</td>\n      <td>0.118725</td>\n      <td>5.915798</td>\n      <td>1.338613</td>\n      <td>0.118725</td>\n      <td>5.915798</td>\n      <td>1</td>\n      <td>True</td>\n      <td>2</td>\n    </tr>\n  </tbody>\n</table>\n</div>"
     },
     "execution_count": 6,
     "metadata": {},
     "output_type": "execute_result"
    }
   ],
   "source": [
    "# Lets also specify the \"f1\" metric\n",
    "predictor = TabularPredictor(label=label, eval_metric='f1', path=save_path).fit(\n",
    "    train_data, auto_stack=True,\n",
    "    time_limit=30, hyperparameters={'FASTAI': {'num_epochs': 10}, 'GBM': {'num_boost_round': 200}}  # last 2 arguments are for quick demo, omit them in real applications\n",
    ")\n",
    "predictor.leaderboard(test_data)"
   ]
  },
  {
   "cell_type": "markdown",
   "source": [
    "Often stacking/bagging will produce superior accuracy than hyperparameter-tuning, but you may try combining both techniques (note: specifying `presets='best_quality'` in `fit()` simply sets `auto_stack=True`).\n",
    "\n",
    "## Decision Threshold Calibration\n",
    "\n",
    "Major metric score improvements can be achieved in binary classification for metrics such as `\"f1\"` and `\"balanced_accuracy\"` by adjusting the prediction decision threshold via `calibrate_decision_threshold` to a value other than the default 0.5.\n",
    "\n",
    "Below is an example of the `\"f1\"` score achieved on the test data with and without calibrating the decision threshold:"
   ],
   "metadata": {
    "collapsed": false
   },
   "id": "209aed94e755e675"
  },
  {
   "cell_type": "code",
   "execution_count": 7,
   "outputs": [
    {
     "name": "stderr",
     "output_type": "stream",
     "text": [
      "Calibrating decision threshold to optimize metric f1 | Checking 101 thresholds...\n"
     ]
    },
    {
     "name": "stdout",
     "output_type": "stream",
     "text": [
      "Prior to calibration (predictor.decision_threshold=0.5):\n"
     ]
    },
    {
     "name": "stderr",
     "output_type": "stream",
     "text": [
      "\tBase Threshold: 0.500\t| val: 0.6856\n",
      "\tBest Threshold: 0.500\t| val: 0.6856\n"
     ]
    },
    {
     "name": "stdout",
     "output_type": "stream",
     "text": [
      "After calibration (predictor.decision_threshold=0.5):\n"
     ]
    }
   ],
   "source": [
    "print(f'Prior to calibration (predictor.decision_threshold={predictor.decision_threshold}):')\n",
    "scores = predictor.evaluate(test_data)\n",
    "\n",
    "calibrated_decision_threshold = predictor.calibrate_decision_threshold()\n",
    "predictor.set_decision_threshold(calibrated_decision_threshold)\n",
    "\n",
    "print(f'After calibration (predictor.decision_threshold={predictor.decision_threshold}):')\n",
    "scores_calibrated = predictor.evaluate(test_data)"
   ],
   "metadata": {
    "collapsed": false,
    "ExecuteTime": {
     "end_time": "2023-12-27T07:37:04.121076Z",
     "start_time": "2023-12-27T07:37:03.405462Z"
    }
   },
   "id": "10e6f148501e94c4"
  },
  {
   "cell_type": "code",
   "execution_count": 8,
   "outputs": [
    {
     "name": "stdout",
     "output_type": "stream",
     "text": [
      "decision_threshold=0.500\t| metric=\"f1\"\n",
      "\ttest_score uncalibrated: 0.6294\n",
      "\ttest_score   calibrated: 0.6294\n",
      "\ttest_score        delta: 0.0000\n",
      "decision_threshold=0.500\t| metric=\"accuracy\"\n",
      "\ttest_score uncalibrated: 0.8472\n",
      "\ttest_score   calibrated: 0.8472\n",
      "\ttest_score        delta: 0.0000\n",
      "decision_threshold=0.500\t| metric=\"balanced_accuracy\"\n",
      "\ttest_score uncalibrated: 0.7438\n",
      "\ttest_score   calibrated: 0.7438\n",
      "\ttest_score        delta: 0.0000\n",
      "decision_threshold=0.500\t| metric=\"mcc\"\n",
      "\ttest_score uncalibrated: 0.5457\n",
      "\ttest_score   calibrated: 0.5457\n",
      "\ttest_score        delta: 0.0000\n",
      "decision_threshold=0.500\t| metric=\"roc_auc\"\n",
      "\ttest_score uncalibrated: 0.8990\n",
      "\ttest_score   calibrated: 0.8990\n",
      "\ttest_score        delta: 0.0000\n",
      "decision_threshold=0.500\t| metric=\"precision\"\n",
      "\ttest_score uncalibrated: 0.7411\n",
      "\ttest_score   calibrated: 0.7411\n",
      "\ttest_score        delta: 0.0000\n",
      "decision_threshold=0.500\t| metric=\"recall\"\n",
      "\ttest_score uncalibrated: 0.5470\n",
      "\ttest_score   calibrated: 0.5470\n",
      "\ttest_score        delta: 0.0000\n"
     ]
    }
   ],
   "source": [
    "for metric_name in scores:\n",
    "    metric_score = scores[metric_name]\n",
    "    metric_score_calibrated = scores_calibrated[metric_name]\n",
    "    decision_threshold = predictor.decision_threshold\n",
    "    print(f'decision_threshold={decision_threshold:.3f}\\t| metric=\"{metric_name}\"'\n",
    "          f'\\n\\ttest_score uncalibrated: {metric_score:.4f}'\n",
    "          f'\\n\\ttest_score   calibrated: {metric_score_calibrated:.4f}'\n",
    "          f'\\n\\ttest_score        delta: {metric_score_calibrated-metric_score:.4f}')"
   ],
   "metadata": {
    "collapsed": false,
    "ExecuteTime": {
     "end_time": "2023-12-27T07:37:39.084897Z",
     "start_time": "2023-12-27T07:37:39.055649Z"
    }
   },
   "id": "f18f7817111c6477"
  },
  {
   "cell_type": "markdown",
   "source": [
    "Notice that calibrating for \"f1\" majorly improved the \"f1\" metric score, as well as the \"balanced_accuracy\" score, it harmed the \"accuracy\" score. Threshold calibration will often result in a tradeoff between performance on different metrics, and the user should keep this in mind.\n",
    "\n",
    "Instead of calibrating for \"f1\" specifically, we can calibrate for any metric if we want to maximize the score of that metric:"
   ],
   "metadata": {
    "collapsed": false
   },
   "id": "9b689133a34fe3d9"
  },
  {
   "cell_type": "code",
   "execution_count": 9,
   "outputs": [
    {
     "name": "stdout",
     "output_type": "stream",
     "text": [
      "decision_threshold=0.500\t| metric=\"f1\"\n",
      "\ttest_score uncalibrated: 0.6294\n",
      "\ttest_score   calibrated: 0.6294\n",
      "\ttest_score        delta: 0.0000\n",
      "decision_threshold=0.250\t| metric=\"balanced_accuracy\"\n",
      "\ttest_score uncalibrated: 0.7438\n",
      "\ttest_score   calibrated: 0.8120\n",
      "\ttest_score        delta: 0.0682\n",
      "decision_threshold=0.500\t| metric=\"mcc\"\n",
      "\ttest_score uncalibrated: 0.5457\n",
      "\ttest_score   calibrated: 0.5457\n",
      "\ttest_score        delta: 0.0000\n"
     ]
    }
   ],
   "source": [
    "predictor.set_decision_threshold(0.5)  # Reset decision threshold\n",
    "for metric_name in ['f1', 'balanced_accuracy', 'mcc']:\n",
    "    metric_score = predictor.evaluate(test_data, silent=True)[metric_name]\n",
    "    calibrated_decision_threshold = predictor.calibrate_decision_threshold(metric=metric_name, verbose=False)\n",
    "    metric_score_calibrated = predictor.evaluate(\n",
    "        test_data, decision_threshold=calibrated_decision_threshold, silent=True\n",
    "    )[metric_name]\n",
    "    print(f'decision_threshold={calibrated_decision_threshold:.3f}\\t| metric=\"{metric_name}\"'\n",
    "          f'\\n\\ttest_score uncalibrated: {metric_score:.4f}'\n",
    "          f'\\n\\ttest_score   calibrated: {metric_score_calibrated:.4f}'\n",
    "          f'\\n\\ttest_score        delta: {metric_score_calibrated-metric_score:.4f}')"
   ],
   "metadata": {
    "collapsed": false,
    "ExecuteTime": {
     "end_time": "2023-12-27T07:38:36.118474Z",
     "start_time": "2023-12-27T07:38:34.202065Z"
    }
   },
   "id": "251a1bf30667c186"
  },
  {
   "cell_type": "markdown",
   "source": [
    "Instead of calibrating the decision threshold post-fit, you can have it automatically occur during the fit call by specifying the fit parameter `predictor.fit(..., calibrate_decision_threshold=True)`.\n",
    "\n",
    "Additional usage examples are below:"
   ],
   "metadata": {
    "collapsed": false
   },
   "id": "b6bbe09b403c54b9"
  },
  {
   "cell_type": "code",
   "execution_count": null,
   "outputs": [],
   "source": [
    "# Will use the decision_threshold specified in `predictor.decision_threshold`, can be set via `predictor.set_decision_threshold`\n",
    "# y_pred = predictor.predict(test_data)\n",
    "# y_pred_08 = predictor.predict(test_data, decision_threshold=0.8)  # Specify a specific threshold to use only for this predict\n",
    "\n",
    "# y_pred_proba = predictor.predict_proba(test_data)\n",
    "# y_pred = predictor.predict_from_proba(y_pred_proba)  # Identical output to calling .predict(test_data)\n",
    "# y_pred_08 = predictor.predict_from_proba(y_pred_proba, decision_threshold=0.8)  # Identical output to calling .predict(test_data, decision_threshold=0.8)"
   ],
   "metadata": {
    "collapsed": false
   },
   "id": "6e24e98242a6398a"
  },
  {
   "cell_type": "markdown",
   "id": "be2b3534",
   "metadata": {},
   "source": [
    "## Prediction options (inference)\n",
    "\n",
    "Even if you've started a new Python session since last calling `fit()`, you can still load a previously trained predictor from disk:"
   ]
  },
  {
   "cell_type": "code",
   "execution_count": 10,
   "id": "67cc8c19",
   "metadata": {
    "ExecuteTime": {
     "end_time": "2023-12-27T07:39:18.392643Z",
     "start_time": "2023-12-27T07:39:18.350024Z"
    }
   },
   "outputs": [],
   "source": [
    "predictor = TabularPredictor.load(save_path)  # `predictor.path` is another way to get the relative path needed to later load predictor."
   ]
  },
  {
   "cell_type": "markdown",
   "id": "13759fc5",
   "metadata": {},
   "source": [
    "Above `save_path` is the same folder previously passed to `TabularPredictor`, in which all the trained models have been saved. You can train easily models on one machine and deploy them on another. Simply copy the `save_path` folder to the new machine and specify its new path in `TabularPredictor.load()`.\n",
    "\n",
    "To find out the required feature columns to make predictions, call `predictor.features()`:"
   ]
  },
  {
   "cell_type": "code",
   "execution_count": 11,
   "id": "dc1d292a",
   "metadata": {
    "ExecuteTime": {
     "end_time": "2023-12-27T07:39:19.446767Z",
     "start_time": "2023-12-27T07:39:19.393586Z"
    }
   },
   "outputs": [
    {
     "data": {
      "text/plain": "['age',\n 'workclass',\n 'fnlwgt',\n 'education',\n 'education-num',\n 'marital-status',\n 'occupation',\n 'relationship',\n 'race',\n 'sex',\n 'capital-gain',\n 'capital-loss',\n 'hours-per-week',\n 'native-country']"
     },
     "execution_count": 11,
     "metadata": {},
     "output_type": "execute_result"
    }
   ],
   "source": [
    "predictor.features()"
   ]
  },
  {
   "cell_type": "markdown",
   "id": "91285570",
   "metadata": {},
   "source": [
    "We can make a prediction on an individual example rather than a full dataset:"
   ]
  },
  {
   "cell_type": "code",
   "execution_count": 12,
   "id": "2b5df1ea",
   "metadata": {
    "ExecuteTime": {
     "end_time": "2023-12-27T07:40:22.872080Z",
     "start_time": "2023-12-27T07:40:22.832096Z"
    }
   },
   "outputs": [
    {
     "name": "stdout",
     "output_type": "stream",
     "text": [
      "   age workclass  fnlwgt education  education-num       marital-status  \\\n",
      "0   31   Private  169085      11th              7   Married-civ-spouse   \n",
      "\n",
      "  occupation relationship    race      sex  capital-gain  capital-loss  \\\n",
      "0      Sales         Wife   White   Female             0             0   \n",
      "\n",
      "   hours-per-week  native-country  \n",
      "0              20   United-States  \n"
     ]
    },
    {
     "data": {
      "text/plain": "0     <=50K\nName: class, dtype: object"
     },
     "execution_count": 12,
     "metadata": {},
     "output_type": "execute_result"
    }
   ],
   "source": [
    "datapoint = test_data_nolabel.iloc[[0]]  # Note: .iloc[0] won't work because it returns pandas Series instead of DataFrame\n",
    "print(datapoint)\n",
    "predictor.predict(datapoint)"
   ]
  },
  {
   "cell_type": "markdown",
   "id": "7f5e5d4c",
   "metadata": {},
   "source": [
    "To output predicted class probabilities instead of predicted classes, you can use:"
   ]
  },
  {
   "cell_type": "code",
   "execution_count": 13,
   "id": "a9c88edf",
   "metadata": {
    "ExecuteTime": {
     "end_time": "2023-12-27T07:40:24.894809Z",
     "start_time": "2023-12-27T07:40:24.839128Z"
    }
   },
   "outputs": [
    {
     "data": {
      "text/plain": "      <=50K      >50K\n0  0.951059  0.048941",
      "text/html": "<div>\n<style scoped>\n    .dataframe tbody tr th:only-of-type {\n        vertical-align: middle;\n    }\n\n    .dataframe tbody tr th {\n        vertical-align: top;\n    }\n\n    .dataframe thead th {\n        text-align: right;\n    }\n</style>\n<table border=\"1\" class=\"dataframe\">\n  <thead>\n    <tr style=\"text-align: right;\">\n      <th></th>\n      <th>&lt;=50K</th>\n      <th>&gt;50K</th>\n    </tr>\n  </thead>\n  <tbody>\n    <tr>\n      <th>0</th>\n      <td>0.951059</td>\n      <td>0.048941</td>\n    </tr>\n  </tbody>\n</table>\n</div>"
     },
     "execution_count": 13,
     "metadata": {},
     "output_type": "execute_result"
    }
   ],
   "source": [
    "predictor.predict_proba(datapoint)  # returns a DataFrame that shows which probability corresponds to which class"
   ]
  },
  {
   "cell_type": "markdown",
   "id": "e118c312",
   "metadata": {},
   "source": [
    "By default, `predict()` and `predict_proba()` will utilize the model that AutoGluon thinks is most accurate, which is usually an ensemble of many individual models. Here's how to see which model this is:"
   ]
  },
  {
   "cell_type": "code",
   "execution_count": 14,
   "id": "357da7e2",
   "metadata": {
    "ExecuteTime": {
     "end_time": "2023-12-27T07:44:14.889820Z",
     "start_time": "2023-12-27T07:44:14.859128Z"
    }
   },
   "outputs": [
    {
     "data": {
      "text/plain": "'WeightedEnsemble_L2'"
     },
     "execution_count": 14,
     "metadata": {},
     "output_type": "execute_result"
    }
   ],
   "source": [
    "predictor.model_best"
   ]
  },
  {
   "cell_type": "markdown",
   "id": "06f47f3a",
   "metadata": {},
   "source": [
    "We can instead specify a particular model to use for predictions (e.g. to reduce inference latency). Note that a 'model' in AutoGluon may refer to, for example, a single Neural Network, a bagged ensemble of many Neural Network copies trained on different training/validation splits, a weighted ensemble that aggregates the predictions of many other models, or a stacker model that operates on predictions output by other models. This is akin to viewing a Random Forest as one 'model' when it is in fact an ensemble of many decision trees.\n",
    "\n",
    "\n",
    "Before deciding which model to use, let's evaluate all of the models AutoGluon has previously trained on our test data:"
   ]
  },
  {
   "cell_type": "code",
   "execution_count": 15,
   "id": "d5f02254",
   "metadata": {
    "ExecuteTime": {
     "end_time": "2023-12-27T07:44:16.754526Z",
     "start_time": "2023-12-27T07:44:15.516135Z"
    }
   },
   "outputs": [
    {
     "data": {
      "text/plain": "                    model  score_test  score_val eval_metric  pred_time_test  \\\n0         LightGBM_BAG_L1    0.629437   0.685590          f1        0.131875   \n1     WeightedEnsemble_L2    0.629437   0.685590          f1        0.133108   \n2  NeuralNetFastAI_BAG_L1    0.614756   0.675889          f1        1.016875   \n\n   pred_time_val  fit_time  pred_time_test_marginal  pred_time_val_marginal  \\\n0       0.038826  1.340032                 0.131875                0.038826   \n1       0.043109  2.389928                 0.001233                0.004283   \n2       0.118725  5.915798                 1.016875                0.118725   \n\n   fit_time_marginal  stack_level  can_infer  fit_order  \n0           1.340032            1       True          1  \n1           1.049896            2       True          3  \n2           5.915798            1       True          2  ",
      "text/html": "<div>\n<style scoped>\n    .dataframe tbody tr th:only-of-type {\n        vertical-align: middle;\n    }\n\n    .dataframe tbody tr th {\n        vertical-align: top;\n    }\n\n    .dataframe thead th {\n        text-align: right;\n    }\n</style>\n<table border=\"1\" class=\"dataframe\">\n  <thead>\n    <tr style=\"text-align: right;\">\n      <th></th>\n      <th>model</th>\n      <th>score_test</th>\n      <th>score_val</th>\n      <th>eval_metric</th>\n      <th>pred_time_test</th>\n      <th>pred_time_val</th>\n      <th>fit_time</th>\n      <th>pred_time_test_marginal</th>\n      <th>pred_time_val_marginal</th>\n      <th>fit_time_marginal</th>\n      <th>stack_level</th>\n      <th>can_infer</th>\n      <th>fit_order</th>\n    </tr>\n  </thead>\n  <tbody>\n    <tr>\n      <th>0</th>\n      <td>LightGBM_BAG_L1</td>\n      <td>0.629437</td>\n      <td>0.685590</td>\n      <td>f1</td>\n      <td>0.131875</td>\n      <td>0.038826</td>\n      <td>1.340032</td>\n      <td>0.131875</td>\n      <td>0.038826</td>\n      <td>1.340032</td>\n      <td>1</td>\n      <td>True</td>\n      <td>1</td>\n    </tr>\n    <tr>\n      <th>1</th>\n      <td>WeightedEnsemble_L2</td>\n      <td>0.629437</td>\n      <td>0.685590</td>\n      <td>f1</td>\n      <td>0.133108</td>\n      <td>0.043109</td>\n      <td>2.389928</td>\n      <td>0.001233</td>\n      <td>0.004283</td>\n      <td>1.049896</td>\n      <td>2</td>\n      <td>True</td>\n      <td>3</td>\n    </tr>\n    <tr>\n      <th>2</th>\n      <td>NeuralNetFastAI_BAG_L1</td>\n      <td>0.614756</td>\n      <td>0.675889</td>\n      <td>f1</td>\n      <td>1.016875</td>\n      <td>0.118725</td>\n      <td>5.915798</td>\n      <td>1.016875</td>\n      <td>0.118725</td>\n      <td>5.915798</td>\n      <td>1</td>\n      <td>True</td>\n      <td>2</td>\n    </tr>\n  </tbody>\n</table>\n</div>"
     },
     "execution_count": 15,
     "metadata": {},
     "output_type": "execute_result"
    }
   ],
   "source": [
    "predictor.leaderboard(test_data)"
   ]
  },
  {
   "cell_type": "markdown",
   "id": "11084a6a",
   "metadata": {},
   "source": [
    "The leaderboard shows each model's predictive performance on the test data (`score_test`) and validation data (`score_val`), as well as the time required to: produce predictions for the test data (`pred_time_val`), produce predictions on the validation data (`pred_time_val`), and train only this model (`fit_time`). Below, we show that a leaderboard can be produced without new data (just uses the data previously reserved for validation inside `fit`) and can display extra information about each model:"
   ]
  },
  {
   "cell_type": "code",
   "execution_count": 16,
   "id": "2cd4b79f",
   "metadata": {
    "ExecuteTime": {
     "end_time": "2023-12-27T07:44:27.620163Z",
     "start_time": "2023-12-27T07:44:25.162876Z"
    }
   },
   "outputs": [
    {
     "data": {
      "text/plain": "                    model  score_val eval_metric  pred_time_val  fit_time  \\\n0         LightGBM_BAG_L1   0.685590          f1       0.038826  1.340032   \n1     WeightedEnsemble_L2   0.685590          f1       0.043109  2.389928   \n2  NeuralNetFastAI_BAG_L1   0.675889          f1       0.118725  5.915798   \n\n   pred_time_val_marginal  fit_time_marginal  stack_level  can_infer  \\\n0                0.038826           1.340032            1       True   \n1                0.004283           1.049896            2       True   \n2                0.118725           5.915798            1       True   \n\n   fit_order  ...  \\\n0          1  ...   \n1          3  ...   \n2          2  ...   \n\n                                                                                              hyperparameters  \\\n0   {'use_orig_features': True, 'max_base_models': 25, 'max_base_models_per_type': 5, 'save_bag_folds': True}   \n1  {'use_orig_features': False, 'max_base_models': 25, 'max_base_models_per_type': 5, 'save_bag_folds': True}   \n2   {'use_orig_features': True, 'max_base_models': 25, 'max_base_models_per_type': 5, 'save_bag_folds': True}   \n\n   hyperparameters_fit  \\\n0                   {}   \n1                   {}   \n2                   {}   \n\n                                                                                                                                                                                                                                                                                                                                                                           ag_args_fit  \\\n0  {'max_memory_usage_ratio': 1.0, 'max_time_limit_ratio': 1.0, 'max_time_limit': None, 'min_time_limit': 0, 'valid_raw_types': None, 'valid_special_types': None, 'ignored_type_group_special': None, 'ignored_type_group_raw': None, 'get_features_kwargs': None, 'get_features_kwargs_extra': None, 'predict_1_batch_size': None, 'temperature_scalar': None, 'drop_unique': False}   \n1  {'max_memory_usage_ratio': 1.0, 'max_time_limit_ratio': 1.0, 'max_time_limit': None, 'min_time_limit': 0, 'valid_raw_types': None, 'valid_special_types': None, 'ignored_type_group_special': None, 'ignored_type_group_raw': None, 'get_features_kwargs': None, 'get_features_kwargs_extra': None, 'predict_1_batch_size': None, 'temperature_scalar': None, 'drop_unique': False}   \n2  {'max_memory_usage_ratio': 1.0, 'max_time_limit_ratio': 1.0, 'max_time_limit': None, 'min_time_limit': 0, 'valid_raw_types': None, 'valid_special_types': None, 'ignored_type_group_special': None, 'ignored_type_group_raw': None, 'get_features_kwargs': None, 'get_features_kwargs_extra': None, 'predict_1_batch_size': None, 'temperature_scalar': None, 'drop_unique': False}   \n\n                                                                                                                                                              features  \\\n0  [capital-gain, race, relationship, education, marital-status, native-country, sex, hours-per-week, workclass, fnlwgt, education-num, age, occupation, capital-loss]   \n1                                                                                                                                                    [LightGBM_BAG_L1]   \n2  [capital-gain, race, relationship, education, marital-status, native-country, sex, hours-per-week, workclass, fnlwgt, education-num, age, occupation, capital-loss]   \n\n   compile_time  \\\n0          None   \n1          None   \n2          None   \n\n                                                                                                                                                                             child_hyperparameters  \\\n0                                                                                                                                                  {'learning_rate': 0.05, 'num_boost_round': 200}   \n1                                                                                                                                                                           {'ensemble_size': 100}   \n2  {'layers': None, 'emb_drop': 0.1, 'ps': 0.1, 'bs': 'auto', 'lr': 0.01, 'epochs': 'auto', 'early.stopping.min_delta': 0.0001, 'early.stopping.patience': 20, 'smoothing': 0.0, 'num_epochs': 10}   \n\n          child_hyperparameters_fit  \\\n0           {'num_boost_round': 83}   \n1              {'ensemble_size': 1}   \n2  {'epochs': 30, 'best_epoch': 12}   \n\n                                                                                                                                                                                                                                                                                                                                                                                                             child_ag_args_fit  \\\n0                                {'max_memory_usage_ratio': 1.0, 'max_time_limit_ratio': 1.0, 'max_time_limit': None, 'min_time_limit': 0, 'valid_raw_types': ['bool', 'int', 'float', 'category'], 'valid_special_types': None, 'ignored_type_group_special': None, 'ignored_type_group_raw': None, 'get_features_kwargs': None, 'get_features_kwargs_extra': None, 'predict_1_batch_size': None, 'temperature_scalar': None}   \n1                                          {'max_memory_usage_ratio': 1.0, 'max_time_limit_ratio': 1.0, 'max_time_limit': None, 'min_time_limit': 0, 'valid_raw_types': None, 'valid_special_types': None, 'ignored_type_group_special': None, 'ignored_type_group_raw': None, 'get_features_kwargs': None, 'get_features_kwargs_extra': None, 'predict_1_batch_size': None, 'temperature_scalar': None, 'drop_unique': False}   \n2  {'max_memory_usage_ratio': 1.0, 'max_time_limit_ratio': 1.0, 'max_time_limit': None, 'min_time_limit': 0, 'valid_raw_types': ['bool', 'int', 'float', 'category'], 'valid_special_types': None, 'ignored_type_group_special': ['text_ngram', 'text_as_category'], 'ignored_type_group_raw': None, 'get_features_kwargs': None, 'get_features_kwargs_extra': None, 'predict_1_batch_size': None, 'temperature_scalar': None}   \n\n           ancestors            descendants  \n0                 []  [WeightedEnsemble_L2]  \n1  [LightGBM_BAG_L1]                     []  \n2                 []                     []  \n\n[3 rows x 32 columns]",
      "text/html": "<div>\n<style scoped>\n    .dataframe tbody tr th:only-of-type {\n        vertical-align: middle;\n    }\n\n    .dataframe tbody tr th {\n        vertical-align: top;\n    }\n\n    .dataframe thead th {\n        text-align: right;\n    }\n</style>\n<table border=\"1\" class=\"dataframe\">\n  <thead>\n    <tr style=\"text-align: right;\">\n      <th></th>\n      <th>model</th>\n      <th>score_val</th>\n      <th>eval_metric</th>\n      <th>pred_time_val</th>\n      <th>fit_time</th>\n      <th>pred_time_val_marginal</th>\n      <th>fit_time_marginal</th>\n      <th>stack_level</th>\n      <th>can_infer</th>\n      <th>fit_order</th>\n      <th>...</th>\n      <th>hyperparameters</th>\n      <th>hyperparameters_fit</th>\n      <th>ag_args_fit</th>\n      <th>features</th>\n      <th>compile_time</th>\n      <th>child_hyperparameters</th>\n      <th>child_hyperparameters_fit</th>\n      <th>child_ag_args_fit</th>\n      <th>ancestors</th>\n      <th>descendants</th>\n    </tr>\n  </thead>\n  <tbody>\n    <tr>\n      <th>0</th>\n      <td>LightGBM_BAG_L1</td>\n      <td>0.685590</td>\n      <td>f1</td>\n      <td>0.038826</td>\n      <td>1.340032</td>\n      <td>0.038826</td>\n      <td>1.340032</td>\n      <td>1</td>\n      <td>True</td>\n      <td>1</td>\n      <td>...</td>\n      <td>{'use_orig_features': True, 'max_base_models': 25, 'max_base_models_per_type': 5, 'save_bag_folds': True}</td>\n      <td>{}</td>\n      <td>{'max_memory_usage_ratio': 1.0, 'max_time_limit_ratio': 1.0, 'max_time_limit': None, 'min_time_limit': 0, 'valid_raw_types': None, 'valid_special_types': None, 'ignored_type_group_special': None, 'ignored_type_group_raw': None, 'get_features_kwargs': None, 'get_features_kwargs_extra': None, 'predict_1_batch_size': None, 'temperature_scalar': None, 'drop_unique': False}</td>\n      <td>[capital-gain, race, relationship, education, marital-status, native-country, sex, hours-per-week, workclass, fnlwgt, education-num, age, occupation, capital-loss]</td>\n      <td>None</td>\n      <td>{'learning_rate': 0.05, 'num_boost_round': 200}</td>\n      <td>{'num_boost_round': 83}</td>\n      <td>{'max_memory_usage_ratio': 1.0, 'max_time_limit_ratio': 1.0, 'max_time_limit': None, 'min_time_limit': 0, 'valid_raw_types': ['bool', 'int', 'float', 'category'], 'valid_special_types': None, 'ignored_type_group_special': None, 'ignored_type_group_raw': None, 'get_features_kwargs': None, 'get_features_kwargs_extra': None, 'predict_1_batch_size': None, 'temperature_scalar': None}</td>\n      <td>[]</td>\n      <td>[WeightedEnsemble_L2]</td>\n    </tr>\n    <tr>\n      <th>1</th>\n      <td>WeightedEnsemble_L2</td>\n      <td>0.685590</td>\n      <td>f1</td>\n      <td>0.043109</td>\n      <td>2.389928</td>\n      <td>0.004283</td>\n      <td>1.049896</td>\n      <td>2</td>\n      <td>True</td>\n      <td>3</td>\n      <td>...</td>\n      <td>{'use_orig_features': False, 'max_base_models': 25, 'max_base_models_per_type': 5, 'save_bag_folds': True}</td>\n      <td>{}</td>\n      <td>{'max_memory_usage_ratio': 1.0, 'max_time_limit_ratio': 1.0, 'max_time_limit': None, 'min_time_limit': 0, 'valid_raw_types': None, 'valid_special_types': None, 'ignored_type_group_special': None, 'ignored_type_group_raw': None, 'get_features_kwargs': None, 'get_features_kwargs_extra': None, 'predict_1_batch_size': None, 'temperature_scalar': None, 'drop_unique': False}</td>\n      <td>[LightGBM_BAG_L1]</td>\n      <td>None</td>\n      <td>{'ensemble_size': 100}</td>\n      <td>{'ensemble_size': 1}</td>\n      <td>{'max_memory_usage_ratio': 1.0, 'max_time_limit_ratio': 1.0, 'max_time_limit': None, 'min_time_limit': 0, 'valid_raw_types': None, 'valid_special_types': None, 'ignored_type_group_special': None, 'ignored_type_group_raw': None, 'get_features_kwargs': None, 'get_features_kwargs_extra': None, 'predict_1_batch_size': None, 'temperature_scalar': None, 'drop_unique': False}</td>\n      <td>[LightGBM_BAG_L1]</td>\n      <td>[]</td>\n    </tr>\n    <tr>\n      <th>2</th>\n      <td>NeuralNetFastAI_BAG_L1</td>\n      <td>0.675889</td>\n      <td>f1</td>\n      <td>0.118725</td>\n      <td>5.915798</td>\n      <td>0.118725</td>\n      <td>5.915798</td>\n      <td>1</td>\n      <td>True</td>\n      <td>2</td>\n      <td>...</td>\n      <td>{'use_orig_features': True, 'max_base_models': 25, 'max_base_models_per_type': 5, 'save_bag_folds': True}</td>\n      <td>{}</td>\n      <td>{'max_memory_usage_ratio': 1.0, 'max_time_limit_ratio': 1.0, 'max_time_limit': None, 'min_time_limit': 0, 'valid_raw_types': None, 'valid_special_types': None, 'ignored_type_group_special': None, 'ignored_type_group_raw': None, 'get_features_kwargs': None, 'get_features_kwargs_extra': None, 'predict_1_batch_size': None, 'temperature_scalar': None, 'drop_unique': False}</td>\n      <td>[capital-gain, race, relationship, education, marital-status, native-country, sex, hours-per-week, workclass, fnlwgt, education-num, age, occupation, capital-loss]</td>\n      <td>None</td>\n      <td>{'layers': None, 'emb_drop': 0.1, 'ps': 0.1, 'bs': 'auto', 'lr': 0.01, 'epochs': 'auto', 'early.stopping.min_delta': 0.0001, 'early.stopping.patience': 20, 'smoothing': 0.0, 'num_epochs': 10}</td>\n      <td>{'epochs': 30, 'best_epoch': 12}</td>\n      <td>{'max_memory_usage_ratio': 1.0, 'max_time_limit_ratio': 1.0, 'max_time_limit': None, 'min_time_limit': 0, 'valid_raw_types': ['bool', 'int', 'float', 'category'], 'valid_special_types': None, 'ignored_type_group_special': ['text_ngram', 'text_as_category'], 'ignored_type_group_raw': None, 'get_features_kwargs': None, 'get_features_kwargs_extra': None, 'predict_1_batch_size': None, 'temperature_scalar': None}</td>\n      <td>[]</td>\n      <td>[]</td>\n    </tr>\n  </tbody>\n</table>\n<p>3 rows × 32 columns</p>\n</div>"
     },
     "execution_count": 16,
     "metadata": {},
     "output_type": "execute_result"
    }
   ],
   "source": [
    "predictor.leaderboard(extra_info=True)"
   ]
  },
  {
   "cell_type": "markdown",
   "id": "13dff991",
   "metadata": {},
   "source": [
    "The expanded leaderboard shows properties like how many features are used by each model (`num_features`), which other models are ancestors whose predictions are required inputs for each model (`ancestors`), and how much memory each model and all its ancestors would occupy if simultaneously persisted (`memory_size_w_ancestors`). See the [leaderboard documentation](../../api/autogluon.tabular.TabularPredictor.leaderboard.rst) for full details.\n",
    "\n",
    "To show scores for other metrics, you can specify the `extra_metrics` argument when passing in `test_data`:"
   ]
  },
  {
   "cell_type": "code",
   "execution_count": 17,
   "id": "dc39b3b1",
   "metadata": {
    "ExecuteTime": {
     "end_time": "2023-12-27T07:46:04.210470Z",
     "start_time": "2023-12-27T07:46:02.739489Z"
    }
   },
   "outputs": [
    {
     "data": {
      "text/plain": "                    model  score_test  accuracy  balanced_accuracy  log_loss  \\\n0         LightGBM_BAG_L1    0.629437   0.84717           0.743784 -0.334022   \n1     WeightedEnsemble_L2    0.629437   0.84717           0.743784 -0.334022   \n2  NeuralNetFastAI_BAG_L1    0.614756   0.83591           0.738037 -0.385071   \n\n   score_val eval_metric  pred_time_test  pred_time_val  fit_time  \\\n0   0.685590          f1        0.136150       0.038826  1.340032   \n1   0.685590          f1        0.137614       0.043109  2.389928   \n2   0.675889          f1        1.126292       0.118725  5.915798   \n\n   pred_time_test_marginal  pred_time_val_marginal  fit_time_marginal  \\\n0                 0.136150                0.038826           1.340032   \n1                 0.001464                0.004283           1.049896   \n2                 1.126292                0.118725           5.915798   \n\n   stack_level  can_infer  fit_order  \n0            1       True          1  \n1            2       True          3  \n2            1       True          2  ",
      "text/html": "<div>\n<style scoped>\n    .dataframe tbody tr th:only-of-type {\n        vertical-align: middle;\n    }\n\n    .dataframe tbody tr th {\n        vertical-align: top;\n    }\n\n    .dataframe thead th {\n        text-align: right;\n    }\n</style>\n<table border=\"1\" class=\"dataframe\">\n  <thead>\n    <tr style=\"text-align: right;\">\n      <th></th>\n      <th>model</th>\n      <th>score_test</th>\n      <th>accuracy</th>\n      <th>balanced_accuracy</th>\n      <th>log_loss</th>\n      <th>score_val</th>\n      <th>eval_metric</th>\n      <th>pred_time_test</th>\n      <th>pred_time_val</th>\n      <th>fit_time</th>\n      <th>pred_time_test_marginal</th>\n      <th>pred_time_val_marginal</th>\n      <th>fit_time_marginal</th>\n      <th>stack_level</th>\n      <th>can_infer</th>\n      <th>fit_order</th>\n    </tr>\n  </thead>\n  <tbody>\n    <tr>\n      <th>0</th>\n      <td>LightGBM_BAG_L1</td>\n      <td>0.629437</td>\n      <td>0.84717</td>\n      <td>0.743784</td>\n      <td>-0.334022</td>\n      <td>0.685590</td>\n      <td>f1</td>\n      <td>0.136150</td>\n      <td>0.038826</td>\n      <td>1.340032</td>\n      <td>0.136150</td>\n      <td>0.038826</td>\n      <td>1.340032</td>\n      <td>1</td>\n      <td>True</td>\n      <td>1</td>\n    </tr>\n    <tr>\n      <th>1</th>\n      <td>WeightedEnsemble_L2</td>\n      <td>0.629437</td>\n      <td>0.84717</td>\n      <td>0.743784</td>\n      <td>-0.334022</td>\n      <td>0.685590</td>\n      <td>f1</td>\n      <td>0.137614</td>\n      <td>0.043109</td>\n      <td>2.389928</td>\n      <td>0.001464</td>\n      <td>0.004283</td>\n      <td>1.049896</td>\n      <td>2</td>\n      <td>True</td>\n      <td>3</td>\n    </tr>\n    <tr>\n      <th>2</th>\n      <td>NeuralNetFastAI_BAG_L1</td>\n      <td>0.614756</td>\n      <td>0.83591</td>\n      <td>0.738037</td>\n      <td>-0.385071</td>\n      <td>0.675889</td>\n      <td>f1</td>\n      <td>1.126292</td>\n      <td>0.118725</td>\n      <td>5.915798</td>\n      <td>1.126292</td>\n      <td>0.118725</td>\n      <td>5.915798</td>\n      <td>1</td>\n      <td>True</td>\n      <td>2</td>\n    </tr>\n  </tbody>\n</table>\n</div>"
     },
     "execution_count": 17,
     "metadata": {},
     "output_type": "execute_result"
    }
   ],
   "source": [
    "predictor.leaderboard(test_data, extra_metrics=['accuracy', 'balanced_accuracy', 'log_loss'])"
   ]
  },
  {
   "cell_type": "markdown",
   "id": "b01083ae",
   "metadata": {},
   "source": [
    "Notice that `log_loss` scores are negative.\n",
    "This is because metrics in AutoGluon are always shown in `higher_is_better` form.\n",
    "This means that metrics such as `log_loss` and `root_mean_squared_error` will have their signs FLIPPED, and values will be negative.\n",
    "This is necessary to avoid the user needing to know the metric to understand if higher is better when looking at leaderboard.\n",
    "\n",
    "One additional caveat: It is possible that `log_loss` values can be `-inf` when computed via `extra_metrics`.\n",
    "This is because the models were not optimized with `log_loss` in mind during training and\n",
    "may have prediction probabilities giving a class `0` (particularly common with K-Nearest-Neighbors models).\n",
    "Because `log_loss` gives infinite error when the correct class was given `0` probability, this results in a score of `-inf`.\n",
    "It is therefore recommended that `log_loss` should not be used as a secondary metric to determine model quality.\n",
    "Either use `log_loss` as the `eval_metric` or avoid it altogether.\n",
    "\n",
    "Here's how to specify a particular model to use for prediction instead of AutoGluon's default model-choice:"
   ]
  },
  {
   "cell_type": "code",
   "execution_count": 18,
   "id": "1f938d89",
   "metadata": {
    "ExecuteTime": {
     "end_time": "2023-12-27T07:50:08.650268Z",
     "start_time": "2023-12-27T07:50:08.579745Z"
    }
   },
   "outputs": [
    {
     "name": "stdout",
     "output_type": "stream",
     "text": [
      "Prediction from LightGBM_BAG_L1 model:  <=50K\n"
     ]
    }
   ],
   "source": [
    "i = 0  # index of model to use\n",
    "model_to_use = predictor.model_names()[i]\n",
    "model_pred = predictor.predict(datapoint, model=model_to_use)\n",
    "print(\"Prediction from %s model: %s\" % (model_to_use, model_pred.iloc[0]))"
   ]
  },
  {
   "cell_type": "markdown",
   "id": "775cb4a5",
   "metadata": {},
   "source": [
    "We can easily access various information about the trained predictor or a particular model:"
   ]
  },
  {
   "cell_type": "code",
   "execution_count": 19,
   "id": "5cd13fed",
   "metadata": {
    "ExecuteTime": {
     "end_time": "2023-12-27T07:52:40.005809Z",
     "start_time": "2023-12-27T07:52:36.650551Z"
    }
   },
   "outputs": [],
   "source": [
    "all_models = predictor.model_names()\n",
    "model_to_use = all_models[i]\n",
    "specific_model = predictor._trainer.load_model(model_to_use)\n",
    "\n",
    "# Objects defined below are dicts of various information (not printed here as they are quite large):\n",
    "model_info = specific_model.get_info()\n",
    "predictor_information = predictor.info()"
   ]
  },
  {
   "cell_type": "code",
   "execution_count": 21,
   "outputs": [
    {
     "name": "stdout",
     "output_type": "stream",
     "text": [
      "{'path': 'agModels-predictClass', 'label': 'class', 'random_state': 0, 'version': '1.0.0', 'features': ['age', 'workclass', 'fnlwgt', 'education', 'education-num', 'marital-status', 'occupation', 'relationship', 'race', 'sex', 'capital-gain', 'capital-loss', 'hours-per-week', 'native-country'], 'feature_metadata_in': <autogluon.common.features.feature_metadata.FeatureMetadata object at 0x1bcc66860>, 'time_fit_preprocessing': 0.1011049747467041, 'time_fit_training': 16.2378830909729, 'time_fit_total': 16.338988065719604, 'time_limit': 30, 'time_train_start': 1703662479.564477, 'num_rows_train': 1000, 'num_cols_train': 14, 'num_rows_val': None, 'num_classes': 2, 'problem_type': 'binary', 'eval_metric': 'f1', 'best_model': 'WeightedEnsemble_L2', 'best_model_score_val': 0.685589519650655, 'best_model_stack_level': 2, 'num_models_trained': 3, 'num_bag_folds': 8, 'max_stack_level': 2, 'max_core_stack_level': 1, 'model_info': {'LightGBM_BAG_L1': {'name': 'LightGBM_BAG_L1', 'model_type': 'StackerEnsembleModel', 'problem_type': 'binary', 'eval_metric': 'f1', 'stopping_metric': 'f1', 'fit_time': 1.3400321006774902, 'num_classes': 2, 'quantile_levels': None, 'predict_time': 0.03882551193237305, 'val_score': 0.685589519650655, 'hyperparameters': {'use_orig_features': True, 'max_base_models': 25, 'max_base_models_per_type': 5, 'save_bag_folds': True}, 'hyperparameters_fit': {}, 'hyperparameters_nondefault': [], 'ag_args_fit': {'max_memory_usage_ratio': 1.0, 'max_time_limit_ratio': 1.0, 'max_time_limit': None, 'min_time_limit': 0, 'valid_raw_types': None, 'valid_special_types': None, 'ignored_type_group_special': None, 'ignored_type_group_raw': None, 'get_features_kwargs': None, 'get_features_kwargs_extra': None, 'predict_1_batch_size': None, 'temperature_scalar': None, 'drop_unique': False}, 'num_features': 14, 'features': ['capital-gain', 'race', 'relationship', 'education', 'marital-status', 'native-country', 'sex', 'hours-per-week', 'workclass', 'fnlwgt', 'education-num', 'age', 'occupation', 'capital-loss'], 'feature_metadata': <autogluon.common.features.feature_metadata.FeatureMetadata object at 0x1bcb33e80>, 'memory_size': 2854, 'compile_time': None, 'is_initialized': True, 'is_fit': True, 'is_valid': True, 'can_infer': True, 'bagged_info': {'child_model_type': 'LGBModel', 'num_child_models': 8, 'child_model_names': ['S1F2', 'S1F1', 'S1F6', 'S1F7', 'S1F4', 'S1F5', 'S1F8', 'S1F3'], '_n_repeats': 1, '_k_per_n_repeat': [8], '_random_state': 1, 'low_memory': True, 'bagged_mode': True, 'max_memory_size': 2296113, 'min_memory_size': 550575, 'child_hyperparameters': {'learning_rate': 0.05, 'num_boost_round': 200}, 'child_hyperparameters_fit': {'num_boost_round': 83}, 'child_ag_args_fit': {'max_memory_usage_ratio': 1.0, 'max_time_limit_ratio': 1.0, 'max_time_limit': None, 'min_time_limit': 0, 'valid_raw_types': ['bool', 'int', 'float', 'category'], 'valid_special_types': None, 'ignored_type_group_special': None, 'ignored_type_group_raw': None, 'get_features_kwargs': None, 'get_features_kwargs_extra': None, 'predict_1_batch_size': None, 'temperature_scalar': None}}, 'stacker_info': {'num_base_models': 0, 'base_model_names': []}, 'children_info': {'S1F2': {'name': 'S1F2', 'model_type': 'LGBModel', 'problem_type': 'binary', 'eval_metric': 'f1', 'stopping_metric': 'f1', 'fit_time': 1.1922619342803955, 'num_classes': 2, 'quantile_levels': None, 'predict_time': 0.00400996208190918, 'val_score': 0.7868852459016394, 'hyperparameters': {'learning_rate': 0.05, 'num_boost_round': 200}, 'hyperparameters_fit': {'num_boost_round': 30}, 'hyperparameters_nondefault': ['num_boost_round'], 'ag_args_fit': {'max_memory_usage_ratio': 1.0, 'max_time_limit_ratio': 1.0, 'max_time_limit': None, 'min_time_limit': 0, 'valid_raw_types': ['bool', 'int', 'float', 'category'], 'valid_special_types': None, 'ignored_type_group_special': None, 'ignored_type_group_raw': None, 'get_features_kwargs': None, 'get_features_kwargs_extra': None, 'predict_1_batch_size': None, 'temperature_scalar': None}, 'num_features': 14, 'features': ['age', 'fnlwgt', 'education-num', 'sex', 'capital-gain', 'capital-loss', 'hours-per-week', 'workclass', 'education', 'marital-status', 'occupation', 'relationship', 'race', 'native-country'], 'feature_metadata': <autogluon.common.features.feature_metadata.FeatureMetadata object at 0x1bcb31570>, 'memory_size': 107126, 'compile_time': None, 'is_initialized': True, 'is_fit': True, 'is_valid': True, 'can_infer': True}, 'S1F1': {'name': 'S1F1', 'model_type': 'LGBModel', 'problem_type': 'binary', 'eval_metric': 'f1', 'stopping_metric': 'f1', 'fit_time': 1.1930201053619385, 'num_classes': 2, 'quantile_levels': None, 'predict_time': 0.004907846450805664, 'val_score': 0.7457627118644067, 'hyperparameters': {'learning_rate': 0.05, 'num_boost_round': 200}, 'hyperparameters_fit': {'num_boost_round': 33}, 'hyperparameters_nondefault': ['num_boost_round'], 'ag_args_fit': {'max_memory_usage_ratio': 1.0, 'max_time_limit_ratio': 1.0, 'max_time_limit': None, 'min_time_limit': 0, 'valid_raw_types': ['bool', 'int', 'float', 'category'], 'valid_special_types': None, 'ignored_type_group_special': None, 'ignored_type_group_raw': None, 'get_features_kwargs': None, 'get_features_kwargs_extra': None, 'predict_1_batch_size': None, 'temperature_scalar': None}, 'num_features': 14, 'features': ['age', 'fnlwgt', 'education-num', 'sex', 'capital-gain', 'capital-loss', 'hours-per-week', 'workclass', 'education', 'marital-status', 'occupation', 'relationship', 'race', 'native-country'], 'feature_metadata': <autogluon.common.features.feature_metadata.FeatureMetadata object at 0x1bcb30520>, 'memory_size': 116431, 'compile_time': None, 'is_initialized': True, 'is_fit': True, 'is_valid': True, 'can_infer': True}, 'S1F6': {'name': 'S1F6', 'model_type': 'LGBModel', 'problem_type': 'binary', 'eval_metric': 'f1', 'stopping_metric': 'f1', 'fit_time': 1.1979708671569824, 'num_classes': 2, 'quantile_levels': None, 'predict_time': 0.0037751197814941406, 'val_score': 0.5862068965517242, 'hyperparameters': {'learning_rate': 0.05, 'num_boost_round': 200}, 'hyperparameters_fit': {'num_boost_round': 37}, 'hyperparameters_nondefault': ['num_boost_round'], 'ag_args_fit': {'max_memory_usage_ratio': 1.0, 'max_time_limit_ratio': 1.0, 'max_time_limit': None, 'min_time_limit': 0, 'valid_raw_types': ['bool', 'int', 'float', 'category'], 'valid_special_types': None, 'ignored_type_group_special': None, 'ignored_type_group_raw': None, 'get_features_kwargs': None, 'get_features_kwargs_extra': None, 'predict_1_batch_size': None, 'temperature_scalar': None}, 'num_features': 14, 'features': ['age', 'fnlwgt', 'education-num', 'sex', 'capital-gain', 'capital-loss', 'hours-per-week', 'workclass', 'education', 'marital-status', 'occupation', 'relationship', 'race', 'native-country'], 'feature_metadata': <autogluon.common.features.feature_metadata.FeatureMetadata object at 0x1bcb31ea0>, 'memory_size': 130354, 'compile_time': None, 'is_initialized': True, 'is_fit': True, 'is_valid': True, 'can_infer': True}, 'S1F7': {'name': 'S1F7', 'model_type': 'LGBModel', 'problem_type': 'binary', 'eval_metric': 'f1', 'stopping_metric': 'f1', 'fit_time': 1.2066411972045898, 'num_classes': 2, 'quantile_levels': None, 'predict_time': 0.005384922027587891, 'val_score': 0.7457627118644067, 'hyperparameters': {'learning_rate': 0.05, 'num_boost_round': 200}, 'hyperparameters_fit': {'num_boost_round': 141}, 'hyperparameters_nondefault': ['num_boost_round'], 'ag_args_fit': {'max_memory_usage_ratio': 1.0, 'max_time_limit_ratio': 1.0, 'max_time_limit': None, 'min_time_limit': 0, 'valid_raw_types': ['bool', 'int', 'float', 'category'], 'valid_special_types': None, 'ignored_type_group_special': None, 'ignored_type_group_raw': None, 'get_features_kwargs': None, 'get_features_kwargs_extra': None, 'predict_1_batch_size': None, 'temperature_scalar': None}, 'num_features': 14, 'features': ['age', 'fnlwgt', 'education-num', 'sex', 'capital-gain', 'capital-loss', 'hours-per-week', 'workclass', 'education', 'marital-status', 'occupation', 'relationship', 'race', 'native-country'], 'feature_metadata': <autogluon.common.features.feature_metadata.FeatureMetadata object at 0x1bcb30af0>, 'memory_size': 480524, 'compile_time': None, 'is_initialized': True, 'is_fit': True, 'is_valid': True, 'can_infer': True}, 'S1F4': {'name': 'S1F4', 'model_type': 'LGBModel', 'problem_type': 'binary', 'eval_metric': 'f1', 'stopping_metric': 'f1', 'fit_time': 1.2057452201843262, 'num_classes': 2, 'quantile_levels': None, 'predict_time': 0.005995035171508789, 'val_score': 0.6896551724137931, 'hyperparameters': {'learning_rate': 0.05, 'num_boost_round': 200}, 'hyperparameters_fit': {'num_boost_round': 135}, 'hyperparameters_nondefault': ['num_boost_round'], 'ag_args_fit': {'max_memory_usage_ratio': 1.0, 'max_time_limit_ratio': 1.0, 'max_time_limit': None, 'min_time_limit': 0, 'valid_raw_types': ['bool', 'int', 'float', 'category'], 'valid_special_types': None, 'ignored_type_group_special': None, 'ignored_type_group_raw': None, 'get_features_kwargs': None, 'get_features_kwargs_extra': None, 'predict_1_batch_size': None, 'temperature_scalar': None}, 'num_features': 14, 'features': ['age', 'fnlwgt', 'education-num', 'sex', 'capital-gain', 'capital-loss', 'hours-per-week', 'workclass', 'education', 'marital-status', 'occupation', 'relationship', 'race', 'native-country'], 'feature_metadata': <autogluon.common.features.feature_metadata.FeatureMetadata object at 0x1bcb31390>, 'memory_size': 461708, 'compile_time': None, 'is_initialized': True, 'is_fit': True, 'is_valid': True, 'can_infer': True}, 'S1F5': {'name': 'S1F5', 'model_type': 'LGBModel', 'problem_type': 'binary', 'eval_metric': 'f1', 'stopping_metric': 'f1', 'fit_time': 1.1716222763061523, 'num_classes': 2, 'quantile_levels': None, 'predict_time': 0.0048220157623291016, 'val_score': 0.5660377358490566, 'hyperparameters': {'learning_rate': 0.05, 'num_boost_round': 200}, 'hyperparameters_fit': {'num_boost_round': 77}, 'hyperparameters_nondefault': ['num_boost_round'], 'ag_args_fit': {'max_memory_usage_ratio': 1.0, 'max_time_limit_ratio': 1.0, 'max_time_limit': None, 'min_time_limit': 0, 'valid_raw_types': ['bool', 'int', 'float', 'category'], 'valid_special_types': None, 'ignored_type_group_special': None, 'ignored_type_group_raw': None, 'get_features_kwargs': None, 'get_features_kwargs_extra': None, 'predict_1_batch_size': None, 'temperature_scalar': None}, 'num_features': 14, 'features': ['age', 'fnlwgt', 'education-num', 'sex', 'capital-gain', 'capital-loss', 'hours-per-week', 'workclass', 'education', 'marital-status', 'occupation', 'relationship', 'race', 'native-country'], 'feature_metadata': <autogluon.common.features.feature_metadata.FeatureMetadata object at 0x1bcb303d0>, 'memory_size': 264721, 'compile_time': None, 'is_initialized': True, 'is_fit': True, 'is_valid': True, 'can_infer': True}, 'S1F8': {'name': 'S1F8', 'model_type': 'LGBModel', 'problem_type': 'binary', 'eval_metric': 'f1', 'stopping_metric': 'f1', 'fit_time': 1.1868770122528076, 'num_classes': 2, 'quantile_levels': None, 'predict_time': 0.004475831985473633, 'val_score': 0.7307692307692308, 'hyperparameters': {'learning_rate': 0.05, 'num_boost_round': 200}, 'hyperparameters_fit': {'num_boost_round': 53}, 'hyperparameters_nondefault': ['num_boost_round'], 'ag_args_fit': {'max_memory_usage_ratio': 1.0, 'max_time_limit_ratio': 1.0, 'max_time_limit': None, 'min_time_limit': 0, 'valid_raw_types': ['bool', 'int', 'float', 'category'], 'valid_special_types': None, 'ignored_type_group_special': None, 'ignored_type_group_raw': None, 'get_features_kwargs': None, 'get_features_kwargs_extra': None, 'predict_1_batch_size': None, 'temperature_scalar': None}, 'num_features': 14, 'features': ['age', 'fnlwgt', 'education-num', 'sex', 'capital-gain', 'capital-loss', 'hours-per-week', 'workclass', 'education', 'marital-status', 'occupation', 'relationship', 'race', 'native-country'], 'feature_metadata': <autogluon.common.features.feature_metadata.FeatureMetadata object at 0x1bcb33d60>, 'memory_size': 184674, 'compile_time': None, 'is_initialized': True, 'is_fit': True, 'is_valid': True, 'can_infer': True}, 'S1F3': {'name': 'S1F3', 'model_type': 'LGBModel', 'problem_type': 'binary', 'eval_metric': 'f1', 'stopping_metric': 'f1', 'fit_time': 1.191643238067627, 'num_classes': 2, 'quantile_levels': None, 'predict_time': 0.0054547786712646484, 'val_score': 0.6206896551724138, 'hyperparameters': {'learning_rate': 0.05, 'num_boost_round': 200}, 'hyperparameters_fit': {'num_boost_round': 160}, 'hyperparameters_nondefault': ['num_boost_round'], 'ag_args_fit': {'max_memory_usage_ratio': 1.0, 'max_time_limit_ratio': 1.0, 'max_time_limit': None, 'min_time_limit': 0, 'valid_raw_types': ['bool', 'int', 'float', 'category'], 'valid_special_types': None, 'ignored_type_group_special': None, 'ignored_type_group_raw': None, 'get_features_kwargs': None, 'get_features_kwargs_extra': None, 'predict_1_batch_size': None, 'temperature_scalar': None}, 'num_features': 14, 'features': ['age', 'fnlwgt', 'education-num', 'sex', 'capital-gain', 'capital-loss', 'hours-per-week', 'workclass', 'education', 'marital-status', 'occupation', 'relationship', 'race', 'native-country'], 'feature_metadata': <autogluon.common.features.feature_metadata.FeatureMetadata object at 0x1bcb306a0>, 'memory_size': 547721, 'compile_time': None, 'is_initialized': True, 'is_fit': True, 'is_valid': True, 'can_infer': True}}}, 'NeuralNetFastAI_BAG_L1': {'name': 'NeuralNetFastAI_BAG_L1', 'model_type': 'StackerEnsembleModel', 'problem_type': 'binary', 'eval_metric': 'f1', 'stopping_metric': 'f1', 'fit_time': 5.915798187255859, 'num_classes': 2, 'quantile_levels': None, 'predict_time': 0.11872529983520508, 'val_score': 0.6758893280632411, 'hyperparameters': {'use_orig_features': True, 'max_base_models': 25, 'max_base_models_per_type': 5, 'save_bag_folds': True}, 'hyperparameters_fit': {}, 'hyperparameters_nondefault': [], 'ag_args_fit': {'max_memory_usage_ratio': 1.0, 'max_time_limit_ratio': 1.0, 'max_time_limit': None, 'min_time_limit': 0, 'valid_raw_types': None, 'valid_special_types': None, 'ignored_type_group_special': None, 'ignored_type_group_raw': None, 'get_features_kwargs': None, 'get_features_kwargs_extra': None, 'predict_1_batch_size': None, 'temperature_scalar': None, 'drop_unique': False}, 'num_features': 14, 'features': ['capital-gain', 'race', 'relationship', 'education', 'marital-status', 'native-country', 'sex', 'hours-per-week', 'workclass', 'fnlwgt', 'education-num', 'age', 'occupation', 'capital-loss'], 'feature_metadata': <autogluon.common.features.feature_metadata.FeatureMetadata object at 0x1bcb31ff0>, 'memory_size': 2928, 'compile_time': None, 'is_initialized': True, 'is_fit': True, 'is_valid': True, 'can_infer': True, 'bagged_info': {'child_model_type': 'NNFastAiTabularModel', 'num_child_models': 8, 'child_model_names': ['S1F5', 'S1F4', 'S1F2', 'S1F7', 'S1F3', 'S1F8', 'S1F6', 'S1F1'], '_n_repeats': 1, '_k_per_n_repeat': [8], '_random_state': 1, 'low_memory': True, 'bagged_mode': True, 'max_memory_size': 1390460, 'min_memory_size': 176599, 'child_hyperparameters': {'layers': None, 'emb_drop': 0.1, 'ps': 0.1, 'bs': 'auto', 'lr': 0.01, 'epochs': 'auto', 'early.stopping.min_delta': 0.0001, 'early.stopping.patience': 20, 'smoothing': 0.0, 'num_epochs': 10}, 'child_hyperparameters_fit': {'epochs': 30, 'best_epoch': 12}, 'child_ag_args_fit': {'max_memory_usage_ratio': 1.0, 'max_time_limit_ratio': 1.0, 'max_time_limit': None, 'min_time_limit': 0, 'valid_raw_types': ['bool', 'int', 'float', 'category'], 'valid_special_types': None, 'ignored_type_group_special': ['text_ngram', 'text_as_category'], 'ignored_type_group_raw': None, 'get_features_kwargs': None, 'get_features_kwargs_extra': None, 'predict_1_batch_size': None, 'temperature_scalar': None}}, 'stacker_info': {'num_base_models': 0, 'base_model_names': []}, 'children_info': {'S1F5': {'name': 'S1F5', 'model_type': 'NNFastAiTabularModel', 'problem_type': 'binary', 'eval_metric': 'f1', 'stopping_metric': 'f1', 'fit_time': 5.491554021835327, 'num_classes': 2, 'quantile_levels': None, 'predict_time': 0.013547897338867188, 'val_score': 0.6067415730337079, 'hyperparameters': {'layers': None, 'emb_drop': 0.1, 'ps': 0.1, 'bs': 'auto', 'lr': 0.01, 'epochs': 'auto', 'early.stopping.min_delta': 0.0001, 'early.stopping.patience': 20, 'smoothing': 0.0, 'num_epochs': 10}, 'hyperparameters_fit': {'epochs': 30, 'best_epoch': 0}, 'hyperparameters_nondefault': ['num_epochs'], 'ag_args_fit': {'max_memory_usage_ratio': 1.0, 'max_time_limit_ratio': 1.0, 'max_time_limit': None, 'min_time_limit': 0, 'valid_raw_types': ['bool', 'int', 'float', 'category'], 'valid_special_types': None, 'ignored_type_group_special': ['text_ngram', 'text_as_category'], 'ignored_type_group_raw': None, 'get_features_kwargs': None, 'get_features_kwargs_extra': None, 'predict_1_batch_size': None, 'temperature_scalar': None}, 'num_features': 14, 'features': ['age', 'fnlwgt', 'education-num', 'sex', 'capital-gain', 'capital-loss', 'hours-per-week', 'workclass', 'education', 'marital-status', 'occupation', 'relationship', 'race', 'native-country'], 'feature_metadata': <autogluon.common.features.feature_metadata.FeatureMetadata object at 0x1bcb30f10>, 'memory_size': 172753, 'compile_time': None, 'is_initialized': True, 'is_fit': True, 'is_valid': True, 'can_infer': True}, 'S1F4': {'name': 'S1F4', 'model_type': 'NNFastAiTabularModel', 'problem_type': 'binary', 'eval_metric': 'f1', 'stopping_metric': 'f1', 'fit_time': 5.591833829879761, 'num_classes': 2, 'quantile_levels': None, 'predict_time': 0.012288093566894531, 'val_score': 0.6774193548387096, 'hyperparameters': {'layers': None, 'emb_drop': 0.1, 'ps': 0.1, 'bs': 'auto', 'lr': 0.01, 'epochs': 'auto', 'early.stopping.min_delta': 0.0001, 'early.stopping.patience': 20, 'smoothing': 0.0, 'num_epochs': 10}, 'hyperparameters_fit': {'epochs': 30, 'best_epoch': 2}, 'hyperparameters_nondefault': ['num_epochs'], 'ag_args_fit': {'max_memory_usage_ratio': 1.0, 'max_time_limit_ratio': 1.0, 'max_time_limit': None, 'min_time_limit': 0, 'valid_raw_types': ['bool', 'int', 'float', 'category'], 'valid_special_types': None, 'ignored_type_group_special': ['text_ngram', 'text_as_category'], 'ignored_type_group_raw': None, 'get_features_kwargs': None, 'get_features_kwargs_extra': None, 'predict_1_batch_size': None, 'temperature_scalar': None}, 'num_features': 14, 'features': ['age', 'fnlwgt', 'education-num', 'sex', 'capital-gain', 'capital-loss', 'hours-per-week', 'workclass', 'education', 'marital-status', 'occupation', 'relationship', 'race', 'native-country'], 'feature_metadata': <autogluon.common.features.feature_metadata.FeatureMetadata object at 0x1bcb30b80>, 'memory_size': 172957, 'compile_time': None, 'is_initialized': True, 'is_fit': True, 'is_valid': True, 'can_infer': True}, 'S1F2': {'name': 'S1F2', 'model_type': 'NNFastAiTabularModel', 'problem_type': 'binary', 'eval_metric': 'f1', 'stopping_metric': 'f1', 'fit_time': 5.813933849334717, 'num_classes': 2, 'quantile_levels': None, 'predict_time': 0.01579594612121582, 'val_score': 0.8135593220338982, 'hyperparameters': {'layers': None, 'emb_drop': 0.1, 'ps': 0.1, 'bs': 'auto', 'lr': 0.01, 'epochs': 'auto', 'early.stopping.min_delta': 0.0001, 'early.stopping.patience': 20, 'smoothing': 0.0, 'num_epochs': 10}, 'hyperparameters_fit': {'epochs': 30, 'best_epoch': 7}, 'hyperparameters_nondefault': ['num_epochs'], 'ag_args_fit': {'max_memory_usage_ratio': 1.0, 'max_time_limit_ratio': 1.0, 'max_time_limit': None, 'min_time_limit': 0, 'valid_raw_types': ['bool', 'int', 'float', 'category'], 'valid_special_types': None, 'ignored_type_group_special': ['text_ngram', 'text_as_category'], 'ignored_type_group_raw': None, 'get_features_kwargs': None, 'get_features_kwargs_extra': None, 'predict_1_batch_size': None, 'temperature_scalar': None}, 'num_features': 14, 'features': ['age', 'fnlwgt', 'education-num', 'sex', 'capital-gain', 'capital-loss', 'hours-per-week', 'workclass', 'education', 'marital-status', 'occupation', 'relationship', 'race', 'native-country'], 'feature_metadata': <autogluon.common.features.feature_metadata.FeatureMetadata object at 0x1bcb30940>, 'memory_size': 173467, 'compile_time': None, 'is_initialized': True, 'is_fit': True, 'is_valid': True, 'can_infer': True}, 'S1F7': {'name': 'S1F7', 'model_type': 'NNFastAiTabularModel', 'problem_type': 'binary', 'eval_metric': 'f1', 'stopping_metric': 'f1', 'fit_time': 5.867829084396362, 'num_classes': 2, 'quantile_levels': None, 'predict_time': 0.01427602767944336, 'val_score': 0.6333333333333334, 'hyperparameters': {'layers': None, 'emb_drop': 0.1, 'ps': 0.1, 'bs': 'auto', 'lr': 0.01, 'epochs': 'auto', 'early.stopping.min_delta': 0.0001, 'early.stopping.patience': 20, 'smoothing': 0.0, 'num_epochs': 10}, 'hyperparameters_fit': {'epochs': 30, 'best_epoch': 17}, 'hyperparameters_nondefault': ['num_epochs'], 'ag_args_fit': {'max_memory_usage_ratio': 1.0, 'max_time_limit_ratio': 1.0, 'max_time_limit': None, 'min_time_limit': 0, 'valid_raw_types': ['bool', 'int', 'float', 'category'], 'valid_special_types': None, 'ignored_type_group_special': ['text_ngram', 'text_as_category'], 'ignored_type_group_raw': None, 'get_features_kwargs': None, 'get_features_kwargs_extra': None, 'predict_1_batch_size': None, 'temperature_scalar': None}, 'num_features': 14, 'features': ['age', 'fnlwgt', 'education-num', 'sex', 'capital-gain', 'capital-loss', 'hours-per-week', 'workclass', 'education', 'marital-status', 'occupation', 'relationship', 'race', 'native-country'], 'feature_metadata': <autogluon.common.features.feature_metadata.FeatureMetadata object at 0x1bcb322f0>, 'memory_size': 173671, 'compile_time': None, 'is_initialized': True, 'is_fit': True, 'is_valid': True, 'can_infer': True}, 'S1F3': {'name': 'S1F3', 'model_type': 'NNFastAiTabularModel', 'problem_type': 'binary', 'eval_metric': 'f1', 'stopping_metric': 'f1', 'fit_time': 5.882437229156494, 'num_classes': 2, 'quantile_levels': None, 'predict_time': 0.013968706130981445, 'val_score': 0.6274509803921569, 'hyperparameters': {'layers': None, 'emb_drop': 0.1, 'ps': 0.1, 'bs': 'auto', 'lr': 0.01, 'epochs': 'auto', 'early.stopping.min_delta': 0.0001, 'early.stopping.patience': 20, 'smoothing': 0.0, 'num_epochs': 10}, 'hyperparameters_fit': {'epochs': 30, 'best_epoch': 12}, 'hyperparameters_nondefault': ['num_epochs'], 'ag_args_fit': {'max_memory_usage_ratio': 1.0, 'max_time_limit_ratio': 1.0, 'max_time_limit': None, 'min_time_limit': 0, 'valid_raw_types': ['bool', 'int', 'float', 'category'], 'valid_special_types': None, 'ignored_type_group_special': ['text_ngram', 'text_as_category'], 'ignored_type_group_raw': None, 'get_features_kwargs': None, 'get_features_kwargs_extra': None, 'predict_1_batch_size': None, 'temperature_scalar': None}, 'num_features': 14, 'features': ['age', 'fnlwgt', 'education-num', 'sex', 'capital-gain', 'capital-loss', 'hours-per-week', 'workclass', 'education', 'marital-status', 'occupation', 'relationship', 'race', 'native-country'], 'feature_metadata': <autogluon.common.features.feature_metadata.FeatureMetadata object at 0x1bcb33a60>, 'memory_size': 173671, 'compile_time': None, 'is_initialized': True, 'is_fit': True, 'is_valid': True, 'can_infer': True}, 'S1F8': {'name': 'S1F8', 'model_type': 'NNFastAiTabularModel', 'problem_type': 'binary', 'eval_metric': 'f1', 'stopping_metric': 'f1', 'fit_time': 5.869896173477173, 'num_classes': 2, 'quantile_levels': None, 'predict_time': 0.014420032501220703, 'val_score': 0.7796610169491525, 'hyperparameters': {'layers': None, 'emb_drop': 0.1, 'ps': 0.1, 'bs': 'auto', 'lr': 0.01, 'epochs': 'auto', 'early.stopping.min_delta': 0.0001, 'early.stopping.patience': 20, 'smoothing': 0.0, 'num_epochs': 10}, 'hyperparameters_fit': {'epochs': 30, 'best_epoch': 16}, 'hyperparameters_nondefault': ['num_epochs'], 'ag_args_fit': {'max_memory_usage_ratio': 1.0, 'max_time_limit_ratio': 1.0, 'max_time_limit': None, 'min_time_limit': 0, 'valid_raw_types': ['bool', 'int', 'float', 'category'], 'valid_special_types': None, 'ignored_type_group_special': ['text_ngram', 'text_as_category'], 'ignored_type_group_raw': None, 'get_features_kwargs': None, 'get_features_kwargs_extra': None, 'predict_1_batch_size': None, 'temperature_scalar': None}, 'num_features': 14, 'features': ['age', 'fnlwgt', 'education-num', 'sex', 'capital-gain', 'capital-loss', 'hours-per-week', 'workclass', 'education', 'marital-status', 'occupation', 'relationship', 'race', 'native-country'], 'feature_metadata': <autogluon.common.features.feature_metadata.FeatureMetadata object at 0x1bcb32aa0>, 'memory_size': 173671, 'compile_time': None, 'is_initialized': True, 'is_fit': True, 'is_valid': True, 'can_infer': True}, 'S1F6': {'name': 'S1F6', 'model_type': 'NNFastAiTabularModel', 'problem_type': 'binary', 'eval_metric': 'f1', 'stopping_metric': 'f1', 'fit_time': 5.850693225860596, 'num_classes': 2, 'quantile_levels': None, 'predict_time': 0.015184879302978516, 'val_score': 0.5230769230769231, 'hyperparameters': {'layers': None, 'emb_drop': 0.1, 'ps': 0.1, 'bs': 'auto', 'lr': 0.01, 'epochs': 'auto', 'early.stopping.min_delta': 0.0001, 'early.stopping.patience': 20, 'smoothing': 0.0, 'num_epochs': 10}, 'hyperparameters_fit': {'epochs': 30, 'best_epoch': 16}, 'hyperparameters_nondefault': ['num_epochs'], 'ag_args_fit': {'max_memory_usage_ratio': 1.0, 'max_time_limit_ratio': 1.0, 'max_time_limit': None, 'min_time_limit': 0, 'valid_raw_types': ['bool', 'int', 'float', 'category'], 'valid_special_types': None, 'ignored_type_group_special': ['text_ngram', 'text_as_category'], 'ignored_type_group_raw': None, 'get_features_kwargs': None, 'get_features_kwargs_extra': None, 'predict_1_batch_size': None, 'temperature_scalar': None}, 'num_features': 14, 'features': ['age', 'fnlwgt', 'education-num', 'sex', 'capital-gain', 'capital-loss', 'hours-per-week', 'workclass', 'education', 'marital-status', 'occupation', 'relationship', 'race', 'native-country'], 'feature_metadata': <autogluon.common.features.feature_metadata.FeatureMetadata object at 0x1bcb333d0>, 'memory_size': 173671, 'compile_time': None, 'is_initialized': True, 'is_fit': True, 'is_valid': True, 'can_infer': True}, 'S1F1': {'name': 'S1F1', 'model_type': 'NNFastAiTabularModel', 'problem_type': 'binary', 'eval_metric': 'f1', 'stopping_metric': 'f1', 'fit_time': 5.900190353393555, 'num_classes': 2, 'quantile_levels': None, 'predict_time': 0.019243717193603516, 'val_score': 0.7868852459016394, 'hyperparameters': {'layers': None, 'emb_drop': 0.1, 'ps': 0.1, 'bs': 'auto', 'lr': 0.01, 'epochs': 'auto', 'early.stopping.min_delta': 0.0001, 'early.stopping.patience': 20, 'smoothing': 0.0, 'num_epochs': 10}, 'hyperparameters_fit': {'epochs': 30, 'best_epoch': 24}, 'hyperparameters_nondefault': ['num_epochs'], 'ag_args_fit': {'max_memory_usage_ratio': 1.0, 'max_time_limit_ratio': 1.0, 'max_time_limit': None, 'min_time_limit': 0, 'valid_raw_types': ['bool', 'int', 'float', 'category'], 'valid_special_types': None, 'ignored_type_group_special': ['text_ngram', 'text_as_category'], 'ignored_type_group_raw': None, 'get_features_kwargs': None, 'get_features_kwargs_extra': None, 'predict_1_batch_size': None, 'temperature_scalar': None}, 'num_features': 14, 'features': ['age', 'fnlwgt', 'education-num', 'sex', 'capital-gain', 'capital-loss', 'hours-per-week', 'workclass', 'education', 'marital-status', 'occupation', 'relationship', 'race', 'native-country'], 'feature_metadata': <autogluon.common.features.feature_metadata.FeatureMetadata object at 0x1bcb30550>, 'memory_size': 173671, 'compile_time': None, 'is_initialized': True, 'is_fit': True, 'is_valid': True, 'can_infer': True}}}, 'WeightedEnsemble_L2': {'name': 'WeightedEnsemble_L2', 'model_type': 'WeightedEnsembleModel', 'problem_type': 'binary', 'eval_metric': 'f1', 'stopping_metric': 'f1', 'fit_time': 1.049896001815796, 'num_classes': 2, 'quantile_levels': None, 'predict_time': 0.00428318977355957, 'val_score': 0.685589519650655, 'hyperparameters': {'use_orig_features': False, 'max_base_models': 25, 'max_base_models_per_type': 5, 'save_bag_folds': True}, 'hyperparameters_fit': {}, 'hyperparameters_nondefault': ['save_bag_folds'], 'ag_args_fit': {'max_memory_usage_ratio': 1.0, 'max_time_limit_ratio': 1.0, 'max_time_limit': None, 'min_time_limit': 0, 'valid_raw_types': None, 'valid_special_types': None, 'ignored_type_group_special': None, 'ignored_type_group_raw': None, 'get_features_kwargs': None, 'get_features_kwargs_extra': None, 'predict_1_batch_size': None, 'temperature_scalar': None, 'drop_unique': False}, 'num_features': 1, 'features': ['LightGBM_BAG_L1'], 'feature_metadata': <autogluon.common.features.feature_metadata.FeatureMetadata object at 0x1bcb30190>, 'memory_size': 2846, 'compile_time': None, 'is_initialized': True, 'is_fit': True, 'is_valid': True, 'can_infer': True, 'bagged_info': {'child_model_type': 'GreedyWeightedEnsembleModel', 'num_child_models': 1, 'child_model_names': ['S1F1'], '_n_repeats': 1, '_k_per_n_repeat': [1], '_random_state': 2, 'low_memory': False, 'bagged_mode': False, 'max_memory_size': 2846, 'min_memory_size': 2846, 'child_hyperparameters': {'ensemble_size': 100}, 'child_hyperparameters_fit': {'ensemble_size': 1}, 'child_ag_args_fit': {'max_memory_usage_ratio': 1.0, 'max_time_limit_ratio': 1.0, 'max_time_limit': None, 'min_time_limit': 0, 'valid_raw_types': None, 'valid_special_types': None, 'ignored_type_group_special': None, 'ignored_type_group_raw': None, 'get_features_kwargs': None, 'get_features_kwargs_extra': None, 'predict_1_batch_size': None, 'temperature_scalar': None, 'drop_unique': False}}, 'stacker_info': {'num_base_models': 1, 'base_model_names': ['LightGBM_BAG_L1']}, 'children_info': {'S1F1': {'name': 'S1F1', 'model_type': 'GreedyWeightedEnsembleModel', 'problem_type': 'binary', 'eval_metric': 'f1', 'stopping_metric': 'f1', 'fit_time': 1.049896001815796, 'num_classes': 2, 'quantile_levels': None, 'predict_time': None, 'val_score': None, 'hyperparameters': {'ensemble_size': 100}, 'hyperparameters_fit': {'ensemble_size': 1}, 'hyperparameters_nondefault': [], 'ag_args_fit': {'max_memory_usage_ratio': 1.0, 'max_time_limit_ratio': 1.0, 'max_time_limit': None, 'min_time_limit': 0, 'valid_raw_types': None, 'valid_special_types': None, 'ignored_type_group_special': None, 'ignored_type_group_raw': None, 'get_features_kwargs': None, 'get_features_kwargs_extra': None, 'predict_1_batch_size': None, 'temperature_scalar': None, 'drop_unique': False}, 'num_features': 1, 'features': ['LightGBM_BAG_L1'], 'feature_metadata': <autogluon.common.features.feature_metadata.FeatureMetadata object at 0x1bcb301f0>, 'memory_size': 4926, 'compile_time': None, 'is_initialized': True, 'is_fit': True, 'is_valid': True, 'can_infer': True, 'model_weights': {'LightGBM_BAG_L1': 1.0}}}}}, 'model_info_failures': {}}\n"
     ]
    }
   ],
   "source": [
    "# print(model_info)\n",
    "print(predictor_information)"
   ],
   "metadata": {
    "collapsed": false,
    "ExecuteTime": {
     "end_time": "2023-12-27T07:54:45.996900Z",
     "start_time": "2023-12-27T07:54:45.970382Z"
    }
   },
   "id": "f221ee101813e873"
  },
  {
   "cell_type": "markdown",
   "id": "640a8c38",
   "metadata": {},
   "source": [
    "The `predictor` also remembers what metric predictions should be evaluated with, which can be done with ground truth labels as follows:"
   ]
  },
  {
   "cell_type": "code",
   "execution_count": 22,
   "id": "39b53a65",
   "metadata": {
    "ExecuteTime": {
     "end_time": "2023-12-27T07:54:51.317477Z",
     "start_time": "2023-12-27T07:54:51.124288Z"
    }
   },
   "outputs": [],
   "source": [
    "y_pred_proba = predictor.predict_proba(test_data_nolabel)\n",
    "perf = predictor.evaluate_predictions(y_true=y_test, y_pred=y_pred_proba)"
   ]
  },
  {
   "cell_type": "markdown",
   "id": "f2932b36",
   "metadata": {},
   "source": [
    "Since the label columns remains in the `test_data` DataFrame, we can instead use the shorthand:"
   ]
  },
  {
   "cell_type": "code",
   "execution_count": 23,
   "id": "5494aae6",
   "metadata": {
    "ExecuteTime": {
     "end_time": "2023-12-27T07:55:00.502436Z",
     "start_time": "2023-12-27T07:55:00.307735Z"
    }
   },
   "outputs": [],
   "source": [
    "perf = predictor.evaluate(test_data)"
   ]
  },
  {
   "cell_type": "markdown",
   "id": "02223a4e",
   "metadata": {},
   "source": [
    "## Interpretability (feature importance)\n",
    "\n",
    "To better understand our trained predictor, we can estimate the overall importance of each feature:"
   ]
  },
  {
   "cell_type": "code",
   "execution_count": 24,
   "id": "82ffd4bd",
   "metadata": {
    "ExecuteTime": {
     "end_time": "2023-12-27T07:55:15.890637Z",
     "start_time": "2023-12-27T07:55:10.726974Z"
    }
   },
   "outputs": [
    {
     "name": "stderr",
     "output_type": "stream",
     "text": [
      "Computing feature importance via permutation shuffling for 14 features using 5000 rows with 5 shuffle sets...\n",
      "\t8.69s\t= Expected runtime (1.74s per shuffle set)\n",
      "\t5.14s\t= Actual runtime (Completed 5 of 5 shuffle sets)\n"
     ]
    },
    {
     "data": {
      "text/plain": "                importance    stddev       p_value  n  p99_high   p99_low\nmarital-status    0.117047  0.009311  4.765349e-06  5  0.136219  0.097875\ncapital-gain      0.083102  0.004023  6.569424e-07  5  0.091385  0.074819\neducation-num     0.071497  0.006756  9.453208e-06  5  0.085407  0.057587\nage               0.055806  0.009717  1.059856e-04  5  0.075814  0.035799\noccupation        0.055400  0.013509  3.925863e-04  5  0.083214  0.027585\nrelationship      0.020842  0.006809  1.192225e-03  5  0.034861  0.006822\nhours-per-week    0.018326  0.006083  1.264850e-03  5  0.030850  0.005802\ncapital-loss      0.003712  0.002108  8.495976e-03  5  0.008052 -0.000628\neducation         0.000719  0.001339  1.480534e-01  5  0.003477 -0.002038\nnative-country    0.000000  0.000000  5.000000e-01  5  0.000000  0.000000\nrace             -0.000400  0.000422  9.495569e-01  5  0.000468 -0.001268\nsex              -0.001557  0.001984  9.229631e-01  5  0.002527 -0.005642\nworkclass        -0.002854  0.004633  8.797961e-01  5  0.006685 -0.012392\nfnlwgt           -0.007351  0.002614  9.983654e-01  5 -0.001968 -0.012734",
      "text/html": "<div>\n<style scoped>\n    .dataframe tbody tr th:only-of-type {\n        vertical-align: middle;\n    }\n\n    .dataframe tbody tr th {\n        vertical-align: top;\n    }\n\n    .dataframe thead th {\n        text-align: right;\n    }\n</style>\n<table border=\"1\" class=\"dataframe\">\n  <thead>\n    <tr style=\"text-align: right;\">\n      <th></th>\n      <th>importance</th>\n      <th>stddev</th>\n      <th>p_value</th>\n      <th>n</th>\n      <th>p99_high</th>\n      <th>p99_low</th>\n    </tr>\n  </thead>\n  <tbody>\n    <tr>\n      <th>marital-status</th>\n      <td>0.117047</td>\n      <td>0.009311</td>\n      <td>4.765349e-06</td>\n      <td>5</td>\n      <td>0.136219</td>\n      <td>0.097875</td>\n    </tr>\n    <tr>\n      <th>capital-gain</th>\n      <td>0.083102</td>\n      <td>0.004023</td>\n      <td>6.569424e-07</td>\n      <td>5</td>\n      <td>0.091385</td>\n      <td>0.074819</td>\n    </tr>\n    <tr>\n      <th>education-num</th>\n      <td>0.071497</td>\n      <td>0.006756</td>\n      <td>9.453208e-06</td>\n      <td>5</td>\n      <td>0.085407</td>\n      <td>0.057587</td>\n    </tr>\n    <tr>\n      <th>age</th>\n      <td>0.055806</td>\n      <td>0.009717</td>\n      <td>1.059856e-04</td>\n      <td>5</td>\n      <td>0.075814</td>\n      <td>0.035799</td>\n    </tr>\n    <tr>\n      <th>occupation</th>\n      <td>0.055400</td>\n      <td>0.013509</td>\n      <td>3.925863e-04</td>\n      <td>5</td>\n      <td>0.083214</td>\n      <td>0.027585</td>\n    </tr>\n    <tr>\n      <th>relationship</th>\n      <td>0.020842</td>\n      <td>0.006809</td>\n      <td>1.192225e-03</td>\n      <td>5</td>\n      <td>0.034861</td>\n      <td>0.006822</td>\n    </tr>\n    <tr>\n      <th>hours-per-week</th>\n      <td>0.018326</td>\n      <td>0.006083</td>\n      <td>1.264850e-03</td>\n      <td>5</td>\n      <td>0.030850</td>\n      <td>0.005802</td>\n    </tr>\n    <tr>\n      <th>capital-loss</th>\n      <td>0.003712</td>\n      <td>0.002108</td>\n      <td>8.495976e-03</td>\n      <td>5</td>\n      <td>0.008052</td>\n      <td>-0.000628</td>\n    </tr>\n    <tr>\n      <th>education</th>\n      <td>0.000719</td>\n      <td>0.001339</td>\n      <td>1.480534e-01</td>\n      <td>5</td>\n      <td>0.003477</td>\n      <td>-0.002038</td>\n    </tr>\n    <tr>\n      <th>native-country</th>\n      <td>0.000000</td>\n      <td>0.000000</td>\n      <td>5.000000e-01</td>\n      <td>5</td>\n      <td>0.000000</td>\n      <td>0.000000</td>\n    </tr>\n    <tr>\n      <th>race</th>\n      <td>-0.000400</td>\n      <td>0.000422</td>\n      <td>9.495569e-01</td>\n      <td>5</td>\n      <td>0.000468</td>\n      <td>-0.001268</td>\n    </tr>\n    <tr>\n      <th>sex</th>\n      <td>-0.001557</td>\n      <td>0.001984</td>\n      <td>9.229631e-01</td>\n      <td>5</td>\n      <td>0.002527</td>\n      <td>-0.005642</td>\n    </tr>\n    <tr>\n      <th>workclass</th>\n      <td>-0.002854</td>\n      <td>0.004633</td>\n      <td>8.797961e-01</td>\n      <td>5</td>\n      <td>0.006685</td>\n      <td>-0.012392</td>\n    </tr>\n    <tr>\n      <th>fnlwgt</th>\n      <td>-0.007351</td>\n      <td>0.002614</td>\n      <td>9.983654e-01</td>\n      <td>5</td>\n      <td>-0.001968</td>\n      <td>-0.012734</td>\n    </tr>\n  </tbody>\n</table>\n</div>"
     },
     "execution_count": 24,
     "metadata": {},
     "output_type": "execute_result"
    }
   ],
   "source": [
    "predictor.feature_importance(test_data)"
   ]
  },
  {
   "cell_type": "markdown",
   "id": "954655e5",
   "metadata": {},
   "source": [
    "Computed via [permutation-shuffling](https://explained.ai/rf-importance/), these feature importance scores quantify the drop in predictive performance (of the already trained predictor) when one column's values are randomly shuffled across rows. The top features in this list contribute most to AutoGluon's accuracy (for predicting when/if a patient will be readmitted to the hospital). Features with non-positive importance score hardly contribute to the predictor's accuracy, or may even be actively harmful to include in the data (consider removing these features from your data and calling `fit` again). These scores facilitate interpretability of the predictor's global behavior (which features it relies on for *all* predictions).\n",
    "To get [local explanations](https://christophm.github.io/interpretable-ml-book/taxonomy-of-interpretability-methods.html) regarding which features influence a *particular* prediction, check out the [example notebooks](https://github.com/autogluon/autogluon/tree/master/examples/tabular/interpret) for explaining particular AutoGluon predictions using [Shapely values](https://github.com/slundberg/shap/).\n",
    "\n",
    "Before making judgement on if AutoGluon is more or less interpretable than another solution, we recommend reading [The Mythos of Model Interpretability](https://dl.acm.org/doi/pdf/10.1145/3236386.3241340) by Zachary Lipton, which covers why often-claimed interpretable models such as trees and linear models are rarely meaningfully more interpretable than more advanced models.\n",
    "\n",
    "## Accelerating inference\n",
    "\n",
    "We describe multiple ways to reduce the time it takes for AutoGluon to produce predictions.\n",
    "\n",
    "Before providing code examples, it is important to understand that\n",
    "there are several ways to accelerate inference in AutoGluon. The table below lists the options in order of priority.\n",
    "\n",
    "| Optimization                      | Inference Speedup                                                                                     | Cost                              | Notes                                                                                                                                                                                  |\n",
    "|:----------------------------------|:------------------------------------------------------------------------------------------------------|:----------------------------------|:---------------------------------------------------------------------------------------------------------------------------------------------------------------------------------------|\n",
    "| refit_full                        | At least 8x+, up to 160x (requires bagging)                                                           | -Quality, +FitTime                | Only provides speedup with bagging enabled.                                                                                                                                            |\n",
    "| persist                           | Up to 10x in online-inference                                                                         | ++MemoryUsage                     | If memory is not sufficient to persist model, speedup is not gained. Speedup is most effective in online-inference and is not relevant in batch inference.                             |\n",
    "| infer_limit                       | Configurable, ~up to 50x                                                                              | -Quality (Relative to speedup)    | If bagging is enabled, always use refit_full if using infer_limit.                                                                                                                     |\n",
    "| distill                           | ~Equals combined speedup of refit_full and infer_limit set to extreme values                          | --Quality, ++FitTime              | Not compatible with refit_full and infer_limit.                                                                                                                                        |\n",
    "| feature pruning                   | Typically at most 1.5x. More if willing to lower quality significantly.                               | -Quality?, ++FitTime              | Dependent on the existence of unimportant features in data. Call `predictor.feature_importance(test_data)` to gauge which features could be removed.                                   |\n",
    "| use faster hardware               | Usually at most 3x. Depends on hardware (ignoring GPU).                                               | +Hardware                         | As an example, an EC2 c6i.2xlarge is ~1.6x faster than an m5.2xlarge for a similar price. Laptops in particular might be slow compared to cloud instances.                             |\n",
    "| manual hyperparameters adjustment | Usually at most 2x assuming infer_limit is already specified.                                         | ---Quality?, +++UserMLExpertise   | Can be very complicated and is not recommended. Potential ways to get speedups this way is to reduce the number of trees in LightGBM, XGBoost, CatBoost, RandomForest, and ExtraTrees. |\n",
    "| manual data preprocessing         | Usually at most 1.2x assuming all other optimizations are specified and setting is online-inference.  | ++++UserMLExpertise, ++++UserCode | Only relevant for online-inference. This is not recommended as AutoGluon's default preprocessing is highly optimized.                                                                  |\n",
    "\n",
    "If bagging is enabled (num_bag_folds>0 or num_stack_levels>0 or using 'best_quality' preset), the order of inference optimizations should be:  \n",
    "1. refit_full  \n",
    "2. persist  \n",
    "3. infer_limit  \n",
    "\n",
    "If bagging is not enabled (num_bag_folds=0, num_stack_levels=0), the order of inference optimizations should be:  \n",
    "1. persist  \n",
    "2. infer_limit  \n",
    "\n",
    "If following these recommendations does not lead to a sufficiently fast model, you may consider the more advanced options in the table.\n",
    "\n",
    "### Keeping models in memory\n",
    "\n",
    "By default, AutoGluon loads models into memory one at a time and only when they are needed for prediction. This strategy is robust for large stacked/bagged ensembles, but leads to slower prediction times. If you plan to repeatedly make predictions (e.g. on new datapoints one at a time rather than one large test dataset), you can first specify that all models required for inference should be loaded into memory as follows:"
   ]
  },
  {
   "cell_type": "code",
   "execution_count": 25,
   "id": "e2eced22",
   "metadata": {
    "ExecuteTime": {
     "end_time": "2023-12-27T08:00:34.512112Z",
     "start_time": "2023-12-27T08:00:32.587773Z"
    }
   },
   "outputs": [
    {
     "name": "stderr",
     "output_type": "stream",
     "text": [
      "Persisting 2 models in memory. Models will require 0.01% of memory.\n",
      "Unpersisted 2 models: ['LightGBM_BAG_L1', 'WeightedEnsemble_L2']\n"
     ]
    },
    {
     "name": "stdout",
     "output_type": "stream",
     "text": [
      "Predictions:  [' <=50K' ' <=50K' ' >50K' ' <=50K' ' <=50K' ' >50K' ' >50K' ' >50K'\n",
      " ' <=50K' ' <=50K' ' <=50K' ' <=50K' ' <=50K' ' <=50K' ' <=50K' ' <=50K'\n",
      " ' <=50K' ' >50K' ' >50K' ' <=50K']\n"
     ]
    },
    {
     "data": {
      "text/plain": "['LightGBM_BAG_L1', 'WeightedEnsemble_L2']"
     },
     "execution_count": 25,
     "metadata": {},
     "output_type": "execute_result"
    }
   ],
   "source": [
    "predictor.persist()\n",
    "\n",
    "num_test = 20\n",
    "preds = np.array(['']*num_test, dtype='object')\n",
    "for i in range(num_test):\n",
    "    datapoint = test_data_nolabel.iloc[[i]]\n",
    "    pred_numpy = predictor.predict(datapoint, as_pandas=False)\n",
    "    preds[i] = pred_numpy[0]\n",
    "\n",
    "perf = predictor.evaluate_predictions(y_test[:num_test], preds, auxiliary_metrics=True)\n",
    "print(\"Predictions: \", preds)\n",
    "\n",
    "predictor.unpersist()  # free memory by clearing models, future predict() calls will load models from disk"
   ]
  },
  {
   "cell_type": "markdown",
   "id": "ec079f09",
   "metadata": {},
   "source": [
    "You can alternatively specify a particular model to persist via the `models` argument of `persist()`, or simply set `models='all'` to simultaneously load every single model that was trained during `fit`.\n",
    "\n",
    "### Inference speed as a fit constraint\n",
    "\n",
    "If you know your latency constraint prior to fitting the predictor, you can specify it explicitly as a fit argument.\n",
    "AutoGluon will then automatically train models in a fashion that attempts to satisfy the constraint.\n",
    "\n",
    "This constraint has two components: `infer_limit` and `infer_limit_batch_size`:  \n",
    "- `infer_limit` is the time in seconds to predict 1 row of data.\n",
    "For example, `infer_limit=0.05` means 50 ms per row of data,\n",
    "or 20 rows / second throughput.  \n",
    "- `infer_limit_batch_size` is the amount of rows passed at once to predict when calculating per-row speed.\n",
    "This is very important because `infer_limit_batch_size=1` (online-inference) is highly suboptimal as\n",
    "various operations have a fixed cost overhead regardless of data size. If you can pass your test data in bulk,\n",
    "you should specify `infer_limit_batch_size=10000`."
   ]
  },
  {
   "cell_type": "code",
   "execution_count": 26,
   "id": "c845d3cd",
   "metadata": {
    "ExecuteTime": {
     "end_time": "2023-12-27T08:27:56.197823Z",
     "start_time": "2023-12-27T08:27:45.490975Z"
    }
   },
   "outputs": [
    {
     "name": "stderr",
     "output_type": "stream",
     "text": [
      "No path specified. Models will be saved in: \"AutogluonModels/ag-20231227_082745\"\n",
      "No presets specified! To achieve strong results with AutoGluon, it is recommended to use the available presets.\n",
      "\tRecommended Presets (For more details refer to https://auto.gluon.ai/stable/tutorials/tabular/tabular-essentials.html#presets):\n",
      "\tpresets='best_quality'   : Maximize accuracy. Default time_limit=3600.\n",
      "\tpresets='high_quality'   : Strong accuracy with fast inference speed. Default time_limit=3600.\n",
      "\tpresets='good_quality'   : Good accuracy with very fast inference speed. Default time_limit=3600.\n",
      "\tpresets='medium_quality' : Fast training time, ideal for initial prototyping.\n",
      "Beginning AutoGluon training ... Time limit = 30s\n",
      "AutoGluon will save models to \"AutogluonModels/ag-20231227_082745\"\n",
      "=================== System Info ===================\n",
      "AutoGluon Version:  1.0.0\n",
      "Python Version:     3.10.13\n",
      "Operating System:   Darwin\n",
      "Platform Machine:   x86_64\n",
      "Platform Version:   Darwin Kernel Version 23.2.0: Wed Nov 15 21:54:10 PST 2023; root:xnu-10002.61.3~2/RELEASE_X86_64\n",
      "CPU Count:          16\n",
      "Memory Avail:       42.76 GB / 64.00 GB (66.8%)\n",
      "Disk Space Avail:   452.99 GB / 931.55 GB (48.6%)\n",
      "===================================================\n",
      "Train Data Rows:    1000\n",
      "Train Data Columns: 14\n",
      "Label Column:       class\n",
      "AutoGluon infers your prediction problem is: 'binary' (because only two unique label-values observed).\n",
      "\t2 unique label values:  [' >50K', ' <=50K']\n",
      "\tIf 'binary' is not the correct problem_type, please manually specify the problem_type parameter during predictor init (You may specify problem_type as one of: ['binary', 'multiclass', 'regression'])\n",
      "Problem Type:       binary\n",
      "Preprocessing data ...\n",
      "Selected class <--> label mapping:  class 1 =  >50K, class 0 =  <=50K\n",
      "\tNote: For your binary classification, AutoGluon arbitrarily selected which label-value represents positive ( >50K) vs negative ( <=50K) class.\n",
      "\tTo explicitly set the positive_class, either rename classes to 1 and 0, or specify positive_class in Predictor init.\n",
      "Using Feature Generators to preprocess the data ...\n",
      "Fitting AutoMLPipelineFeatureGenerator...\n",
      "\tAvailable Memory:                    43781.87 MB\n",
      "\tTrain Data (Original)  Memory Usage: 0.56 MB (0.0% of available memory)\n",
      "\tInferring data type of each feature based on column values. Set feature_metadata_in to manually specify special dtypes of the features.\n",
      "\tStage 1 Generators:\n",
      "\t\tFitting AsTypeFeatureGenerator...\n",
      "\t\t\tNote: Converting 1 features to boolean dtype as they only contain 2 unique values.\n",
      "\tStage 2 Generators:\n",
      "\t\tFitting FillNaFeatureGenerator...\n",
      "\tStage 3 Generators:\n",
      "\t\tFitting IdentityFeatureGenerator...\n",
      "\t\tFitting CategoryFeatureGenerator...\n",
      "\t\t\tFitting CategoryMemoryMinimizeFeatureGenerator...\n",
      "\tStage 4 Generators:\n",
      "\t\tFitting DropUniqueFeatureGenerator...\n",
      "\tStage 5 Generators:\n",
      "\t\tFitting DropDuplicatesFeatureGenerator...\n",
      "\tTypes of features in original data (raw dtype, special dtypes):\n",
      "\t\t('int', [])    : 6 | ['age', 'fnlwgt', 'education-num', 'capital-gain', 'capital-loss', ...]\n",
      "\t\t('object', []) : 8 | ['workclass', 'education', 'marital-status', 'occupation', 'relationship', ...]\n",
      "\tTypes of features in processed data (raw dtype, special dtypes):\n",
      "\t\t('category', [])  : 7 | ['workclass', 'education', 'marital-status', 'occupation', 'relationship', ...]\n",
      "\t\t('int', [])       : 6 | ['age', 'fnlwgt', 'education-num', 'capital-gain', 'capital-loss', ...]\n",
      "\t\t('int', ['bool']) : 1 | ['sex']\n",
      "\t0.1s = Fit runtime\n",
      "\t14 features in original data used to generate 14 features in processed data.\n",
      "\tTrain Data (Processed) Memory Usage: 0.06 MB (0.0% of available memory)\n",
      "\t1.496μs\t= Feature Preprocessing Time (1 row | 10000 batch size)\n",
      "\t\tFeature Preprocessing requires 2.99% of the overall inference constraint (0.05ms)\n",
      "\t\t0.049ms inference time budget remaining for models...\n",
      "Data preprocessing and feature engineering runtime = 0.26s ...\n",
      "AutoGluon will gauge predictive performance using evaluation metric: 'accuracy'\n",
      "\tTo change this, specify the eval_metric parameter of Predictor()\n",
      "Automatically generating train/validation split with holdout_frac=0.2, Train Rows: 800, Val Rows: 200\n",
      "User-specified model hyperparameters to be fit:\n",
      "{\n",
      "\t'NN_TORCH': {},\n",
      "\t'GBM': [{'extra_trees': True, 'ag_args': {'name_suffix': 'XT'}}, {}, 'GBMLarge'],\n",
      "\t'CAT': {},\n",
      "\t'XGB': {},\n",
      "\t'FASTAI': {},\n",
      "\t'RF': [{'criterion': 'gini', 'ag_args': {'name_suffix': 'Gini', 'problem_types': ['binary', 'multiclass']}}, {'criterion': 'entropy', 'ag_args': {'name_suffix': 'Entr', 'problem_types': ['binary', 'multiclass']}}, {'criterion': 'squared_error', 'ag_args': {'name_suffix': 'MSE', 'problem_types': ['regression', 'quantile']}}],\n",
      "\t'XT': [{'criterion': 'gini', 'ag_args': {'name_suffix': 'Gini', 'problem_types': ['binary', 'multiclass']}}, {'criterion': 'entropy', 'ag_args': {'name_suffix': 'Entr', 'problem_types': ['binary', 'multiclass']}}, {'criterion': 'squared_error', 'ag_args': {'name_suffix': 'MSE', 'problem_types': ['regression', 'quantile']}}],\n",
      "\t'KNN': [{'weights': 'uniform', 'ag_args': {'name_suffix': 'Unif'}}, {'weights': 'distance', 'ag_args': {'name_suffix': 'Dist'}}],\n",
      "}\n",
      "Fitting 13 L1 models ...\n",
      "Fitting model: KNeighborsUnif ... Training model for up to 29.74s of the 29.74s of remaining time.\n",
      "\t0.725\t = Validation score   (accuracy)\n",
      "\t0.05s\t = Training   runtime\n",
      "\t0.02s\t = Validation runtime\n",
      "\t4.389μs\t = Validation runtime (1 row | 10000 batch size | MARGINAL)\n",
      "\t4.389μs\t = Validation runtime (1 row | 10000 batch size)\n",
      "\t4.389μs\t = Validation runtime (1 row | 10000 batch size | REFIT | MARGINAL)\n",
      "\t4.389μs\t = Validation runtime (1 row | 10000 batch size | REFIT)\n",
      "Fitting model: KNeighborsDist ... Training model for up to 29.67s of the 29.67s of remaining time.\n",
      "\t0.71\t = Validation score   (accuracy)\n",
      "\t0.05s\t = Training   runtime\n",
      "\t0.02s\t = Validation runtime\n",
      "\t4.248μs\t = Validation runtime (1 row | 10000 batch size | MARGINAL)\n",
      "\t4.248μs\t = Validation runtime (1 row | 10000 batch size)\n",
      "\t4.248μs\t = Validation runtime (1 row | 10000 batch size | REFIT | MARGINAL)\n",
      "\t4.248μs\t = Validation runtime (1 row | 10000 batch size | REFIT)\n",
      "Fitting model: LightGBMXT ... Training model for up to 29.6s of the 29.6s of remaining time.\n",
      "\t0.85\t = Validation score   (accuracy)\n",
      "\t0.24s\t = Training   runtime\n",
      "\t0.0s\t = Validation runtime\n",
      "\t2.255μs\t = Validation runtime (1 row | 10000 batch size | MARGINAL)\n",
      "\t2.255μs\t = Validation runtime (1 row | 10000 batch size)\n",
      "\t2.255μs\t = Validation runtime (1 row | 10000 batch size | REFIT | MARGINAL)\n",
      "\t2.255μs\t = Validation runtime (1 row | 10000 batch size | REFIT)\n",
      "Fitting model: LightGBM ... Training model for up to 29.35s of the 29.35s of remaining time.\n",
      "\t0.84\t = Validation score   (accuracy)\n",
      "\t0.27s\t = Training   runtime\n",
      "\t0.0s\t = Validation runtime\n",
      "\t2.129μs\t = Validation runtime (1 row | 10000 batch size | MARGINAL)\n",
      "\t2.129μs\t = Validation runtime (1 row | 10000 batch size)\n",
      "\t2.129μs\t = Validation runtime (1 row | 10000 batch size | REFIT | MARGINAL)\n",
      "\t2.129μs\t = Validation runtime (1 row | 10000 batch size | REFIT)\n",
      "Fitting model: RandomForestGini ... Training model for up to 29.07s of the 29.07s of remaining time.\n",
      "\t0.845\t = Validation score   (accuracy)\n",
      "\t0.64s\t = Training   runtime\n",
      "\t0.04s\t = Validation runtime\n",
      "\t0.011ms\t = Validation runtime (1 row | 10000 batch size | MARGINAL)\n",
      "\t0.011ms\t = Validation runtime (1 row | 10000 batch size)\n",
      "\t0.011ms\t = Validation runtime (1 row | 10000 batch size | REFIT | MARGINAL)\n",
      "\t0.011ms\t = Validation runtime (1 row | 10000 batch size | REFIT)\n",
      "Fitting model: RandomForestEntr ... Training model for up to 28.36s of the 28.36s of remaining time.\n",
      "\t0.84\t = Validation score   (accuracy)\n",
      "\t0.56s\t = Training   runtime\n",
      "\t0.04s\t = Validation runtime\n",
      "\t0.01ms\t = Validation runtime (1 row | 10000 batch size | MARGINAL)\n",
      "\t0.01ms\t = Validation runtime (1 row | 10000 batch size)\n",
      "\t0.01ms\t = Validation runtime (1 row | 10000 batch size | REFIT | MARGINAL)\n",
      "\t0.01ms\t = Validation runtime (1 row | 10000 batch size | REFIT)\n",
      "Fitting model: CatBoost ... Training model for up to 27.71s of the 27.71s of remaining time.\n",
      "\t0.86\t = Validation score   (accuracy)\n",
      "\t1.83s\t = Training   runtime\n",
      "\t0.0s\t = Validation runtime\n",
      "\t2.709μs\t = Validation runtime (1 row | 10000 batch size | MARGINAL)\n",
      "\t2.709μs\t = Validation runtime (1 row | 10000 batch size)\n",
      "\t2.709μs\t = Validation runtime (1 row | 10000 batch size | REFIT | MARGINAL)\n",
      "\t2.709μs\t = Validation runtime (1 row | 10000 batch size | REFIT)\n",
      "Fitting model: ExtraTreesGini ... Training model for up to 25.87s of the 25.87s of remaining time.\n",
      "\t0.825\t = Validation score   (accuracy)\n",
      "\t0.58s\t = Training   runtime\n",
      "\t0.05s\t = Validation runtime\n",
      "\t0.011ms\t = Validation runtime (1 row | 10000 batch size | MARGINAL)\n",
      "\t0.011ms\t = Validation runtime (1 row | 10000 batch size)\n",
      "\t0.011ms\t = Validation runtime (1 row | 10000 batch size | REFIT | MARGINAL)\n",
      "\t0.011ms\t = Validation runtime (1 row | 10000 batch size | REFIT)\n",
      "Fitting model: ExtraTreesEntr ... Training model for up to 25.22s of the 25.22s of remaining time.\n",
      "\t0.82\t = Validation score   (accuracy)\n",
      "\t0.58s\t = Training   runtime\n",
      "\t0.04s\t = Validation runtime\n",
      "\t0.011ms\t = Validation runtime (1 row | 10000 batch size | MARGINAL)\n",
      "\t0.011ms\t = Validation runtime (1 row | 10000 batch size)\n",
      "\t0.011ms\t = Validation runtime (1 row | 10000 batch size | REFIT | MARGINAL)\n",
      "\t0.011ms\t = Validation runtime (1 row | 10000 batch size | REFIT)\n",
      "Fitting model: NeuralNetFastAI ... Training model for up to 24.57s of the 24.57s of remaining time.\n",
      "No improvement since epoch 7: early stopping\n",
      "\t0.86\t = Validation score   (accuracy)\n",
      "\t1.05s\t = Training   runtime\n",
      "\t0.01s\t = Validation runtime\n",
      "\t0.014ms\t = Validation runtime (1 row | 10000 batch size | MARGINAL)\n",
      "\t0.014ms\t = Validation runtime (1 row | 10000 batch size)\n",
      "\t0.014ms\t = Validation runtime (1 row | 10000 batch size | REFIT | MARGINAL)\n",
      "\t0.014ms\t = Validation runtime (1 row | 10000 batch size | REFIT)\n",
      "Fitting model: XGBoost ... Training model for up to 23.5s of the 23.5s of remaining time.\n",
      "\t0.85\t = Validation score   (accuracy)\n",
      "\t0.28s\t = Training   runtime\n",
      "\t0.01s\t = Validation runtime\n",
      "\t3.701μs\t = Validation runtime (1 row | 10000 batch size | MARGINAL)\n",
      "\t3.701μs\t = Validation runtime (1 row | 10000 batch size)\n",
      "\t3.701μs\t = Validation runtime (1 row | 10000 batch size | REFIT | MARGINAL)\n",
      "\t3.701μs\t = Validation runtime (1 row | 10000 batch size | REFIT)\n",
      "Fitting model: NeuralNetTorch ... Training model for up to 23.21s of the 23.2s of remaining time.\n",
      "\t0.85\t = Validation score   (accuracy)\n",
      "\t2.21s\t = Training   runtime\n",
      "\t0.01s\t = Validation runtime\n",
      "\t5.755μs\t = Validation runtime (1 row | 10000 batch size | MARGINAL)\n",
      "\t5.755μs\t = Validation runtime (1 row | 10000 batch size)\n",
      "\t5.755μs\t = Validation runtime (1 row | 10000 batch size | REFIT | MARGINAL)\n",
      "\t5.755μs\t = Validation runtime (1 row | 10000 batch size | REFIT)\n",
      "Fitting model: LightGBMLarge ... Training model for up to 20.98s of the 20.98s of remaining time.\n",
      "\t0.815\t = Validation score   (accuracy)\n",
      "\t0.72s\t = Training   runtime\n",
      "\t0.01s\t = Validation runtime\n",
      "\t5.615μs\t = Validation runtime (1 row | 10000 batch size | MARGINAL)\n",
      "\t5.615μs\t = Validation runtime (1 row | 10000 batch size)\n",
      "\t5.615μs\t = Validation runtime (1 row | 10000 batch size | REFIT | MARGINAL)\n",
      "\t5.615μs\t = Validation runtime (1 row | 10000 batch size | REFIT)\n",
      "Removing 7/13 base models to satisfy inference constraint (constraint=0.046ms) ...\n",
      "\t0.088ms\t-> 0.084ms\t(KNeighborsDist)\n",
      "\t0.084ms\t-> 0.079ms\t(KNeighborsUnif)\n",
      "\t0.079ms\t-> 0.074ms\t(LightGBMLarge)\n",
      "\t0.074ms\t-> 0.062ms\t(ExtraTreesEntr)\n",
      "\t0.062ms\t-> 0.052ms\t(ExtraTreesGini)\n",
      "\t0.052ms\t-> 0.049ms\t(LightGBM)\n",
      "\t0.049ms\t-> 0.039ms\t(RandomForestEntr)\n",
      "Fitting model: WeightedEnsemble_L2 ... Training model for up to 29.74s of the 20.21s of remaining time.\n",
      "\tEnsemble Weights: {'CatBoost': 1.0}\n",
      "\t0.86\t = Validation score   (accuracy)\n",
      "\t0.44s\t = Training   runtime\n",
      "\t0.0s\t = Validation runtime\n",
      "\t1.34μs\t = Validation runtime (1 row | 10000 batch size | MARGINAL)\n",
      "\t4.049μs\t = Validation runtime (1 row | 10000 batch size)\n",
      "\t1.34μs\t = Validation runtime (1 row | 10000 batch size | REFIT | MARGINAL)\n",
      "\t4.049μs\t = Validation runtime (1 row | 10000 batch size | REFIT)\n",
      "AutoGluon training complete, total runtime = 10.25s ... Best model: \"WeightedEnsemble_L2\"\n",
      "TabularPredictor saved. To load, use: predictor = TabularPredictor.load(\"AutogluonModels/ag-20231227_082745\")\n",
      "Persisting 2 models in memory. Models will require 0.0% of memory.\n"
     ]
    },
    {
     "data": {
      "text/plain": "                  model  score_val eval_metric  pred_time_val  fit_time  \\\n0              CatBoost      0.860    accuracy       0.004766  1.826474   \n1   WeightedEnsemble_L2      0.860    accuracy       0.005588  2.263179   \n2       NeuralNetFastAI      0.860    accuracy       0.010335  1.052461   \n3            LightGBMXT      0.850    accuracy       0.003931  0.241783   \n4               XGBoost      0.850    accuracy       0.006196  0.275347   \n5        NeuralNetTorch      0.850    accuracy       0.009590  2.205379   \n6      RandomForestGini      0.845    accuracy       0.043277  0.644953   \n7              LightGBM      0.840    accuracy       0.003722  0.270848   \n8      RandomForestEntr      0.840    accuracy       0.043402  0.563396   \n9        ExtraTreesGini      0.825    accuracy       0.051933  0.576284   \n10       ExtraTreesEntr      0.820    accuracy       0.043655  0.575841   \n11        LightGBMLarge      0.815    accuracy       0.005420  0.721077   \n12       KNeighborsUnif      0.725    accuracy       0.015139  0.050229   \n13       KNeighborsDist      0.710    accuracy       0.016260  0.050003   \n\n    pred_time_val_marginal  fit_time_marginal  stack_level  can_infer  \\\n0                 0.004766           1.826474            1       True   \n1                 0.000822           0.436705            2       True   \n2                 0.010335           1.052461            1       True   \n3                 0.003931           0.241783            1       True   \n4                 0.006196           0.275347            1       True   \n5                 0.009590           2.205379            1       True   \n6                 0.043277           0.644953            1       True   \n7                 0.003722           0.270848            1       True   \n8                 0.043402           0.563396            1       True   \n9                 0.051933           0.576284            1       True   \n10                0.043655           0.575841            1       True   \n11                0.005420           0.721077            1       True   \n12                0.015139           0.050229            1       True   \n13                0.016260           0.050003            1       True   \n\n    fit_order  \n0           7  \n1          14  \n2          10  \n3           3  \n4          11  \n5          12  \n6           5  \n7           4  \n8           6  \n9           8  \n10          9  \n11         13  \n12          1  \n13          2  ",
      "text/html": "<div>\n<style scoped>\n    .dataframe tbody tr th:only-of-type {\n        vertical-align: middle;\n    }\n\n    .dataframe tbody tr th {\n        vertical-align: top;\n    }\n\n    .dataframe thead th {\n        text-align: right;\n    }\n</style>\n<table border=\"1\" class=\"dataframe\">\n  <thead>\n    <tr style=\"text-align: right;\">\n      <th></th>\n      <th>model</th>\n      <th>score_val</th>\n      <th>eval_metric</th>\n      <th>pred_time_val</th>\n      <th>fit_time</th>\n      <th>pred_time_val_marginal</th>\n      <th>fit_time_marginal</th>\n      <th>stack_level</th>\n      <th>can_infer</th>\n      <th>fit_order</th>\n    </tr>\n  </thead>\n  <tbody>\n    <tr>\n      <th>0</th>\n      <td>CatBoost</td>\n      <td>0.860</td>\n      <td>accuracy</td>\n      <td>0.004766</td>\n      <td>1.826474</td>\n      <td>0.004766</td>\n      <td>1.826474</td>\n      <td>1</td>\n      <td>True</td>\n      <td>7</td>\n    </tr>\n    <tr>\n      <th>1</th>\n      <td>WeightedEnsemble_L2</td>\n      <td>0.860</td>\n      <td>accuracy</td>\n      <td>0.005588</td>\n      <td>2.263179</td>\n      <td>0.000822</td>\n      <td>0.436705</td>\n      <td>2</td>\n      <td>True</td>\n      <td>14</td>\n    </tr>\n    <tr>\n      <th>2</th>\n      <td>NeuralNetFastAI</td>\n      <td>0.860</td>\n      <td>accuracy</td>\n      <td>0.010335</td>\n      <td>1.052461</td>\n      <td>0.010335</td>\n      <td>1.052461</td>\n      <td>1</td>\n      <td>True</td>\n      <td>10</td>\n    </tr>\n    <tr>\n      <th>3</th>\n      <td>LightGBMXT</td>\n      <td>0.850</td>\n      <td>accuracy</td>\n      <td>0.003931</td>\n      <td>0.241783</td>\n      <td>0.003931</td>\n      <td>0.241783</td>\n      <td>1</td>\n      <td>True</td>\n      <td>3</td>\n    </tr>\n    <tr>\n      <th>4</th>\n      <td>XGBoost</td>\n      <td>0.850</td>\n      <td>accuracy</td>\n      <td>0.006196</td>\n      <td>0.275347</td>\n      <td>0.006196</td>\n      <td>0.275347</td>\n      <td>1</td>\n      <td>True</td>\n      <td>11</td>\n    </tr>\n    <tr>\n      <th>5</th>\n      <td>NeuralNetTorch</td>\n      <td>0.850</td>\n      <td>accuracy</td>\n      <td>0.009590</td>\n      <td>2.205379</td>\n      <td>0.009590</td>\n      <td>2.205379</td>\n      <td>1</td>\n      <td>True</td>\n      <td>12</td>\n    </tr>\n    <tr>\n      <th>6</th>\n      <td>RandomForestGini</td>\n      <td>0.845</td>\n      <td>accuracy</td>\n      <td>0.043277</td>\n      <td>0.644953</td>\n      <td>0.043277</td>\n      <td>0.644953</td>\n      <td>1</td>\n      <td>True</td>\n      <td>5</td>\n    </tr>\n    <tr>\n      <th>7</th>\n      <td>LightGBM</td>\n      <td>0.840</td>\n      <td>accuracy</td>\n      <td>0.003722</td>\n      <td>0.270848</td>\n      <td>0.003722</td>\n      <td>0.270848</td>\n      <td>1</td>\n      <td>True</td>\n      <td>4</td>\n    </tr>\n    <tr>\n      <th>8</th>\n      <td>RandomForestEntr</td>\n      <td>0.840</td>\n      <td>accuracy</td>\n      <td>0.043402</td>\n      <td>0.563396</td>\n      <td>0.043402</td>\n      <td>0.563396</td>\n      <td>1</td>\n      <td>True</td>\n      <td>6</td>\n    </tr>\n    <tr>\n      <th>9</th>\n      <td>ExtraTreesGini</td>\n      <td>0.825</td>\n      <td>accuracy</td>\n      <td>0.051933</td>\n      <td>0.576284</td>\n      <td>0.051933</td>\n      <td>0.576284</td>\n      <td>1</td>\n      <td>True</td>\n      <td>8</td>\n    </tr>\n    <tr>\n      <th>10</th>\n      <td>ExtraTreesEntr</td>\n      <td>0.820</td>\n      <td>accuracy</td>\n      <td>0.043655</td>\n      <td>0.575841</td>\n      <td>0.043655</td>\n      <td>0.575841</td>\n      <td>1</td>\n      <td>True</td>\n      <td>9</td>\n    </tr>\n    <tr>\n      <th>11</th>\n      <td>LightGBMLarge</td>\n      <td>0.815</td>\n      <td>accuracy</td>\n      <td>0.005420</td>\n      <td>0.721077</td>\n      <td>0.005420</td>\n      <td>0.721077</td>\n      <td>1</td>\n      <td>True</td>\n      <td>13</td>\n    </tr>\n    <tr>\n      <th>12</th>\n      <td>KNeighborsUnif</td>\n      <td>0.725</td>\n      <td>accuracy</td>\n      <td>0.015139</td>\n      <td>0.050229</td>\n      <td>0.015139</td>\n      <td>0.050229</td>\n      <td>1</td>\n      <td>True</td>\n      <td>1</td>\n    </tr>\n    <tr>\n      <th>13</th>\n      <td>KNeighborsDist</td>\n      <td>0.710</td>\n      <td>accuracy</td>\n      <td>0.016260</td>\n      <td>0.050003</td>\n      <td>0.016260</td>\n      <td>0.050003</td>\n      <td>1</td>\n      <td>True</td>\n      <td>2</td>\n    </tr>\n  </tbody>\n</table>\n</div>"
     },
     "execution_count": 26,
     "metadata": {},
     "output_type": "execute_result"
    }
   ],
   "source": [
    "# At most 0.05 ms per row (20000 rows per second throughput)\n",
    "infer_limit = 0.00005\n",
    "# adhere to infer_limit with batches of size 10000 (batch-inference, easier to satisfy infer_limit)\n",
    "infer_limit_batch_size = 10000\n",
    "# adhere to infer_limit with batches of size 1 (online-inference, much harder to satisfy infer_limit)\n",
    "# infer_limit_batch_size = 1  # Note that infer_limit<0.02 when infer_limit_batch_size=1 can be difficult to satisfy.\n",
    "predictor_infer_limit = TabularPredictor(label=label, eval_metric=metric).fit(\n",
    "    train_data=train_data,\n",
    "    time_limit=30,\n",
    "    infer_limit=infer_limit,\n",
    "    infer_limit_batch_size=infer_limit_batch_size,\n",
    ")\n",
    "\n",
    "# NOTE: If bagging was enabled, it is important to call refit_full at this stage.\n",
    "#  infer_limit assumes that the user will call refit_full after fit.\n",
    "# predictor_infer_limit.refit_full()\n",
    "\n",
    "# NOTE: To align with inference speed calculated during fit, models must be persisted.\n",
    "predictor_infer_limit.persist()\n",
    "# Below is an optimized version that only persists the minimum required models for prediction.\n",
    "# predictor_infer_limit.persist('best')\n",
    "\n",
    "predictor_infer_limit.leaderboard()"
   ]
  },
  {
   "cell_type": "markdown",
   "id": "a69ab0da",
   "metadata": {},
   "source": [
    "Now we can test the inference speed of the final model and check if it satisfies the inference constraints."
   ]
  },
  {
   "cell_type": "code",
   "execution_count": 27,
   "id": "0a668eac",
   "metadata": {
    "ExecuteTime": {
     "end_time": "2023-12-27T08:30:12.260431Z",
     "start_time": "2023-12-27T08:30:12.207381Z"
    }
   },
   "outputs": [
    {
     "name": "stdout",
     "output_type": "stream",
     "text": [
      "Model is able to predict 209274.7 rows per second. (User-specified Throughput = 20000.0)\n",
      "Model uses 9.6% of infer_limit time per row.\n",
      "Model satisfies inference constraint: True\n"
     ]
    }
   ],
   "source": [
    "test_data_batch = test_data.sample(infer_limit_batch_size, replace=True, ignore_index=True)\n",
    "\n",
    "import time\n",
    "time_start = time.time()\n",
    "predictor_infer_limit.predict(test_data_batch)\n",
    "time_end = time.time()\n",
    "\n",
    "infer_time_per_row = (time_end - time_start) / len(test_data_batch)\n",
    "rows_per_second = 1 / infer_time_per_row\n",
    "infer_time_per_row_ratio = infer_time_per_row / infer_limit\n",
    "is_constraint_satisfied = infer_time_per_row_ratio <= 1\n",
    "\n",
    "print(f'Model is able to predict {round(rows_per_second, 1)} rows per second. (User-specified Throughput = {1 / infer_limit})')\n",
    "print(f'Model uses {round(infer_time_per_row_ratio * 100, 1)}% of infer_limit time per row.')\n",
    "print(f'Model satisfies inference constraint: {is_constraint_satisfied}')"
   ]
  },
  {
   "cell_type": "markdown",
   "id": "9d988fa3",
   "metadata": {},
   "source": [
    "### Using smaller ensemble or faster model for prediction\n",
    "\n",
    "Without having to retrain any models, one can construct alternative ensembles that aggregate individual models' predictions with different weighting schemes. These ensembles become smaller (and hence faster for prediction) if they assign nonzero weight to less models. You can produce a wide variety of ensembles with different accuracy-speed tradeoffs like this:"
   ]
  },
  {
   "cell_type": "code",
   "execution_count": 28,
   "outputs": [
    {
     "data": {
      "text/plain": "['LightGBM_BAG_L1', 'NeuralNetFastAI_BAG_L1', 'WeightedEnsemble_L2']"
     },
     "execution_count": 28,
     "metadata": {},
     "output_type": "execute_result"
    }
   ],
   "source": [
    "predictor.model_names()"
   ],
   "metadata": {
    "collapsed": false,
    "ExecuteTime": {
     "end_time": "2023-12-27T08:31:13.304448Z",
     "start_time": "2023-12-27T08:31:13.278892Z"
    }
   },
   "id": "1812db2cf45f3a13"
  },
  {
   "cell_type": "code",
   "execution_count": 29,
   "id": "1dcda6fd",
   "metadata": {
    "ExecuteTime": {
     "end_time": "2023-12-27T08:31:17.564398Z",
     "start_time": "2023-12-27T08:31:17.005509Z"
    }
   },
   "outputs": [
    {
     "name": "stderr",
     "output_type": "stream",
     "text": [
      "Fitting model: WeightedEnsemble_L2Best ...\n",
      "\tEnsemble Weights: {'LightGBM_BAG_L1': 1.0}\n",
      "\t0.6856\t = Validation score   (f1)\n",
      "\t0.49s\t = Training   runtime\n",
      "\t0.01s\t = Validation runtime\n"
     ]
    },
    {
     "name": "stdout",
     "output_type": "stream",
     "text": [
      "Alternative ensembles you can use for prediction: ['WeightedEnsemble_L2Best']\n"
     ]
    },
    {
     "data": {
      "text/plain": "             model  score_val eval_metric  pred_time_val  fit_time  \\\n0  LightGBM_BAG_L1    0.68559          f1       0.038826  1.340032   \n\n   pred_time_val_marginal  fit_time_marginal  stack_level  can_infer  \\\n0                0.038826           1.340032            1       True   \n\n   fit_order  \n0          1  ",
      "text/html": "<div>\n<style scoped>\n    .dataframe tbody tr th:only-of-type {\n        vertical-align: middle;\n    }\n\n    .dataframe tbody tr th {\n        vertical-align: top;\n    }\n\n    .dataframe thead th {\n        text-align: right;\n    }\n</style>\n<table border=\"1\" class=\"dataframe\">\n  <thead>\n    <tr style=\"text-align: right;\">\n      <th></th>\n      <th>model</th>\n      <th>score_val</th>\n      <th>eval_metric</th>\n      <th>pred_time_val</th>\n      <th>fit_time</th>\n      <th>pred_time_val_marginal</th>\n      <th>fit_time_marginal</th>\n      <th>stack_level</th>\n      <th>can_infer</th>\n      <th>fit_order</th>\n    </tr>\n  </thead>\n  <tbody>\n    <tr>\n      <th>0</th>\n      <td>LightGBM_BAG_L1</td>\n      <td>0.68559</td>\n      <td>f1</td>\n      <td>0.038826</td>\n      <td>1.340032</td>\n      <td>0.038826</td>\n      <td>1.340032</td>\n      <td>1</td>\n      <td>True</td>\n      <td>1</td>\n    </tr>\n  </tbody>\n</table>\n</div>"
     },
     "execution_count": 29,
     "metadata": {},
     "output_type": "execute_result"
    }
   ],
   "source": [
    "additional_ensembles = predictor.fit_weighted_ensemble(expand_pareto_frontier=True)\n",
    "print(\"Alternative ensembles you can use for prediction:\", additional_ensembles)\n",
    "\n",
    "predictor.leaderboard(only_pareto_frontier=True)"
   ]
  },
  {
   "cell_type": "markdown",
   "id": "edd8fe52",
   "metadata": {},
   "source": [
    "The resulting leaderboard will contain the most accurate model for a given inference-latency. You can select whichever model exhibits acceptable latency from the leaderboard and use it for prediction."
   ]
  },
  {
   "cell_type": "code",
   "execution_count": 30,
   "id": "a757a79b",
   "metadata": {
    "ExecuteTime": {
     "end_time": "2023-12-27T08:33:49.999278Z",
     "start_time": "2023-12-27T08:33:49.813887Z"
    }
   },
   "outputs": [
    {
     "name": "stderr",
     "output_type": "stream",
     "text": [
      "Deleting model WeightedEnsemble_L2Best. All files under agModels-predictClass/models/WeightedEnsemble_L2Best will be removed.\n"
     ]
    }
   ],
   "source": [
    "model_for_prediction = additional_ensembles[0]\n",
    "predictions = predictor.predict(test_data, model=model_for_prediction)\n",
    "predictor.delete_models(models_to_delete=additional_ensembles, dry_run=False)  # delete these extra models so they don't affect rest of tutorial"
   ]
  },
  {
   "cell_type": "markdown",
   "id": "9158cc13",
   "metadata": {},
   "source": [
    "### Collapsing bagged ensembles via refit_full\n",
    "\n",
    "For an ensemble predictor trained with bagging (as done above), recall there are ~10 bagged copies of each individual model trained on different train/validation folds. We can collapse this bag of ~10 models into a single model that's fit to the full dataset, which can greatly reduce its memory/latency requirements (but may also reduce accuracy). Below we refit such a model for each original model but you can alternatively do this for just a particular model by specifying the `model` argument of `refit_full()`."
   ]
  },
  {
   "cell_type": "code",
   "execution_count": 31,
   "id": "fd8ea890",
   "metadata": {
    "ExecuteTime": {
     "end_time": "2023-12-27T08:34:05.391591Z",
     "start_time": "2023-12-27T08:34:03.189998Z"
    }
   },
   "outputs": [
    {
     "name": "stderr",
     "output_type": "stream",
     "text": [
      "Refitting models via `predictor.refit_full` using all of the data (combined train and validation)...\n",
      "\tModels trained in this way will have the suffix \"_FULL\" and have NaN validation score.\n",
      "\tThis process is not bound by time_limit, but should take less time than the original `predictor.fit` call.\n",
      "\tTo learn more, refer to the `.refit_full` method docstring which explains how \"_FULL\" models differ from normal models.\n",
      "Fitting 1 L1 models ...\n",
      "Fitting model: LightGBM_BAG_L1_FULL ...\n",
      "\t0.17s\t = Training   runtime\n",
      "Fitting 1 L1 models ...\n",
      "Fitting model: NeuralNetFastAI_BAG_L1_FULL ...\n",
      "\tStopping at the best epoch learned earlier - 12.\n",
      "\t0.59s\t = Training   runtime\n",
      "Fitting model: WeightedEnsemble_L2_FULL | Skipping fit via cloning parent ...\n",
      "\tEnsemble Weights: {'LightGBM_BAG_L1': 1.0}\n",
      "\t1.05s\t = Training   runtime\n",
      "Updated best model to \"WeightedEnsemble_L2_FULL\" (Previously \"WeightedEnsemble_L2\"). AutoGluon will default to using \"WeightedEnsemble_L2_FULL\" for predict() and predict_proba().\n",
      "Refit complete, total runtime = 0.84s ... Best model: \"WeightedEnsemble_L2_FULL\"\n"
     ]
    },
    {
     "name": "stdout",
     "output_type": "stream",
     "text": [
      "Name of each refit-full model corresponding to a previous bagged ensemble:\n",
      "{'LightGBM_BAG_L1': 'LightGBM_BAG_L1_FULL', 'NeuralNetFastAI_BAG_L1': 'NeuralNetFastAI_BAG_L1_FULL', 'WeightedEnsemble_L2': 'WeightedEnsemble_L2_FULL'}\n"
     ]
    },
    {
     "data": {
      "text/plain": "                         model  score_test  score_val eval_metric  \\\n0         LightGBM_BAG_L1_FULL    0.634860        NaN          f1   \n1     WeightedEnsemble_L2_FULL    0.634860        NaN          f1   \n2              LightGBM_BAG_L1    0.629437   0.685590          f1   \n3          WeightedEnsemble_L2    0.629437   0.685590          f1   \n4       NeuralNetFastAI_BAG_L1    0.614756   0.675889          f1   \n5  NeuralNetFastAI_BAG_L1_FULL    0.558315        NaN          f1   \n\n   pred_time_test  pred_time_val  fit_time  pred_time_test_marginal  \\\n0        0.013386            NaN  0.170742                 0.013386   \n1        0.014495            NaN  1.220638                 0.001109   \n2        0.136386       0.038826  1.340032                 0.136386   \n3        0.137701       0.043109  2.389928                 0.001315   \n4        0.937932       0.118725  5.915798                 0.937932   \n5        0.113233            NaN  0.588392                 0.113233   \n\n   pred_time_val_marginal  fit_time_marginal  stack_level  can_infer  \\\n0                     NaN           0.170742            1       True   \n1                     NaN           1.049896            2       True   \n2                0.038826           1.340032            1       True   \n3                0.004283           1.049896            2       True   \n4                0.118725           5.915798            1       True   \n5                     NaN           0.588392            1       True   \n\n   fit_order  \n0          4  \n1          6  \n2          1  \n3          3  \n4          2  \n5          5  ",
      "text/html": "<div>\n<style scoped>\n    .dataframe tbody tr th:only-of-type {\n        vertical-align: middle;\n    }\n\n    .dataframe tbody tr th {\n        vertical-align: top;\n    }\n\n    .dataframe thead th {\n        text-align: right;\n    }\n</style>\n<table border=\"1\" class=\"dataframe\">\n  <thead>\n    <tr style=\"text-align: right;\">\n      <th></th>\n      <th>model</th>\n      <th>score_test</th>\n      <th>score_val</th>\n      <th>eval_metric</th>\n      <th>pred_time_test</th>\n      <th>pred_time_val</th>\n      <th>fit_time</th>\n      <th>pred_time_test_marginal</th>\n      <th>pred_time_val_marginal</th>\n      <th>fit_time_marginal</th>\n      <th>stack_level</th>\n      <th>can_infer</th>\n      <th>fit_order</th>\n    </tr>\n  </thead>\n  <tbody>\n    <tr>\n      <th>0</th>\n      <td>LightGBM_BAG_L1_FULL</td>\n      <td>0.634860</td>\n      <td>NaN</td>\n      <td>f1</td>\n      <td>0.013386</td>\n      <td>NaN</td>\n      <td>0.170742</td>\n      <td>0.013386</td>\n      <td>NaN</td>\n      <td>0.170742</td>\n      <td>1</td>\n      <td>True</td>\n      <td>4</td>\n    </tr>\n    <tr>\n      <th>1</th>\n      <td>WeightedEnsemble_L2_FULL</td>\n      <td>0.634860</td>\n      <td>NaN</td>\n      <td>f1</td>\n      <td>0.014495</td>\n      <td>NaN</td>\n      <td>1.220638</td>\n      <td>0.001109</td>\n      <td>NaN</td>\n      <td>1.049896</td>\n      <td>2</td>\n      <td>True</td>\n      <td>6</td>\n    </tr>\n    <tr>\n      <th>2</th>\n      <td>LightGBM_BAG_L1</td>\n      <td>0.629437</td>\n      <td>0.685590</td>\n      <td>f1</td>\n      <td>0.136386</td>\n      <td>0.038826</td>\n      <td>1.340032</td>\n      <td>0.136386</td>\n      <td>0.038826</td>\n      <td>1.340032</td>\n      <td>1</td>\n      <td>True</td>\n      <td>1</td>\n    </tr>\n    <tr>\n      <th>3</th>\n      <td>WeightedEnsemble_L2</td>\n      <td>0.629437</td>\n      <td>0.685590</td>\n      <td>f1</td>\n      <td>0.137701</td>\n      <td>0.043109</td>\n      <td>2.389928</td>\n      <td>0.001315</td>\n      <td>0.004283</td>\n      <td>1.049896</td>\n      <td>2</td>\n      <td>True</td>\n      <td>3</td>\n    </tr>\n    <tr>\n      <th>4</th>\n      <td>NeuralNetFastAI_BAG_L1</td>\n      <td>0.614756</td>\n      <td>0.675889</td>\n      <td>f1</td>\n      <td>0.937932</td>\n      <td>0.118725</td>\n      <td>5.915798</td>\n      <td>0.937932</td>\n      <td>0.118725</td>\n      <td>5.915798</td>\n      <td>1</td>\n      <td>True</td>\n      <td>2</td>\n    </tr>\n    <tr>\n      <th>5</th>\n      <td>NeuralNetFastAI_BAG_L1_FULL</td>\n      <td>0.558315</td>\n      <td>NaN</td>\n      <td>f1</td>\n      <td>0.113233</td>\n      <td>NaN</td>\n      <td>0.588392</td>\n      <td>0.113233</td>\n      <td>NaN</td>\n      <td>0.588392</td>\n      <td>1</td>\n      <td>True</td>\n      <td>5</td>\n    </tr>\n  </tbody>\n</table>\n</div>"
     },
     "execution_count": 31,
     "metadata": {},
     "output_type": "execute_result"
    }
   ],
   "source": [
    "refit_model_map = predictor.refit_full()\n",
    "print(\"Name of each refit-full model corresponding to a previous bagged ensemble:\")\n",
    "print(refit_model_map)\n",
    "predictor.leaderboard(test_data)"
   ]
  },
  {
   "cell_type": "markdown",
   "id": "ee8a611c",
   "metadata": {},
   "source": [
    "This adds the refit-full models to the leaderboard and we can opt to use any of them for prediction just like any other model. Note `pred_time_test` and `pred_time_val` list the time taken to produce predictions with each model (in seconds) on the test/validation data. Since the refit-full models were trained using all of the data, there is no internal validation score (`score_val`) available for them. You can also call `refit_full()` with non-bagged models to refit the same models to your full dataset (there won't be memory/latency gains in this case but test accuracy may improve).\n",
    "\n",
    "### Model distillation\n",
    "\n",
    "While computationally-favorable, single individual models will usually have lower accuracy than weighted/stacked/bagged ensembles. [Model Distillation](https://arxiv.org/abs/2006.14284) offers one way to retain the computational benefits of a single model, while enjoying some of the accuracy-boost that comes with ensembling. The idea is to train the individual model (which we can call the student) to mimic the predictions of the full stack ensemble (the teacher). Like `refit_full()`, the `distill()` function will produce additional models we can opt to use for prediction."
   ]
  },
  {
   "cell_type": "code",
   "execution_count": 32,
   "id": "13d8854f",
   "metadata": {
    "ExecuteTime": {
     "end_time": "2023-12-27T08:35:50.168130Z",
     "start_time": "2023-12-27T08:35:41.309421Z"
    }
   },
   "outputs": [
    {
     "name": "stderr",
     "output_type": "stream",
     "text": [
      "Distilling with teacher='WeightedEnsemble_L2_FULL', teacher_preds=soft, augment_method=spunge ...\n",
      "SPUNGE: Augmenting training data with 4000 synthetic samples for distillation...\n",
      "Distilling with each of these student models: ['LightGBM_DSTL', 'CatBoost_DSTL', 'RandomForestMSE_DSTL', 'NeuralNetTorch_DSTL']\n",
      "Fitting 4 L1 models ...\n",
      "Fitting model: LightGBM_DSTL ... Training model for up to 30.0s of the 30.0s of remaining time.\n",
      "\tWarning: Exception caused LightGBM_DSTL to fail during training... Skipping this model.\n",
      "\t\tpandas dtypes must be int, float or bool.\n",
      "Fields with bad pandas dtypes: workclass: object, education: object, marital-status: object, occupation: object, relationship: object, race: object, native-country: object\n",
      "Detailed Traceback:\n",
      "Traceback (most recent call last):\n",
      "  File \"/Users/elnath/anaconda3/envs/venv_ag_310/lib/python3.10/site-packages/autogluon/core/trainer/abstract_trainer.py\", line 1817, in _train_and_save\n",
      "    model = self._train_single(X, y, model, X_val, y_val, total_resources=total_resources, **model_fit_kwargs)\n",
      "  File \"/Users/elnath/anaconda3/envs/venv_ag_310/lib/python3.10/site-packages/autogluon/core/trainer/abstract_trainer.py\", line 1763, in _train_single\n",
      "    model = model.fit(X=X, y=y, X_val=X_val, y_val=y_val, total_resources=total_resources, **model_fit_kwargs)\n",
      "  File \"/Users/elnath/anaconda3/envs/venv_ag_310/lib/python3.10/site-packages/autogluon/core/models/abstract/abstract_model.py\", line 854, in fit\n",
      "    out = self._fit(**kwargs)\n",
      "  File \"/Users/elnath/anaconda3/envs/venv_ag_310/lib/python3.10/site-packages/autogluon/tabular/models/lgb/lgb_model.py\", line 218, in _fit\n",
      "    self.model = train_lgb_model(early_stopping_callback_kwargs=early_stopping_callback_kwargs, **train_params)\n",
      "  File \"/Users/elnath/anaconda3/envs/venv_ag_310/lib/python3.10/site-packages/autogluon/tabular/models/lgb/lgb_utils.py\", line 124, in train_lgb_model\n",
      "    return lgb.train(**train_params)\n",
      "  File \"/Users/elnath/anaconda3/envs/venv_ag_310/lib/python3.10/site-packages/lightgbm/engine.py\", line 255, in train\n",
      "    booster = Booster(params=params, train_set=train_set)\n",
      "  File \"/Users/elnath/anaconda3/envs/venv_ag_310/lib/python3.10/site-packages/lightgbm/basic.py\", line 3200, in __init__\n",
      "    train_set.construct()\n",
      "  File \"/Users/elnath/anaconda3/envs/venv_ag_310/lib/python3.10/site-packages/lightgbm/basic.py\", line 2276, in construct\n",
      "    self._lazy_init(data=self.data, label=self.label, reference=None,\n",
      "  File \"/Users/elnath/anaconda3/envs/venv_ag_310/lib/python3.10/site-packages/lightgbm/basic.py\", line 1861, in _lazy_init\n",
      "    data, feature_name, categorical_feature, self.pandas_categorical = _data_from_pandas(\n",
      "  File \"/Users/elnath/anaconda3/envs/venv_ag_310/lib/python3.10/site-packages/lightgbm/basic.py\", line 703, in _data_from_pandas\n",
      "    _check_for_bad_pandas_dtypes(data.dtypes)\n",
      "  File \"/Users/elnath/anaconda3/envs/venv_ag_310/lib/python3.10/site-packages/lightgbm/basic.py\", line 666, in _check_for_bad_pandas_dtypes\n",
      "    raise ValueError('pandas dtypes must be int, float or bool.\\n'\n",
      "ValueError: pandas dtypes must be int, float or bool.\n",
      "Fields with bad pandas dtypes: workclass: object, education: object, marital-status: object, occupation: object, relationship: object, race: object, native-country: object\n",
      "Fitting model: CatBoost_DSTL ... Training model for up to 29.75s of the 29.75s of remaining time.\n",
      "\tWarning: Exception caused CatBoost_DSTL to fail during training... Skipping this model.\n",
      "\t\tfeatures data: pandas.DataFrame column 'workclass' has dtype 'category' but is not in  cat_features list\n",
      "Detailed Traceback:\n",
      "Traceback (most recent call last):\n",
      "  File \"/Users/elnath/anaconda3/envs/venv_ag_310/lib/python3.10/site-packages/autogluon/core/trainer/abstract_trainer.py\", line 1817, in _train_and_save\n",
      "    model = self._train_single(X, y, model, X_val, y_val, total_resources=total_resources, **model_fit_kwargs)\n",
      "  File \"/Users/elnath/anaconda3/envs/venv_ag_310/lib/python3.10/site-packages/autogluon/core/trainer/abstract_trainer.py\", line 1763, in _train_single\n",
      "    model = model.fit(X=X, y=y, X_val=X_val, y_val=y_val, total_resources=total_resources, **model_fit_kwargs)\n",
      "  File \"/Users/elnath/anaconda3/envs/venv_ag_310/lib/python3.10/site-packages/autogluon/core/models/abstract/abstract_model.py\", line 854, in fit\n",
      "    out = self._fit(**kwargs)\n",
      "  File \"/Users/elnath/anaconda3/envs/venv_ag_310/lib/python3.10/site-packages/autogluon/tabular/models/catboost/catboost_model.py\", line 125, in _fit\n",
      "    X_val = Pool(data=X_val, label=y_val, cat_features=cat_features, weight=sample_weight_val)\n",
      "  File \"/Users/elnath/anaconda3/envs/venv_ag_310/lib/python3.10/site-packages/catboost/core.py\", line 793, in __init__\n",
      "    self._init(data, label, cat_features, text_features, embedding_features, embedding_features_data, pairs, weight,\n",
      "  File \"/Users/elnath/anaconda3/envs/venv_ag_310/lib/python3.10/site-packages/catboost/core.py\", line 1425, in _init\n",
      "    self._init_pool(data, label, cat_features, text_features, embedding_features, embedding_features_data, pairs, weight,\n",
      "  File \"_catboost.pyx\", line 3976, in _catboost._PoolBase._init_pool\n",
      "  File \"_catboost.pyx\", line 4026, in _catboost._PoolBase._init_pool\n",
      "  File \"_catboost.pyx\", line 3842, in _catboost._PoolBase._init_features_order_layout_pool\n",
      "  File \"_catboost.pyx\", line 2764, in _catboost._set_features_order_data_pd_data_frame\n",
      "_catboost.CatBoostError: features data: pandas.DataFrame column 'workclass' has dtype 'category' but is not in  cat_features list\n",
      "Fitting model: RandomForestMSE_DSTL ... Training model for up to 29.59s of the 29.59s of remaining time.\n",
      "\tNote: model has different eval_metric than default.\n",
      "\t-0.1079\t = Validation score   (-mean_squared_error)\n",
      "\t0.78s\t = Training   runtime\n",
      "\t0.05s\t = Validation runtime\n",
      "Fitting model: NeuralNetTorch_DSTL ... Training model for up to 28.64s of the 28.64s of remaining time.\n",
      "\tWarning: Exception caused NeuralNetTorch_DSTL to fail during training... Skipping this model.\n",
      "\t\tFound array with 0 feature(s) (shape=(4800, 0)) while a minimum of 1 is required.\n",
      "Detailed Traceback:\n",
      "Traceback (most recent call last):\n",
      "  File \"/Users/elnath/anaconda3/envs/venv_ag_310/lib/python3.10/site-packages/autogluon/core/trainer/abstract_trainer.py\", line 1817, in _train_and_save\n",
      "    model = self._train_single(X, y, model, X_val, y_val, total_resources=total_resources, **model_fit_kwargs)\n",
      "  File \"/Users/elnath/anaconda3/envs/venv_ag_310/lib/python3.10/site-packages/autogluon/core/trainer/abstract_trainer.py\", line 1763, in _train_single\n",
      "    model = model.fit(X=X, y=y, X_val=X_val, y_val=y_val, total_resources=total_resources, **model_fit_kwargs)\n",
      "  File \"/Users/elnath/anaconda3/envs/venv_ag_310/lib/python3.10/site-packages/autogluon/core/models/abstract/abstract_model.py\", line 854, in fit\n",
      "    out = self._fit(**kwargs)\n",
      "  File \"/Users/elnath/anaconda3/envs/venv_ag_310/lib/python3.10/site-packages/autogluon/tabular/models/tabular_nn/torch/tabular_nn_torch.py\", line 185, in _fit\n",
      "    train_dataset, val_dataset = self._generate_datasets(X=X, y=y, params=processor_kwargs, X_val=X_val, y_val=y_val)\n",
      "  File \"/Users/elnath/anaconda3/envs/venv_ag_310/lib/python3.10/site-packages/autogluon/tabular/models/tabular_nn/torch/tabular_nn_torch.py\", line 457, in _generate_datasets\n",
      "    train_dataset = self._process_train_data(\n",
      "  File \"/Users/elnath/anaconda3/envs/venv_ag_310/lib/python3.10/site-packages/autogluon/tabular/models/tabular_nn/torch/tabular_nn_torch.py\", line 530, in _process_train_data\n",
      "    df = self.processor.fit_transform(df)\n",
      "  File \"/Users/elnath/anaconda3/envs/venv_ag_310/lib/python3.10/site-packages/sklearn/utils/_set_output.py\", line 157, in wrapped\n",
      "    data_to_wrap = f(self, X, *args, **kwargs)\n",
      "  File \"/Users/elnath/anaconda3/envs/venv_ag_310/lib/python3.10/site-packages/sklearn/base.py\", line 1152, in wrapper\n",
      "    return fit_method(estimator, *args, **kwargs)\n",
      "  File \"/Users/elnath/anaconda3/envs/venv_ag_310/lib/python3.10/site-packages/sklearn/compose/_column_transformer.py\", line 754, in fit_transform\n",
      "    result = self._fit_transform(X, y, _fit_transform_one)\n",
      "  File \"/Users/elnath/anaconda3/envs/venv_ag_310/lib/python3.10/site-packages/sklearn/compose/_column_transformer.py\", line 681, in _fit_transform\n",
      "    return Parallel(n_jobs=self.n_jobs)(\n",
      "  File \"/Users/elnath/anaconda3/envs/venv_ag_310/lib/python3.10/site-packages/sklearn/utils/parallel.py\", line 65, in __call__\n",
      "    return super().__call__(iterable_with_config)\n",
      "  File \"/Users/elnath/anaconda3/envs/venv_ag_310/lib/python3.10/site-packages/joblib/parallel.py\", line 1863, in __call__\n",
      "    return output if self.return_generator else list(output)\n",
      "  File \"/Users/elnath/anaconda3/envs/venv_ag_310/lib/python3.10/site-packages/joblib/parallel.py\", line 1792, in _get_sequential_output\n",
      "    res = func(*args, **kwargs)\n",
      "  File \"/Users/elnath/anaconda3/envs/venv_ag_310/lib/python3.10/site-packages/sklearn/utils/parallel.py\", line 127, in __call__\n",
      "    return self.function(*args, **kwargs)\n",
      "  File \"/Users/elnath/anaconda3/envs/venv_ag_310/lib/python3.10/site-packages/sklearn/pipeline.py\", line 957, in _fit_transform_one\n",
      "    res = transformer.fit_transform(X, y, **fit_params)\n",
      "  File \"/Users/elnath/anaconda3/envs/venv_ag_310/lib/python3.10/site-packages/sklearn/base.py\", line 1152, in wrapper\n",
      "    return fit_method(estimator, *args, **kwargs)\n",
      "  File \"/Users/elnath/anaconda3/envs/venv_ag_310/lib/python3.10/site-packages/sklearn/pipeline.py\", line 479, in fit_transform\n",
      "    return last_step.fit_transform(Xt, y, **fit_params_last_step)\n",
      "  File \"/Users/elnath/anaconda3/envs/venv_ag_310/lib/python3.10/site-packages/sklearn/utils/_set_output.py\", line 157, in wrapped\n",
      "    data_to_wrap = f(self, X, *args, **kwargs)\n",
      "  File \"/Users/elnath/anaconda3/envs/venv_ag_310/lib/python3.10/site-packages/sklearn/base.py\", line 916, in fit_transform\n",
      "    return self.fit(X, **fit_params).transform(X)\n",
      "  File \"/Users/elnath/anaconda3/envs/venv_ag_310/lib/python3.10/site-packages/autogluon/tabular/models/tabular_nn/utils/categorical_encoders.py\", line 727, in fit\n",
      "    self._fit(X, handle_unknown=\"ignore\")\n",
      "  File \"/Users/elnath/anaconda3/envs/venv_ag_310/lib/python3.10/site-packages/autogluon/tabular/models/tabular_nn/utils/categorical_encoders.py\", line 193, in _fit\n",
      "    X_list, n_samples, n_features = self._check_X(X)\n",
      "  File \"/Users/elnath/anaconda3/envs/venv_ag_310/lib/python3.10/site-packages/autogluon/tabular/models/tabular_nn/utils/categorical_encoders.py\", line 164, in _check_X\n",
      "    X_temp = check_array(X, dtype=None, force_all_finite=False)\n",
      "  File \"/Users/elnath/anaconda3/envs/venv_ag_310/lib/python3.10/site-packages/sklearn/utils/validation.py\", line 976, in check_array\n",
      "    raise ValueError(\n",
      "ValueError: Found array with 0 feature(s) (shape=(4800, 0)) while a minimum of 1 is required.\n",
      "Repeating k-fold bagging: 2/5\n",
      "Repeating k-fold bagging: 3/5\n",
      "Repeating k-fold bagging: 4/5\n",
      "Repeating k-fold bagging: 5/5\n",
      "Completed 5/5 k-fold bagging repeats ...\n",
      "Distilling with each of these student models: ['WeightedEnsemble_L2_DSTL']\n",
      "Fitting model: WeightedEnsemble_L2_DSTL ... Training model for up to 30.0s of the 28.45s of remaining time.\n",
      "\tEnsemble Weights: {'RandomForestMSE_DSTL': 1.0}\n",
      "\tNote: model has different eval_metric than default.\n",
      "\t-0.1079\t = Validation score   (-mean_squared_error)\n",
      "\t0.0s\t = Training   runtime\n",
      "\t0.0s\t = Validation runtime\n",
      "Distilled model leaderboard:\n",
      "                      model  score_val         eval_metric  pred_time_val  fit_time  pred_time_val_marginal  fit_time_marginal  stack_level  can_infer  fit_order\n",
      "0      RandomForestMSE_DSTL   0.629213  mean_squared_error       0.047195  0.780536                0.047195           0.780536            1       True          7\n",
      "1  WeightedEnsemble_L2_DSTL   0.629213  mean_squared_error       0.048308  0.784235                0.001113           0.003699            2       True          8\n"
     ]
    },
    {
     "name": "stdout",
     "output_type": "stream",
     "text": [
      "['RandomForestMSE_DSTL', 'WeightedEnsemble_L2_DSTL']\n",
      "predictions from RandomForestMSE_DSTL: [' <=50K', ' <=50K', ' >50K', ' <=50K', ' <=50K']\n"
     ]
    },
    {
     "data": {
      "text/plain": "                         model  score_test  score_val         eval_metric  \\\n0         LightGBM_BAG_L1_FULL    0.634860        NaN                  f1   \n1     WeightedEnsemble_L2_FULL    0.634860        NaN                  f1   \n2              LightGBM_BAG_L1    0.629437   0.685590                  f1   \n3          WeightedEnsemble_L2    0.629437   0.685590                  f1   \n4       NeuralNetFastAI_BAG_L1    0.614756   0.675889                  f1   \n5         RandomForestMSE_DSTL    0.607631   0.629213  mean_squared_error   \n6     WeightedEnsemble_L2_DSTL    0.607631   0.629213  mean_squared_error   \n7  NeuralNetFastAI_BAG_L1_FULL    0.558315        NaN                  f1   \n\n   pred_time_test  pred_time_val  fit_time  pred_time_test_marginal  \\\n0        0.015278            NaN  0.170742                 0.015278   \n1        0.016441            NaN  1.220638                 0.001163   \n2        0.132853       0.038826  1.340032                 0.132853   \n3        0.133979       0.043109  2.389928                 0.001126   \n4        1.000614       0.118725  5.915798                 1.000614   \n5        0.144918       0.047195  0.780536                 0.144918   \n6        0.198245       0.048308  0.784235                 0.053327   \n7        0.117496            NaN  0.588392                 0.117496   \n\n   pred_time_val_marginal  fit_time_marginal  stack_level  can_infer  \\\n0                     NaN           0.170742            1       True   \n1                     NaN           1.049896            2       True   \n2                0.038826           1.340032            1       True   \n3                0.004283           1.049896            2       True   \n4                0.118725           5.915798            1       True   \n5                0.047195           0.780536            1       True   \n6                0.001113           0.003699            2       True   \n7                     NaN           0.588392            1       True   \n\n   fit_order  \n0          4  \n1          6  \n2          1  \n3          3  \n4          2  \n5          7  \n6          8  \n7          5  ",
      "text/html": "<div>\n<style scoped>\n    .dataframe tbody tr th:only-of-type {\n        vertical-align: middle;\n    }\n\n    .dataframe tbody tr th {\n        vertical-align: top;\n    }\n\n    .dataframe thead th {\n        text-align: right;\n    }\n</style>\n<table border=\"1\" class=\"dataframe\">\n  <thead>\n    <tr style=\"text-align: right;\">\n      <th></th>\n      <th>model</th>\n      <th>score_test</th>\n      <th>score_val</th>\n      <th>eval_metric</th>\n      <th>pred_time_test</th>\n      <th>pred_time_val</th>\n      <th>fit_time</th>\n      <th>pred_time_test_marginal</th>\n      <th>pred_time_val_marginal</th>\n      <th>fit_time_marginal</th>\n      <th>stack_level</th>\n      <th>can_infer</th>\n      <th>fit_order</th>\n    </tr>\n  </thead>\n  <tbody>\n    <tr>\n      <th>0</th>\n      <td>LightGBM_BAG_L1_FULL</td>\n      <td>0.634860</td>\n      <td>NaN</td>\n      <td>f1</td>\n      <td>0.015278</td>\n      <td>NaN</td>\n      <td>0.170742</td>\n      <td>0.015278</td>\n      <td>NaN</td>\n      <td>0.170742</td>\n      <td>1</td>\n      <td>True</td>\n      <td>4</td>\n    </tr>\n    <tr>\n      <th>1</th>\n      <td>WeightedEnsemble_L2_FULL</td>\n      <td>0.634860</td>\n      <td>NaN</td>\n      <td>f1</td>\n      <td>0.016441</td>\n      <td>NaN</td>\n      <td>1.220638</td>\n      <td>0.001163</td>\n      <td>NaN</td>\n      <td>1.049896</td>\n      <td>2</td>\n      <td>True</td>\n      <td>6</td>\n    </tr>\n    <tr>\n      <th>2</th>\n      <td>LightGBM_BAG_L1</td>\n      <td>0.629437</td>\n      <td>0.685590</td>\n      <td>f1</td>\n      <td>0.132853</td>\n      <td>0.038826</td>\n      <td>1.340032</td>\n      <td>0.132853</td>\n      <td>0.038826</td>\n      <td>1.340032</td>\n      <td>1</td>\n      <td>True</td>\n      <td>1</td>\n    </tr>\n    <tr>\n      <th>3</th>\n      <td>WeightedEnsemble_L2</td>\n      <td>0.629437</td>\n      <td>0.685590</td>\n      <td>f1</td>\n      <td>0.133979</td>\n      <td>0.043109</td>\n      <td>2.389928</td>\n      <td>0.001126</td>\n      <td>0.004283</td>\n      <td>1.049896</td>\n      <td>2</td>\n      <td>True</td>\n      <td>3</td>\n    </tr>\n    <tr>\n      <th>4</th>\n      <td>NeuralNetFastAI_BAG_L1</td>\n      <td>0.614756</td>\n      <td>0.675889</td>\n      <td>f1</td>\n      <td>1.000614</td>\n      <td>0.118725</td>\n      <td>5.915798</td>\n      <td>1.000614</td>\n      <td>0.118725</td>\n      <td>5.915798</td>\n      <td>1</td>\n      <td>True</td>\n      <td>2</td>\n    </tr>\n    <tr>\n      <th>5</th>\n      <td>RandomForestMSE_DSTL</td>\n      <td>0.607631</td>\n      <td>0.629213</td>\n      <td>mean_squared_error</td>\n      <td>0.144918</td>\n      <td>0.047195</td>\n      <td>0.780536</td>\n      <td>0.144918</td>\n      <td>0.047195</td>\n      <td>0.780536</td>\n      <td>1</td>\n      <td>True</td>\n      <td>7</td>\n    </tr>\n    <tr>\n      <th>6</th>\n      <td>WeightedEnsemble_L2_DSTL</td>\n      <td>0.607631</td>\n      <td>0.629213</td>\n      <td>mean_squared_error</td>\n      <td>0.198245</td>\n      <td>0.048308</td>\n      <td>0.784235</td>\n      <td>0.053327</td>\n      <td>0.001113</td>\n      <td>0.003699</td>\n      <td>2</td>\n      <td>True</td>\n      <td>8</td>\n    </tr>\n    <tr>\n      <th>7</th>\n      <td>NeuralNetFastAI_BAG_L1_FULL</td>\n      <td>0.558315</td>\n      <td>NaN</td>\n      <td>f1</td>\n      <td>0.117496</td>\n      <td>NaN</td>\n      <td>0.588392</td>\n      <td>0.117496</td>\n      <td>NaN</td>\n      <td>0.588392</td>\n      <td>1</td>\n      <td>True</td>\n      <td>5</td>\n    </tr>\n  </tbody>\n</table>\n</div>"
     },
     "execution_count": 32,
     "metadata": {},
     "output_type": "execute_result"
    }
   ],
   "source": [
    "student_models = predictor.distill(time_limit=30)  # specify much longer time limit in real applications\n",
    "print(student_models)\n",
    "preds_student = predictor.predict(test_data_nolabel, model=student_models[0])\n",
    "print(f\"predictions from {student_models[0]}:\", list(preds_student)[:5])\n",
    "predictor.leaderboard(test_data)"
   ]
  },
  {
   "cell_type": "markdown",
   "id": "ba4a36ab",
   "metadata": {},
   "source": [
    "### Faster presets or hyperparameters\n",
    "\n",
    "Instead of trying to speed up a cumbersome trained model at prediction time, if you know inference latency or memory will be an issue at the outset, then you can adjust the training process accordingly to ensure `fit()` does not produce unwieldy models.\n",
    "\n",
    "One option is to specify more lightweight `presets`:"
   ]
  },
  {
   "cell_type": "code",
   "execution_count": 33,
   "id": "3bd5e5e4",
   "metadata": {
    "ExecuteTime": {
     "end_time": "2023-12-27T08:46:12.677247Z",
     "start_time": "2023-12-27T08:45:36.780230Z"
    }
   },
   "outputs": [
    {
     "name": "stderr",
     "output_type": "stream",
     "text": [
      "No path specified. Models will be saved in: \"AutogluonModels/ag-20231227_084536\"\n",
      "Presets specified: ['good_quality', 'optimize_for_deployment']\n",
      "Stack configuration (auto_stack=True): num_stack_levels=1, num_bag_folds=8, num_bag_sets=1\n",
      "Dynamic stacking is enabled (dynamic_stacking=True). AutoGluon will try to determine whether the input data is affected by stacked overfitting and enable or disable stacking as a consequence.\n",
      "Detecting stacked overfitting by sub-fitting AutoGluon on the input data. That is, copies of AutoGluon will be sub-fit on subset(s) of the data. Then, the holdout validation data is used to detect stacked overfitting.\n",
      "Sub-fit(s) time limit is: 30 seconds.\n",
      "Starting holdout-based sub-fit for dynamic stacking. Context path is: AutogluonModels/ag-20231227_084536/ds_sub_fit/sub_fit_ho.\n",
      "Running the sub-fit in a ray process to avoid memory leakage.\n",
      "Spend 12 seconds for the sub-fit(s) during dynamic stacking.\n",
      "Time left for full fit of AutoGluon: 18 seconds.\n",
      "Starting full fit now with num_stack_levels 1.\n",
      "Beginning AutoGluon training ... Time limit = 18s\n",
      "AutoGluon will save models to \"AutogluonModels/ag-20231227_084536\"\n",
      "=================== System Info ===================\n",
      "AutoGluon Version:  1.0.0\n",
      "Python Version:     3.10.13\n",
      "Operating System:   Darwin\n",
      "Platform Machine:   x86_64\n",
      "Platform Version:   Darwin Kernel Version 23.2.0: Wed Nov 15 21:54:10 PST 2023; root:xnu-10002.61.3~2/RELEASE_X86_64\n",
      "CPU Count:          16\n",
      "Memory Avail:       42.12 GB / 64.00 GB (65.8%)\n",
      "Disk Space Avail:   452.86 GB / 931.55 GB (48.6%)\n",
      "===================================================\n",
      "Train Data Rows:    1000\n",
      "Train Data Columns: 14\n",
      "Label Column:       class\n",
      "Problem Type:       binary\n",
      "Preprocessing data ...\n",
      "Selected class <--> label mapping:  class 1 =  >50K, class 0 =  <=50K\n",
      "\tNote: For your binary classification, AutoGluon arbitrarily selected which label-value represents positive ( >50K) vs negative ( <=50K) class.\n",
      "\tTo explicitly set the positive_class, either rename classes to 1 and 0, or specify positive_class in Predictor init.\n",
      "Using Feature Generators to preprocess the data ...\n",
      "Fitting AutoMLPipelineFeatureGenerator...\n",
      "\tAvailable Memory:                    43132.78 MB\n",
      "\tTrain Data (Original)  Memory Usage: 0.56 MB (0.0% of available memory)\n",
      "\tInferring data type of each feature based on column values. Set feature_metadata_in to manually specify special dtypes of the features.\n",
      "\tStage 1 Generators:\n",
      "\t\tFitting AsTypeFeatureGenerator...\n",
      "\t\t\tNote: Converting 1 features to boolean dtype as they only contain 2 unique values.\n",
      "\tStage 2 Generators:\n",
      "\t\tFitting FillNaFeatureGenerator...\n",
      "\tStage 3 Generators:\n",
      "\t\tFitting IdentityFeatureGenerator...\n",
      "\t\tFitting CategoryFeatureGenerator...\n",
      "\t\t\tFitting CategoryMemoryMinimizeFeatureGenerator...\n",
      "\tStage 4 Generators:\n",
      "\t\tFitting DropUniqueFeatureGenerator...\n",
      "\tStage 5 Generators:\n",
      "\t\tFitting DropDuplicatesFeatureGenerator...\n",
      "\tTypes of features in original data (raw dtype, special dtypes):\n",
      "\t\t('int', [])    : 6 | ['age', 'fnlwgt', 'education-num', 'capital-gain', 'capital-loss', ...]\n",
      "\t\t('object', []) : 8 | ['workclass', 'education', 'marital-status', 'occupation', 'relationship', ...]\n",
      "\tTypes of features in processed data (raw dtype, special dtypes):\n",
      "\t\t('category', [])  : 7 | ['workclass', 'education', 'marital-status', 'occupation', 'relationship', ...]\n",
      "\t\t('int', [])       : 6 | ['age', 'fnlwgt', 'education-num', 'capital-gain', 'capital-loss', ...]\n",
      "\t\t('int', ['bool']) : 1 | ['sex']\n",
      "\t0.1s = Fit runtime\n",
      "\t14 features in original data used to generate 14 features in processed data.\n",
      "\tTrain Data (Processed) Memory Usage: 0.06 MB (0.0% of available memory)\n",
      "Data preprocessing and feature engineering runtime = 0.12s ...\n",
      "AutoGluon will gauge predictive performance using evaluation metric: 'accuracy'\n",
      "\tTo change this, specify the eval_metric parameter of Predictor()\n",
      "User-specified model hyperparameters to be fit:\n",
      "{\n",
      "\t'NN_TORCH': {},\n",
      "\t'GBM': [{'extra_trees': True, 'ag_args': {'name_suffix': 'XT'}}, {}, 'GBMLarge'],\n",
      "\t'CAT': {},\n",
      "\t'XGB': {},\n",
      "\t'FASTAI': {},\n",
      "\t'RF': [{'criterion': 'gini', 'max_depth': 15, 'ag_args': {'name_suffix': 'Gini', 'problem_types': ['binary', 'multiclass']}}, {'criterion': 'entropy', 'max_depth': 15, 'ag_args': {'name_suffix': 'Entr', 'problem_types': ['binary', 'multiclass']}}, {'criterion': 'squared_error', 'max_depth': 15, 'ag_args': {'name_suffix': 'MSE', 'problem_types': ['regression', 'quantile']}}],\n",
      "\t'XT': [{'criterion': 'gini', 'max_depth': 15, 'ag_args': {'name_suffix': 'Gini', 'problem_types': ['binary', 'multiclass']}}, {'criterion': 'entropy', 'max_depth': 15, 'ag_args': {'name_suffix': 'Entr', 'problem_types': ['binary', 'multiclass']}}, {'criterion': 'squared_error', 'max_depth': 15, 'ag_args': {'name_suffix': 'MSE', 'problem_types': ['regression', 'quantile']}}],\n",
      "}\n",
      "AutoGluon will fit 2 stack levels (L1 to L2) ...\n",
      "Fitting 11 L1 models ...\n",
      "Fitting model: LightGBMXT_BAG_L1 ... Training model for up to 11.92s of the 17.88s of remaining time.\n",
      "\tFitting 8 child models (S1F1 - S1F8) | Fitting with ParallelLocalFoldFittingStrategy (8 workers, per: cpus=2, gpus=0, memory=0.01%)\n",
      "\t0.859\t = Validation score   (accuracy)\n",
      "\t1.13s\t = Training   runtime\n",
      "\t0.04s\t = Validation runtime\n",
      "Fitting model: LightGBM_BAG_L1 ... Training model for up to 6.92s of the 12.89s of remaining time.\n",
      "\tFitting 8 child models (S1F1 - S1F8) | Fitting with ParallelLocalFoldFittingStrategy (8 workers, per: cpus=2, gpus=0, memory=0.01%)\n",
      "\t0.859\t = Validation score   (accuracy)\n",
      "\t1.1s\t = Training   runtime\n",
      "\t0.05s\t = Validation runtime\n",
      "Fitting model: RandomForestGini_BAG_L1 ... Training model for up to 1.7s of the 7.66s of remaining time.\n",
      "\t0.842\t = Validation score   (accuracy)\n",
      "\t0.74s\t = Training   runtime\n",
      "\t0.1s\t = Validation runtime\n",
      "Fitting model: RandomForestEntr_BAG_L1 ... Training model for up to 0.82s of the 6.78s of remaining time.\n",
      "\t0.833\t = Validation score   (accuracy)\n",
      "\t0.45s\t = Training   runtime\n",
      "\t0.12s\t = Validation runtime\n",
      "Fitting model: CatBoost_BAG_L1 ... Training model for up to 0.22s of the 6.18s of remaining time.\n",
      "\tFitting 8 child models (S1F1 - S1F8) | Fitting with ParallelLocalFoldFittingStrategy (8 workers, per: cpus=2, gpus=0, memory=0.01%)\n",
      "\t0.792\t = Validation score   (accuracy)\n",
      "\t0.14s\t = Training   runtime\n",
      "\t0.04s\t = Validation runtime\n",
      "Fitting model: WeightedEnsemble_L2 ... Training model for up to 17.88s of the 1.93s of remaining time.\n",
      "\tEnsemble Weights: {'LightGBMXT_BAG_L1': 1.0}\n",
      "\t0.859\t = Validation score   (accuracy)\n",
      "\t0.66s\t = Training   runtime\n",
      "\t0.0s\t = Validation runtime\n",
      "Fitting 11 L2 models ...\n",
      "Fitting model: LightGBMXT_BAG_L2 ... Training model for up to 1.25s of the 1.24s of remaining time.\n",
      "\tFitting 8 child models (S1F1 - S1F8) | Fitting with ParallelLocalFoldFittingStrategy (8 workers, per: cpus=2, gpus=0, memory=0.01%)\n",
      "\t0.866\t = Validation score   (accuracy)\n",
      "\t1.08s\t = Training   runtime\n",
      "\t0.05s\t = Validation runtime\n",
      "Fitting model: WeightedEnsemble_L3 ... Training model for up to 17.88s of the -4.27s of remaining time.\n",
      "\tEnsemble Weights: {'LightGBMXT_BAG_L2': 1.0}\n",
      "\t0.866\t = Validation score   (accuracy)\n",
      "\t0.72s\t = Training   runtime\n",
      "\t0.0s\t = Validation runtime\n",
      "AutoGluon training complete, total runtime = 23.02s ... Best model: \"WeightedEnsemble_L3\"\n",
      "Automatically performing refit_full as a post-fit operation (due to `.fit(..., refit_full=True)`\n",
      "Refitting models via `predictor.refit_full` using all of the data (combined train and validation)...\n",
      "\tModels trained in this way will have the suffix \"_FULL\" and have NaN validation score.\n",
      "\tThis process is not bound by time_limit, but should take less time than the original `predictor.fit` call.\n",
      "\tTo learn more, refer to the `.refit_full` method docstring which explains how \"_FULL\" models differ from normal models.\n",
      "Fitting 1 L1 models ...\n",
      "Fitting model: LightGBMXT_BAG_L1_FULL ...\n",
      "\t0.17s\t = Training   runtime\n",
      "Fitting 1 L1 models ...\n",
      "Fitting model: LightGBM_BAG_L1_FULL ...\n",
      "\t0.16s\t = Training   runtime\n",
      "Fitting model: RandomForestGini_BAG_L1_FULL | Skipping fit via cloning parent ...\n",
      "\t0.74s\t = Training   runtime\n",
      "\t0.1s\t = Validation runtime\n",
      "Fitting model: RandomForestEntr_BAG_L1_FULL | Skipping fit via cloning parent ...\n",
      "\t0.45s\t = Training   runtime\n",
      "\t0.12s\t = Validation runtime\n",
      "Fitting 1 L1 models ...\n",
      "Fitting model: CatBoost_BAG_L1_FULL ...\n",
      "\t0.02s\t = Training   runtime\n",
      "Fitting 1 L2 models ...\n",
      "Fitting model: LightGBMXT_BAG_L2_FULL ...\n",
      "\t0.18s\t = Training   runtime\n",
      "Updated best model to \"LightGBMXT_BAG_L2_FULL\" (Previously \"WeightedEnsemble_L3\"). AutoGluon will default to using \"LightGBMXT_BAG_L2_FULL\" for predict() and predict_proba().\n",
      "Refit complete, total runtime = 0.66s ... Best model: \"LightGBMXT_BAG_L2_FULL\"\n",
      "Deleting model LightGBMXT_BAG_L1. All files under AutogluonModels/ag-20231227_084536/models/LightGBMXT_BAG_L1 will be removed.\n",
      "Deleting model LightGBM_BAG_L1. All files under AutogluonModels/ag-20231227_084536/models/LightGBM_BAG_L1 will be removed.\n",
      "Deleting model RandomForestGini_BAG_L1. All files under AutogluonModels/ag-20231227_084536/models/RandomForestGini_BAG_L1 will be removed.\n",
      "Deleting model RandomForestEntr_BAG_L1. All files under AutogluonModels/ag-20231227_084536/models/RandomForestEntr_BAG_L1 will be removed.\n",
      "Deleting model CatBoost_BAG_L1. All files under AutogluonModels/ag-20231227_084536/models/CatBoost_BAG_L1 will be removed.\n",
      "Deleting model WeightedEnsemble_L2. All files under AutogluonModels/ag-20231227_084536/models/WeightedEnsemble_L2 will be removed.\n",
      "Deleting model LightGBMXT_BAG_L2. All files under AutogluonModels/ag-20231227_084536/models/LightGBMXT_BAG_L2 will be removed.\n",
      "Deleting model WeightedEnsemble_L3. All files under AutogluonModels/ag-20231227_084536/models/WeightedEnsemble_L3 will be removed.\n",
      "TabularPredictor saved. To load, use: predictor = TabularPredictor.load(\"AutogluonModels/ag-20231227_084536\")\n"
     ]
    }
   ],
   "source": [
    "presets = ['good_quality', 'optimize_for_deployment']\n",
    "predictor_light = TabularPredictor(label=label, eval_metric=metric).fit(train_data, presets=presets, time_limit=30)"
   ]
  },
  {
   "cell_type": "markdown",
   "id": "b8d97180",
   "metadata": {},
   "source": [
    "Another option is to specify more lightweight hyperparameters:"
   ]
  },
  {
   "cell_type": "code",
   "execution_count": 34,
   "id": "3e808d32",
   "metadata": {
    "ExecuteTime": {
     "end_time": "2023-12-27T08:46:19.633323Z",
     "start_time": "2023-12-27T08:46:12.653813Z"
    }
   },
   "outputs": [
    {
     "name": "stderr",
     "output_type": "stream",
     "text": [
      "No path specified. Models will be saved in: \"AutogluonModels/ag-20231227_084612\"\n",
      "No presets specified! To achieve strong results with AutoGluon, it is recommended to use the available presets.\n",
      "\tRecommended Presets (For more details refer to https://auto.gluon.ai/stable/tutorials/tabular/tabular-essentials.html#presets):\n",
      "\tpresets='best_quality'   : Maximize accuracy. Default time_limit=3600.\n",
      "\tpresets='high_quality'   : Strong accuracy with fast inference speed. Default time_limit=3600.\n",
      "\tpresets='good_quality'   : Good accuracy with very fast inference speed. Default time_limit=3600.\n",
      "\tpresets='medium_quality' : Fast training time, ideal for initial prototyping.\n",
      "Beginning AutoGluon training ... Time limit = 30s\n",
      "AutoGluon will save models to \"AutogluonModels/ag-20231227_084612\"\n",
      "=================== System Info ===================\n",
      "AutoGluon Version:  1.0.0\n",
      "Python Version:     3.10.13\n",
      "Operating System:   Darwin\n",
      "Platform Machine:   x86_64\n",
      "Platform Version:   Darwin Kernel Version 23.2.0: Wed Nov 15 21:54:10 PST 2023; root:xnu-10002.61.3~2/RELEASE_X86_64\n",
      "CPU Count:          16\n",
      "Memory Avail:       42.27 GB / 64.00 GB (66.0%)\n",
      "Disk Space Avail:   452.84 GB / 931.55 GB (48.6%)\n",
      "===================================================\n",
      "Train Data Rows:    1000\n",
      "Train Data Columns: 14\n",
      "Label Column:       class\n",
      "AutoGluon infers your prediction problem is: 'binary' (because only two unique label-values observed).\n",
      "\t2 unique label values:  [' >50K', ' <=50K']\n",
      "\tIf 'binary' is not the correct problem_type, please manually specify the problem_type parameter during predictor init (You may specify problem_type as one of: ['binary', 'multiclass', 'regression'])\n",
      "Problem Type:       binary\n",
      "Preprocessing data ...\n",
      "Selected class <--> label mapping:  class 1 =  >50K, class 0 =  <=50K\n",
      "\tNote: For your binary classification, AutoGluon arbitrarily selected which label-value represents positive ( >50K) vs negative ( <=50K) class.\n",
      "\tTo explicitly set the positive_class, either rename classes to 1 and 0, or specify positive_class in Predictor init.\n",
      "Using Feature Generators to preprocess the data ...\n",
      "Fitting AutoMLPipelineFeatureGenerator...\n",
      "\tAvailable Memory:                    43285.68 MB\n",
      "\tTrain Data (Original)  Memory Usage: 0.56 MB (0.0% of available memory)\n",
      "\tInferring data type of each feature based on column values. Set feature_metadata_in to manually specify special dtypes of the features.\n",
      "\tStage 1 Generators:\n",
      "\t\tFitting AsTypeFeatureGenerator...\n",
      "\t\t\tNote: Converting 1 features to boolean dtype as they only contain 2 unique values.\n",
      "\tStage 2 Generators:\n",
      "\t\tFitting FillNaFeatureGenerator...\n",
      "\tStage 3 Generators:\n",
      "\t\tFitting IdentityFeatureGenerator...\n",
      "\t\tFitting CategoryFeatureGenerator...\n",
      "\t\t\tFitting CategoryMemoryMinimizeFeatureGenerator...\n",
      "\tStage 4 Generators:\n",
      "\t\tFitting DropUniqueFeatureGenerator...\n",
      "\tStage 5 Generators:\n",
      "\t\tFitting DropDuplicatesFeatureGenerator...\n",
      "\tTypes of features in original data (raw dtype, special dtypes):\n",
      "\t\t('int', [])    : 6 | ['age', 'fnlwgt', 'education-num', 'capital-gain', 'capital-loss', ...]\n",
      "\t\t('object', []) : 8 | ['workclass', 'education', 'marital-status', 'occupation', 'relationship', ...]\n",
      "\tTypes of features in processed data (raw dtype, special dtypes):\n",
      "\t\t('category', [])  : 7 | ['workclass', 'education', 'marital-status', 'occupation', 'relationship', ...]\n",
      "\t\t('int', [])       : 6 | ['age', 'fnlwgt', 'education-num', 'capital-gain', 'capital-loss', ...]\n",
      "\t\t('int', ['bool']) : 1 | ['sex']\n",
      "\t0.1s = Fit runtime\n",
      "\t14 features in original data used to generate 14 features in processed data.\n",
      "\tTrain Data (Processed) Memory Usage: 0.06 MB (0.0% of available memory)\n",
      "Data preprocessing and feature engineering runtime = 0.14s ...\n",
      "AutoGluon will gauge predictive performance using evaluation metric: 'accuracy'\n",
      "\tTo change this, specify the eval_metric parameter of Predictor()\n",
      "Automatically generating train/validation split with holdout_frac=0.2, Train Rows: 800, Val Rows: 200\n",
      "User-specified model hyperparameters to be fit:\n",
      "{\n",
      "\t'NN_TORCH': {},\n",
      "\t'GBM': [{'extra_trees': True, 'ag_args': {'name_suffix': 'XT'}}, {}, 'GBMLarge'],\n",
      "\t'CAT': {},\n",
      "\t'XGB': {},\n",
      "\t'FASTAI': {},\n",
      "}\n",
      "Fitting 7 L1 models ...\n",
      "Fitting model: LightGBMXT ... Training model for up to 29.86s of the 29.86s of remaining time.\n",
      "\t0.85\t = Validation score   (accuracy)\n",
      "\t0.22s\t = Training   runtime\n",
      "\t0.0s\t = Validation runtime\n",
      "Fitting model: LightGBM ... Training model for up to 29.63s of the 29.63s of remaining time.\n",
      "\t0.84\t = Validation score   (accuracy)\n",
      "\t0.29s\t = Training   runtime\n",
      "\t0.0s\t = Validation runtime\n",
      "Fitting model: CatBoost ... Training model for up to 29.33s of the 29.33s of remaining time.\n",
      "\t0.86\t = Validation score   (accuracy)\n",
      "\t1.51s\t = Training   runtime\n",
      "\t0.0s\t = Validation runtime\n",
      "Fitting model: NeuralNetFastAI ... Training model for up to 27.81s of the 27.8s of remaining time.\n",
      "No improvement since epoch 7: early stopping\n",
      "\t0.86\t = Validation score   (accuracy)\n",
      "\t0.97s\t = Training   runtime\n",
      "\t0.01s\t = Validation runtime\n",
      "Fitting model: XGBoost ... Training model for up to 26.81s of the 26.81s of remaining time.\n",
      "\t0.85\t = Validation score   (accuracy)\n",
      "\t0.2s\t = Training   runtime\n",
      "\t0.01s\t = Validation runtime\n",
      "Fitting model: NeuralNetTorch ... Training model for up to 26.59s of the 26.59s of remaining time.\n",
      "\t0.85\t = Validation score   (accuracy)\n",
      "\t2.3s\t = Training   runtime\n",
      "\t0.02s\t = Validation runtime\n",
      "Fitting model: LightGBMLarge ... Training model for up to 24.26s of the 24.26s of remaining time.\n",
      "\t0.815\t = Validation score   (accuracy)\n",
      "\t0.73s\t = Training   runtime\n",
      "\t0.01s\t = Validation runtime\n",
      "Fitting model: WeightedEnsemble_L2 ... Training model for up to 29.86s of the 23.46s of remaining time.\n",
      "\tEnsemble Weights: {'CatBoost': 1.0}\n",
      "\t0.86\t = Validation score   (accuracy)\n",
      "\t0.39s\t = Training   runtime\n",
      "\t0.0s\t = Validation runtime\n",
      "AutoGluon training complete, total runtime = 6.95s ... Best model: \"WeightedEnsemble_L2\"\n",
      "TabularPredictor saved. To load, use: predictor = TabularPredictor.load(\"AutogluonModels/ag-20231227_084612\")\n"
     ]
    }
   ],
   "source": [
    "predictor_light = TabularPredictor(label=label, eval_metric=metric).fit(train_data, hyperparameters='very_light', time_limit=30)"
   ]
  },
  {
   "cell_type": "markdown",
   "id": "d49c182b",
   "metadata": {},
   "source": [
    "Here you can set `hyperparameters` to either 'light', 'very_light', or 'toy' to obtain progressively smaller (but less accurate) models and predictors. Advanced users may instead try manually specifying particular models' hyperparameters in order to make them faster/smaller.\n",
    "\n",
    "Finally, you may also exclude specific unwieldy models from being trained at all. Below we exclude models that tend to be slower (K Nearest Neighbors, Neural Networks):"
   ]
  },
  {
   "cell_type": "code",
   "execution_count": null,
   "id": "ae2298e4",
   "metadata": {},
   "outputs": [],
   "source": [
    "excluded_model_types = ['KNN', 'NN_TORCH']\n",
    "predictor_light = TabularPredictor(label=label, eval_metric=metric).fit(train_data, excluded_model_types=excluded_model_types, time_limit=30)"
   ]
  },
  {
   "cell_type": "markdown",
   "id": "7cd7ac48",
   "metadata": {},
   "source": [
    "### (Advanced) Cache preprocessed data\n",
    "\n",
    "If you are repeatedly predicting on the same data you can cache the preprocessed version of the data and\n",
    "directly send the preprocessed data to `predictor.predict` for faster inference:"
   ]
  },
  {
   "cell_type": "markdown",
   "id": "4aa0c796",
   "metadata": {},
   "source": [
    "```\n",
    "test_data_preprocessed = predictor.transform_features(test_data)\n",
    "\n",
    "# The following call will be faster than a normal predict call because we are skipping the preprocessing stage.\n",
    "predictions = predictor.predict(test_data_preprocessed, transform_features=False)\n",
    "```\n"
   ]
  },
  {
   "cell_type": "markdown",
   "id": "782040dc",
   "metadata": {},
   "source": [
    "Note that this is only useful in situations where you are repeatedly predicting on the same data.\n",
    "If this significantly speeds up your use-case, consider whether your current approach makes sense\n",
    "or if a cache on the predictions is a better solution. \n",
    "\n",
    "### (Advanced) Disable preprocessing\n",
    "\n",
    "If you would rather do data preprocessing outside of TabularPredictor,\n",
    "you can disable TabularPredictor's preprocessing entirely via:"
   ]
  },
  {
   "cell_type": "markdown",
   "id": "15ca510b",
   "metadata": {},
   "source": [
    "```\n",
    "predictor.fit(..., feature_generator=None, feature_metadata=YOUR_CUSTOM_FEATURE_METADATA)\n",
    "```\n"
   ]
  },
  {
   "cell_type": "markdown",
   "id": "6d32cbe6",
   "metadata": {},
   "source": [
    "Be warned that this removes ALL guardrails on data sanitization.\n",
    "It is very likely that you will run into errors doing this unless you are very familiar with AutoGluon.\n",
    "\n",
    "One instance where this can be helpful is if you have many problems\n",
    "that re-use the exact same data with the exact same features. If you had 30 tasks that re-use the same features,\n",
    "you could fit a `autogluon.features` feature generator once on the data, and then when you need to\n",
    "predict on the 30 tasks, preprocess the data only once and then send the preprocessed data to all 30 predictors.\n",
    "\n",
    "\n",
    "## If you encounter memory issues\n",
    "\n",
    "To reduce memory usage during training, you may try each of the following strategies individually or combinations of them (these may harm accuracy):\n",
    "\n",
    "- In `fit()`, set `excluded_model_types = ['KNN', 'XT' ,'RF']` (or some subset of these models).\n",
    "- Try different `presets` in `fit()`.\n",
    "- In `fit()`, set `hyperparameters = 'light'` or `hyperparameters = 'very_light'`.\n",
    "- Text fields in your table require substantial memory for N-gram featurization. To mitigate this in `fit()`, you can either: (1) add `'ignore_text'` to your `presets` list (to ignore text features), or (2) specify the argument:"
   ]
  },
  {
   "cell_type": "markdown",
   "id": "d30ebcf6",
   "metadata": {},
   "source": [
    "```\n",
    "from sklearn.feature_extraction.text import CountVectorizer\n",
    "from autogluon.features.generators import AutoMLPipelineFeatureGenerator\n",
    "feature_generator = AutoMLPipelineFeatureGenerator(vectorizer=CountVectorizer(min_df=30, ngram_range=(1, 3), max_features=MAX_NGRAM, dtype=np.uint8))\n",
    "```\n"
   ]
  },
  {
   "cell_type": "markdown",
   "id": "6f1b86fb",
   "metadata": {},
   "source": [
    "for example using `MAX_NGRAM = 1000` (try various values under 10000 to reduce the number of N-gram features used to represent each text field)\n",
    "\n",
    "In addition to reducing memory usage, many of the above strategies can also be used to reduce training times.\n",
    "\n",
    "To reduce memory usage during inference:\n",
    "\n",
    "- If trying to produce predictions for a large test dataset, break the test data into smaller chunks as demonstrated in [FAQ](tabular-faq.ipynb).\n",
    "\n",
    "- If models have been previously persisted in memory but inference-speed is not a major concern, call `predictor.unpersist()`.\n",
    "\n",
    "- If models have been previously persisted in memory, bagging was used in `fit()`, and inference-speed is a concern: call `predictor.refit_full()` and use one of the refit-full models for prediction (ensure this is the only model persisted in memory).\n",
    "\n",
    "\n",
    "\n",
    "## If you encounter disk space issues\n",
    "\n",
    "To reduce disk usage, you may try each of the following strategies individually or combinations of them:\n",
    "\n",
    "- Make sure to delete all `predictor.path` folders from previous `fit()` runs! These can eat up your free space if you call `fit()` many times. If you didn't specify `path`, AutoGluon still automatically saved its models to a folder called: \"AutogluonModels/ag-[TIMESTAMP]\", where TIMESTAMP records when `fit()` was called, so make sure to also delete these folders if you run low on free space.\n",
    "\n",
    "- Call `predictor.save_space()` to delete auxiliary files produced during `fit()`.\n",
    "\n",
    "- Call `predictor.delete_models(models_to_keep='best', dry_run=False)` if you only intend to use this predictor for inference going forward (will delete files required for non-prediction-related functionality like `fit_summary`).\n",
    "\n",
    "- In `fit()`, you can add `'optimize_for_deployment'` to the `presets` list, which will automatically invoke the previous two strategies after training.\n",
    "\n",
    "- Most of the above strategies to reduce memory usage will also reduce disk usage (but may harm accuracy).\n",
    "\n",
    "\n",
    "## References\n",
    "\n",
    "The following paper describes how AutoGluon internally operates on tabular data:\n",
    "\n",
    "Erickson et al. [AutoGluon-Tabular: Robust and Accurate AutoML for Structured Data](https://arxiv.org/abs/2003.06505). *Arxiv*, 2020.\n",
    "\n",
    "## Next Steps\n",
    "\n",
    "If you are interested in deployment optimization, refer to the [Predicting Columns in a Table - Deployment Optimization](advanced/tabular-deployment.ipynb) tutorial."
   ]
  }
 ],
 "metadata": {
  "language_info": {
   "name": "python"
  },
  "kernelspec": {
   "name": "venv_ag_310",
   "language": "python",
   "display_name": "venv_ag_310"
  }
 },
 "nbformat": 4,
 "nbformat_minor": 5
}
