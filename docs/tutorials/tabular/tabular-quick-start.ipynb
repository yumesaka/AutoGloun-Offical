{
  "cells": [
    {
      "cell_type": "markdown",
      "metadata": {
        "id": "xtr-BMYG4F7v"
      },
      "source": [
        "# AutoGluon Tabular - Quick Start\n",
        "\n",
        "[![Open In Colab](https://colab.research.google.com/assets/colab-badge.svg)](https://colab.research.google.com/github/autogluon/autogluon/blob/stable/docs/tutorials/tabular/tabular-quick-start.ipynb)\n",
        "[![Open In SageMaker Studio Lab](https://studiolab.sagemaker.aws/studiolab.svg)](https://studiolab.sagemaker.aws/import/github/autogluon/autogluon/blob/stable/docs/tutorials/tabular/tabular-quick-start.ipynb)\n",
        "\n",
        "In this tutorial, we will see how to use AutoGluon's `TabularPredictor` to predict the values of a target column based on the other columns in a tabular dataset.\n",
        "\n",
        "Begin by making sure AutoGluon is installed, and then import AutoGluon's `TabularDataset` and `TabularPredictor`. We will use the former to load data and the latter to train models and make predictions."
      ],
      "id": "xtr-BMYG4F7v"
    },
    {
      "cell_type": "code",
      "execution_count": null,
      "metadata": {
        "tags": [
          "hide-output"
        ],
        "id": "dhbrZ7VE4F7y"
      },
      "outputs": [],
      "source": [
        "!python -m pip install --upgrade pip\n",
        "!python -m pip install autogluon"
      ],
      "id": "dhbrZ7VE4F7y"
    },
    {
      "cell_type": "code",
      "execution_count": null,
      "metadata": {
        "id": "UNASqD_h4F7z"
      },
      "outputs": [],
      "source": [
        "from autogluon.tabular import TabularDataset, TabularPredictor"
      ],
      "id": "UNASqD_h4F7z"
    },
    {
      "cell_type": "markdown",
      "metadata": {
        "id": "CIYfSSAk4F7z"
      },
      "source": [
        "## Example Data"
      ],
      "id": "CIYfSSAk4F7z"
    },
    {
      "cell_type": "markdown",
      "metadata": {
        "id": "HtBKGNnv4F7z"
      },
      "source": [
        "For this tutorial we will use a dataset from the cover story of [Nature issue 7887](https://www.nature.com/nature/volumes/600/issues/7887): [AI-guided intuition for math theorems](https://www.nature.com/articles/s41586-021-04086-x.pdf). The goal is to predict a knot's signature based on its properties. We sampled 10K training and 5K test examples from the [original data](https://github.com/deepmind/mathematics_conjectures/blob/main/knot_theory.ipynb). The sampled dataset make this tutorial run quickly, but AutoGluon can handle the full dataset if desired.\n",
        "\n",
        "We load this dataset directly from a URL. AutoGluon's `TabularDataset` is a subclass of pandas [DataFrame](https://pandas.pydata.org/docs/reference/api/pandas.DataFrame.html), so any `DataFrame` methods can be used on `TabularDataset` as well."
      ],
      "id": "HtBKGNnv4F7z"
    },
    {
      "cell_type": "code",
      "execution_count": null,
      "metadata": {
        "id": "xpGrKCFR4F70"
      },
      "outputs": [],
      "source": [
        "data_url = 'https://raw.githubusercontent.com/mli/ag-docs/main/knot_theory/'\n",
        "train_data = TabularDataset(f'{data_url}train.csv')\n",
        "train_data.head()"
      ],
      "id": "xpGrKCFR4F70"
    },
    {
      "cell_type": "markdown",
      "metadata": {
        "id": "IPGLJ0ga4F70"
      },
      "source": [
        "Our targets are stored in the \"signature\" column, which has 18 unique integers. Even though pandas didn't correctly recognize this data type as categorical, AutoGluon will fix this issue.\n"
      ],
      "id": "IPGLJ0ga4F70"
    },
    {
      "cell_type": "code",
      "execution_count": null,
      "metadata": {
        "id": "hH3YINqg4F70"
      },
      "outputs": [],
      "source": [
        "label = 'signature'\n",
        "train_data[label].describe()"
      ],
      "id": "hH3YINqg4F70"
    },
    {
      "cell_type": "markdown",
      "metadata": {
        "id": "TK3N7ZME4F71"
      },
      "source": [
        "## Training\n",
        "\n",
        "We now construct a `TabularPredictor` by specifying the label column name and then train on the dataset with `TabularPredictor.fit()`. We don't need to specify any other parameters. AutoGluon will recognize this is a multi-class classification task, perform automatic feature engineering, train multiple models, and then ensemble the models to create the final predictor."
      ],
      "id": "TK3N7ZME4F71"
    },
    {
      "cell_type": "code",
      "execution_count": null,
      "metadata": {
        "tags": [
          "hide-output"
        ],
        "id": "v9OfIF7T4F71"
      },
      "outputs": [],
      "source": [
        "predictor = TabularPredictor(label=label).fit(train_data)"
      ],
      "id": "v9OfIF7T4F71"
    },
    {
      "cell_type": "markdown",
      "metadata": {
        "id": "kdRrdudR4F71"
      },
      "source": [
        "Model fitting should take a few minutes or less depending on your CPU. You can make training faster by specifying the `time_limit` argument. For example, `fit(..., time_limit=60)` will stop training after 60 seconds. Higher time limits will generally result in better prediction performance, and excessively low time limits will prevent AutoGluon from training and ensembling a reasonable set of models.\n",
        "\n"
      ],
      "id": "kdRrdudR4F71"
    },
    {
      "cell_type": "markdown",
      "metadata": {
        "id": "cfIKAJZu4F72"
      },
      "source": [
        "## Prediction\n",
        "\n",
        "Once we have a predictor that is fit on the training dataset, we can load a separate set of data to use for prediction and evaulation."
      ],
      "id": "cfIKAJZu4F72"
    },
    {
      "cell_type": "code",
      "execution_count": null,
      "metadata": {
        "id": "PiinKzR54F72"
      },
      "outputs": [],
      "source": [
        "test_data = TabularDataset(f'{data_url}test.csv')\n",
        "\n",
        "y_pred = predictor.predict(test_data.drop(columns=[label]))\n",
        "y_pred.head()"
      ],
      "id": "PiinKzR54F72"
    },
    {
      "cell_type": "markdown",
      "metadata": {
        "id": "ebewdJpB4F72"
      },
      "source": [
        "## Evaluation\n",
        "\n",
        "We can evaluate the predictor on the test dataset using the `evaluate()` function, which measures how well our predictor performs on data that was not used for fitting the models."
      ],
      "id": "ebewdJpB4F72"
    },
    {
      "cell_type": "code",
      "execution_count": null,
      "metadata": {
        "id": "m7TiXNgT4F72"
      },
      "outputs": [],
      "source": [
        "predictor.evaluate(test_data, silent=True)"
      ],
      "id": "m7TiXNgT4F72"
    },
    {
      "cell_type": "markdown",
      "metadata": {
        "id": "WfPEx1Qj4F72"
      },
      "source": [
        "AutoGluon's `TabularPredictor` also provides the `leaderboard()` function, which allows us to evaluate the performance of each individual trained model on the test data."
      ],
      "id": "WfPEx1Qj4F72"
    },
    {
      "cell_type": "code",
      "execution_count": null,
      "metadata": {
        "id": "wVxEKZtm4F72"
      },
      "outputs": [],
      "source": [
        "predictor.leaderboard(test_data, silent=True)"
      ],
      "id": "wVxEKZtm4F72"
    },
    {
      "cell_type": "markdown",
      "metadata": {
        "id": "I-da0PXvpD96"
      },
      "source": [
        "## Conclusion\n",
        "\n",
        "In this quickstart tutorial we saw AutoGluon's basic fit and predict functionality using `TabularDataset` and `TabularPredictor`. AutoGluon simplifies the model training process by not requiring feature engineering or model hyperparameter tuning. Check out the in-depth tutorials to learn more about AutoGluon's other features like customizing the training and prediction steps or extending AutoGluon with custom feature generators, models, or metrics."
      ],
      "id": "I-da0PXvpD96"
    }
  ],
  "metadata": {
    "language_info": {
      "name": "python",
      "pygments_lexer": "ipython"
    },
    "colab": {
      "provenance": []
    }
  },
  "nbformat": 4,
  "nbformat_minor": 5
}